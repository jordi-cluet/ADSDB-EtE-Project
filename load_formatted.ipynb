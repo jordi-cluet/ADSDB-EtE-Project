{
 "cells": [
  {
   "cell_type": "markdown",
   "id": "6074cdac-a729-4037-b534-8844dd74dc47",
   "metadata": {},
   "source": [
    "#### Import libraries and packages"
   ]
  },
  {
   "cell_type": "code",
   "execution_count": 1,
   "id": "ca2b6f62-85f8-4313-8571-417cac579420",
   "metadata": {},
   "outputs": [],
   "source": [
    "import psycopg2\n",
    "import psycopg2.extras as extras\n",
    "import pandas as pd\n",
    "import numpy as np"
   ]
  },
  {
   "cell_type": "markdown",
   "id": "9557d86b-c42c-42bf-ab9a-34892381c451",
   "metadata": {},
   "source": [
    "#### Set connection with postgres database"
   ]
  },
  {
   "cell_type": "code",
   "execution_count": 2,
   "id": "0148e8ee-601c-48e4-9124-22975d4c4362",
   "metadata": {},
   "outputs": [],
   "source": [
    "host = 'postgresfib.fib.upc.edu'\n",
    "dbname = 'ADSDBjordi.cluet'\n",
    "user = 'jordi.cluet'\n",
    "pwd = 'DB151199'\n",
    "port = 6433\n",
    "sslmode = 'require'\n",
    "\n",
    "conn = psycopg2.connect(\"host='{}' port={} dbname='{}' user={} password={}\".format(host, port, dbname, user, pwd))\n",
    "cursor = conn.cursor()"
   ]
  }
 ],
 "metadata": {
  "kernelspec": {
   "display_name": "Python 3 (ipykernel)",
   "language": "python",
   "name": "python3"
  },
  "language_info": {
   "codemirror_mode": {
    "name": "ipython",
    "version": 3
   },
   "file_extension": ".py",
   "mimetype": "text/x-python",
   "name": "python",
   "nbconvert_exporter": "python",
   "pygments_lexer": "ipython3",
   "version": "3.9.7"
  }
 },
 "nbformat": 4,
 "nbformat_minor": 5
}
