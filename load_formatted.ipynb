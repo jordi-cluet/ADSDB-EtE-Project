{
 "cells": [
  {
   "cell_type": "markdown",
   "id": "6074cdac-a729-4037-b534-8844dd74dc47",
   "metadata": {},
   "source": [
    "#### Import libraries and packages"
   ]
  },
  {
   "cell_type": "code",
   "execution_count": 1,
   "id": "ca2b6f62-85f8-4313-8571-417cac579420",
   "metadata": {},
   "outputs": [],
   "source": [
    "import psycopg2\n",
    "import psycopg2.extras as extras\n",
    "import pandas as pd\n",
    "import numpy as np"
   ]
  },
  {
   "cell_type": "markdown",
   "id": "9557d86b-c42c-42bf-ab9a-34892381c451",
   "metadata": {},
   "source": [
    "#### Set connection with postgres database"
   ]
  },
  {
   "cell_type": "code",
   "execution_count": 2,
   "id": "0148e8ee-601c-48e4-9124-22975d4c4362",
   "metadata": {},
   "outputs": [],
   "source": [
    "host = 'postgresfib.fib.upc.edu'\n",
    "dbname = 'ADSDBjordi.cluet'\n",
    "user = 'jordi.cluet'\n",
    "pwd = 'DB151199'\n",
    "port = 6433\n",
    "sslmode = 'require'\n",
    "\n",
    "conn = psycopg2.connect(\"host='{}' port={} dbname='{}' user={} password={}\".format(host, port, dbname, user, pwd))\n",
    "cursor = conn.cursor()"
   ]
  },
  {
   "cell_type": "markdown",
   "id": "2dd32c9c-8168-48fe-ab7f-8727e711d74c",
   "metadata": {},
   "source": [
    "## Load housing table into formatted zone"
   ]
  },
  {
   "cell_type": "markdown",
   "id": "a66a4dd4-b04b-4913-aa06-2febe6c966e0",
   "metadata": {},
   "source": [
    "##### Read dataframe from CSV file"
   ]
  },
  {
   "cell_type": "code",
   "execution_count": 3,
   "id": "fccfcc8d-bf80-48cc-aaed-1e82ac42d0cb",
   "metadata": {},
   "outputs": [
    {
     "data": {
      "text/plain": [
       "Index(['ID', 'address', 'bathrooms', 'building_subtype', 'building_type',\n",
       "       'conservation_state', 'extraction_date', 'discount', 'floor_elevator',\n",
       "       'is_new_construction', 'link', 'price', 'real_estate', 'real_estate_id',\n",
       "       'rooms', 'sq_meters', 'neighbourhood', 'neighbourhood_mean_price'],\n",
       "      dtype='object')"
      ]
     },
     "execution_count": 3,
     "metadata": {},
     "output_type": "execute_result"
    }
   ],
   "source": [
    "df = pd.read_csv('data/zenodo_fotocasa_2020_21-12-06_formatted.csv')\n",
    "df.columns"
   ]
  },
  {
   "cell_type": "markdown",
   "id": "1134fb3e-c3fa-4932-9aa5-e1ca9edf38cf",
   "metadata": {},
   "source": [
    "##### Create formatted_zone schema if it does not exist"
   ]
  },
  {
   "cell_type": "code",
   "execution_count": 4,
   "id": "1a93b90e-c3ee-4880-927d-21cf499f7055",
   "metadata": {},
   "outputs": [],
   "source": [
    "create_formatted_zone = \"\"\"CREATE SCHEMA IF NOT EXISTS formatted_zone;\"\"\"\n",
    "cursor.execute(create_formatted_zone)\n",
    "conn.commit()"
   ]
  },
  {
   "cell_type": "markdown",
   "id": "02a1663e-36eb-45be-bb0f-7d4271d8c4ed",
   "metadata": {},
   "source": [
    "##### Create new table in PostgreSQL database"
   ]
  },
  {
   "cell_type": "code",
   "execution_count": 5,
   "id": "65b6901d-bad6-4896-a526-a40d7708c74a",
   "metadata": {},
   "outputs": [],
   "source": [
    "sqlCreateTable = \"\"\"CREATE TABLE IF NOT EXISTS formatted_zone.zenodo_fotocasa_2020_21_12_06 (\n",
    "    ID INTEGER PRIMARY KEY,\n",
    "    ADDRESS VARCHAR(80),\n",
    "    BATHROOMS INTEGER,\n",
    "    BUILDING_SUBTYPE VARCHAR(30),\n",
    "    BUILDING_TYPE VARCHAR(4),\n",
    "    CONSERVATION_STATE INTEGER,\n",
    "    EXTRACTION_DATE DATE,\n",
    "    DISCOUNT INTEGER,\n",
    "    FLOOR_ELEVATOR INTEGER,\n",
    "    IS_NEW_CONSTRUCTION BOOLEAN,\n",
    "    LINK VARCHAR(255),\n",
    "    PRICE FLOAT,\n",
    "    REAL_ESTATE VARCHAR(55),\n",
    "    REAL_ESTATE_ID VARCHAR(15),\n",
    "    ROOMS INTEGER,\n",
    "    SQ_METERS FLOAT,\n",
    "    NEIGHBOURHOOD VARCHAR(45),\n",
    "    NEIGHBOURHOOD_MEAN_PRICE FLOAT\n",
    ");\"\"\"\n",
    "cursor.execute(sqlCreateTable)\n",
    "conn.commit()"
   ]
  },
  {
   "cell_type": "markdown",
   "id": "6218d15d-f189-4fef-b317-937221715fcb",
   "metadata": {},
   "source": [
    "##### Insert rows into table"
   ]
  },
  {
   "cell_type": "code",
   "execution_count": 6,
   "id": "c9f4de1d-caac-4a96-940a-2b3e6dc35fc6",
   "metadata": {
    "tags": []
   },
   "outputs": [],
   "source": [
    "def execute_values(conn, df, table):\n",
    "  \n",
    "    tuples = [tuple(x) for x in df.to_numpy()]\n",
    "  \n",
    "    cols = ','.join(list(df.columns))\n",
    "    # SQL query to execute\n",
    "    query = \"INSERT INTO %s(%s) VALUES %%s\" % (table, cols)\n",
    "    cursor = conn.cursor()\n",
    "    try:\n",
    "        extras.execute_values(cursor, query, tuples)\n",
    "        conn.commit()\n",
    "    except (Exception, psycopg2.DatabaseError) as error:\n",
    "        print(\"Error: %s\" % error)\n",
    "        conn.rollback()\n",
    "        cursor.close()\n",
    "        return 1\n",
    "    print(\"The dataframe was correctly inserted\")\n",
    "    cursor.close()"
   ]
  },
  {
   "cell_type": "code",
   "execution_count": 7,
   "id": "6ee1d6c0-4c14-4ae7-8b49-8dcb3ea46993",
   "metadata": {},
   "outputs": [
    {
     "name": "stdout",
     "output_type": "stream",
     "text": [
      "The dataframe was correctly inserted\n"
     ]
    }
   ],
   "source": [
    "execute_values(conn, df, 'formatted_zone.zenodo_fotocasa_2020_21_12_06')"
   ]
  },
  {
   "cell_type": "markdown",
   "id": "85dc6453-a7fd-4c56-991c-70ed59fd28be",
   "metadata": {},
   "source": [
    "##### Check correct insertion"
   ]
  },
  {
   "cell_type": "code",
   "execution_count": 3,
   "id": "aae7f8cc-4547-4736-87f7-e8338f9d90a6",
   "metadata": {},
   "outputs": [
    {
     "data": {
      "text/html": [
       "<div>\n",
       "<style scoped>\n",
       "    .dataframe tbody tr th:only-of-type {\n",
       "        vertical-align: middle;\n",
       "    }\n",
       "\n",
       "    .dataframe tbody tr th {\n",
       "        vertical-align: top;\n",
       "    }\n",
       "\n",
       "    .dataframe thead th {\n",
       "        text-align: right;\n",
       "    }\n",
       "</style>\n",
       "<table border=\"1\" class=\"dataframe\">\n",
       "  <thead>\n",
       "    <tr style=\"text-align: right;\">\n",
       "      <th></th>\n",
       "      <th>id</th>\n",
       "      <th>address</th>\n",
       "      <th>bathrooms</th>\n",
       "      <th>building_subtype</th>\n",
       "      <th>building_type</th>\n",
       "      <th>conservation_state</th>\n",
       "      <th>extraction_date</th>\n",
       "      <th>discount</th>\n",
       "      <th>floor_elevator</th>\n",
       "      <th>is_new_construction</th>\n",
       "      <th>link</th>\n",
       "      <th>price</th>\n",
       "      <th>real_estate</th>\n",
       "      <th>real_estate_id</th>\n",
       "      <th>rooms</th>\n",
       "      <th>sq_meters</th>\n",
       "      <th>neighbourhood</th>\n",
       "      <th>neighbourhood_mean_price</th>\n",
       "    </tr>\n",
       "  </thead>\n",
       "  <tbody>\n",
       "    <tr>\n",
       "      <th>0</th>\n",
       "      <td>0</td>\n",
       "      <td>Carrer Roger de Lluria, Dreta de l'Eixample</td>\n",
       "      <td>3</td>\n",
       "      <td>Flat</td>\n",
       "      <td>Flat</td>\n",
       "      <td>0</td>\n",
       "      <td>2020-10-28</td>\n",
       "      <td>0</td>\n",
       "      <td>1</td>\n",
       "      <td>False</td>\n",
       "      <td>/es/alquiler/vivienda/barcelona-capital/calefa...</td>\n",
       "      <td>5000.0</td>\n",
       "      <td>SOMOS REAL ESTATE SERVICES</td>\n",
       "      <td>9202765680731</td>\n",
       "      <td>3</td>\n",
       "      <td>208.0</td>\n",
       "      <td>la dreta de l'eixample</td>\n",
       "      <td>1307.616842</td>\n",
       "    </tr>\n",
       "    <tr>\n",
       "      <th>1</th>\n",
       "      <td>1</td>\n",
       "      <td>Sant Antoni</td>\n",
       "      <td>1</td>\n",
       "      <td>Flat</td>\n",
       "      <td>Flat</td>\n",
       "      <td>1</td>\n",
       "      <td>2020-10-28</td>\n",
       "      <td>0</td>\n",
       "      <td>1</td>\n",
       "      <td>False</td>\n",
       "      <td>/es/alquiler/vivienda/barcelona-capital/aire-a...</td>\n",
       "      <td>1250.0</td>\n",
       "      <td>TECNOCASA RIERA ALTA MAR</td>\n",
       "      <td>9202751363773</td>\n",
       "      <td>3</td>\n",
       "      <td>93.0</td>\n",
       "      <td>sant antoni</td>\n",
       "      <td>994.909158</td>\n",
       "    </tr>\n",
       "    <tr>\n",
       "      <th>2</th>\n",
       "      <td>2</td>\n",
       "      <td>Carrer Valencia, La Nova Esquerra de l'Eixample</td>\n",
       "      <td>2</td>\n",
       "      <td>Flat</td>\n",
       "      <td>Flat</td>\n",
       "      <td>0</td>\n",
       "      <td>2020-10-28</td>\n",
       "      <td>0</td>\n",
       "      <td>1</td>\n",
       "      <td>False</td>\n",
       "      <td>/es/alquiler/vivienda/barcelona-capital/calefa...</td>\n",
       "      <td>1600.0</td>\n",
       "      <td>SOMOS REAL ESTATE SERVICES</td>\n",
       "      <td>9202765680731</td>\n",
       "      <td>4</td>\n",
       "      <td>129.0</td>\n",
       "      <td>la nova esquerra de l'eixample</td>\n",
       "      <td>1053.832393</td>\n",
       "    </tr>\n",
       "    <tr>\n",
       "      <th>3</th>\n",
       "      <td>3</td>\n",
       "      <td>Carrer Muntaner, Sant Gervasi- Galvany</td>\n",
       "      <td>2</td>\n",
       "      <td>Flat</td>\n",
       "      <td>Flat</td>\n",
       "      <td>0</td>\n",
       "      <td>2020-10-28</td>\n",
       "      <td>0</td>\n",
       "      <td>1</td>\n",
       "      <td>False</td>\n",
       "      <td>/es/alquiler/vivienda/barcelona-capital/aire-a...</td>\n",
       "      <td>3200.0</td>\n",
       "      <td>SOMOS REAL ESTATE SERVICES</td>\n",
       "      <td>9202765680731</td>\n",
       "      <td>2</td>\n",
       "      <td>133.0</td>\n",
       "      <td>sant gervasi - galvany</td>\n",
       "      <td>1397.273005</td>\n",
       "    </tr>\n",
       "    <tr>\n",
       "      <th>4</th>\n",
       "      <td>4</td>\n",
       "      <td>Rambla del Raval, El Raval</td>\n",
       "      <td>1</td>\n",
       "      <td>Flat</td>\n",
       "      <td>Flat</td>\n",
       "      <td>2</td>\n",
       "      <td>2020-10-28</td>\n",
       "      <td>0</td>\n",
       "      <td>1</td>\n",
       "      <td>False</td>\n",
       "      <td>/es/alquiler/vivienda/barcelona-capital/ascens...</td>\n",
       "      <td>1000.0</td>\n",
       "      <td>ESTUDI JOAN MIRO.SL.</td>\n",
       "      <td>9202762439813</td>\n",
       "      <td>3</td>\n",
       "      <td>67.0</td>\n",
       "      <td>el raval</td>\n",
       "      <td>850.112343</td>\n",
       "    </tr>\n",
       "  </tbody>\n",
       "</table>\n",
       "</div>"
      ],
      "text/plain": [
       "   id                                          address  bathrooms  \\\n",
       "0   0      Carrer Roger de Lluria, Dreta de l'Eixample          3   \n",
       "1   1                                      Sant Antoni          1   \n",
       "2   2  Carrer Valencia, La Nova Esquerra de l'Eixample          2   \n",
       "3   3           Carrer Muntaner, Sant Gervasi- Galvany          2   \n",
       "4   4                       Rambla del Raval, El Raval          1   \n",
       "\n",
       "  building_subtype building_type  conservation_state extraction_date  \\\n",
       "0             Flat          Flat                   0      2020-10-28   \n",
       "1             Flat          Flat                   1      2020-10-28   \n",
       "2             Flat          Flat                   0      2020-10-28   \n",
       "3             Flat          Flat                   0      2020-10-28   \n",
       "4             Flat          Flat                   2      2020-10-28   \n",
       "\n",
       "   discount  floor_elevator  is_new_construction  \\\n",
       "0         0               1                False   \n",
       "1         0               1                False   \n",
       "2         0               1                False   \n",
       "3         0               1                False   \n",
       "4         0               1                False   \n",
       "\n",
       "                                                link   price  \\\n",
       "0  /es/alquiler/vivienda/barcelona-capital/calefa...  5000.0   \n",
       "1  /es/alquiler/vivienda/barcelona-capital/aire-a...  1250.0   \n",
       "2  /es/alquiler/vivienda/barcelona-capital/calefa...  1600.0   \n",
       "3  /es/alquiler/vivienda/barcelona-capital/aire-a...  3200.0   \n",
       "4  /es/alquiler/vivienda/barcelona-capital/ascens...  1000.0   \n",
       "\n",
       "                  real_estate real_estate_id  rooms  sq_meters  \\\n",
       "0  SOMOS REAL ESTATE SERVICES  9202765680731      3      208.0   \n",
       "1    TECNOCASA RIERA ALTA MAR  9202751363773      3       93.0   \n",
       "2  SOMOS REAL ESTATE SERVICES  9202765680731      4      129.0   \n",
       "3  SOMOS REAL ESTATE SERVICES  9202765680731      2      133.0   \n",
       "4        ESTUDI JOAN MIRO.SL.  9202762439813      3       67.0   \n",
       "\n",
       "                    neighbourhood  neighbourhood_mean_price  \n",
       "0          la dreta de l'eixample               1307.616842  \n",
       "1                     sant antoni                994.909158  \n",
       "2  la nova esquerra de l'eixample               1053.832393  \n",
       "3          sant gervasi - galvany               1397.273005  \n",
       "4                        el raval                850.112343  "
      ]
     },
     "execution_count": 3,
     "metadata": {},
     "output_type": "execute_result"
    }
   ],
   "source": [
    "sql = \"SELECT * from formatted_zone.zenodo_fotocasa_2020_21_12_06;\"\n",
    "pd.read_sql_query(sql, conn).head()"
   ]
  },
  {
   "cell_type": "markdown",
   "id": "dcd12588-bc52-460d-a927-8e8ddee0b9e0",
   "metadata": {},
   "source": [
    "## Load barris-districtes table into formatted zone"
   ]
  },
  {
   "cell_type": "markdown",
   "id": "3ee643bc-9455-4ac5-8588-e31c48dadf9a",
   "metadata": {},
   "source": [
    "##### Read dataframe from CSV file"
   ]
  },
  {
   "cell_type": "code",
   "execution_count": 6,
   "id": "ec24ee92-9593-4c19-8232-8cd1cde2b48a",
   "metadata": {},
   "outputs": [
    {
     "data": {
      "text/plain": [
       "Index(['CODI_DISTRICTE', 'NOM_DISTRICTE', 'CODI_BARRI', 'NOM_BARRI'], dtype='object')"
      ]
     },
     "execution_count": 6,
     "metadata": {},
     "output_type": "execute_result"
    }
   ],
   "source": [
    "df = pd.read_csv('data/ajunt_barris_2017_21-12-06.csv')\n",
    "df.columns"
   ]
  },
  {
   "cell_type": "markdown",
   "id": "37099d2e-314f-4162-af6c-f5a4a1d7f21b",
   "metadata": {},
   "source": [
    "##### Create new table in PostgreSQL database"
   ]
  },
  {
   "cell_type": "code",
   "execution_count": 11,
   "id": "5c75010c-e03c-47b5-9439-72040ca0a654",
   "metadata": {},
   "outputs": [],
   "source": [
    "sqlCreateTable = \"\"\"CREATE TABLE IF NOT EXISTS formatted_zone.AJUNT_BARRIS_2017_21_12_06 (\n",
    "    CODI_DISTRICTE INTEGER,\n",
    "    NOM_DISTRICTE VARCHAR(50),\n",
    "    CODI_BARRI INTEGER,\n",
    "    NOM_BARRI VARCHAR(50));\"\"\"\n",
    "cursor.execute(sqlCreateTable)\n",
    "conn.commit()"
   ]
  },
  {
   "cell_type": "markdown",
   "id": "25a538f2-6435-48d9-b3c0-c18c3f0a4d81",
   "metadata": {},
   "source": [
    "##### Insert rows into table"
   ]
  },
  {
   "cell_type": "code",
   "execution_count": 12,
   "id": "cf5681b2-ae48-42e3-a6ef-58195c1da3f5",
   "metadata": {},
   "outputs": [
    {
     "name": "stdout",
     "output_type": "stream",
     "text": [
      "The dataframe was correctly inserted\n"
     ]
    }
   ],
   "source": [
    "execute_values(conn, df, 'formatted_zone.AJUNT_BARRIS_2017_21_12_06')"
   ]
  },
  {
   "cell_type": "markdown",
   "id": "d0d2d4ff-0acc-4904-866b-3541aa9be191",
   "metadata": {},
   "source": [
    "##### Check correct insertion"
   ]
  },
  {
   "cell_type": "code",
   "execution_count": 4,
   "id": "f23123db-8baa-47f2-adbc-de264ab575b2",
   "metadata": {},
   "outputs": [
    {
     "data": {
      "text/html": [
       "<div>\n",
       "<style scoped>\n",
       "    .dataframe tbody tr th:only-of-type {\n",
       "        vertical-align: middle;\n",
       "    }\n",
       "\n",
       "    .dataframe tbody tr th {\n",
       "        vertical-align: top;\n",
       "    }\n",
       "\n",
       "    .dataframe thead th {\n",
       "        text-align: right;\n",
       "    }\n",
       "</style>\n",
       "<table border=\"1\" class=\"dataframe\">\n",
       "  <thead>\n",
       "    <tr style=\"text-align: right;\">\n",
       "      <th></th>\n",
       "      <th>codi_districte</th>\n",
       "      <th>nom_districte</th>\n",
       "      <th>codi_barri</th>\n",
       "      <th>nom_barri</th>\n",
       "    </tr>\n",
       "  </thead>\n",
       "  <tbody>\n",
       "    <tr>\n",
       "      <th>0</th>\n",
       "      <td>1</td>\n",
       "      <td>Ciutat Vella</td>\n",
       "      <td>1</td>\n",
       "      <td>el Raval</td>\n",
       "    </tr>\n",
       "    <tr>\n",
       "      <th>1</th>\n",
       "      <td>1</td>\n",
       "      <td>Ciutat Vella</td>\n",
       "      <td>2</td>\n",
       "      <td>el Barri Gòtic</td>\n",
       "    </tr>\n",
       "    <tr>\n",
       "      <th>2</th>\n",
       "      <td>1</td>\n",
       "      <td>Ciutat Vella</td>\n",
       "      <td>3</td>\n",
       "      <td>la Barceloneta</td>\n",
       "    </tr>\n",
       "    <tr>\n",
       "      <th>3</th>\n",
       "      <td>1</td>\n",
       "      <td>Ciutat Vella</td>\n",
       "      <td>4</td>\n",
       "      <td>Sant Pere, Santa Caterina i la Ribera</td>\n",
       "    </tr>\n",
       "    <tr>\n",
       "      <th>4</th>\n",
       "      <td>2</td>\n",
       "      <td>Eixample</td>\n",
       "      <td>5</td>\n",
       "      <td>el Fort Pienc</td>\n",
       "    </tr>\n",
       "  </tbody>\n",
       "</table>\n",
       "</div>"
      ],
      "text/plain": [
       "   codi_districte nom_districte  codi_barri  \\\n",
       "0               1  Ciutat Vella           1   \n",
       "1               1  Ciutat Vella           2   \n",
       "2               1  Ciutat Vella           3   \n",
       "3               1  Ciutat Vella           4   \n",
       "4               2      Eixample           5   \n",
       "\n",
       "                               nom_barri  \n",
       "0                               el Raval  \n",
       "1                         el Barri Gòtic  \n",
       "2                         la Barceloneta  \n",
       "3  Sant Pere, Santa Caterina i la Ribera  \n",
       "4                          el Fort Pienc  "
      ]
     },
     "execution_count": 4,
     "metadata": {},
     "output_type": "execute_result"
    }
   ],
   "source": [
    "sql = \"SELECT * from formatted_zone.AJUNT_BARRIS_2017_21_12_06;\"\n",
    "pd.read_sql_query(sql, conn).head()"
   ]
  },
  {
   "cell_type": "markdown",
   "id": "0ac68fe6-9288-42ef-9783-bad96b276db9",
   "metadata": {
    "tags": []
   },
   "source": [
    "## Load barris-districtes table into trusted zone\n",
    "As no quality changes are needed."
   ]
  },
  {
   "cell_type": "markdown",
   "id": "b76a10ef-211b-4a69-842b-c5ef484664f1",
   "metadata": {},
   "source": [
    "##### Create trusted_zone schema if it does not exist"
   ]
  },
  {
   "cell_type": "code",
   "execution_count": 14,
   "id": "b5d843c0-54ca-4633-a3ea-645f9f990369",
   "metadata": {},
   "outputs": [],
   "source": [
    "create_trusted_zone = \"\"\"CREATE SCHEMA IF NOT EXISTS trusted_zone;\"\"\"\n",
    "cursor.execute(create_trusted_zone)\n",
    "conn.commit()"
   ]
  },
  {
   "cell_type": "markdown",
   "id": "92965cfd-a312-4387-aa06-ef3aee9b83bf",
   "metadata": {},
   "source": [
    "##### Create new table in PostgreSQL database"
   ]
  },
  {
   "cell_type": "code",
   "execution_count": 15,
   "id": "9cd12fff-e453-4ffb-89ea-c7b88ddce802",
   "metadata": {},
   "outputs": [],
   "source": [
    "sqlCreateTable = \"\"\"CREATE TABLE IF NOT EXISTS trusted_zone.AJUNT_BARRIS_2017_21_12_06 (\n",
    "    CODI_DISTRICTE INTEGER,\n",
    "    NOM_DISTRICTE VARCHAR(50),\n",
    "    CODI_BARRI INTEGER,\n",
    "    NOM_BARRI VARCHAR(50));\"\"\"\n",
    "cursor.execute(sqlCreateTable)\n",
    "conn.commit()"
   ]
  },
  {
   "cell_type": "markdown",
   "id": "3c269c21-ed9c-4275-a719-b61aa45570dd",
   "metadata": {},
   "source": [
    "##### Insert rows into table"
   ]
  },
  {
   "cell_type": "code",
   "execution_count": 16,
   "id": "aa990e12-6bb6-40f0-8d4c-0fc9f5f40446",
   "metadata": {},
   "outputs": [
    {
     "name": "stdout",
     "output_type": "stream",
     "text": [
      "The dataframe was correctly inserted\n"
     ]
    }
   ],
   "source": [
    "execute_values(conn, df, 'trusted_zone.AJUNT_BARRIS_2017_21_12_06')"
   ]
  },
  {
   "cell_type": "markdown",
   "id": "5208905f-afa0-423b-b739-18a367eb127f",
   "metadata": {},
   "source": [
    "##### Check correct insertion"
   ]
  },
  {
   "cell_type": "code",
   "execution_count": 7,
   "id": "3936f025-e054-458b-90f9-a1c2b4428fed",
   "metadata": {},
   "outputs": [
    {
     "data": {
      "text/html": [
       "<div>\n",
       "<style scoped>\n",
       "    .dataframe tbody tr th:only-of-type {\n",
       "        vertical-align: middle;\n",
       "    }\n",
       "\n",
       "    .dataframe tbody tr th {\n",
       "        vertical-align: top;\n",
       "    }\n",
       "\n",
       "    .dataframe thead th {\n",
       "        text-align: right;\n",
       "    }\n",
       "</style>\n",
       "<table border=\"1\" class=\"dataframe\">\n",
       "  <thead>\n",
       "    <tr style=\"text-align: right;\">\n",
       "      <th></th>\n",
       "      <th>codi_districte</th>\n",
       "      <th>nom_districte</th>\n",
       "      <th>codi_barri</th>\n",
       "      <th>nom_barri</th>\n",
       "    </tr>\n",
       "  </thead>\n",
       "  <tbody>\n",
       "    <tr>\n",
       "      <th>0</th>\n",
       "      <td>1</td>\n",
       "      <td>Ciutat Vella</td>\n",
       "      <td>1</td>\n",
       "      <td>el Raval</td>\n",
       "    </tr>\n",
       "    <tr>\n",
       "      <th>1</th>\n",
       "      <td>1</td>\n",
       "      <td>Ciutat Vella</td>\n",
       "      <td>2</td>\n",
       "      <td>el Barri Gòtic</td>\n",
       "    </tr>\n",
       "    <tr>\n",
       "      <th>2</th>\n",
       "      <td>1</td>\n",
       "      <td>Ciutat Vella</td>\n",
       "      <td>3</td>\n",
       "      <td>la Barceloneta</td>\n",
       "    </tr>\n",
       "    <tr>\n",
       "      <th>3</th>\n",
       "      <td>1</td>\n",
       "      <td>Ciutat Vella</td>\n",
       "      <td>4</td>\n",
       "      <td>Sant Pere, Santa Caterina i la Ribera</td>\n",
       "    </tr>\n",
       "    <tr>\n",
       "      <th>4</th>\n",
       "      <td>2</td>\n",
       "      <td>Eixample</td>\n",
       "      <td>5</td>\n",
       "      <td>el Fort Pienc</td>\n",
       "    </tr>\n",
       "  </tbody>\n",
       "</table>\n",
       "</div>"
      ],
      "text/plain": [
       "   codi_districte nom_districte  codi_barri  \\\n",
       "0               1  Ciutat Vella           1   \n",
       "1               1  Ciutat Vella           2   \n",
       "2               1  Ciutat Vella           3   \n",
       "3               1  Ciutat Vella           4   \n",
       "4               2      Eixample           5   \n",
       "\n",
       "                               nom_barri  \n",
       "0                               el Raval  \n",
       "1                         el Barri Gòtic  \n",
       "2                         la Barceloneta  \n",
       "3  Sant Pere, Santa Caterina i la Ribera  \n",
       "4                          el Fort Pienc  "
      ]
     },
     "execution_count": 7,
     "metadata": {},
     "output_type": "execute_result"
    }
   ],
   "source": [
    "sql = \"SELECT * from trusted_zone.AJUNT_BARRIS_2017_21_12_06;\"\n",
    "pd.read_sql_query(sql, conn).head()"
   ]
  }
 ],
 "metadata": {
  "kernelspec": {
   "display_name": "Python 3 (ipykernel)",
   "language": "python",
   "name": "python3"
  },
  "language_info": {
   "codemirror_mode": {
    "name": "ipython",
    "version": 3
   },
   "file_extension": ".py",
   "mimetype": "text/x-python",
   "name": "python",
   "nbconvert_exporter": "python",
   "pygments_lexer": "ipython3",
   "version": "3.9.7"
  }
 },
 "nbformat": 4,
 "nbformat_minor": 5
}
