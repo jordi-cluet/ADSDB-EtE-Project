{
 "cells": [
  {
   "cell_type": "markdown",
   "id": "929883aa",
   "metadata": {},
   "source": [
    "#### Import libraries and packages"
   ]
  },
  {
   "cell_type": "code",
   "execution_count": 1,
   "id": "41a7143e",
   "metadata": {},
   "outputs": [],
   "source": [
    "import psycopg2\n",
    "import psycopg2.extras as extras\n",
    "import pandas as pd\n",
    "import numpy as np\n",
    "import seaborn as sns\n",
    "from difflib import SequenceMatcher"
   ]
  },
  {
   "cell_type": "markdown",
   "id": "e7093615",
   "metadata": {},
   "source": [
    "#### Set connection with postgres database"
   ]
  },
  {
   "cell_type": "code",
   "execution_count": 2,
   "id": "313c0879",
   "metadata": {},
   "outputs": [],
   "source": [
    "host = 'postgresfib.fib.upc.edu'\n",
    "dbname = 'ADSDBjordi.cluet'\n",
    "user = 'jordi.cluet'\n",
    "pwd = 'DB151199'\n",
    "port = 6433\n",
    "sslmode = 'require'\n",
    "\n",
    "conn = psycopg2.connect(\"host='{}' port={} dbname='{}' user={} password={}\".format(host, port, dbname, user, pwd))\n",
    "cursor = conn.cursor()"
   ]
  },
  {
   "cell_type": "markdown",
   "id": "c24a9cc5",
   "metadata": {},
   "source": [
    "#### Query data from trusted zone"
   ]
  },
  {
   "cell_type": "code",
   "execution_count": 51,
   "id": "4b854a11",
   "metadata": {},
   "outputs": [],
   "source": [
    "sql = \"SELECT * from trusted_zone.zenodo_fotocasa_2020_21_12_06;\"\n",
    "housing = pd.read_sql_query(sql, conn)\n",
    "\n",
    "sql = \"SELECT * from trusted_zone.ajunt_crime_2020_21_12_06;\"\n",
    "crime = pd.read_sql_query(sql, conn)\n",
    "\n",
    "sql = \"SELECT * from trusted_zone.AJUNT_BARRIS_2017_21_12_06;\"\n",
    "barris = pd.read_sql_query(sql, conn)\n",
    "\n",
    "sql = \"SELECT * from trusted_zone.ajunt_districtes_2021_21_12_24;\"\n",
    "districts = pd.read_sql_query(sql, conn)"
   ]
  },
  {
   "cell_type": "code",
   "execution_count": 52,
   "id": "51fcad87-2def-4422-a5d7-14543d6ec183",
   "metadata": {},
   "outputs": [
    {
     "data": {
      "text/plain": [
       "9398"
      ]
     },
     "execution_count": 52,
     "metadata": {},
     "output_type": "execute_result"
    }
   ],
   "source": [
    "len(housing)"
   ]
  },
  {
   "cell_type": "code",
   "execution_count": 53,
   "id": "4a70212a-f00c-4f58-a7a2-713206d11d45",
   "metadata": {},
   "outputs": [
    {
     "data": {
      "text/plain": [
       "73"
      ]
     },
     "execution_count": 53,
     "metadata": {},
     "output_type": "execute_result"
    }
   ],
   "source": [
    "len(barris)"
   ]
  },
  {
   "cell_type": "code",
   "execution_count": 54,
   "id": "d74262e7-c04d-411f-8599-21687a8811ae",
   "metadata": {},
   "outputs": [
    {
     "data": {
      "text/plain": [
       "10"
      ]
     },
     "execution_count": 54,
     "metadata": {},
     "output_type": "execute_result"
    }
   ],
   "source": [
    "len(crime)"
   ]
  },
  {
   "cell_type": "code",
   "execution_count": 55,
   "id": "e0c34bf9-c738-4981-a089-7ea21619c6a2",
   "metadata": {},
   "outputs": [
    {
     "data": {
      "text/plain": [
       "10"
      ]
     },
     "execution_count": 55,
     "metadata": {},
     "output_type": "execute_result"
    }
   ],
   "source": [
    "len(districts)"
   ]
  },
  {
   "cell_type": "markdown",
   "id": "137e9fe0",
   "metadata": {},
   "source": [
    "#### Entity resolution"
   ]
  },
  {
   "cell_type": "code",
   "execution_count": 56,
   "id": "53381023",
   "metadata": {},
   "outputs": [],
   "source": [
    "def similar(a, b):\n",
    "    return SequenceMatcher(None, a, b).ratio()\n",
    "\n",
    "def entity(df1,df2,col1,col2):\n",
    "    names_1 = df1[col1].unique()\n",
    "    names_2 = df2[col2].unique()\n",
    "\n",
    "    matching = {}\n",
    "    for name in names_1:\n",
    "        best = 0\n",
    "        best_name = 'None'\n",
    "        for name1 in names_2:\n",
    "            distance = similar(name,name1)\n",
    "            if distance > best:\n",
    "                best = distance\n",
    "                best_name = name1\n",
    "        matching[name] = best_name\n",
    "\n",
    "    for key in matching:\n",
    "        df1.loc[df1[col1] == key, col1] = matching[key]\n",
    "    return df1, matching"
   ]
  },
  {
   "cell_type": "code",
   "execution_count": 57,
   "id": "2f3cb478",
   "metadata": {},
   "outputs": [],
   "source": [
    "housing, matching = entity(housing,barris,'neighbourhood','nom_barri')\n",
    "crime, matching2 = entity(crime,barris,'districte','nom_districte')\n",
    "districts, matching3 = entity(districts,barris,'districte','nom_districte')"
   ]
  },
  {
   "cell_type": "code",
   "execution_count": 58,
   "id": "a447034a-8aac-4ef3-bbab-098f65dcc2ca",
   "metadata": {},
   "outputs": [
    {
     "data": {
      "text/plain": [
       "9398"
      ]
     },
     "execution_count": 58,
     "metadata": {},
     "output_type": "execute_result"
    }
   ],
   "source": [
    "len(housing)"
   ]
  },
  {
   "cell_type": "code",
   "execution_count": 59,
   "id": "538eef81-d135-42a7-a633-0088d69896fc",
   "metadata": {},
   "outputs": [
    {
     "data": {
      "text/plain": [
       "{'sant antoni': 'Sant Antoni',\n",
       " \"la nova esquerra de l'eixample\": \"la Nova Esquerra de l'Eixample\",\n",
       " 'sant gervasi - galvany': 'Sant Gervasi - Galvany',\n",
       " 'el raval': 'el Raval',\n",
       " \"l'antiga esquerra de l'eixample\": \"l'Antiga Esquerra de l'Eixample\",\n",
       " 'el besòs i el maresme': 'el Besòs i el Maresme',\n",
       " 'sant gervasi - la bonanova': 'Sant Gervasi - la Bonanova',\n",
       " 'la vila de gràcia': 'la Vila de Gràcia',\n",
       " 'el poble sec - aei parc montjuïc': 'el Poble Sec',\n",
       " 'les roquetes': 'les Roquetes',\n",
       " 'les tres torres': 'les Tres Torres',\n",
       " 'la bordeta': 'la Bordeta',\n",
       " 'pedralbes': 'Pedralbes',\n",
       " 'sant andreu': 'Sant Andreu',\n",
       " 'navas': 'Navas',\n",
       " 'sarrià': 'Sarrià',\n",
       " 'sant pere, santa caterina i la ribera': 'Sant Pere, Santa Caterina i la Ribera',\n",
       " 'sants': 'Sants',\n",
       " \"la dreta de l'eixample\": \"la Dreta de l'Eixample\",\n",
       " 'les corts': 'les Corts',\n",
       " 'la sagrada família': 'la Sagrada Família',\n",
       " 'el putxet i el farró': 'el Putxet i el Farró',\n",
       " 'el barri gòtic': 'el Barri Gòtic',\n",
       " \"el camp d'en grassot i gràcia nova\": \"el Camp d'en Grassot i Gràcia Nova\",\n",
       " 'hostafrancs': 'Hostafrancs',\n",
       " 'el parc i la llacuna del poblenou': 'el Parc i la Llacuna del Poblenou',\n",
       " 'el poblenou': 'el Poblenou',\n",
       " \"el camp de l'arpa del clot\": \"el Camp de l'Arpa del Clot\",\n",
       " 'diagonal mar i el front marítim del poblenou': 'Diagonal Mar i el Front Marítim del Poblenou',\n",
       " 'la barceloneta': 'la Barceloneta',\n",
       " 'el turó de la peira': 'el Turó de la Peira',\n",
       " 'la maternitat i sant ramon': 'la Maternitat i Sant Ramon',\n",
       " 'la salut': 'la Salut',\n",
       " 'la teixonera': 'la Teixonera',\n",
       " 'el fort pienc': 'el Fort Pienc',\n",
       " 'el clot': 'el Clot',\n",
       " 'sant martí de provençals': 'Sant Martí de Provençals',\n",
       " 'la sagrera': 'la Sagrera',\n",
       " 'vallcarca i els penitents': 'Vallcarca i els Penitents',\n",
       " 'vilapicina i la torre llobeta': 'Vilapicina i la Torre Llobeta',\n",
       " 'el guinardó': 'el Guinardó',\n",
       " 'el coll': 'el Coll',\n",
       " 'la marina de port': 'la Marina de Port',\n",
       " 'el baix guinardó': 'el Baix Guinardó',\n",
       " 'can baró': 'Can Baró',\n",
       " 'vallvidrera, el tibidabo i les planes': 'Vallvidrera, el Tibidabo i les Planes',\n",
       " 'el bon pastor': 'el Bon Pastor',\n",
       " 'la prosperitat': 'la Prosperitat',\n",
       " 'porta': 'Horta',\n",
       " 'horta': 'Horta',\n",
       " 'el carmel': 'el Carmel',\n",
       " 'sant genís dels agudells': 'Sant Genís dels Agudells',\n",
       " 'la font de la guatlla': 'la Font de la Guatlla',\n",
       " 'canyelles': 'Canyelles',\n",
       " 'la verneda i la pau': 'la Verneda i la Pau',\n",
       " 'montbau': 'Montbau',\n",
       " \"la font d'en fargues\": \"la Font d'en Fargues\",\n",
       " 'el congrés i els indians': 'el Congrés i els Indians',\n",
       " 'ciutat meridiana': 'Ciutat Meridiana',\n",
       " 'la trinitat vella': 'la Trinitat Vella',\n",
       " \"la vall d'hebron\": \"la Vall d'Hebron\",\n",
       " 'vallbona': 'Vallbona',\n",
       " 'la trinitat nova': 'la Trinitat Nova',\n",
       " 'verdun': 'Verdun',\n",
       " 'la guineueta': 'la Guineueta',\n",
       " 'can peguera': 'Can Peguera'}"
      ]
     },
     "execution_count": 59,
     "metadata": {},
     "output_type": "execute_result"
    }
   ],
   "source": [
    "matching"
   ]
  },
  {
   "cell_type": "code",
   "execution_count": 60,
   "id": "93c75913-5416-4e80-aa47-95bd64396e03",
   "metadata": {},
   "outputs": [
    {
     "data": {
      "text/plain": [
       "{'Ciutat Vella': 'Ciutat Vella',\n",
       " \"L'Eixample\": 'Eixample',\n",
       " 'Sants-Montjuïc': 'Sants-Montjuïc',\n",
       " 'Les Corts': 'Les Corts',\n",
       " 'Sarrià-Sant Gervasi': 'Sarrià-Sant Gervasi',\n",
       " 'Gràcia': 'Gràcia',\n",
       " 'Horta-Guinardó': 'Horta-Guinardó',\n",
       " 'Nou Barris': 'Nou Barris',\n",
       " 'Sant Andreu': 'Sant Andreu',\n",
       " 'Sant Martí': 'Sant Martí'}"
      ]
     },
     "execution_count": 60,
     "metadata": {},
     "output_type": "execute_result"
    }
   ],
   "source": [
    "matching2"
   ]
  },
  {
   "cell_type": "markdown",
   "id": "a9f7ffb3",
   "metadata": {},
   "source": [
    "#### Merging datasets"
   ]
  },
  {
   "cell_type": "code",
   "execution_count": 61,
   "id": "7ee21704",
   "metadata": {},
   "outputs": [],
   "source": [
    "barris = barris.rename(columns={\"nom_barri\": \"neighbourhood\",'nom_districte':'districte'})"
   ]
  },
  {
   "cell_type": "code",
   "execution_count": 62,
   "id": "2b01e0c5-2bff-494a-bf3e-480abb83eef3",
   "metadata": {},
   "outputs": [
    {
     "data": {
      "text/plain": [
       "73"
      ]
     },
     "execution_count": 62,
     "metadata": {},
     "output_type": "execute_result"
    }
   ],
   "source": [
    "len(barris)"
   ]
  },
  {
   "cell_type": "code",
   "execution_count": 63,
   "id": "bfbece33-d521-43b2-a252-48c24077a754",
   "metadata": {},
   "outputs": [
    {
     "data": {
      "text/plain": [
       "9398"
      ]
     },
     "execution_count": 63,
     "metadata": {},
     "output_type": "execute_result"
    }
   ],
   "source": [
    "housing = pd.merge(housing,barris,on='neighbourhood')\n",
    "len(housing)"
   ]
  },
  {
   "cell_type": "code",
   "execution_count": 64,
   "id": "cee7055d-71b5-4de8-b3db-3b61b068249e",
   "metadata": {},
   "outputs": [
    {
     "data": {
      "text/plain": [
       "9398"
      ]
     },
     "execution_count": 64,
     "metadata": {},
     "output_type": "execute_result"
    }
   ],
   "source": [
    "housing = pd.merge(housing,districts,on='districte')\n",
    "len(housing)"
   ]
  },
  {
   "cell_type": "code",
   "execution_count": 65,
   "id": "d641140b-11b4-42be-97c6-825a7908f416",
   "metadata": {},
   "outputs": [
    {
     "data": {
      "text/plain": [
       "9398"
      ]
     },
     "execution_count": 65,
     "metadata": {},
     "output_type": "execute_result"
    }
   ],
   "source": [
    "housing = pd.merge(housing,crime,on='districte')\n",
    "len(housing)"
   ]
  },
  {
   "cell_type": "markdown",
   "id": "dd13bcf3-c2a4-4227-9382-683076f48fb4",
   "metadata": {},
   "source": [
    "#### Check quality"
   ]
  },
  {
   "cell_type": "code",
   "execution_count": 66,
   "id": "53006541-2cbd-49db-9ceb-7767a1bdf359",
   "metadata": {},
   "outputs": [
    {
     "data": {
      "text/plain": [
       "False"
      ]
     },
     "execution_count": 66,
     "metadata": {},
     "output_type": "execute_result"
    }
   ],
   "source": [
    "housing.isna().any().any()"
   ]
  },
  {
   "cell_type": "code",
   "execution_count": 67,
   "id": "946cd622-494b-4020-a938-e60b3e933c9a",
   "metadata": {},
   "outputs": [
    {
     "data": {
      "text/plain": [
       "Eixample               2570\n",
       "Ciutat Vella           1898\n",
       "Sarrià-Sant Gervasi    1340\n",
       "Sants-Montjuïc          816\n",
       "Sant Martí              795\n",
       "Gràcia                  792\n",
       "Les Corts               520\n",
       "Horta-Guinardó          337\n",
       "Sant Andreu             234\n",
       "Nou Barris               96\n",
       "Name: districte, dtype: int64"
      ]
     },
     "execution_count": 67,
     "metadata": {},
     "output_type": "execute_result"
    }
   ],
   "source": [
    "housing['districte'].value_counts()"
   ]
  },
  {
   "cell_type": "code",
   "execution_count": 68,
   "id": "87954d1f-4700-4aac-b35b-a65be2f4f48b",
   "metadata": {},
   "outputs": [
    {
     "data": {
      "text/plain": [
       "<AxesSubplot:xlabel='count', ylabel='districte'>"
      ]
     },
     "execution_count": 68,
     "metadata": {},
     "output_type": "execute_result"
    },
    {
     "data": {
      "image/png": "[encoded data removed]",
      "text/plain": [
       "<Figure size 432x288 with 1 Axes>"
      ]
     },
     "metadata": {
      "needs_background": "light"
     },
     "output_type": "display_data"
    }
   ],
   "source": [
    "sns.countplot(y = 'districte', data = housing, orient = 'h', order=housing['districte'].value_counts().index)"
   ]
  },
  {
   "cell_type": "markdown",
   "id": "56349338-5ba7-4779-b19d-7fa50c99713e",
   "metadata": {},
   "source": [
    "#### Remove useless columns for analysis"
   ]
  },
  {
   "cell_type": "code",
   "execution_count": 69,
   "id": "fb186b21-bcfd-40bb-b9cf-72a545c3f8bd",
   "metadata": {},
   "outputs": [
    {
     "data": {
      "text/plain": [
       "Index(['id', 'address', 'bathrooms', 'building_subtype', 'conservation_state',\n",
       "       'discount', 'floor_elevator', 'price', 'real_estate', 'real_estate_id',\n",
       "       'rooms', 'sq_meters', 'neighbourhood', 'neighbourhood_mean_price',\n",
       "       'price_per_sqm', 'codi_districte', 'districte', 'codi_barri',\n",
       "       'superficie', 'poblacio', 'furt', 'estafes', 'danys', 'rob_viol_intim',\n",
       "       'rob_en_vehicle', 'rob_força', 'lesions', 'aprop_indeg', 'amenaces',\n",
       "       'rob_de_vehicle', 'ocupacions', 'salut_pub', 'abusos_sex',\n",
       "       'entrada_domicili', 'agressio_sex', 'conviv_veinal', 'vigilancia_poli',\n",
       "       'molesties_espai_pub', 'contra_prop_priv', 'incendis', 'estupefaents',\n",
       "       'agressions', 'proves_alcohol', 'proves_droga'],\n",
       "      dtype='object')"
      ]
     },
     "execution_count": 69,
     "metadata": {},
     "output_type": "execute_result"
    }
   ],
   "source": [
    "housing.columns"
   ]
  },
  {
   "cell_type": "code",
   "execution_count": 70,
   "id": "b527914a-e7fa-478b-8982-38a88a4ab327",
   "metadata": {},
   "outputs": [],
   "source": [
    "housing.drop(['codi_barri', 'codi_districte', 'address', 'real_estate', 'real_estate_id', 'neighbourhood_mean_price'], axis=1, inplace=True)"
   ]
  },
  {
   "cell_type": "code",
   "execution_count": 71,
   "id": "65ceb85b-9a40-4fe4-b025-03bfdbe8cb75",
   "metadata": {},
   "outputs": [
    {
     "data": {
      "text/plain": [
       "Index(['id', 'bathrooms', 'building_subtype', 'conservation_state', 'discount',\n",
       "       'floor_elevator', 'price', 'rooms', 'sq_meters', 'neighbourhood',\n",
       "       'price_per_sqm', 'districte', 'superficie', 'poblacio', 'furt',\n",
       "       'estafes', 'danys', 'rob_viol_intim', 'rob_en_vehicle', 'rob_força',\n",
       "       'lesions', 'aprop_indeg', 'amenaces', 'rob_de_vehicle', 'ocupacions',\n",
       "       'salut_pub', 'abusos_sex', 'entrada_domicili', 'agressio_sex',\n",
       "       'conviv_veinal', 'vigilancia_poli', 'molesties_espai_pub',\n",
       "       'contra_prop_priv', 'incendis', 'estupefaents', 'agressions',\n",
       "       'proves_alcohol', 'proves_droga'],\n",
       "      dtype='object')"
      ]
     },
     "execution_count": 71,
     "metadata": {},
     "output_type": "execute_result"
    }
   ],
   "source": [
    "housing.columns"
   ]
  },
  {
   "cell_type": "markdown",
   "id": "c2a34f51-3487-45e5-9907-4279e379cba4",
   "metadata": {},
   "source": [
    "### Load integrated table into exploitation zone"
   ]
  },
  {
   "cell_type": "markdown",
   "id": "e8a08218-4659-4d53-b8e6-9bcdf7eea4ea",
   "metadata": {},
   "source": [
    "##### Create exploitation_zone schema if it does not exist"
   ]
  },
  {
   "cell_type": "code",
   "execution_count": 72,
   "id": "a28de8c6-84c4-4825-8c90-c98f45f14c06",
   "metadata": {},
   "outputs": [],
   "source": [
    "create_exploitation_zone = \"\"\"CREATE SCHEMA IF NOT EXISTS exploitation_zone;\"\"\"\n",
    "cursor.execute(create_exploitation_zone)\n",
    "conn.commit()"
   ]
  },
  {
   "cell_type": "markdown",
   "id": "7dd9837c-e835-45bb-87cd-bb40e7fb7f62",
   "metadata": {},
   "source": [
    "##### Create new table in PostgreSQL database"
   ]
  },
  {
   "cell_type": "code",
   "execution_count": 73,
   "id": "9819e73f-cdf4-413b-a978-cbbce2fe2856",
   "metadata": {},
   "outputs": [
    {
     "data": {
      "text/plain": [
       "Index(['id', 'bathrooms', 'building_subtype', 'conservation_state', 'discount',\n",
       "       'floor_elevator', 'price', 'rooms', 'sq_meters', 'neighbourhood',\n",
       "       'price_per_sqm', 'districte', 'superficie', 'poblacio', 'furt',\n",
       "       'estafes', 'danys', 'rob_viol_intim', 'rob_en_vehicle', 'rob_força',\n",
       "       'lesions', 'aprop_indeg', 'amenaces', 'rob_de_vehicle', 'ocupacions',\n",
       "       'salut_pub', 'abusos_sex', 'entrada_domicili', 'agressio_sex',\n",
       "       'conviv_veinal', 'vigilancia_poli', 'molesties_espai_pub',\n",
       "       'contra_prop_priv', 'incendis', 'estupefaents', 'agressions',\n",
       "       'proves_alcohol', 'proves_droga'],\n",
       "      dtype='object')"
      ]
     },
     "execution_count": 73,
     "metadata": {},
     "output_type": "execute_result"
    }
   ],
   "source": [
    "housing.columns"
   ]
  },
  {
   "cell_type": "code",
   "execution_count": 80,
   "id": "36e4aea2-99fb-4ec9-8c8d-c6cd10d55516",
   "metadata": {},
   "outputs": [],
   "source": [
    "sqlCreateTable = \"\"\"CREATE TABLE IF NOT EXISTS exploitation_zone.housing_view (\n",
    "    ID INTEGER PRIMARY KEY,\n",
    "    BATHROOMS INTEGER,\n",
    "    BUILDING_SUBTYPE VARCHAR(30),\n",
    "    CONSERVATION_STATE VARCHAR(20),\n",
    "    DISCOUNT INTEGER,\n",
    "    FLOOR_ELEVATOR BOOLEAN,\n",
    "    PRICE FLOAT,\n",
    "    ROOMS INTEGER,\n",
    "    SQ_METERS FLOAT,\n",
    "    NEIGHBOURHOOD VARCHAR(45),\n",
    "    PRICE_PER_SQM FLOAT,\n",
    "    DISTRICTE VARCHAR(50),\n",
    "    SUPERFICIE FLOAT,\n",
    "    POBLACIO INTEGER,\n",
    "    FURT INTEGER,\n",
    "    ESTAFES INTEGER,\n",
    "    DANYS INTEGER,\n",
    "    ROB_VIOL_INTIM INTEGER,\n",
    "    ROB_EN_VEHICLE INTEGER,\n",
    "    ROB_FORÇA INTEGER,\n",
    "    LESIONS INTEGER,\n",
    "    APROP_INDEG INTEGER,\n",
    "    AMENACES INTEGER,\n",
    "    ROB_DE_VEHICLE INTEGER,\n",
    "    OCUPACIONS INTEGER,\n",
    "    SALUT_PUB INTEGER,\n",
    "    ABUSOS_SEX INTEGER,\n",
    "    ENTRADA_DOMICILI INTEGER,\n",
    "    AGRESSIO_SEX INTEGER,\n",
    "    CONVIV_VEINAL INTEGER,\n",
    "    VIGILANCIA_POLI INTEGER,\n",
    "    MOLESTIES_ESPAI_PUB INTEGER,\n",
    "    CONTRA_PROP_PRIV INTEGER,\n",
    "    INCENDIS INTEGER,\n",
    "    ESTUPEFAENTS INTEGER,\n",
    "    AGRESSIONS INTEGER,\n",
    "    PROVES_ALCOHOL INTEGER,\n",
    "    PROVES_DROGA INTEGER\n",
    ");\"\"\"\n",
    "cursor.execute(sqlCreateTable)\n",
    "conn.commit()"
   ]
  },
  {
   "cell_type": "markdown",
   "id": "2aa73452-3998-4c4b-bd35-ca414eed5131",
   "metadata": {},
   "source": [
    "##### Insert rows into table"
   ]
  },
  {
   "cell_type": "code",
   "execution_count": 81,
   "id": "923ba7a6-040b-430e-9a3c-d5bee51d54ff",
   "metadata": {
    "tags": []
   },
   "outputs": [],
   "source": [
    "def execute_values(conn, df, table):\n",
    "  \n",
    "    tuples = [tuple(x) for x in df.to_numpy()]\n",
    "  \n",
    "    cols = ','.join(list(df.columns))\n",
    "    # SQL query to execute\n",
    "    query = \"INSERT INTO %s(%s) VALUES %%s\" % (table, cols)\n",
    "    cursor = conn.cursor()\n",
    "    try:\n",
    "        extras.execute_values(cursor, query, tuples)\n",
    "        conn.commit()\n",
    "    except (Exception, psycopg2.DatabaseError) as error:\n",
    "        print(\"Error: %s\" % error)\n",
    "        conn.rollback()\n",
    "        cursor.close()\n",
    "        return 1\n",
    "    print(\"The dataframe was correctly inserted\")\n",
    "    cursor.close()"
   ]
  },
  {
   "cell_type": "code",
   "execution_count": 82,
   "id": "2759585e-5385-4fcd-bc16-13aebff0418c",
   "metadata": {},
   "outputs": [
    {
     "name": "stdout",
     "output_type": "stream",
     "text": [
      "The dataframe was correctly inserted\n"
     ]
    }
   ],
   "source": [
    "execute_values(conn, housing, 'exploitation_zone.housing_view')"
   ]
  },
  {
   "cell_type": "markdown",
   "id": "4d2b1524-bac8-45d7-8035-8e02ffc946bc",
   "metadata": {},
   "source": [
    "##### Check correct insertion"
   ]
  },
  {
   "cell_type": "code",
   "execution_count": 83,
   "id": "6985cf21-6917-4824-afda-b199810d0284",
   "metadata": {},
   "outputs": [
    {
     "data": {
      "text/html": [
       "<div>\n",
       "<style scoped>\n",
       "    .dataframe tbody tr th:only-of-type {\n",
       "        vertical-align: middle;\n",
       "    }\n",
       "\n",
       "    .dataframe tbody tr th {\n",
       "        vertical-align: top;\n",
       "    }\n",
       "\n",
       "    .dataframe thead th {\n",
       "        text-align: right;\n",
       "    }\n",
       "</style>\n",
       "<table border=\"1\" class=\"dataframe\">\n",
       "  <thead>\n",
       "    <tr style=\"text-align: right;\">\n",
       "      <th></th>\n",
       "      <th>id</th>\n",
       "      <th>bathrooms</th>\n",
       "      <th>building_subtype</th>\n",
       "      <th>conservation_state</th>\n",
       "      <th>discount</th>\n",
       "      <th>floor_elevator</th>\n",
       "      <th>price</th>\n",
       "      <th>rooms</th>\n",
       "      <th>sq_meters</th>\n",
       "      <th>neighbourhood</th>\n",
       "      <th>...</th>\n",
       "      <th>agressio_sex</th>\n",
       "      <th>conviv_veinal</th>\n",
       "      <th>vigilancia_poli</th>\n",
       "      <th>molesties_espai_pub</th>\n",
       "      <th>contra_prop_priv</th>\n",
       "      <th>incendis</th>\n",
       "      <th>estupefaents</th>\n",
       "      <th>agressions</th>\n",
       "      <th>proves_alcohol</th>\n",
       "      <th>proves_droga</th>\n",
       "    </tr>\n",
       "  </thead>\n",
       "  <tbody>\n",
       "    <tr>\n",
       "      <th>0</th>\n",
       "      <td>1</td>\n",
       "      <td>1</td>\n",
       "      <td>Flat</td>\n",
       "      <td>Nearly new</td>\n",
       "      <td>0</td>\n",
       "      <td>True</td>\n",
       "      <td>1250.0</td>\n",
       "      <td>3</td>\n",
       "      <td>93.0</td>\n",
       "      <td>Sant Antoni</td>\n",
       "      <td>...</td>\n",
       "      <td>32</td>\n",
       "      <td>11474</td>\n",
       "      <td>4721</td>\n",
       "      <td>4445</td>\n",
       "      <td>2178</td>\n",
       "      <td>793</td>\n",
       "      <td>451</td>\n",
       "      <td>477</td>\n",
       "      <td>3770</td>\n",
       "      <td>326</td>\n",
       "    </tr>\n",
       "    <tr>\n",
       "      <th>1</th>\n",
       "      <td>62</td>\n",
       "      <td>1</td>\n",
       "      <td>Flat</td>\n",
       "      <td>Good</td>\n",
       "      <td>0</td>\n",
       "      <td>False</td>\n",
       "      <td>1200.0</td>\n",
       "      <td>3</td>\n",
       "      <td>80.0</td>\n",
       "      <td>Sant Antoni</td>\n",
       "      <td>...</td>\n",
       "      <td>32</td>\n",
       "      <td>11474</td>\n",
       "      <td>4721</td>\n",
       "      <td>4445</td>\n",
       "      <td>2178</td>\n",
       "      <td>793</td>\n",
       "      <td>451</td>\n",
       "      <td>477</td>\n",
       "      <td>3770</td>\n",
       "      <td>326</td>\n",
       "    </tr>\n",
       "    <tr>\n",
       "      <th>2</th>\n",
       "      <td>359</td>\n",
       "      <td>2</td>\n",
       "      <td>Flat</td>\n",
       "      <td>Good</td>\n",
       "      <td>0</td>\n",
       "      <td>True</td>\n",
       "      <td>1200.0</td>\n",
       "      <td>4</td>\n",
       "      <td>125.0</td>\n",
       "      <td>Sant Antoni</td>\n",
       "      <td>...</td>\n",
       "      <td>32</td>\n",
       "      <td>11474</td>\n",
       "      <td>4721</td>\n",
       "      <td>4445</td>\n",
       "      <td>2178</td>\n",
       "      <td>793</td>\n",
       "      <td>451</td>\n",
       "      <td>477</td>\n",
       "      <td>3770</td>\n",
       "      <td>326</td>\n",
       "    </tr>\n",
       "    <tr>\n",
       "      <th>3</th>\n",
       "      <td>214</td>\n",
       "      <td>2</td>\n",
       "      <td>Attic</td>\n",
       "      <td>New construction</td>\n",
       "      <td>0</td>\n",
       "      <td>True</td>\n",
       "      <td>1800.0</td>\n",
       "      <td>2</td>\n",
       "      <td>155.0</td>\n",
       "      <td>Sant Antoni</td>\n",
       "      <td>...</td>\n",
       "      <td>32</td>\n",
       "      <td>11474</td>\n",
       "      <td>4721</td>\n",
       "      <td>4445</td>\n",
       "      <td>2178</td>\n",
       "      <td>793</td>\n",
       "      <td>451</td>\n",
       "      <td>477</td>\n",
       "      <td>3770</td>\n",
       "      <td>326</td>\n",
       "    </tr>\n",
       "    <tr>\n",
       "      <th>4</th>\n",
       "      <td>228</td>\n",
       "      <td>1</td>\n",
       "      <td>Flat</td>\n",
       "      <td>New construction</td>\n",
       "      <td>150</td>\n",
       "      <td>False</td>\n",
       "      <td>1100.0</td>\n",
       "      <td>4</td>\n",
       "      <td>80.0</td>\n",
       "      <td>Sant Antoni</td>\n",
       "      <td>...</td>\n",
       "      <td>32</td>\n",
       "      <td>11474</td>\n",
       "      <td>4721</td>\n",
       "      <td>4445</td>\n",
       "      <td>2178</td>\n",
       "      <td>793</td>\n",
       "      <td>451</td>\n",
       "      <td>477</td>\n",
       "      <td>3770</td>\n",
       "      <td>326</td>\n",
       "    </tr>\n",
       "    <tr>\n",
       "      <th>...</th>\n",
       "      <td>...</td>\n",
       "      <td>...</td>\n",
       "      <td>...</td>\n",
       "      <td>...</td>\n",
       "      <td>...</td>\n",
       "      <td>...</td>\n",
       "      <td>...</td>\n",
       "      <td>...</td>\n",
       "      <td>...</td>\n",
       "      <td>...</td>\n",
       "      <td>...</td>\n",
       "      <td>...</td>\n",
       "      <td>...</td>\n",
       "      <td>...</td>\n",
       "      <td>...</td>\n",
       "      <td>...</td>\n",
       "      <td>...</td>\n",
       "      <td>...</td>\n",
       "      <td>...</td>\n",
       "      <td>...</td>\n",
       "      <td>...</td>\n",
       "    </tr>\n",
       "    <tr>\n",
       "      <th>9393</th>\n",
       "      <td>9023</td>\n",
       "      <td>1</td>\n",
       "      <td>Flat</td>\n",
       "      <td>New construction</td>\n",
       "      <td>45</td>\n",
       "      <td>False</td>\n",
       "      <td>780.0</td>\n",
       "      <td>3</td>\n",
       "      <td>72.0</td>\n",
       "      <td>la Font d'en Fargues</td>\n",
       "      <td>...</td>\n",
       "      <td>24</td>\n",
       "      <td>4784</td>\n",
       "      <td>3062</td>\n",
       "      <td>2827</td>\n",
       "      <td>663</td>\n",
       "      <td>349</td>\n",
       "      <td>195</td>\n",
       "      <td>262</td>\n",
       "      <td>1568</td>\n",
       "      <td>106</td>\n",
       "    </tr>\n",
       "    <tr>\n",
       "      <th>9394</th>\n",
       "      <td>10925</td>\n",
       "      <td>1</td>\n",
       "      <td>Flat</td>\n",
       "      <td>New construction</td>\n",
       "      <td>50</td>\n",
       "      <td>False</td>\n",
       "      <td>650.0</td>\n",
       "      <td>2</td>\n",
       "      <td>50.0</td>\n",
       "      <td>la Font d'en Fargues</td>\n",
       "      <td>...</td>\n",
       "      <td>24</td>\n",
       "      <td>4784</td>\n",
       "      <td>3062</td>\n",
       "      <td>2827</td>\n",
       "      <td>663</td>\n",
       "      <td>349</td>\n",
       "      <td>195</td>\n",
       "      <td>262</td>\n",
       "      <td>1568</td>\n",
       "      <td>106</td>\n",
       "    </tr>\n",
       "    <tr>\n",
       "      <th>9395</th>\n",
       "      <td>2389</td>\n",
       "      <td>1</td>\n",
       "      <td>Flat</td>\n",
       "      <td>New construction</td>\n",
       "      <td>50</td>\n",
       "      <td>True</td>\n",
       "      <td>850.0</td>\n",
       "      <td>3</td>\n",
       "      <td>65.0</td>\n",
       "      <td>la Vall d'Hebron</td>\n",
       "      <td>...</td>\n",
       "      <td>24</td>\n",
       "      <td>4784</td>\n",
       "      <td>3062</td>\n",
       "      <td>2827</td>\n",
       "      <td>663</td>\n",
       "      <td>349</td>\n",
       "      <td>195</td>\n",
       "      <td>262</td>\n",
       "      <td>1568</td>\n",
       "      <td>106</td>\n",
       "    </tr>\n",
       "    <tr>\n",
       "      <th>9396</th>\n",
       "      <td>5538</td>\n",
       "      <td>1</td>\n",
       "      <td>Flat</td>\n",
       "      <td>Good</td>\n",
       "      <td>0</td>\n",
       "      <td>True</td>\n",
       "      <td>775.0</td>\n",
       "      <td>3</td>\n",
       "      <td>75.0</td>\n",
       "      <td>la Vall d'Hebron</td>\n",
       "      <td>...</td>\n",
       "      <td>24</td>\n",
       "      <td>4784</td>\n",
       "      <td>3062</td>\n",
       "      <td>2827</td>\n",
       "      <td>663</td>\n",
       "      <td>349</td>\n",
       "      <td>195</td>\n",
       "      <td>262</td>\n",
       "      <td>1568</td>\n",
       "      <td>106</td>\n",
       "    </tr>\n",
       "    <tr>\n",
       "      <th>9397</th>\n",
       "      <td>10675</td>\n",
       "      <td>3</td>\n",
       "      <td>Flat</td>\n",
       "      <td>New construction</td>\n",
       "      <td>0</td>\n",
       "      <td>True</td>\n",
       "      <td>1550.0</td>\n",
       "      <td>4</td>\n",
       "      <td>186.0</td>\n",
       "      <td>la Vall d'Hebron</td>\n",
       "      <td>...</td>\n",
       "      <td>24</td>\n",
       "      <td>4784</td>\n",
       "      <td>3062</td>\n",
       "      <td>2827</td>\n",
       "      <td>663</td>\n",
       "      <td>349</td>\n",
       "      <td>195</td>\n",
       "      <td>262</td>\n",
       "      <td>1568</td>\n",
       "      <td>106</td>\n",
       "    </tr>\n",
       "  </tbody>\n",
       "</table>\n",
       "<p>9398 rows × 38 columns</p>\n",
       "</div>"
      ],
      "text/plain": [
       "         id  bathrooms building_subtype conservation_state  discount  \\\n",
       "0         1          1             Flat         Nearly new         0   \n",
       "1        62          1             Flat               Good         0   \n",
       "2       359          2             Flat               Good         0   \n",
       "3       214          2            Attic   New construction         0   \n",
       "4       228          1             Flat   New construction       150   \n",
       "...     ...        ...              ...                ...       ...   \n",
       "9393   9023          1             Flat   New construction        45   \n",
       "9394  10925          1             Flat   New construction        50   \n",
       "9395   2389          1             Flat   New construction        50   \n",
       "9396   5538          1             Flat               Good         0   \n",
       "9397  10675          3             Flat   New construction         0   \n",
       "\n",
       "      floor_elevator   price  rooms  sq_meters         neighbourhood  ...  \\\n",
       "0               True  1250.0      3       93.0           Sant Antoni  ...   \n",
       "1              False  1200.0      3       80.0           Sant Antoni  ...   \n",
       "2               True  1200.0      4      125.0           Sant Antoni  ...   \n",
       "3               True  1800.0      2      155.0           Sant Antoni  ...   \n",
       "4              False  1100.0      4       80.0           Sant Antoni  ...   \n",
       "...              ...     ...    ...        ...                   ...  ...   \n",
       "9393           False   780.0      3       72.0  la Font d'en Fargues  ...   \n",
       "9394           False   650.0      2       50.0  la Font d'en Fargues  ...   \n",
       "9395            True   850.0      3       65.0      la Vall d'Hebron  ...   \n",
       "9396            True   775.0      3       75.0      la Vall d'Hebron  ...   \n",
       "9397            True  1550.0      4      186.0      la Vall d'Hebron  ...   \n",
       "\n",
       "      agressio_sex conviv_veinal  vigilancia_poli  molesties_espai_pub  \\\n",
       "0               32         11474             4721                 4445   \n",
       "1               32         11474             4721                 4445   \n",
       "2               32         11474             4721                 4445   \n",
       "3               32         11474             4721                 4445   \n",
       "4               32         11474             4721                 4445   \n",
       "...            ...           ...              ...                  ...   \n",
       "9393            24          4784             3062                 2827   \n",
       "9394            24          4784             3062                 2827   \n",
       "9395            24          4784             3062                 2827   \n",
       "9396            24          4784             3062                 2827   \n",
       "9397            24          4784             3062                 2827   \n",
       "\n",
       "      contra_prop_priv  incendis  estupefaents  agressions  proves_alcohol  \\\n",
       "0                 2178       793           451         477            3770   \n",
       "1                 2178       793           451         477            3770   \n",
       "2                 2178       793           451         477            3770   \n",
       "3                 2178       793           451         477            3770   \n",
       "4                 2178       793           451         477            3770   \n",
       "...                ...       ...           ...         ...             ...   \n",
       "9393               663       349           195         262            1568   \n",
       "9394               663       349           195         262            1568   \n",
       "9395               663       349           195         262            1568   \n",
       "9396               663       349           195         262            1568   \n",
       "9397               663       349           195         262            1568   \n",
       "\n",
       "      proves_droga  \n",
       "0              326  \n",
       "1              326  \n",
       "2              326  \n",
       "3              326  \n",
       "4              326  \n",
       "...            ...  \n",
       "9393           106  \n",
       "9394           106  \n",
       "9395           106  \n",
       "9396           106  \n",
       "9397           106  \n",
       "\n",
       "[9398 rows x 38 columns]"
      ]
     },
     "execution_count": 83,
     "metadata": {},
     "output_type": "execute_result"
    }
   ],
   "source": [
    "sql = \"SELECT * from exploitation_zone.housing_view;\"\n",
    "pd.read_sql_query(sql, conn)"
   ]
  }
 ],
 "metadata": {
  "kernelspec": {
   "display_name": "Python 3 (ipykernel)",
   "language": "python",
   "name": "python3"
  },
  "language_info": {
   "codemirror_mode": {
    "name": "ipython",
    "version": 3
   },
   "file_extension": ".py",
   "mimetype": "text/x-python",
   "name": "python",
   "nbconvert_exporter": "python",
   "pygments_lexer": "ipython3",
   "version": "3.9.7"
  }
 },
 "nbformat": 4,
 "nbformat_minor": 5
}
