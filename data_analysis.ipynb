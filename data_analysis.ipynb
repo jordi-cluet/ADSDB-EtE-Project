{
 "cells": [
  {
   "cell_type": "markdown",
   "id": "06d05af6-2e69-4a30-9c43-757509efb296",
   "metadata": {},
   "source": [
    "#### Import libraries and packages"
   ]
  },
  {
   "cell_type": "code",
   "execution_count": 1,
   "id": "4872cba3-2fd7-443d-a518-a62d4ccaf47d",
   "metadata": {},
   "outputs": [],
   "source": [
    "import psycopg2\n",
    "import psycopg2.extras as extras\n",
    "import pandas as pd\n",
    "import numpy as np\n",
    "import seaborn as sns\n",
    "from difflib import SequenceMatcher"
   ]
  },
  {
   "cell_type": "markdown",
   "id": "fd207bd7-b36a-4fba-aae2-6bfe203b9b44",
   "metadata": {},
   "source": [
    "#### Set connection with postgres database"
   ]
  },
  {
   "cell_type": "code",
   "execution_count": 2,
   "id": "86bb0f50-7e06-4fad-94a6-2baa46151513",
   "metadata": {},
   "outputs": [],
   "source": [
    "host = 'postgresfib.fib.upc.edu'\n",
    "dbname = 'ADSDBjordi.cluet'\n",
    "user = 'jordi.cluet'\n",
    "pwd = 'DB151199'\n",
    "port = 6433\n",
    "sslmode = 'require'\n",
    "\n",
    "conn = psycopg2.connect(\"host='{}' port={} dbname='{}' user={} password={}\".format(host, port, dbname, user, pwd))\n",
    "cursor = conn.cursor()"
   ]
  },
  {
   "cell_type": "markdown",
   "id": "ab6180fa-c682-47ee-9e8c-8af23027b369",
   "metadata": {},
   "source": [
    "#### Get dataframe from exploitation zone"
   ]
  },
  {
   "cell_type": "code",
   "execution_count": 3,
   "id": "dca52583-f727-47aa-9c88-7e36d53e8e71",
   "metadata": {},
   "outputs": [],
   "source": [
    "sql = \"SELECT * from exploitation_zone.housing_view;\"\n",
    "df = pd.read_sql_query(sql, conn)"
   ]
  },
  {
   "cell_type": "code",
   "execution_count": 4,
   "id": "142002e3-e04a-4f50-9000-50f774c3a93c",
   "metadata": {},
   "outputs": [
    {
     "data": {
      "text/html": [
       "<div>\n",
       "<style scoped>\n",
       "    .dataframe tbody tr th:only-of-type {\n",
       "        vertical-align: middle;\n",
       "    }\n",
       "\n",
       "    .dataframe tbody tr th {\n",
       "        vertical-align: top;\n",
       "    }\n",
       "\n",
       "    .dataframe thead th {\n",
       "        text-align: right;\n",
       "    }\n",
       "</style>\n",
       "<table border=\"1\" class=\"dataframe\">\n",
       "  <thead>\n",
       "    <tr style=\"text-align: right;\">\n",
       "      <th></th>\n",
       "      <th>id</th>\n",
       "      <th>bathrooms</th>\n",
       "      <th>building_subtype</th>\n",
       "      <th>conservation_state</th>\n",
       "      <th>discount</th>\n",
       "      <th>floor_elevator</th>\n",
       "      <th>price</th>\n",
       "      <th>rooms</th>\n",
       "      <th>sq_meters</th>\n",
       "      <th>neighbourhood</th>\n",
       "      <th>...</th>\n",
       "      <th>agressio_sex</th>\n",
       "      <th>conviv_veinal</th>\n",
       "      <th>vigilancia_poli</th>\n",
       "      <th>molesties_espai_pub</th>\n",
       "      <th>contra_prop_priv</th>\n",
       "      <th>incendis</th>\n",
       "      <th>estupefaents</th>\n",
       "      <th>agressions</th>\n",
       "      <th>proves_alcohol</th>\n",
       "      <th>proves_droga</th>\n",
       "    </tr>\n",
       "  </thead>\n",
       "  <tbody>\n",
       "    <tr>\n",
       "      <th>0</th>\n",
       "      <td>1</td>\n",
       "      <td>1</td>\n",
       "      <td>Flat</td>\n",
       "      <td>Nearly new</td>\n",
       "      <td>0</td>\n",
       "      <td>True</td>\n",
       "      <td>1250.0</td>\n",
       "      <td>3</td>\n",
       "      <td>93.0</td>\n",
       "      <td>Sant Antoni</td>\n",
       "      <td>...</td>\n",
       "      <td>32</td>\n",
       "      <td>11474</td>\n",
       "      <td>4721</td>\n",
       "      <td>4445</td>\n",
       "      <td>2178</td>\n",
       "      <td>793</td>\n",
       "      <td>451</td>\n",
       "      <td>477</td>\n",
       "      <td>3770</td>\n",
       "      <td>326</td>\n",
       "    </tr>\n",
       "    <tr>\n",
       "      <th>1</th>\n",
       "      <td>62</td>\n",
       "      <td>1</td>\n",
       "      <td>Flat</td>\n",
       "      <td>Good</td>\n",
       "      <td>0</td>\n",
       "      <td>False</td>\n",
       "      <td>1200.0</td>\n",
       "      <td>3</td>\n",
       "      <td>80.0</td>\n",
       "      <td>Sant Antoni</td>\n",
       "      <td>...</td>\n",
       "      <td>32</td>\n",
       "      <td>11474</td>\n",
       "      <td>4721</td>\n",
       "      <td>4445</td>\n",
       "      <td>2178</td>\n",
       "      <td>793</td>\n",
       "      <td>451</td>\n",
       "      <td>477</td>\n",
       "      <td>3770</td>\n",
       "      <td>326</td>\n",
       "    </tr>\n",
       "    <tr>\n",
       "      <th>2</th>\n",
       "      <td>359</td>\n",
       "      <td>2</td>\n",
       "      <td>Flat</td>\n",
       "      <td>Good</td>\n",
       "      <td>0</td>\n",
       "      <td>True</td>\n",
       "      <td>1200.0</td>\n",
       "      <td>4</td>\n",
       "      <td>125.0</td>\n",
       "      <td>Sant Antoni</td>\n",
       "      <td>...</td>\n",
       "      <td>32</td>\n",
       "      <td>11474</td>\n",
       "      <td>4721</td>\n",
       "      <td>4445</td>\n",
       "      <td>2178</td>\n",
       "      <td>793</td>\n",
       "      <td>451</td>\n",
       "      <td>477</td>\n",
       "      <td>3770</td>\n",
       "      <td>326</td>\n",
       "    </tr>\n",
       "    <tr>\n",
       "      <th>3</th>\n",
       "      <td>214</td>\n",
       "      <td>2</td>\n",
       "      <td>Attic</td>\n",
       "      <td>New construction</td>\n",
       "      <td>0</td>\n",
       "      <td>True</td>\n",
       "      <td>1800.0</td>\n",
       "      <td>2</td>\n",
       "      <td>155.0</td>\n",
       "      <td>Sant Antoni</td>\n",
       "      <td>...</td>\n",
       "      <td>32</td>\n",
       "      <td>11474</td>\n",
       "      <td>4721</td>\n",
       "      <td>4445</td>\n",
       "      <td>2178</td>\n",
       "      <td>793</td>\n",
       "      <td>451</td>\n",
       "      <td>477</td>\n",
       "      <td>3770</td>\n",
       "      <td>326</td>\n",
       "    </tr>\n",
       "    <tr>\n",
       "      <th>4</th>\n",
       "      <td>228</td>\n",
       "      <td>1</td>\n",
       "      <td>Flat</td>\n",
       "      <td>New construction</td>\n",
       "      <td>150</td>\n",
       "      <td>False</td>\n",
       "      <td>1100.0</td>\n",
       "      <td>4</td>\n",
       "      <td>80.0</td>\n",
       "      <td>Sant Antoni</td>\n",
       "      <td>...</td>\n",
       "      <td>32</td>\n",
       "      <td>11474</td>\n",
       "      <td>4721</td>\n",
       "      <td>4445</td>\n",
       "      <td>2178</td>\n",
       "      <td>793</td>\n",
       "      <td>451</td>\n",
       "      <td>477</td>\n",
       "      <td>3770</td>\n",
       "      <td>326</td>\n",
       "    </tr>\n",
       "    <tr>\n",
       "      <th>...</th>\n",
       "      <td>...</td>\n",
       "      <td>...</td>\n",
       "      <td>...</td>\n",
       "      <td>...</td>\n",
       "      <td>...</td>\n",
       "      <td>...</td>\n",
       "      <td>...</td>\n",
       "      <td>...</td>\n",
       "      <td>...</td>\n",
       "      <td>...</td>\n",
       "      <td>...</td>\n",
       "      <td>...</td>\n",
       "      <td>...</td>\n",
       "      <td>...</td>\n",
       "      <td>...</td>\n",
       "      <td>...</td>\n",
       "      <td>...</td>\n",
       "      <td>...</td>\n",
       "      <td>...</td>\n",
       "      <td>...</td>\n",
       "      <td>...</td>\n",
       "    </tr>\n",
       "    <tr>\n",
       "      <th>9393</th>\n",
       "      <td>9023</td>\n",
       "      <td>1</td>\n",
       "      <td>Flat</td>\n",
       "      <td>New construction</td>\n",
       "      <td>45</td>\n",
       "      <td>False</td>\n",
       "      <td>780.0</td>\n",
       "      <td>3</td>\n",
       "      <td>72.0</td>\n",
       "      <td>la Font d'en Fargues</td>\n",
       "      <td>...</td>\n",
       "      <td>24</td>\n",
       "      <td>4784</td>\n",
       "      <td>3062</td>\n",
       "      <td>2827</td>\n",
       "      <td>663</td>\n",
       "      <td>349</td>\n",
       "      <td>195</td>\n",
       "      <td>262</td>\n",
       "      <td>1568</td>\n",
       "      <td>106</td>\n",
       "    </tr>\n",
       "    <tr>\n",
       "      <th>9394</th>\n",
       "      <td>10925</td>\n",
       "      <td>1</td>\n",
       "      <td>Flat</td>\n",
       "      <td>New construction</td>\n",
       "      <td>50</td>\n",
       "      <td>False</td>\n",
       "      <td>650.0</td>\n",
       "      <td>2</td>\n",
       "      <td>50.0</td>\n",
       "      <td>la Font d'en Fargues</td>\n",
       "      <td>...</td>\n",
       "      <td>24</td>\n",
       "      <td>4784</td>\n",
       "      <td>3062</td>\n",
       "      <td>2827</td>\n",
       "      <td>663</td>\n",
       "      <td>349</td>\n",
       "      <td>195</td>\n",
       "      <td>262</td>\n",
       "      <td>1568</td>\n",
       "      <td>106</td>\n",
       "    </tr>\n",
       "    <tr>\n",
       "      <th>9395</th>\n",
       "      <td>2389</td>\n",
       "      <td>1</td>\n",
       "      <td>Flat</td>\n",
       "      <td>New construction</td>\n",
       "      <td>50</td>\n",
       "      <td>True</td>\n",
       "      <td>850.0</td>\n",
       "      <td>3</td>\n",
       "      <td>65.0</td>\n",
       "      <td>la Vall d'Hebron</td>\n",
       "      <td>...</td>\n",
       "      <td>24</td>\n",
       "      <td>4784</td>\n",
       "      <td>3062</td>\n",
       "      <td>2827</td>\n",
       "      <td>663</td>\n",
       "      <td>349</td>\n",
       "      <td>195</td>\n",
       "      <td>262</td>\n",
       "      <td>1568</td>\n",
       "      <td>106</td>\n",
       "    </tr>\n",
       "    <tr>\n",
       "      <th>9396</th>\n",
       "      <td>5538</td>\n",
       "      <td>1</td>\n",
       "      <td>Flat</td>\n",
       "      <td>Good</td>\n",
       "      <td>0</td>\n",
       "      <td>True</td>\n",
       "      <td>775.0</td>\n",
       "      <td>3</td>\n",
       "      <td>75.0</td>\n",
       "      <td>la Vall d'Hebron</td>\n",
       "      <td>...</td>\n",
       "      <td>24</td>\n",
       "      <td>4784</td>\n",
       "      <td>3062</td>\n",
       "      <td>2827</td>\n",
       "      <td>663</td>\n",
       "      <td>349</td>\n",
       "      <td>195</td>\n",
       "      <td>262</td>\n",
       "      <td>1568</td>\n",
       "      <td>106</td>\n",
       "    </tr>\n",
       "    <tr>\n",
       "      <th>9397</th>\n",
       "      <td>10675</td>\n",
       "      <td>3</td>\n",
       "      <td>Flat</td>\n",
       "      <td>New construction</td>\n",
       "      <td>0</td>\n",
       "      <td>True</td>\n",
       "      <td>1550.0</td>\n",
       "      <td>4</td>\n",
       "      <td>186.0</td>\n",
       "      <td>la Vall d'Hebron</td>\n",
       "      <td>...</td>\n",
       "      <td>24</td>\n",
       "      <td>4784</td>\n",
       "      <td>3062</td>\n",
       "      <td>2827</td>\n",
       "      <td>663</td>\n",
       "      <td>349</td>\n",
       "      <td>195</td>\n",
       "      <td>262</td>\n",
       "      <td>1568</td>\n",
       "      <td>106</td>\n",
       "    </tr>\n",
       "  </tbody>\n",
       "</table>\n",
       "<p>9398 rows × 38 columns</p>\n",
       "</div>"
      ],
      "text/plain": [
       "         id  bathrooms building_subtype conservation_state  discount  \\\n",
       "0         1          1             Flat         Nearly new         0   \n",
       "1        62          1             Flat               Good         0   \n",
       "2       359          2             Flat               Good         0   \n",
       "3       214          2            Attic   New construction         0   \n",
       "4       228          1             Flat   New construction       150   \n",
       "...     ...        ...              ...                ...       ...   \n",
       "9393   9023          1             Flat   New construction        45   \n",
       "9394  10925          1             Flat   New construction        50   \n",
       "9395   2389          1             Flat   New construction        50   \n",
       "9396   5538          1             Flat               Good         0   \n",
       "9397  10675          3             Flat   New construction         0   \n",
       "\n",
       "      floor_elevator   price  rooms  sq_meters         neighbourhood  ...  \\\n",
       "0               True  1250.0      3       93.0           Sant Antoni  ...   \n",
       "1              False  1200.0      3       80.0           Sant Antoni  ...   \n",
       "2               True  1200.0      4      125.0           Sant Antoni  ...   \n",
       "3               True  1800.0      2      155.0           Sant Antoni  ...   \n",
       "4              False  1100.0      4       80.0           Sant Antoni  ...   \n",
       "...              ...     ...    ...        ...                   ...  ...   \n",
       "9393           False   780.0      3       72.0  la Font d'en Fargues  ...   \n",
       "9394           False   650.0      2       50.0  la Font d'en Fargues  ...   \n",
       "9395            True   850.0      3       65.0      la Vall d'Hebron  ...   \n",
       "9396            True   775.0      3       75.0      la Vall d'Hebron  ...   \n",
       "9397            True  1550.0      4      186.0      la Vall d'Hebron  ...   \n",
       "\n",
       "      agressio_sex conviv_veinal  vigilancia_poli  molesties_espai_pub  \\\n",
       "0               32         11474             4721                 4445   \n",
       "1               32         11474             4721                 4445   \n",
       "2               32         11474             4721                 4445   \n",
       "3               32         11474             4721                 4445   \n",
       "4               32         11474             4721                 4445   \n",
       "...            ...           ...              ...                  ...   \n",
       "9393            24          4784             3062                 2827   \n",
       "9394            24          4784             3062                 2827   \n",
       "9395            24          4784             3062                 2827   \n",
       "9396            24          4784             3062                 2827   \n",
       "9397            24          4784             3062                 2827   \n",
       "\n",
       "      contra_prop_priv  incendis  estupefaents  agressions  proves_alcohol  \\\n",
       "0                 2178       793           451         477            3770   \n",
       "1                 2178       793           451         477            3770   \n",
       "2                 2178       793           451         477            3770   \n",
       "3                 2178       793           451         477            3770   \n",
       "4                 2178       793           451         477            3770   \n",
       "...                ...       ...           ...         ...             ...   \n",
       "9393               663       349           195         262            1568   \n",
       "9394               663       349           195         262            1568   \n",
       "9395               663       349           195         262            1568   \n",
       "9396               663       349           195         262            1568   \n",
       "9397               663       349           195         262            1568   \n",
       "\n",
       "      proves_droga  \n",
       "0              326  \n",
       "1              326  \n",
       "2              326  \n",
       "3              326  \n",
       "4              326  \n",
       "...            ...  \n",
       "9393           106  \n",
       "9394           106  \n",
       "9395           106  \n",
       "9396           106  \n",
       "9397           106  \n",
       "\n",
       "[9398 rows x 38 columns]"
      ]
     },
     "execution_count": 4,
     "metadata": {},
     "output_type": "execute_result"
    }
   ],
   "source": [
    "df"
   ]
  },
  {
   "cell_type": "code",
   "execution_count": 5,
   "id": "ee234c63-e635-4bce-9371-292e101541b2",
   "metadata": {},
   "outputs": [
    {
     "data": {
      "text/plain": [
       "Index(['id', 'bathrooms', 'building_subtype', 'conservation_state', 'discount',\n",
       "       'floor_elevator', 'price', 'rooms', 'sq_meters', 'neighbourhood',\n",
       "       'price_per_sqm', 'districte', 'superficie', 'poblacio', 'furt',\n",
       "       'estafes', 'danys', 'rob_viol_intim', 'rob_en_vehicle', 'rob_força',\n",
       "       'lesions', 'aprop_indeg', 'amenaces', 'rob_de_vehicle', 'ocupacions',\n",
       "       'salut_pub', 'abusos_sex', 'entrada_domicili', 'agressio_sex',\n",
       "       'conviv_veinal', 'vigilancia_poli', 'molesties_espai_pub',\n",
       "       'contra_prop_priv', 'incendis', 'estupefaents', 'agressions',\n",
       "       'proves_alcohol', 'proves_droga'],\n",
       "      dtype='object')"
      ]
     },
     "execution_count": 5,
     "metadata": {},
     "output_type": "execute_result"
    }
   ],
   "source": [
    "df.columns"
   ]
  },
  {
   "cell_type": "markdown",
   "id": "975f982e-5b82-4ebf-b9a4-9fc9e8f6b593",
   "metadata": {},
   "source": [
    "#### Feature engineering"
   ]
  },
  {
   "cell_type": "markdown",
   "id": "b218cbcb-70fc-4ecc-be4a-698e89e0bd90",
   "metadata": {},
   "source": [
    "##### Remove some variables that are not useful for our modelling"
   ]
  },
  {
   "cell_type": "markdown",
   "id": "e0ae68e5-097c-4027-8ad1-f18a7a32d5be",
   "metadata": {},
   "source": [
    "neighbourhood has too many levels for our modelling, price_per_sqm since it was computed from the target and discount as it does not seem logical to take it into account for modelling."
   ]
  },
  {
   "cell_type": "code",
   "execution_count": 6,
   "id": "8f766212-8f1a-4336-bc34-72b86b804b8a",
   "metadata": {},
   "outputs": [
    {
     "data": {
      "text/plain": [
       "Index(['bathrooms', 'building_subtype', 'conservation_state', 'floor_elevator',\n",
       "       'price', 'rooms', 'sq_meters', 'neighbourhood', 'districte',\n",
       "       'superficie', 'poblacio', 'furt', 'estafes', 'danys', 'rob_viol_intim',\n",
       "       'rob_en_vehicle', 'rob_força', 'lesions', 'aprop_indeg', 'amenaces',\n",
       "       'rob_de_vehicle', 'ocupacions', 'salut_pub', 'abusos_sex',\n",
       "       'entrada_domicili', 'agressio_sex', 'conviv_veinal', 'vigilancia_poli',\n",
       "       'molesties_espai_pub', 'contra_prop_priv', 'incendis', 'estupefaents',\n",
       "       'agressions', 'proves_alcohol', 'proves_droga'],\n",
       "      dtype='object')"
      ]
     },
     "execution_count": 6,
     "metadata": {},
     "output_type": "execute_result"
    }
   ],
   "source": [
    "df.drop(['id', 'price_per_sqm', 'discount'], axis=1, inplace=True)\n",
    "df.columns"
   ]
  },
  {
   "cell_type": "markdown",
   "id": "e4be070a-19d4-4b25-9dc3-8593536cff51",
   "metadata": {},
   "source": [
    "##### Add categories that may be missing if dataset is not exhaustive"
   ]
  },
  {
   "cell_type": "code",
   "execution_count": 12,
   "id": "3103cdd5-8b1a-4823-9de1-6e50e86e5891",
   "metadata": {},
   "outputs": [],
   "source": [
    "building_subtypes = ['Flat', 'Apartment', 'Attic', 'Duplex', 'Loft', 'Study', 'House_Chalet', 'GroundFloorWithGarden', 'SemidetachedHouse', 'SemiDetached']\n",
    "df.building_subtype = df.building_subtype.astype('category')\n",
    "df.building_subtype = df.building_subtype.cat.add_categories(list(set(building_subtypes) - set(list(df.building_subtype))))"
   ]
  },
  {
   "cell_type": "code",
   "execution_count": 13,
   "id": "c74e70f6-46e0-4ddb-9840-9288d56f3619",
   "metadata": {},
   "outputs": [],
   "source": [
    "neighbourhoods = ['el Raval', 'el Barri Gòtic', 'la Barceloneta', 'Sant Pere, Santa Caterina i la Ribera', 'el Fort Pienc', 'la Sagrada Família', \"la Dreta de l'Eixample\", \"l'Antiga Esquerra de l'Eixample\", \"la Nova Esquerra de l'Eixample\", 'Sant Antoni', 'el Poble Sec', 'la Marina del Prat Vermell', 'la Marina de Port', 'la Font de la Guatlla', 'Hostafrancs', 'la Bordeta', 'Sants - Badal', 'Sants', 'les Corts', 'la Maternitat i Sant Ramon', 'Pedralbes', 'Vallvidrera, el Tibidabo i les Planes', 'Sarrià', 'les Tres Torres', 'Sant Gervasi - la Bonanova', 'Sant Gervasi - Galvany', 'el Putxet i el Farró', 'Vallcarca i els Penitents', 'el Coll', 'la Salut', 'la Vila de Gràcia', \"el Camp d'en Grassot i Gràcia Nova\", 'el Baix Guinardó', 'Can Baró', 'el Guinardó', \"la Font d'en Fargues\", 'el Carmel', 'la Teixonera', 'Sant Genís dels Agudells', 'Montbau', \"la Vall d'Hebron\", 'la Clota', 'Horta', 'Vilapicina i la Torre Llobeta', 'Porta', 'el Turó de la Peira', 'Can Peguera', 'la Guineueta', 'Canyelles', 'les Roquetes', 'Verdun', 'la Prosperitat', 'la Trinitat Nova', 'Torre Baró', 'Ciutat Meridiana', 'Vallbona', 'la Trinitat Vella', 'Baró de Viver', 'el Bon Pastor', 'Sant Andreu', 'la Sagrera', 'el Congrés i els Indians', 'Navas', \"el Camp de l'Arpa del Clot\", 'el Clot', 'el Parc i la Llacuna del Poblenou', 'la Vila Olímpica del Poblenou', 'el Poblenou', 'Diagonal Mar i el Front Marítim del Poblenou', 'el Besòs i el Maresme', 'Provençals del Poblenou', 'Sant Martí de Provençals', 'la Verneda i la Pau']\n",
    "df.neighbourhood = df.neighbourhood.astype('category')\n",
    "df.neighbourhood = df.neighbourhood.cat.add_categories(list(set(neighbourhoods) - set(list(df.neighbourhood))))"
   ]
  },
  {
   "cell_type": "code",
   "execution_count": 14,
   "id": "03bfbcb1-1e17-49e3-9288-e1c4b4b8d66b",
   "metadata": {},
   "outputs": [],
   "source": [
    "conservation_states = ['New construction', 'Nearly new', 'Very good', 'Good', 'Renovated', 'To renovate']\n",
    "df.conservation_state = df.conservation_state.astype('category')\n",
    "df.conservation_state = df.conservation_state.cat.add_categories(list(set(conservation_states) - set(list(df.conservation_state))))"
   ]
  },
  {
   "cell_type": "code",
   "execution_count": 15,
   "id": "cd876be8-3abd-4b73-b180-2847d3727ccf",
   "metadata": {},
   "outputs": [],
   "source": [
    "districtes = ['Ciutat Vella', 'Eixample', 'Sants-Montjuïc', 'Les Corts', 'Sarrià-Sant Gervasi', 'Gràcia', 'Horta-Guinardó', 'Nou Barris', 'Sant Andreu', 'Sant Martí']\n",
    "df.districte = df.districte.astype('category')\n",
    "df.districte = df.districte.cat.add_categories(list(set(districtes) - set(list(df.districte))))"
   ]
  },
  {
   "cell_type": "markdown",
   "id": "577b13cd-bf32-4260-85c2-e512718f1054",
   "metadata": {},
   "source": [
    "##### One-hot enconding of some variables"
   ]
  },
  {
   "cell_type": "code",
   "execution_count": 16,
   "id": "090e9b51-13b5-43ec-b52d-5b710db40311",
   "metadata": {},
   "outputs": [
    {
     "data": {
      "text/plain": [
       "Index(['bathrooms', 'floor_elevator', 'price', 'rooms', 'sq_meters',\n",
       "       'superficie', 'poblacio', 'furt', 'estafes', 'danys',\n",
       "       ...\n",
       "       'n_les Roquetes', 'n_les Tres Torres', 'n_Torre Baró', 'n_Porta',\n",
       "       'n_Sants - Badal', 'n_Baró de Viver', 'n_la Marina del Prat Vermell',\n",
       "       'n_la Vila Olímpica del Poblenou', 'n_la Clota',\n",
       "       'n_Provençals del Poblenou'],\n",
       "      dtype='object', length=130)"
      ]
     },
     "execution_count": 16,
     "metadata": {},
     "output_type": "execute_result"
    }
   ],
   "source": [
    "ohe_bs = pd.get_dummies(df.building_subtype, prefix='bs')\n",
    "ohe_cs = pd.get_dummies(df.conservation_state, prefix='cs')\n",
    "ohe_d = pd.get_dummies(df.districte, prefix='d')\n",
    "ohe_n = pd.get_dummies(df.neighbourhood, prefix='n')\n",
    "df = pd.concat([df, ohe_bs, ohe_cs, ohe_d, ohe_n], axis=1)\n",
    "df.drop(['building_subtype', 'conservation_state', 'districte', 'neighbourhood'], axis=1, inplace=True)\n",
    "df.columns"
   ]
  },
  {
   "cell_type": "code",
   "execution_count": 17,
   "id": "461e6353-d407-4dd1-b1b7-cefd8541ae43",
   "metadata": {},
   "outputs": [
    {
     "data": {
      "text/plain": [
       "{0: 'bathrooms',\n",
       " 1: 'floor_elevator',\n",
       " 2: 'price',\n",
       " 3: 'rooms',\n",
       " 4: 'sq_meters',\n",
       " 5: 'superficie',\n",
       " 6: 'poblacio',\n",
       " 7: 'furt',\n",
       " 8: 'estafes',\n",
       " 9: 'danys',\n",
       " 10: 'rob_viol_intim',\n",
       " 11: 'rob_en_vehicle',\n",
       " 12: 'rob_força',\n",
       " 13: 'lesions',\n",
       " 14: 'aprop_indeg',\n",
       " 15: 'amenaces',\n",
       " 16: 'rob_de_vehicle',\n",
       " 17: 'ocupacions',\n",
       " 18: 'salut_pub',\n",
       " 19: 'abusos_sex',\n",
       " 20: 'entrada_domicili',\n",
       " 21: 'agressio_sex',\n",
       " 22: 'conviv_veinal',\n",
       " 23: 'vigilancia_poli',\n",
       " 24: 'molesties_espai_pub',\n",
       " 25: 'contra_prop_priv',\n",
       " 26: 'incendis',\n",
       " 27: 'estupefaents',\n",
       " 28: 'agressions',\n",
       " 29: 'proves_alcohol',\n",
       " 30: 'proves_droga',\n",
       " 31: 'bs_Apartment',\n",
       " 32: 'bs_Attic',\n",
       " 33: 'bs_Duplex',\n",
       " 34: 'bs_Flat',\n",
       " 35: 'bs_GroundFloorWithGarden',\n",
       " 36: 'bs_House_Chalet',\n",
       " 37: 'bs_Loft',\n",
       " 38: 'bs_SemiDetached',\n",
       " 39: 'bs_SemidetachedHouse',\n",
       " 40: 'bs_Study',\n",
       " 41: 'cs_Good',\n",
       " 42: 'cs_Nearly new',\n",
       " 43: 'cs_New construction',\n",
       " 44: 'cs_Renovated',\n",
       " 45: 'cs_To renovate',\n",
       " 46: 'cs_Very good',\n",
       " 47: 'd_Ciutat Vella',\n",
       " 48: 'd_Eixample',\n",
       " 49: 'd_Gràcia',\n",
       " 50: 'd_Horta-Guinardó',\n",
       " 51: 'd_Les Corts',\n",
       " 52: 'd_Nou Barris',\n",
       " 53: 'd_Sant Andreu',\n",
       " 54: 'd_Sant Martí',\n",
       " 55: 'd_Sants-Montjuïc',\n",
       " 56: 'd_Sarrià-Sant Gervasi',\n",
       " 57: 'n_Can Baró',\n",
       " 58: 'n_Can Peguera',\n",
       " 59: 'n_Canyelles',\n",
       " 60: 'n_Ciutat Meridiana',\n",
       " 61: 'n_Diagonal Mar i el Front Marítim del Poblenou',\n",
       " 62: 'n_Horta',\n",
       " 63: 'n_Hostafrancs',\n",
       " 64: 'n_Montbau',\n",
       " 65: 'n_Navas',\n",
       " 66: 'n_Pedralbes',\n",
       " 67: 'n_Sant Andreu',\n",
       " 68: 'n_Sant Antoni',\n",
       " 69: 'n_Sant Genís dels Agudells',\n",
       " 70: 'n_Sant Gervasi - Galvany',\n",
       " 71: 'n_Sant Gervasi - la Bonanova',\n",
       " 72: 'n_Sant Martí de Provençals',\n",
       " 73: 'n_Sant Pere, Santa Caterina i la Ribera',\n",
       " 74: 'n_Sants',\n",
       " 75: 'n_Sarrià',\n",
       " 76: 'n_Vallbona',\n",
       " 77: 'n_Vallcarca i els Penitents',\n",
       " 78: 'n_Vallvidrera, el Tibidabo i les Planes',\n",
       " 79: 'n_Verdun',\n",
       " 80: 'n_Vilapicina i la Torre Llobeta',\n",
       " 81: 'n_el Baix Guinardó',\n",
       " 82: 'n_el Barri Gòtic',\n",
       " 83: 'n_el Besòs i el Maresme',\n",
       " 84: 'n_el Bon Pastor',\n",
       " 85: \"n_el Camp d'en Grassot i Gràcia Nova\",\n",
       " 86: \"n_el Camp de l'Arpa del Clot\",\n",
       " 87: 'n_el Carmel',\n",
       " 88: 'n_el Clot',\n",
       " 89: 'n_el Coll',\n",
       " 90: 'n_el Congrés i els Indians',\n",
       " 91: 'n_el Fort Pienc',\n",
       " 92: 'n_el Guinardó',\n",
       " 93: 'n_el Parc i la Llacuna del Poblenou',\n",
       " 94: 'n_el Poble Sec',\n",
       " 95: 'n_el Poblenou',\n",
       " 96: 'n_el Putxet i el Farró',\n",
       " 97: 'n_el Raval',\n",
       " 98: 'n_el Turó de la Peira',\n",
       " 99: \"n_l'Antiga Esquerra de l'Eixample\",\n",
       " 100: 'n_la Barceloneta',\n",
       " 101: 'n_la Bordeta',\n",
       " 102: \"n_la Dreta de l'Eixample\",\n",
       " 103: \"n_la Font d'en Fargues\",\n",
       " 104: 'n_la Font de la Guatlla',\n",
       " 105: 'n_la Guineueta',\n",
       " 106: 'n_la Marina de Port',\n",
       " 107: 'n_la Maternitat i Sant Ramon',\n",
       " 108: \"n_la Nova Esquerra de l'Eixample\",\n",
       " 109: 'n_la Prosperitat',\n",
       " 110: 'n_la Sagrada Família',\n",
       " 111: 'n_la Sagrera',\n",
       " 112: 'n_la Salut',\n",
       " 113: 'n_la Teixonera',\n",
       " 114: 'n_la Trinitat Nova',\n",
       " 115: 'n_la Trinitat Vella',\n",
       " 116: \"n_la Vall d'Hebron\",\n",
       " 117: 'n_la Verneda i la Pau',\n",
       " 118: 'n_la Vila de Gràcia',\n",
       " 119: 'n_les Corts',\n",
       " 120: 'n_les Roquetes',\n",
       " 121: 'n_les Tres Torres',\n",
       " 122: 'n_Torre Baró',\n",
       " 123: 'n_Porta',\n",
       " 124: 'n_Sants - Badal',\n",
       " 125: 'n_Baró de Viver',\n",
       " 126: 'n_la Marina del Prat Vermell',\n",
       " 127: 'n_la Vila Olímpica del Poblenou',\n",
       " 128: 'n_la Clota',\n",
       " 129: 'n_Provençals del Poblenou'}"
      ]
     },
     "execution_count": 17,
     "metadata": {},
     "output_type": "execute_result"
    }
   ],
   "source": [
    "num = iter(range(len(df.columns)))\n",
    "dictio = dict(zip(num, df.columns))\n",
    "dictio"
   ]
  },
  {
   "cell_type": "markdown",
   "id": "ab1563d7-38fd-402c-a915-674cf5c78377",
   "metadata": {},
   "source": [
    "#### Create several dataframes with different columns"
   ]
  },
  {
   "cell_type": "code",
   "execution_count": 18,
   "id": "35bd7406-5632-4be7-bd5a-339b49b0af81",
   "metadata": {},
   "outputs": [
    {
     "data": {
      "text/plain": [
       "Index(['bathrooms', 'floor_elevator', 'price', 'rooms', 'sq_meters',\n",
       "       'bs_Apartment', 'bs_Attic', 'bs_Duplex', 'bs_Flat',\n",
       "       'bs_GroundFloorWithGarden', 'bs_House_Chalet', 'bs_Loft',\n",
       "       'bs_SemiDetached', 'bs_SemidetachedHouse', 'bs_Study', 'cs_Good',\n",
       "       'cs_Nearly new', 'cs_New construction', 'cs_Renovated',\n",
       "       'cs_To renovate', 'cs_Very good'],\n",
       "      dtype='object')"
      ]
     },
     "execution_count": 18,
     "metadata": {},
     "output_type": "execute_result"
    }
   ],
   "source": [
    "# Without crime variables, without district, without neighbourhood\n",
    "df_cn_dn = df.loc[:,['bathrooms', 'floor_elevator', 'price', 'rooms', 'sq_meters', 'bs_Apartment', 'bs_Attic', 'bs_Duplex', 'bs_Flat', 'bs_GroundFloorWithGarden', 'bs_House_Chalet', 'bs_Loft', 'bs_SemiDetached', 'bs_SemidetachedHouse', 'bs_Study', 'cs_Good', 'cs_Nearly new', 'cs_New construction', 'cs_Renovated', 'cs_To renovate', 'cs_Very good']]\n",
    "df_cn_dn.columns"
   ]
  },
  {
   "cell_type": "code",
   "execution_count": 19,
   "id": "3721411a-eac9-46e8-8407-e189d913f230",
   "metadata": {},
   "outputs": [
    {
     "data": {
      "text/plain": [
       "Index(['bathrooms', 'floor_elevator', 'price', 'rooms', 'sq_meters',\n",
       "       'bs_Apartment', 'bs_Attic', 'bs_Duplex', 'bs_Flat',\n",
       "       'bs_GroundFloorWithGarden', 'bs_House_Chalet', 'bs_Loft',\n",
       "       'bs_SemiDetached', 'bs_SemidetachedHouse', 'bs_Study', 'cs_Good',\n",
       "       'cs_Nearly new', 'cs_New construction', 'cs_Renovated',\n",
       "       'cs_To renovate', 'cs_Very good', 'superficie', 'poblacio',\n",
       "       'd_Ciutat Vella', 'd_Eixample', 'd_Gràcia', 'd_Horta-Guinardó',\n",
       "       'd_Les Corts', 'd_Nou Barris', 'd_Sant Andreu', 'd_Sant Martí',\n",
       "       'd_Sants-Montjuïc', 'd_Sarrià-Sant Gervasi'],\n",
       "      dtype='object')"
      ]
     },
     "execution_count": 19,
     "metadata": {},
     "output_type": "execute_result"
    }
   ],
   "source": [
    "# Without crime variables, with district, without neighbourhood\n",
    "df_cn_dy = df.loc[:, ['bathrooms', 'floor_elevator', 'price', 'rooms', 'sq_meters', 'bs_Apartment', 'bs_Attic', 'bs_Duplex', 'bs_Flat', 'bs_GroundFloorWithGarden', 'bs_House_Chalet', 'bs_Loft', 'bs_SemiDetached', 'bs_SemidetachedHouse', 'bs_Study', 'cs_Good', 'cs_Nearly new', 'cs_New construction', 'cs_Renovated', 'cs_To renovate', 'cs_Very good', 'superficie', 'poblacio', 'd_Ciutat Vella', 'd_Eixample', 'd_Gràcia', 'd_Horta-Guinardó', 'd_Les Corts', 'd_Nou Barris', 'd_Sant Andreu', 'd_Sant Martí', 'd_Sants-Montjuïc', 'd_Sarrià-Sant Gervasi']]\n",
    "df_cn_dy.columns"
   ]
  },
  {
   "cell_type": "code",
   "execution_count": 20,
   "id": "484ffd1e-20be-460a-9747-bf54a6ad69ca",
   "metadata": {},
   "outputs": [
    {
     "data": {
      "text/plain": [
       "Index(['bathrooms', 'floor_elevator', 'price', 'rooms', 'sq_meters',\n",
       "       'bs_Apartment', 'bs_Attic', 'bs_Duplex', 'bs_Flat',\n",
       "       'bs_GroundFloorWithGarden', 'bs_House_Chalet', 'bs_Loft',\n",
       "       'bs_SemiDetached', 'bs_SemidetachedHouse', 'bs_Study', 'cs_Good',\n",
       "       'cs_Nearly new', 'cs_New construction', 'cs_Renovated',\n",
       "       'cs_To renovate', 'cs_Very good', 'furt', 'estafes', 'danys',\n",
       "       'rob_viol_intim', 'rob_en_vehicle', 'rob_força', 'lesions',\n",
       "       'aprop_indeg', 'amenaces', 'rob_de_vehicle', 'ocupacions', 'salut_pub',\n",
       "       'abusos_sex', 'entrada_domicili', 'agressio_sex', 'conviv_veinal',\n",
       "       'vigilancia_poli', 'molesties_espai_pub', 'contra_prop_priv',\n",
       "       'incendis', 'estupefaents', 'agressions', 'proves_alcohol',\n",
       "       'proves_droga'],\n",
       "      dtype='object')"
      ]
     },
     "execution_count": 20,
     "metadata": {},
     "output_type": "execute_result"
    }
   ],
   "source": [
    "# With crime variables, without district, without neighbourhood\n",
    "df_cy_dn = df.loc[:, ['bathrooms', 'floor_elevator', 'price', 'rooms', 'sq_meters', 'bs_Apartment', 'bs_Attic', 'bs_Duplex', 'bs_Flat', 'bs_GroundFloorWithGarden', 'bs_House_Chalet', 'bs_Loft', 'bs_SemiDetached', 'bs_SemidetachedHouse', 'bs_Study', 'cs_Good', 'cs_Nearly new', 'cs_New construction', 'cs_Renovated', 'cs_To renovate', 'cs_Very good', 'furt', 'estafes', 'danys', 'rob_viol_intim', 'rob_en_vehicle', 'rob_força', 'lesions', 'aprop_indeg', 'amenaces', 'rob_de_vehicle', 'ocupacions', 'salut_pub', 'abusos_sex', 'entrada_domicili', 'agressio_sex', 'conviv_veinal', 'vigilancia_poli', 'molesties_espai_pub', 'contra_prop_priv', 'incendis', 'estupefaents', 'agressions', 'proves_alcohol', 'proves_droga']]\n",
    "df_cy_dn.columns"
   ]
  },
  {
   "cell_type": "code",
   "execution_count": 21,
   "id": "63fe3aae-be7c-4049-a44b-626f2dc8f8ab",
   "metadata": {},
   "outputs": [
    {
     "data": {
      "text/plain": [
       "Index(['bathrooms', 'floor_elevator', 'price', 'rooms', 'sq_meters',\n",
       "       'superficie', 'poblacio', 'furt', 'estafes', 'danys', 'rob_viol_intim',\n",
       "       'rob_en_vehicle', 'rob_força', 'lesions', 'aprop_indeg', 'amenaces',\n",
       "       'rob_de_vehicle', 'ocupacions', 'salut_pub', 'abusos_sex',\n",
       "       'entrada_domicili', 'agressio_sex', 'conviv_veinal', 'vigilancia_poli',\n",
       "       'molesties_espai_pub', 'contra_prop_priv', 'incendis', 'estupefaents',\n",
       "       'agressions', 'proves_alcohol', 'proves_droga', 'bs_Apartment',\n",
       "       'bs_Attic', 'bs_Duplex', 'bs_Flat', 'bs_GroundFloorWithGarden',\n",
       "       'bs_House_Chalet', 'bs_Loft', 'bs_SemiDetached', 'bs_SemidetachedHouse',\n",
       "       'bs_Study', 'cs_Good', 'cs_Nearly new', 'cs_New construction',\n",
       "       'cs_Renovated', 'cs_To renovate', 'cs_Very good', 'd_Ciutat Vella',\n",
       "       'd_Eixample', 'd_Gràcia', 'd_Horta-Guinardó', 'd_Les Corts',\n",
       "       'd_Nou Barris', 'd_Sant Andreu', 'd_Sant Martí', 'd_Sants-Montjuïc',\n",
       "       'd_Sarrià-Sant Gervasi'],\n",
       "      dtype='object')"
      ]
     },
     "execution_count": 21,
     "metadata": {},
     "output_type": "execute_result"
    }
   ],
   "source": [
    "# With crime variables, with district, without neighbourhood (i.e. with everything except for neighbourhood)\n",
    "df_cy_dy = df.loc[:, 'bathrooms':'d_Sarrià-Sant Gervasi']\n",
    "df_cy_dy.columns"
   ]
  },
  {
   "cell_type": "code",
   "execution_count": 22,
   "id": "9ed00c64-a2f8-48d8-a49c-879c9c47e008",
   "metadata": {},
   "outputs": [
    {
     "data": {
      "text/plain": [
       "Index(['bathrooms', 'floor_elevator', 'price', 'rooms', 'sq_meters',\n",
       "       'superficie', 'poblacio', 'furt', 'estafes', 'danys',\n",
       "       ...\n",
       "       'n_les Roquetes', 'n_les Tres Torres', 'n_Torre Baró', 'n_Porta',\n",
       "       'n_Sants - Badal', 'n_Baró de Viver', 'n_la Marina del Prat Vermell',\n",
       "       'n_la Vila Olímpica del Poblenou', 'n_la Clota',\n",
       "       'n_Provençals del Poblenou'],\n",
       "      dtype='object', length=130)"
      ]
     },
     "execution_count": 22,
     "metadata": {},
     "output_type": "execute_result"
    }
   ],
   "source": [
    "# With crime variables, with district, with neighbourhood (i.e. with everything)\n",
    "df_neigh = df\n",
    "df_neigh.columns"
   ]
  },
  {
   "cell_type": "markdown",
   "id": "90e7c8e0-bd03-450b-b74b-59f7b30651a1",
   "metadata": {},
   "source": [
    "### Modelling"
   ]
  },
  {
   "cell_type": "markdown",
   "id": "08a9e4c0-e7a2-47d4-af53-9cb99f7c112d",
   "metadata": {},
   "source": [
    "#### Dataframe 1\n",
    "Without crime variables, without district, without neighbourhood"
   ]
  },
  {
   "cell_type": "markdown",
   "id": "59e45396-37ad-42e6-8ec0-4004aeecd3bd",
   "metadata": {},
   "source": [
    "##### Divide between train and validation sets"
   ]
  },
  {
   "cell_type": "code",
   "execution_count": 23,
   "id": "a3621aca-d4da-405b-89f1-12efc55f19a9",
   "metadata": {},
   "outputs": [],
   "source": [
    "X = df_cn_dn.drop('price', axis=1)\n",
    "y = df_cn_dn['price']"
   ]
  },
  {
   "cell_type": "code",
   "execution_count": 24,
   "id": "32219cc1-52a5-4796-981a-dbea41b79e8d",
   "metadata": {},
   "outputs": [],
   "source": [
    "from sklearn.model_selection import train_test_split\n",
    "X_train, X_val, y_train, y_val = train_test_split(X, y, test_size=0.2, random_state=42)"
   ]
  },
  {
   "cell_type": "code",
   "execution_count": 25,
   "id": "67d17234-61e8-47a4-a15d-9ca741371b2f",
   "metadata": {},
   "outputs": [
    {
     "name": "stdout",
     "output_type": "stream",
     "text": [
      "7518 7518 1880 1880\n"
     ]
    }
   ],
   "source": [
    "print(len(X_train), len(y_train), len(X_val), len(y_val))"
   ]
  },
  {
   "cell_type": "markdown",
   "id": "6b8fcf9f-9d32-48c1-914e-20baa231bd2e",
   "metadata": {},
   "source": [
    "##### SVR model"
   ]
  },
  {
   "cell_type": "code",
   "execution_count": 26,
   "id": "ab7241cc-b8f5-4b14-a3ef-cf4852656dd2",
   "metadata": {},
   "outputs": [],
   "source": [
    "from sklearn.pipeline import make_pipeline\n",
    "from sklearn.preprocessing import StandardScaler\n",
    "from sklearn.svm import SVR"
   ]
  },
  {
   "cell_type": "code",
   "execution_count": 27,
   "id": "b8058e1c-0f0c-409e-9cc2-b7f4f856d942",
   "metadata": {},
   "outputs": [
    {
     "data": {
      "text/plain": [
       "Pipeline(steps=[('standardscaler', StandardScaler()),\n",
       "                ('svr', SVR(gamma='auto'))])"
      ]
     },
     "execution_count": 27,
     "metadata": {},
     "output_type": "execute_result"
    }
   ],
   "source": [
    "clf = make_pipeline(StandardScaler(), SVR(gamma='auto'))\n",
    "clf.fit(X_train, y_train)"
   ]
  },
  {
   "cell_type": "code",
   "execution_count": 28,
   "id": "0f24914d-f957-44ac-a250-0d6f285185f9",
   "metadata": {},
   "outputs": [
    {
     "data": {
      "text/plain": [
       "0.18556884376704064"
      ]
     },
     "execution_count": 28,
     "metadata": {},
     "output_type": "execute_result"
    }
   ],
   "source": [
    "score1 = clf.score(X_val, y_val)\n",
    "score1"
   ]
  },
  {
   "cell_type": "markdown",
   "id": "7d05660d-aea2-4c2f-8ae9-d76092509460",
   "metadata": {},
   "source": [
    "##### Linear regression model"
   ]
  },
  {
   "cell_type": "code",
   "execution_count": 29,
   "id": "23e6f42e-736a-4037-989e-9b0f017a9750",
   "metadata": {},
   "outputs": [],
   "source": [
    "from sklearn.linear_model import LinearRegression\n",
    "reg = LinearRegression().fit(X_train, y_train)"
   ]
  },
  {
   "cell_type": "code",
   "execution_count": 30,
   "id": "b6c260e4-800b-435a-a0ab-c27dabc250d7",
   "metadata": {},
   "outputs": [
    {
     "data": {
      "text/plain": [
       "0.559740570882381"
      ]
     },
     "execution_count": 30,
     "metadata": {},
     "output_type": "execute_result"
    }
   ],
   "source": [
    "score2 = reg.score(X_val, y_val)\n",
    "score2"
   ]
  },
  {
   "cell_type": "markdown",
   "id": "a141645d-eafa-4033-8828-c57a7f3b2a3b",
   "metadata": {},
   "source": [
    "##### K Neighbors regressor"
   ]
  },
  {
   "cell_type": "code",
   "execution_count": 31,
   "id": "1337afd8-cf8d-478f-96c3-fc4d996ed48b",
   "metadata": {},
   "outputs": [
    {
     "data": {
      "text/plain": [
       "KNeighborsRegressor(n_neighbors=8)"
      ]
     },
     "execution_count": 31,
     "metadata": {},
     "output_type": "execute_result"
    }
   ],
   "source": [
    "from sklearn.neighbors import KNeighborsRegressor\n",
    "neigh = KNeighborsRegressor(n_neighbors=8)\n",
    "neigh.fit(X_train, y_train)"
   ]
  },
  {
   "cell_type": "code",
   "execution_count": 32,
   "id": "84deed06-74b1-404b-bdbc-c5138258fcaf",
   "metadata": {},
   "outputs": [
    {
     "data": {
      "text/plain": [
       "0.5574049807391436"
      ]
     },
     "execution_count": 32,
     "metadata": {},
     "output_type": "execute_result"
    }
   ],
   "source": [
    "score3 = neigh.score(X_val, y_val)\n",
    "score3"
   ]
  },
  {
   "cell_type": "markdown",
   "id": "01b08eb2-a634-4a99-8de8-c408457a61d4",
   "metadata": {},
   "source": [
    "##### Store scores"
   ]
  },
  {
   "cell_type": "code",
   "execution_count": 33,
   "id": "6bf15a75-07a7-49b0-a89e-ab2177f3e04a",
   "metadata": {},
   "outputs": [],
   "source": [
    "scores = {'df_cn_dn': [score1, score2, score3]}"
   ]
  },
  {
   "cell_type": "markdown",
   "id": "15fcf8c6-99a4-45f9-8a87-3eed61dbd84a",
   "metadata": {},
   "source": [
    "---"
   ]
  },
  {
   "cell_type": "markdown",
   "id": "fd04f74c-1949-410c-8e7a-4613100edc1e",
   "metadata": {},
   "source": [
    "#### Dataframe 2\n",
    "Without crime variables, with district, without neighbourhood"
   ]
  },
  {
   "cell_type": "markdown",
   "id": "325a58b3-3e44-419a-88b4-6dbb0ded93b9",
   "metadata": {},
   "source": [
    "##### Divide between train and validation sets"
   ]
  },
  {
   "cell_type": "code",
   "execution_count": 34,
   "id": "7853040e-8747-4794-bfd8-b96fc671d0ff",
   "metadata": {},
   "outputs": [],
   "source": [
    "X = df_cn_dy.drop('price', axis=1)\n",
    "y = df_cn_dy['price']"
   ]
  },
  {
   "cell_type": "code",
   "execution_count": 35,
   "id": "7df95e25-4554-4159-99f1-4988494f0254",
   "metadata": {},
   "outputs": [],
   "source": [
    "from sklearn.model_selection import train_test_split\n",
    "X_train, X_val, y_train, y_val = train_test_split(X, y, test_size=0.2, random_state=42)"
   ]
  },
  {
   "cell_type": "code",
   "execution_count": 36,
   "id": "f9e2adb0-fe84-4161-bd44-dc834ad58e28",
   "metadata": {},
   "outputs": [
    {
     "name": "stdout",
     "output_type": "stream",
     "text": [
      "7518 7518 1880 1880\n"
     ]
    }
   ],
   "source": [
    "print(len(X_train), len(y_train), len(X_val), len(y_val))"
   ]
  },
  {
   "cell_type": "markdown",
   "id": "d2045889-bde6-4f2c-9a9f-a2211de31707",
   "metadata": {},
   "source": [
    "##### SVR model"
   ]
  },
  {
   "cell_type": "code",
   "execution_count": 37,
   "id": "e12c2d68-dced-4022-8663-539e43202d14",
   "metadata": {},
   "outputs": [],
   "source": [
    "from sklearn.pipeline import make_pipeline\n",
    "from sklearn.preprocessing import StandardScaler\n",
    "from sklearn.svm import SVR"
   ]
  },
  {
   "cell_type": "code",
   "execution_count": 38,
   "id": "fcc565ab-a652-4dae-99ff-835f811df3c8",
   "metadata": {},
   "outputs": [
    {
     "data": {
      "text/plain": [
       "Pipeline(steps=[('standardscaler', StandardScaler()),\n",
       "                ('svr', SVR(gamma='auto'))])"
      ]
     },
     "execution_count": 38,
     "metadata": {},
     "output_type": "execute_result"
    }
   ],
   "source": [
    "clf = make_pipeline(StandardScaler(), SVR(gamma='auto'))\n",
    "clf.fit(X_train, y_train)"
   ]
  },
  {
   "cell_type": "code",
   "execution_count": 39,
   "id": "6030c4ef-1402-4afe-8b7e-efe3832c8648",
   "metadata": {},
   "outputs": [
    {
     "data": {
      "text/plain": [
       "0.13126077658777424"
      ]
     },
     "execution_count": 39,
     "metadata": {},
     "output_type": "execute_result"
    }
   ],
   "source": [
    "score1 = clf.score(X_val, y_val)\n",
    "score1"
   ]
  },
  {
   "cell_type": "markdown",
   "id": "6838885e-1902-49fd-8535-0b7a084ec91c",
   "metadata": {},
   "source": [
    "##### Linear regression model"
   ]
  },
  {
   "cell_type": "code",
   "execution_count": 40,
   "id": "e6a7683e-95d8-4e08-a16d-4f668f9d9bea",
   "metadata": {},
   "outputs": [],
   "source": [
    "from sklearn.linear_model import LinearRegression\n",
    "reg = LinearRegression().fit(X_train, y_train)"
   ]
  },
  {
   "cell_type": "code",
   "execution_count": 41,
   "id": "051d0f87-45d2-42a9-9928-e83eb033bf84",
   "metadata": {},
   "outputs": [
    {
     "data": {
      "text/plain": [
       "0.5779942269756002"
      ]
     },
     "execution_count": 41,
     "metadata": {},
     "output_type": "execute_result"
    }
   ],
   "source": [
    "score2 = reg.score(X_val, y_val)\n",
    "score2"
   ]
  },
  {
   "cell_type": "markdown",
   "id": "b702d602-39ae-40cd-81fd-867a542057c8",
   "metadata": {},
   "source": [
    "##### K Neighbors regressor"
   ]
  },
  {
   "cell_type": "code",
   "execution_count": 42,
   "id": "2aff239c-6f3b-444e-b459-40ba80657830",
   "metadata": {},
   "outputs": [
    {
     "data": {
      "text/plain": [
       "KNeighborsRegressor(n_neighbors=8)"
      ]
     },
     "execution_count": 42,
     "metadata": {},
     "output_type": "execute_result"
    }
   ],
   "source": [
    "from sklearn.neighbors import KNeighborsRegressor\n",
    "neigh = KNeighborsRegressor(n_neighbors=8)\n",
    "neigh.fit(X_train, y_train)"
   ]
  },
  {
   "cell_type": "code",
   "execution_count": 43,
   "id": "7abf454c-d8dc-4642-b211-0977d5cfe961",
   "metadata": {},
   "outputs": [
    {
     "data": {
      "text/plain": [
       "0.5757711231714306"
      ]
     },
     "execution_count": 43,
     "metadata": {},
     "output_type": "execute_result"
    }
   ],
   "source": [
    "score3 = neigh.score(X_val, y_val)\n",
    "score3"
   ]
  },
  {
   "cell_type": "markdown",
   "id": "5fbde65b-41d6-4ee2-a1f0-b18487dcaefe",
   "metadata": {},
   "source": [
    "##### Store scores"
   ]
  },
  {
   "cell_type": "code",
   "execution_count": 44,
   "id": "fab4b312-56c9-4ef9-9b15-a82bf0b6f19e",
   "metadata": {},
   "outputs": [
    {
     "data": {
      "text/plain": [
       "{'df_cn_dn': [0.18556884376704064, 0.559740570882381, 0.5574049807391436],\n",
       " 'df_cn_dy': [0.13126077658777424, 0.5779942269756002, 0.5757711231714306]}"
      ]
     },
     "execution_count": 44,
     "metadata": {},
     "output_type": "execute_result"
    }
   ],
   "source": [
    "scores['df_cn_dy'] = [score1, score2, score3]\n",
    "scores"
   ]
  },
  {
   "cell_type": "markdown",
   "id": "dddedc78-46b7-4ccd-9c09-b320514f9f62",
   "metadata": {},
   "source": [
    "---"
   ]
  },
  {
   "cell_type": "markdown",
   "id": "9cbddb9f-4e5c-4e6d-9d34-b262a6e18f6b",
   "metadata": {},
   "source": [
    "#### Dataframe 3\n",
    "With crime variables, without district, without neighbourhood"
   ]
  },
  {
   "cell_type": "markdown",
   "id": "48e79ec2-8169-412c-8afa-cdf1bc96887b",
   "metadata": {},
   "source": [
    "##### Divide between train and validation sets"
   ]
  },
  {
   "cell_type": "code",
   "execution_count": 45,
   "id": "1c18bba4-3870-495c-a5ed-a5e5e37cae98",
   "metadata": {},
   "outputs": [],
   "source": [
    "X = df_cy_dn.drop('price', axis=1)\n",
    "y = df_cy_dn['price']"
   ]
  },
  {
   "cell_type": "code",
   "execution_count": 46,
   "id": "377feaf3-b783-4263-b6d1-627d63218ed6",
   "metadata": {},
   "outputs": [],
   "source": [
    "from sklearn.model_selection import train_test_split\n",
    "X_train, X_val, y_train, y_val = train_test_split(X, y, test_size=0.2, random_state=42)"
   ]
  },
  {
   "cell_type": "code",
   "execution_count": 47,
   "id": "31d57831-b799-4539-83cf-c397907e60c5",
   "metadata": {},
   "outputs": [
    {
     "name": "stdout",
     "output_type": "stream",
     "text": [
      "7518 7518 1880 1880\n"
     ]
    }
   ],
   "source": [
    "print(len(X_train), len(y_train), len(X_val), len(y_val))"
   ]
  },
  {
   "cell_type": "markdown",
   "id": "20af6bf3-f267-43ac-9f1f-6c736e9b3edd",
   "metadata": {},
   "source": [
    "##### SVR model"
   ]
  },
  {
   "cell_type": "code",
   "execution_count": 48,
   "id": "7249368f-b6b5-4e8b-9385-bd9c8f0c641b",
   "metadata": {},
   "outputs": [],
   "source": [
    "from sklearn.pipeline import make_pipeline\n",
    "from sklearn.preprocessing import StandardScaler\n",
    "from sklearn.svm import SVR"
   ]
  },
  {
   "cell_type": "code",
   "execution_count": 49,
   "id": "7c07299b-5508-48d8-89b7-35653e5c2b7e",
   "metadata": {},
   "outputs": [
    {
     "data": {
      "text/plain": [
       "Pipeline(steps=[('standardscaler', StandardScaler()),\n",
       "                ('svr', SVR(gamma='auto'))])"
      ]
     },
     "execution_count": 49,
     "metadata": {},
     "output_type": "execute_result"
    }
   ],
   "source": [
    "clf = make_pipeline(StandardScaler(), SVR(gamma='auto'))\n",
    "clf.fit(X_train, y_train)"
   ]
  },
  {
   "cell_type": "code",
   "execution_count": 50,
   "id": "53e545c1-a32c-451b-b2c3-2199dea4748a",
   "metadata": {},
   "outputs": [
    {
     "data": {
      "text/plain": [
       "0.11040112825122961"
      ]
     },
     "execution_count": 50,
     "metadata": {},
     "output_type": "execute_result"
    }
   ],
   "source": [
    "score1 = clf.score(X_val, y_val)\n",
    "score1"
   ]
  },
  {
   "cell_type": "markdown",
   "id": "fa4042fa-3e1b-414f-ad61-95a66f471e48",
   "metadata": {},
   "source": [
    "##### Linear regression model"
   ]
  },
  {
   "cell_type": "code",
   "execution_count": 51,
   "id": "2a92bbd6-1893-42a1-8afb-26388c316614",
   "metadata": {},
   "outputs": [],
   "source": [
    "from sklearn.linear_model import LinearRegression\n",
    "reg = LinearRegression().fit(X_train, y_train)"
   ]
  },
  {
   "cell_type": "code",
   "execution_count": 52,
   "id": "d3e3cf3b-5fa3-4019-a643-e1b11d2f4fd5",
   "metadata": {},
   "outputs": [
    {
     "data": {
      "text/plain": [
       "0.5779942269755974"
      ]
     },
     "execution_count": 52,
     "metadata": {},
     "output_type": "execute_result"
    }
   ],
   "source": [
    "score2 = reg.score(X_val, y_val)\n",
    "score2"
   ]
  },
  {
   "cell_type": "markdown",
   "id": "6e5d87da-4fba-4750-815e-183f724bb3cb",
   "metadata": {},
   "source": [
    "##### K Neighbors regressor"
   ]
  },
  {
   "cell_type": "code",
   "execution_count": 53,
   "id": "9ef5a6a8-55d5-43bc-8c86-459cced4665c",
   "metadata": {},
   "outputs": [
    {
     "data": {
      "text/plain": [
       "KNeighborsRegressor(n_neighbors=8)"
      ]
     },
     "execution_count": 53,
     "metadata": {},
     "output_type": "execute_result"
    }
   ],
   "source": [
    "from sklearn.neighbors import KNeighborsRegressor\n",
    "neigh = KNeighborsRegressor(n_neighbors=8)\n",
    "neigh.fit(X_train, y_train)"
   ]
  },
  {
   "cell_type": "code",
   "execution_count": 54,
   "id": "b4c55d7a-e5be-4c8d-a301-edaa5a726f32",
   "metadata": {},
   "outputs": [
    {
     "data": {
      "text/plain": [
       "0.5747284544236343"
      ]
     },
     "execution_count": 54,
     "metadata": {},
     "output_type": "execute_result"
    }
   ],
   "source": [
    "score3 = neigh.score(X_val, y_val)\n",
    "score3"
   ]
  },
  {
   "cell_type": "markdown",
   "id": "0676973b-a4ed-475b-966f-e1044464526c",
   "metadata": {},
   "source": [
    "##### Store scores"
   ]
  },
  {
   "cell_type": "code",
   "execution_count": 55,
   "id": "6c61577d-152f-46b5-b4aa-7dd88200c26d",
   "metadata": {},
   "outputs": [
    {
     "data": {
      "text/plain": [
       "{'df_cn_dn': [0.18556884376704064, 0.559740570882381, 0.5574049807391436],\n",
       " 'df_cn_dy': [0.13126077658777424, 0.5779942269756002, 0.5757711231714306],\n",
       " 'df_cy_dn': [0.11040112825122961, 0.5779942269755974, 0.5747284544236343]}"
      ]
     },
     "execution_count": 55,
     "metadata": {},
     "output_type": "execute_result"
    }
   ],
   "source": [
    "scores['df_cy_dn'] = [score1, score2, score3]\n",
    "scores"
   ]
  },
  {
   "cell_type": "markdown",
   "id": "fba108e8-28c5-4dcd-8b97-264a33fb8074",
   "metadata": {},
   "source": [
    "---"
   ]
  },
  {
   "cell_type": "markdown",
   "id": "46118bf1-9caa-40ca-8618-8d57650159a2",
   "metadata": {},
   "source": [
    "#### Dataframe 4\n",
    "With crime variables, with district, without neighbourhood (i.e. with everything except for neighbourhood)"
   ]
  },
  {
   "cell_type": "markdown",
   "id": "87efe2dd-6a82-4923-9705-b1db448d5f3d",
   "metadata": {},
   "source": [
    "##### Divide between train and validation sets"
   ]
  },
  {
   "cell_type": "code",
   "execution_count": 56,
   "id": "d5c0c167-5626-41d3-b5a7-83a2b53fc39e",
   "metadata": {},
   "outputs": [],
   "source": [
    "X = df_cy_dy.drop('price', axis=1)\n",
    "y = df_cy_dy['price']"
   ]
  },
  {
   "cell_type": "code",
   "execution_count": 57,
   "id": "30bbe53f-1ca7-49a2-aa38-d471a4127563",
   "metadata": {},
   "outputs": [],
   "source": [
    "from sklearn.model_selection import train_test_split\n",
    "X_train, X_val, y_train, y_val = train_test_split(X, y, test_size=0.2, random_state=42)"
   ]
  },
  {
   "cell_type": "code",
   "execution_count": 58,
   "id": "f6837923-1a5d-4248-a254-c4f3ae7f68bd",
   "metadata": {},
   "outputs": [
    {
     "name": "stdout",
     "output_type": "stream",
     "text": [
      "7518 7518 1880 1880\n"
     ]
    }
   ],
   "source": [
    "print(len(X_train), len(y_train), len(X_val), len(y_val))"
   ]
  },
  {
   "cell_type": "markdown",
   "id": "bee42e05-a99c-46e0-8322-64eef114ef0b",
   "metadata": {},
   "source": [
    "##### SVR model"
   ]
  },
  {
   "cell_type": "code",
   "execution_count": 59,
   "id": "9c82a94c-fcb3-4846-b5dc-8cd0cbd15b3a",
   "metadata": {},
   "outputs": [],
   "source": [
    "from sklearn.pipeline import make_pipeline\n",
    "from sklearn.preprocessing import StandardScaler\n",
    "from sklearn.svm import SVR"
   ]
  },
  {
   "cell_type": "code",
   "execution_count": 60,
   "id": "020d9c83-c786-4a8e-8c55-e0ced5f41f53",
   "metadata": {},
   "outputs": [
    {
     "data": {
      "text/plain": [
       "Pipeline(steps=[('standardscaler', StandardScaler()),\n",
       "                ('svr', SVR(gamma='auto'))])"
      ]
     },
     "execution_count": 60,
     "metadata": {},
     "output_type": "execute_result"
    }
   ],
   "source": [
    "clf = make_pipeline(StandardScaler(), SVR(gamma='auto'))\n",
    "clf.fit(X_train, y_train)"
   ]
  },
  {
   "cell_type": "code",
   "execution_count": 61,
   "id": "82e9aee5-530d-478d-a0a3-8ce0be3255d5",
   "metadata": {},
   "outputs": [
    {
     "data": {
      "text/plain": [
       "0.0899753409979892"
      ]
     },
     "execution_count": 61,
     "metadata": {},
     "output_type": "execute_result"
    }
   ],
   "source": [
    "score1 = clf.score(X_val, y_val)\n",
    "score1"
   ]
  },
  {
   "cell_type": "markdown",
   "id": "9a32abd6-c184-430b-83e6-ee5f8f1a72a5",
   "metadata": {},
   "source": [
    "##### Linear regression model"
   ]
  },
  {
   "cell_type": "code",
   "execution_count": 62,
   "id": "b38e6772-93e5-47be-86b4-f8f7c0e04dcf",
   "metadata": {},
   "outputs": [],
   "source": [
    "from sklearn.linear_model import LinearRegression\n",
    "reg = LinearRegression().fit(X_train, y_train)"
   ]
  },
  {
   "cell_type": "code",
   "execution_count": 63,
   "id": "f1db09e6-ca2f-4b64-bc3d-bb9f85ba18e2",
   "metadata": {},
   "outputs": [
    {
     "data": {
      "text/plain": [
       "0.5779942269756129"
      ]
     },
     "execution_count": 63,
     "metadata": {},
     "output_type": "execute_result"
    }
   ],
   "source": [
    "score2 = reg.score(X_val, y_val)\n",
    "score2"
   ]
  },
  {
   "cell_type": "markdown",
   "id": "42f9963b-fdfc-441b-ae94-fe6b0b014af7",
   "metadata": {},
   "source": [
    "##### K Neighbors regressor"
   ]
  },
  {
   "cell_type": "code",
   "execution_count": 64,
   "id": "992c067a-cf46-4c2f-86b1-fb12e2a437c7",
   "metadata": {},
   "outputs": [
    {
     "data": {
      "text/plain": [
       "KNeighborsRegressor(n_neighbors=8)"
      ]
     },
     "execution_count": 64,
     "metadata": {},
     "output_type": "execute_result"
    }
   ],
   "source": [
    "from sklearn.neighbors import KNeighborsRegressor\n",
    "neigh = KNeighborsRegressor(n_neighbors=8)\n",
    "neigh.fit(X_train, y_train)"
   ]
  },
  {
   "cell_type": "code",
   "execution_count": 65,
   "id": "b4f9beec-b5c3-4802-b1ff-55750b195478",
   "metadata": {},
   "outputs": [
    {
     "data": {
      "text/plain": [
       "0.5757711231714306"
      ]
     },
     "execution_count": 65,
     "metadata": {},
     "output_type": "execute_result"
    }
   ],
   "source": [
    "score3 = neigh.score(X_val, y_val)\n",
    "score3"
   ]
  },
  {
   "cell_type": "markdown",
   "id": "9d6e9ac1-7832-4ab8-9a45-0075845ffa20",
   "metadata": {},
   "source": [
    "##### Store scores"
   ]
  },
  {
   "cell_type": "code",
   "execution_count": 66,
   "id": "0080e9f1-7fc3-4449-b0c3-b9c8dd499bd1",
   "metadata": {},
   "outputs": [
    {
     "data": {
      "text/plain": [
       "{'df_cn_dn': [0.18556884376704064, 0.559740570882381, 0.5574049807391436],\n",
       " 'df_cn_dy': [0.13126077658777424, 0.5779942269756002, 0.5757711231714306],\n",
       " 'df_cy_dn': [0.11040112825122961, 0.5779942269755974, 0.5747284544236343],\n",
       " 'df_cy_dy': [0.0899753409979892, 0.5779942269756129, 0.5757711231714306]}"
      ]
     },
     "execution_count": 66,
     "metadata": {},
     "output_type": "execute_result"
    }
   ],
   "source": [
    "scores['df_cy_dy'] = [score1, score2, score3]\n",
    "scores"
   ]
  },
  {
   "cell_type": "markdown",
   "id": "46edc385-c10c-4af1-b3d5-481fd31142e9",
   "metadata": {},
   "source": [
    "---"
   ]
  },
  {
   "cell_type": "markdown",
   "id": "6dc432e0-e545-4511-b98b-4014850eb9a5",
   "metadata": {
    "tags": []
   },
   "source": [
    "#### Dataframe 5\n",
    "With crime variables, with district, with neighbourhood (i.e. with everything)"
   ]
  },
  {
   "cell_type": "markdown",
   "id": "5f219a48-68f1-420d-adb2-cda2cc185b5e",
   "metadata": {},
   "source": [
    "##### Divide between train and validation sets"
   ]
  },
  {
   "cell_type": "code",
   "execution_count": 67,
   "id": "f00b2b34-5252-47a8-b82d-a17083c8409f",
   "metadata": {},
   "outputs": [],
   "source": [
    "X = df_neigh.drop('price', axis=1)\n",
    "y = df_neigh['price']"
   ]
  },
  {
   "cell_type": "code",
   "execution_count": 68,
   "id": "ddd4111d-3d41-4a08-a3cb-bf2d78ec89e3",
   "metadata": {},
   "outputs": [],
   "source": [
    "from sklearn.model_selection import train_test_split\n",
    "X_train, X_val, y_train, y_val = train_test_split(X, y, test_size=0.2, random_state=42)"
   ]
  },
  {
   "cell_type": "code",
   "execution_count": 69,
   "id": "1acc35ee-a0ff-4fbb-9944-20c9ddc5ebb0",
   "metadata": {},
   "outputs": [
    {
     "name": "stdout",
     "output_type": "stream",
     "text": [
      "7518 7518 1880 1880\n"
     ]
    }
   ],
   "source": [
    "print(len(X_train), len(y_train), len(X_val), len(y_val))"
   ]
  },
  {
   "cell_type": "markdown",
   "id": "b1f46081-b525-4972-b9e8-d48fb1bdba1b",
   "metadata": {},
   "source": [
    "##### SVR model"
   ]
  },
  {
   "cell_type": "code",
   "execution_count": 70,
   "id": "c65cbf49-661a-4174-aeb2-6ece4f0b938a",
   "metadata": {},
   "outputs": [],
   "source": [
    "from sklearn.pipeline import make_pipeline\n",
    "from sklearn.preprocessing import StandardScaler\n",
    "from sklearn.svm import SVR"
   ]
  },
  {
   "cell_type": "code",
   "execution_count": 71,
   "id": "da366d52-b457-454c-b901-54f305a27ca3",
   "metadata": {},
   "outputs": [
    {
     "data": {
      "text/plain": [
       "Pipeline(steps=[('standardscaler', StandardScaler()),\n",
       "                ('svr', SVR(gamma='auto'))])"
      ]
     },
     "execution_count": 71,
     "metadata": {},
     "output_type": "execute_result"
    }
   ],
   "source": [
    "clf = make_pipeline(StandardScaler(), SVR(gamma='auto'))\n",
    "clf.fit(X_train, y_train)"
   ]
  },
  {
   "cell_type": "code",
   "execution_count": 72,
   "id": "55a87922-9682-4361-b415-e3a414f0818a",
   "metadata": {},
   "outputs": [
    {
     "data": {
      "text/plain": [
       "0.05379930798696131"
      ]
     },
     "execution_count": 72,
     "metadata": {},
     "output_type": "execute_result"
    }
   ],
   "source": [
    "score1 = clf.score(X_val, y_val)\n",
    "score1"
   ]
  },
  {
   "cell_type": "markdown",
   "id": "aeb3adf2-dfd0-4d63-aae0-0b02b3f3dac9",
   "metadata": {},
   "source": [
    "##### Linear regression model"
   ]
  },
  {
   "cell_type": "code",
   "execution_count": 73,
   "id": "f304faab-1e6d-4ece-82b7-9318ce94f9b3",
   "metadata": {},
   "outputs": [],
   "source": [
    "from sklearn.linear_model import LinearRegression\n",
    "reg = LinearRegression().fit(X_train, y_train)"
   ]
  },
  {
   "cell_type": "code",
   "execution_count": 74,
   "id": "647756f4-0009-4ab1-840d-9b66ea04466d",
   "metadata": {},
   "outputs": [
    {
     "data": {
      "text/plain": [
       "0.5951750863009462"
      ]
     },
     "execution_count": 74,
     "metadata": {},
     "output_type": "execute_result"
    }
   ],
   "source": [
    "score2 = reg.score(X_val, y_val)\n",
    "score2"
   ]
  },
  {
   "cell_type": "markdown",
   "id": "c5cf5aed-c8af-453f-8421-c9720fa00b01",
   "metadata": {},
   "source": [
    "##### K Neighbors regressor"
   ]
  },
  {
   "cell_type": "code",
   "execution_count": 75,
   "id": "f6736e9f-e60b-4c97-a0dc-36738c8ba846",
   "metadata": {},
   "outputs": [
    {
     "data": {
      "text/plain": [
       "KNeighborsRegressor(n_neighbors=8)"
      ]
     },
     "execution_count": 75,
     "metadata": {},
     "output_type": "execute_result"
    }
   ],
   "source": [
    "from sklearn.neighbors import KNeighborsRegressor\n",
    "neigh = KNeighborsRegressor(n_neighbors=8)\n",
    "neigh.fit(X_train, y_train)"
   ]
  },
  {
   "cell_type": "code",
   "execution_count": 76,
   "id": "a7aa04e4-7c85-476e-8088-7281cf4382ea",
   "metadata": {},
   "outputs": [
    {
     "data": {
      "text/plain": [
       "0.5860647421092329"
      ]
     },
     "execution_count": 76,
     "metadata": {},
     "output_type": "execute_result"
    }
   ],
   "source": [
    "score3 = neigh.score(X_val, y_val)\n",
    "score3"
   ]
  },
  {
   "cell_type": "markdown",
   "id": "e2b28b32-a69d-4433-a98b-c91b6ecf469a",
   "metadata": {},
   "source": [
    "##### Store scores"
   ]
  },
  {
   "cell_type": "code",
   "execution_count": 77,
   "id": "9adb1d92-a184-403d-8f65-1083bdce739c",
   "metadata": {
    "tags": []
   },
   "outputs": [
    {
     "data": {
      "text/plain": [
       "{'df_cn_dn': [0.18556884376704064, 0.559740570882381, 0.5574049807391436],\n",
       " 'df_cn_dy': [0.13126077658777424, 0.5779942269756002, 0.5757711231714306],\n",
       " 'df_cy_dn': [0.11040112825122961, 0.5779942269755974, 0.5747284544236343],\n",
       " 'df_cy_dy': [0.0899753409979892, 0.5779942269756129, 0.5757711231714306],\n",
       " 'df_neigh': [0.05379930798696131, 0.5951750863009462, 0.5860647421092329]}"
      ]
     },
     "execution_count": 77,
     "metadata": {},
     "output_type": "execute_result"
    }
   ],
   "source": [
    "scores['df_neigh'] = [score1, score2, score3]\n",
    "scores"
   ]
  },
  {
   "cell_type": "markdown",
   "id": "72298105-8bd3-4114-a160-f8b9030c0a99",
   "metadata": {},
   "source": [
    "---"
   ]
  },
  {
   "cell_type": "markdown",
   "id": "73b33ca7-6658-439b-b2f3-dd26706a7f3d",
   "metadata": {},
   "source": [
    "### Final scores"
   ]
  },
  {
   "cell_type": "code",
   "execution_count": 78,
   "id": "b6afa466-ccc0-4d12-ba9e-fcd231936dcb",
   "metadata": {},
   "outputs": [
    {
     "data": {
      "text/html": [
       "<div>\n",
       "<style scoped>\n",
       "    .dataframe tbody tr th:only-of-type {\n",
       "        vertical-align: middle;\n",
       "    }\n",
       "\n",
       "    .dataframe tbody tr th {\n",
       "        vertical-align: top;\n",
       "    }\n",
       "\n",
       "    .dataframe thead th {\n",
       "        text-align: right;\n",
       "    }\n",
       "</style>\n",
       "<table border=\"1\" class=\"dataframe\">\n",
       "  <thead>\n",
       "    <tr style=\"text-align: right;\">\n",
       "      <th></th>\n",
       "      <th>SVR model</th>\n",
       "      <th>Linear Regressor</th>\n",
       "      <th>K Neighbors Regressor</th>\n",
       "    </tr>\n",
       "  </thead>\n",
       "  <tbody>\n",
       "    <tr>\n",
       "      <th>df_cn_dn</th>\n",
       "      <td>0.185569</td>\n",
       "      <td>0.559741</td>\n",
       "      <td>0.557405</td>\n",
       "    </tr>\n",
       "    <tr>\n",
       "      <th>df_cn_dy</th>\n",
       "      <td>0.131261</td>\n",
       "      <td>0.577994</td>\n",
       "      <td>0.575771</td>\n",
       "    </tr>\n",
       "    <tr>\n",
       "      <th>df_cy_dn</th>\n",
       "      <td>0.110401</td>\n",
       "      <td>0.577994</td>\n",
       "      <td>0.574728</td>\n",
       "    </tr>\n",
       "    <tr>\n",
       "      <th>df_cy_dy</th>\n",
       "      <td>0.089975</td>\n",
       "      <td>0.577994</td>\n",
       "      <td>0.575771</td>\n",
       "    </tr>\n",
       "    <tr>\n",
       "      <th>df_neigh</th>\n",
       "      <td>0.053799</td>\n",
       "      <td>0.595175</td>\n",
       "      <td>0.586065</td>\n",
       "    </tr>\n",
       "  </tbody>\n",
       "</table>\n",
       "</div>"
      ],
      "text/plain": [
       "          SVR model  Linear Regressor  K Neighbors Regressor\n",
       "df_cn_dn   0.185569          0.559741               0.557405\n",
       "df_cn_dy   0.131261          0.577994               0.575771\n",
       "df_cy_dn   0.110401          0.577994               0.574728\n",
       "df_cy_dy   0.089975          0.577994               0.575771\n",
       "df_neigh   0.053799          0.595175               0.586065"
      ]
     },
     "execution_count": 78,
     "metadata": {},
     "output_type": "execute_result"
    }
   ],
   "source": [
    "scores = pd.DataFrame(scores)\n",
    "scores = scores.T\n",
    "scores.columns = ['SVR model', 'Linear Regressor', 'K Neighbors Regressor']\n",
    "scores"
   ]
  },
  {
   "cell_type": "markdown",
   "id": "dcdec382-b2ae-4a3b-87a7-eb0ebf8d1318",
   "metadata": {},
   "source": [
    "---"
   ]
  },
  {
   "cell_type": "markdown",
   "id": "3d87061a-e722-4653-a6ad-0151578bc81c",
   "metadata": {},
   "source": [
    "### Dump final model in pickle file"
   ]
  },
  {
   "cell_type": "code",
   "execution_count": 79,
   "id": "3d681295-3cef-4256-9378-6f8184ab4cee",
   "metadata": {},
   "outputs": [],
   "source": [
    "import pickle\n",
    "pkl_filename = \"final_model.pkl\"\n",
    "with open(pkl_filename, 'wb') as file:\n",
    "    pickle.dump(reg, file)"
   ]
  },
  {
   "cell_type": "markdown",
   "id": "7ea04f90-49d5-4bb8-9fb2-731cbc3659e4",
   "metadata": {},
   "source": [
    "---"
   ]
  },
  {
   "cell_type": "markdown",
   "id": "b7a605d4-7a55-4acd-b3dd-31e113e297df",
   "metadata": {
    "tags": []
   },
   "source": [
    "## Conclusions\n",
    "We have observed that the best model for our dataset is the Linear Regression Model. However, it performs very similarly as the K Neighbors Regressor. The third model that is presented (SVR), as well as some others that we tried, perform equal or worse than the formers.\n",
    "\n",
    "We can also see that the most relevant variables are in fact those in the original dataset (i.e. the flat properties such as the number of rooms, bathrooms, squared meters...). Neither the neighbourhood and district where the flat is located, nor its characteristics such as criminality, add any significant amount of information to the model (the performance rises from around 56% to around 60% in the best case).\n",
    "\n",
    "Therefore, we can conclude that, surprisingly, the district (or the neighbourhood) do not affect significantly the price of the flat. Or, alternatively, that the district differences are implicitly included in the main characteristics of the flat."
   ]
  }
 ],
 "metadata": {
  "kernelspec": {
   "display_name": "Python 3 (ipykernel)",
   "language": "python",
   "name": "python3"
  },
  "language_info": {
   "codemirror_mode": {
    "name": "ipython",
    "version": 3
   },
   "file_extension": ".py",
   "mimetype": "text/x-python",
   "name": "python",
   "nbconvert_exporter": "python",
   "pygments_lexer": "ipython3",
   "version": "3.9.7"
  }
 },
 "nbformat": 4,
 "nbformat_minor": 5
}
