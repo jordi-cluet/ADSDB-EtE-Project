{
 "cells": [
  {
   "cell_type": "markdown",
   "id": "f0552595-1ed9-4d1d-bbc4-d2b1f3635366",
   "metadata": {},
   "source": [
    "#### Import libraries and packages"
   ]
  },
  {
   "cell_type": "code",
   "execution_count": 2,
   "id": "f3ee6f33",
   "metadata": {},
   "outputs": [],
   "source": [
    "import psycopg2\n",
    "import pandas as pd\n",
    "import numpy as np\n",
    "import seaborn as sns"
   ]
  },
  {
   "cell_type": "markdown",
   "id": "72162abc-ede6-4069-84e1-5de206b08652",
   "metadata": {},
   "source": [
    "#### Set connection with postgres database"
   ]
  },
  {
   "cell_type": "code",
   "execution_count": 43,
   "id": "471e44ce",
   "metadata": {},
   "outputs": [],
   "source": [
    "host = 'postgresfib.fib.upc.edu'\n",
    "dbname = 'ADSDBjordi.cluet'\n",
    "user = 'jordi.cluet'\n",
    "pwd = 'DB151199'\n",
    "port = 6433\n",
    "sslmode = 'require'\n",
    "\n",
    "conn = psycopg2.connect(\"host='{}' port={} dbname='{}' user={} password={}\".format(host, port, dbname, user, pwd))\n",
    "cursor = conn.cursor()"
   ]
  },
  {
   "cell_type": "markdown",
   "id": "b9dd0d31-5090-4014-a2ff-d4f638356e52",
   "metadata": {},
   "source": [
    "#### Select whole table as dataframe"
   ]
  },
  {
   "cell_type": "code",
   "execution_count": 44,
   "id": "94757116",
   "metadata": {},
   "outputs": [
    {
     "data": {
      "text/html": [
       "<div>\n",
       "<style scoped>\n",
       "    .dataframe tbody tr th:only-of-type {\n",
       "        vertical-align: middle;\n",
       "    }\n",
       "\n",
       "    .dataframe tbody tr th {\n",
       "        vertical-align: top;\n",
       "    }\n",
       "\n",
       "    .dataframe thead th {\n",
       "        text-align: right;\n",
       "    }\n",
       "</style>\n",
       "<table border=\"1\" class=\"dataframe\">\n",
       "  <thead>\n",
       "    <tr style=\"text-align: right;\">\n",
       "      <th></th>\n",
       "      <th>id</th>\n",
       "      <th>address</th>\n",
       "      <th>bathrooms</th>\n",
       "      <th>building_subtype</th>\n",
       "      <th>building_type</th>\n",
       "      <th>conservation_state</th>\n",
       "      <th>extraction_date</th>\n",
       "      <th>discount</th>\n",
       "      <th>floor_elevator</th>\n",
       "      <th>is_new_construction</th>\n",
       "      <th>link</th>\n",
       "      <th>price</th>\n",
       "      <th>real_estate</th>\n",
       "      <th>real_estate_id</th>\n",
       "      <th>rooms</th>\n",
       "      <th>sq_meters</th>\n",
       "      <th>neighbourhood</th>\n",
       "      <th>neighbourhood_mean_price</th>\n",
       "    </tr>\n",
       "  </thead>\n",
       "  <tbody>\n",
       "    <tr>\n",
       "      <th>0</th>\n",
       "      <td>0</td>\n",
       "      <td>Carrer Roger de Lluria, Dreta de l'Eixample</td>\n",
       "      <td>3</td>\n",
       "      <td>Flat</td>\n",
       "      <td>Flat</td>\n",
       "      <td>0</td>\n",
       "      <td>2020-10-28</td>\n",
       "      <td>0</td>\n",
       "      <td>1</td>\n",
       "      <td>False</td>\n",
       "      <td>/es/alquiler/vivienda/barcelona-capital/calefa...</td>\n",
       "      <td>5000.0</td>\n",
       "      <td>SOMOS REAL ESTATE SERVICES</td>\n",
       "      <td>9202765680731</td>\n",
       "      <td>3</td>\n",
       "      <td>208.0</td>\n",
       "      <td>la dreta de l'eixample</td>\n",
       "      <td>1307.616842</td>\n",
       "    </tr>\n",
       "    <tr>\n",
       "      <th>1</th>\n",
       "      <td>1</td>\n",
       "      <td>Sant Antoni</td>\n",
       "      <td>1</td>\n",
       "      <td>Flat</td>\n",
       "      <td>Flat</td>\n",
       "      <td>1</td>\n",
       "      <td>2020-10-28</td>\n",
       "      <td>0</td>\n",
       "      <td>1</td>\n",
       "      <td>False</td>\n",
       "      <td>/es/alquiler/vivienda/barcelona-capital/aire-a...</td>\n",
       "      <td>1250.0</td>\n",
       "      <td>TECNOCASA RIERA ALTA MAR</td>\n",
       "      <td>9202751363773</td>\n",
       "      <td>3</td>\n",
       "      <td>93.0</td>\n",
       "      <td>sant antoni</td>\n",
       "      <td>994.909158</td>\n",
       "    </tr>\n",
       "    <tr>\n",
       "      <th>2</th>\n",
       "      <td>2</td>\n",
       "      <td>Carrer Valencia, La Nova Esquerra de l'Eixample</td>\n",
       "      <td>2</td>\n",
       "      <td>Flat</td>\n",
       "      <td>Flat</td>\n",
       "      <td>0</td>\n",
       "      <td>2020-10-28</td>\n",
       "      <td>0</td>\n",
       "      <td>1</td>\n",
       "      <td>False</td>\n",
       "      <td>/es/alquiler/vivienda/barcelona-capital/calefa...</td>\n",
       "      <td>1600.0</td>\n",
       "      <td>SOMOS REAL ESTATE SERVICES</td>\n",
       "      <td>9202765680731</td>\n",
       "      <td>4</td>\n",
       "      <td>129.0</td>\n",
       "      <td>la nova esquerra de l'eixample</td>\n",
       "      <td>1053.832393</td>\n",
       "    </tr>\n",
       "    <tr>\n",
       "      <th>3</th>\n",
       "      <td>3</td>\n",
       "      <td>Carrer Muntaner, Sant Gervasi- Galvany</td>\n",
       "      <td>2</td>\n",
       "      <td>Flat</td>\n",
       "      <td>Flat</td>\n",
       "      <td>0</td>\n",
       "      <td>2020-10-28</td>\n",
       "      <td>0</td>\n",
       "      <td>1</td>\n",
       "      <td>False</td>\n",
       "      <td>/es/alquiler/vivienda/barcelona-capital/aire-a...</td>\n",
       "      <td>3200.0</td>\n",
       "      <td>SOMOS REAL ESTATE SERVICES</td>\n",
       "      <td>9202765680731</td>\n",
       "      <td>2</td>\n",
       "      <td>133.0</td>\n",
       "      <td>sant gervasi - galvany</td>\n",
       "      <td>1397.273005</td>\n",
       "    </tr>\n",
       "    <tr>\n",
       "      <th>4</th>\n",
       "      <td>4</td>\n",
       "      <td>Rambla del Raval, El Raval</td>\n",
       "      <td>1</td>\n",
       "      <td>Flat</td>\n",
       "      <td>Flat</td>\n",
       "      <td>2</td>\n",
       "      <td>2020-10-28</td>\n",
       "      <td>0</td>\n",
       "      <td>1</td>\n",
       "      <td>False</td>\n",
       "      <td>/es/alquiler/vivienda/barcelona-capital/ascens...</td>\n",
       "      <td>1000.0</td>\n",
       "      <td>ESTUDI JOAN MIRO.SL.</td>\n",
       "      <td>9202762439813</td>\n",
       "      <td>3</td>\n",
       "      <td>67.0</td>\n",
       "      <td>el raval</td>\n",
       "      <td>850.112343</td>\n",
       "    </tr>\n",
       "  </tbody>\n",
       "</table>\n",
       "</div>"
      ],
      "text/plain": [
       "   id                                          address  bathrooms  \\\n",
       "0   0      Carrer Roger de Lluria, Dreta de l'Eixample          3   \n",
       "1   1                                      Sant Antoni          1   \n",
       "2   2  Carrer Valencia, La Nova Esquerra de l'Eixample          2   \n",
       "3   3           Carrer Muntaner, Sant Gervasi- Galvany          2   \n",
       "4   4                       Rambla del Raval, El Raval          1   \n",
       "\n",
       "  building_subtype building_type  conservation_state extraction_date  \\\n",
       "0             Flat          Flat                   0      2020-10-28   \n",
       "1             Flat          Flat                   1      2020-10-28   \n",
       "2             Flat          Flat                   0      2020-10-28   \n",
       "3             Flat          Flat                   0      2020-10-28   \n",
       "4             Flat          Flat                   2      2020-10-28   \n",
       "\n",
       "   discount  floor_elevator  is_new_construction  \\\n",
       "0         0               1                False   \n",
       "1         0               1                False   \n",
       "2         0               1                False   \n",
       "3         0               1                False   \n",
       "4         0               1                False   \n",
       "\n",
       "                                                link   price  \\\n",
       "0  /es/alquiler/vivienda/barcelona-capital/calefa...  5000.0   \n",
       "1  /es/alquiler/vivienda/barcelona-capital/aire-a...  1250.0   \n",
       "2  /es/alquiler/vivienda/barcelona-capital/calefa...  1600.0   \n",
       "3  /es/alquiler/vivienda/barcelona-capital/aire-a...  3200.0   \n",
       "4  /es/alquiler/vivienda/barcelona-capital/ascens...  1000.0   \n",
       "\n",
       "                  real_estate real_estate_id  rooms  sq_meters  \\\n",
       "0  SOMOS REAL ESTATE SERVICES  9202765680731      3      208.0   \n",
       "1    TECNOCASA RIERA ALTA MAR  9202751363773      3       93.0   \n",
       "2  SOMOS REAL ESTATE SERVICES  9202765680731      4      129.0   \n",
       "3  SOMOS REAL ESTATE SERVICES  9202765680731      2      133.0   \n",
       "4        ESTUDI JOAN MIRO.SL.  9202762439813      3       67.0   \n",
       "\n",
       "                    neighbourhood  neighbourhood_mean_price  \n",
       "0          la dreta de l'eixample               1307.616842  \n",
       "1                     sant antoni                994.909158  \n",
       "2  la nova esquerra de l'eixample               1053.832393  \n",
       "3          sant gervasi - galvany               1397.273005  \n",
       "4                        el raval                850.112343  "
      ]
     },
     "execution_count": 44,
     "metadata": {},
     "output_type": "execute_result"
    }
   ],
   "source": [
    "sql = \"SELECT * from formatted_zone.zenodo_fotocasa_2020_21_12_06;\"\n",
    "df = pd.read_sql_query(sql, conn)\n",
    "df.head()"
   ]
  },
  {
   "cell_type": "markdown",
   "id": "5090cd81-38c5-4941-a4c4-233d0ea3b7da",
   "metadata": {},
   "source": [
    "#### Remove unuseful columns"
   ]
  },
  {
   "cell_type": "code",
   "execution_count": 45,
   "id": "1b4dd99a-621d-4520-be1a-304ac532f34b",
   "metadata": {},
   "outputs": [],
   "source": [
    "df = df.drop(['extraction_date', 'link'], axis = 1)  # non-useful columns"
   ]
  },
  {
   "cell_type": "markdown",
   "id": "f6a1d994-e651-41b5-85d7-9197a5a03e5a",
   "metadata": {},
   "source": [
    "#### Check data types"
   ]
  },
  {
   "cell_type": "code",
   "execution_count": 46,
   "id": "f19a968f-dac5-42aa-aec2-de70dd11f509",
   "metadata": {},
   "outputs": [
    {
     "data": {
      "text/plain": [
       "id                            int64\n",
       "address                      object\n",
       "bathrooms                     int64\n",
       "building_subtype             object\n",
       "building_type                object\n",
       "conservation_state            int64\n",
       "discount                      int64\n",
       "floor_elevator                int64\n",
       "is_new_construction            bool\n",
       "price                       float64\n",
       "real_estate                  object\n",
       "real_estate_id               object\n",
       "rooms                         int64\n",
       "sq_meters                   float64\n",
       "neighbourhood                object\n",
       "neighbourhood_mean_price    float64\n",
       "dtype: object"
      ]
     },
     "execution_count": 46,
     "metadata": {},
     "output_type": "execute_result"
    }
   ],
   "source": [
    "df.dtypes"
   ]
  },
  {
   "cell_type": "markdown",
   "id": "c2e42e10-99aa-472b-8592-a1e3cb300907",
   "metadata": {},
   "source": [
    "#### Correct some data types"
   ]
  },
  {
   "cell_type": "code",
   "execution_count": 54,
   "id": "cb6eb3fb-637f-4ebf-ad89-5168736be07d",
   "metadata": {},
   "outputs": [],
   "source": [
    "df['id'] = df['id'].astype(\"object\")\n",
    "df['address'] = df['address'].astype(\"string\")\n",
    "df['building_subtype'] = df['building_subtype'].astype(\"category\")\n",
    "df['building_type'] = df['building_type'].astype(\"category\")\n",
    "df['conservation_state'] = df['conservation_state'].astype(\"category\")\n",
    "df['floor_elevator'] = df['floor_elevator'].astype(\"bool\")\n",
    "df['real_estate'] = df['real_estate'].astype(\"string\")\n",
    "df['real_estate_id'] = df['real_estate_id'].astype(\"object\")\n",
    "df['neighbourhood'] = df['neighbourhood'].astype(\"category\")"
   ]
  },
  {
   "cell_type": "code",
   "execution_count": 55,
   "id": "37df2cce-9379-4f50-b241-41deaa444d4d",
   "metadata": {},
   "outputs": [
    {
     "data": {
      "text/plain": [
       "id                            object\n",
       "address                       string\n",
       "bathrooms                      int64\n",
       "building_subtype            category\n",
       "building_type               category\n",
       "conservation_state          category\n",
       "discount                       int64\n",
       "floor_elevator                  bool\n",
       "is_new_construction             bool\n",
       "price                        float64\n",
       "real_estate                   string\n",
       "real_estate_id                object\n",
       "rooms                          int64\n",
       "sq_meters                    float64\n",
       "neighbourhood               category\n",
       "neighbourhood_mean_price     float64\n",
       "dtype: object"
      ]
     },
     "execution_count": 55,
     "metadata": {},
     "output_type": "execute_result"
    }
   ],
   "source": [
    "df.dtypes"
   ]
  },
  {
   "cell_type": "markdown",
   "id": "e5f381ef-dc7b-4bfe-8761-ad407f20f58d",
   "metadata": {},
   "source": [
    "#### Summary of numerical variables"
   ]
  },
  {
   "cell_type": "code",
   "execution_count": 56,
   "id": "58287ffc-c295-4e63-9741-155332444ca5",
   "metadata": {},
   "outputs": [
    {
     "data": {
      "text/html": [
       "<div>\n",
       "<style scoped>\n",
       "    .dataframe tbody tr th:only-of-type {\n",
       "        vertical-align: middle;\n",
       "    }\n",
       "\n",
       "    .dataframe tbody tr th {\n",
       "        vertical-align: top;\n",
       "    }\n",
       "\n",
       "    .dataframe thead th {\n",
       "        text-align: right;\n",
       "    }\n",
       "</style>\n",
       "<table border=\"1\" class=\"dataframe\">\n",
       "  <thead>\n",
       "    <tr style=\"text-align: right;\">\n",
       "      <th></th>\n",
       "      <th>bathrooms</th>\n",
       "      <th>discount</th>\n",
       "      <th>price</th>\n",
       "      <th>rooms</th>\n",
       "      <th>sq_meters</th>\n",
       "      <th>neighbourhood_mean_price</th>\n",
       "    </tr>\n",
       "  </thead>\n",
       "  <tbody>\n",
       "    <tr>\n",
       "      <th>count</th>\n",
       "      <td>21856.000000</td>\n",
       "      <td>21856.000000</td>\n",
       "      <td>21848.000000</td>\n",
       "      <td>21856.000000</td>\n",
       "      <td>21856.000000</td>\n",
       "      <td>21852.000000</td>\n",
       "    </tr>\n",
       "    <tr>\n",
       "      <th>mean</th>\n",
       "      <td>1.521596</td>\n",
       "      <td>63.394674</td>\n",
       "      <td>1537.024075</td>\n",
       "      <td>2.417094</td>\n",
       "      <td>89.233895</td>\n",
       "      <td>1058.909173</td>\n",
       "    </tr>\n",
       "    <tr>\n",
       "      <th>std</th>\n",
       "      <td>0.806908</td>\n",
       "      <td>220.567465</td>\n",
       "      <td>1861.089098</td>\n",
       "      <td>1.192245</td>\n",
       "      <td>67.510855</td>\n",
       "      <td>207.084508</td>\n",
       "    </tr>\n",
       "    <tr>\n",
       "      <th>min</th>\n",
       "      <td>0.000000</td>\n",
       "      <td>0.000000</td>\n",
       "      <td>380.000000</td>\n",
       "      <td>0.000000</td>\n",
       "      <td>0.000000</td>\n",
       "      <td>419.427143</td>\n",
       "    </tr>\n",
       "    <tr>\n",
       "      <th>25%</th>\n",
       "      <td>1.000000</td>\n",
       "      <td>0.000000</td>\n",
       "      <td>920.000000</td>\n",
       "      <td>2.000000</td>\n",
       "      <td>59.000000</td>\n",
       "      <td>895.897039</td>\n",
       "    </tr>\n",
       "    <tr>\n",
       "      <th>50%</th>\n",
       "      <td>1.000000</td>\n",
       "      <td>0.000000</td>\n",
       "      <td>1150.000000</td>\n",
       "      <td>2.000000</td>\n",
       "      <td>75.000000</td>\n",
       "      <td>1004.723491</td>\n",
       "    </tr>\n",
       "    <tr>\n",
       "      <th>75%</th>\n",
       "      <td>2.000000</td>\n",
       "      <td>75.000000</td>\n",
       "      <td>1500.000000</td>\n",
       "      <td>3.000000</td>\n",
       "      <td>98.000000</td>\n",
       "      <td>1162.321630</td>\n",
       "    </tr>\n",
       "    <tr>\n",
       "      <th>max</th>\n",
       "      <td>11.000000</td>\n",
       "      <td>7627.000000</td>\n",
       "      <td>29000.000000</td>\n",
       "      <td>22.000000</td>\n",
       "      <td>1450.000000</td>\n",
       "      <td>1860.558980</td>\n",
       "    </tr>\n",
       "  </tbody>\n",
       "</table>\n",
       "</div>"
      ],
      "text/plain": [
       "          bathrooms      discount         price         rooms     sq_meters  \\\n",
       "count  21856.000000  21856.000000  21848.000000  21856.000000  21856.000000   \n",
       "mean       1.521596     63.394674   1537.024075      2.417094     89.233895   \n",
       "std        0.806908    220.567465   1861.089098      1.192245     67.510855   \n",
       "min        0.000000      0.000000    380.000000      0.000000      0.000000   \n",
       "25%        1.000000      0.000000    920.000000      2.000000     59.000000   \n",
       "50%        1.000000      0.000000   1150.000000      2.000000     75.000000   \n",
       "75%        2.000000     75.000000   1500.000000      3.000000     98.000000   \n",
       "max       11.000000   7627.000000  29000.000000     22.000000   1450.000000   \n",
       "\n",
       "       neighbourhood_mean_price  \n",
       "count              21852.000000  \n",
       "mean                1058.909173  \n",
       "std                  207.084508  \n",
       "min                  419.427143  \n",
       "25%                  895.897039  \n",
       "50%                 1004.723491  \n",
       "75%                 1162.321630  \n",
       "max                 1860.558980  "
      ]
     },
     "execution_count": 56,
     "metadata": {},
     "output_type": "execute_result"
    }
   ],
   "source": [
    "df.describe()"
   ]
  },
  {
   "cell_type": "markdown",
   "id": "2dc55369-1d01-4c65-ba05-521af9553b17",
   "metadata": {},
   "source": [
    "#### Summary of categorical variables"
   ]
  },
  {
   "cell_type": "code",
   "execution_count": 58,
   "id": "d8114e29-8092-4fa1-887e-ae7758e25b01",
   "metadata": {},
   "outputs": [
    {
     "data": {
      "text/html": [
       "<div>\n",
       "<style scoped>\n",
       "    .dataframe tbody tr th:only-of-type {\n",
       "        vertical-align: middle;\n",
       "    }\n",
       "\n",
       "    .dataframe tbody tr th {\n",
       "        vertical-align: top;\n",
       "    }\n",
       "\n",
       "    .dataframe thead th {\n",
       "        text-align: right;\n",
       "    }\n",
       "</style>\n",
       "<table border=\"1\" class=\"dataframe\">\n",
       "  <thead>\n",
       "    <tr style=\"text-align: right;\">\n",
       "      <th></th>\n",
       "      <th>building_subtype</th>\n",
       "      <th>building_type</th>\n",
       "      <th>conservation_state</th>\n",
       "      <th>floor_elevator</th>\n",
       "      <th>is_new_construction</th>\n",
       "      <th>neighbourhood</th>\n",
       "    </tr>\n",
       "  </thead>\n",
       "  <tbody>\n",
       "    <tr>\n",
       "      <th>count</th>\n",
       "      <td>21856</td>\n",
       "      <td>21856</td>\n",
       "      <td>21856</td>\n",
       "      <td>21856</td>\n",
       "      <td>21856</td>\n",
       "      <td>21856</td>\n",
       "    </tr>\n",
       "    <tr>\n",
       "      <th>unique</th>\n",
       "      <td>10</td>\n",
       "      <td>1</td>\n",
       "      <td>6</td>\n",
       "      <td>2</td>\n",
       "      <td>2</td>\n",
       "      <td>67</td>\n",
       "    </tr>\n",
       "    <tr>\n",
       "      <th>top</th>\n",
       "      <td>Flat</td>\n",
       "      <td>Flat</td>\n",
       "      <td>0</td>\n",
       "      <td>True</td>\n",
       "      <td>False</td>\n",
       "      <td>la dreta de l'eixample</td>\n",
       "    </tr>\n",
       "    <tr>\n",
       "      <th>freq</th>\n",
       "      <td>17512</td>\n",
       "      <td>21856</td>\n",
       "      <td>11982</td>\n",
       "      <td>15716</td>\n",
       "      <td>21672</td>\n",
       "      <td>1826</td>\n",
       "    </tr>\n",
       "  </tbody>\n",
       "</table>\n",
       "</div>"
      ],
      "text/plain": [
       "       building_subtype building_type  conservation_state floor_elevator  \\\n",
       "count             21856         21856               21856          21856   \n",
       "unique               10             1                   6              2   \n",
       "top                Flat          Flat                   0           True   \n",
       "freq              17512         21856               11982          15716   \n",
       "\n",
       "       is_new_construction           neighbourhood  \n",
       "count                21856                   21856  \n",
       "unique                   2                      67  \n",
       "top                  False  la dreta de l'eixample  \n",
       "freq                 21672                    1826  "
      ]
     },
     "execution_count": 58,
     "metadata": {},
     "output_type": "execute_result"
    }
   ],
   "source": [
    "df.describe(include = ['category', 'bool'])"
   ]
  },
  {
   "cell_type": "markdown",
   "id": "8da790f4-b23b-4795-b700-345b57e77363",
   "metadata": {},
   "source": [
    "#### Check levels of categorical variables"
   ]
  },
  {
   "cell_type": "markdown",
   "id": "8ced1037-e719-4a73-b652-4c846677fb3b",
   "metadata": {
    "tags": []
   },
   "source": [
    "##### building_type\n",
    "We remove it since it only has 1 unique value."
   ]
  },
  {
   "cell_type": "code",
   "execution_count": 32,
   "id": "d4e04b59-3f10-428e-a9ac-7a169ea87077",
   "metadata": {},
   "outputs": [],
   "source": [
    "df = df.drop(['building_type'], axis = 1)"
   ]
  },
  {
   "cell_type": "markdown",
   "id": "196af1a3-f592-44b8-b38f-56d1bc730f15",
   "metadata": {},
   "source": [
    "##### building_subtype\n",
    "There are 10 different [sub]types of building. Most of them are flats."
   ]
  },
  {
   "cell_type": "code",
   "execution_count": 65,
   "id": "3f3f2cc8-7cbf-4b49-93e7-786f154e56f3",
   "metadata": {},
   "outputs": [
    {
     "data": {
      "text/plain": [
       "Flat                     17512\n",
       "Apartment                 2258\n",
       "Attic                      922\n",
       "Duplex                     388\n",
       "Loft                       282\n",
       "Study                      204\n",
       "House_Chalet               160\n",
       "GroundFloorWithGarden       82\n",
       "SemidetachedHouse           28\n",
       "SemiDetached                20\n",
       "Name: building_subtype, dtype: int64"
      ]
     },
     "execution_count": 65,
     "metadata": {},
     "output_type": "execute_result"
    }
   ],
   "source": [
    "df['building_subtype'].value_counts()"
   ]
  },
  {
   "cell_type": "markdown",
   "id": "f151af24-eb1c-421a-86bc-62a99545c119",
   "metadata": {},
   "source": [
    "##### conservation_state\n",
    "There are 6 different conservation states in Fotocasa classification. We properly re-encode them as they are displayed on their website. Most of the homes are new constructions, surprisingly."
   ]
  },
  {
   "cell_type": "code",
   "execution_count": 63,
   "id": "29d21f19-1e37-48ad-8479-64bd3184ccc2",
   "metadata": {},
   "outputs": [
    {
     "data": {
      "text/plain": [
       "0    11982\n",
       "1     3718\n",
       "2     3108\n",
       "3     2898\n",
       "8      118\n",
       "4       32\n",
       "Name: conservation_state, dtype: int64"
      ]
     },
     "execution_count": 63,
     "metadata": {},
     "output_type": "execute_result"
    }
   ],
   "source": [
    "df['conservation_state'].value_counts()"
   ]
  },
  {
   "cell_type": "code",
   "execution_count": 64,
   "id": "f73ee5a4-32b2-49ea-b81e-409c5f13ec6c",
   "metadata": {},
   "outputs": [
    {
     "data": {
      "text/plain": [
       "New construction    11982\n",
       "Nearly new           3718\n",
       "Very good            3108\n",
       "Good                 2898\n",
       "Renovated             118\n",
       "To renovate            32\n",
       "Name: conservation_state, dtype: int64"
      ]
     },
     "execution_count": 64,
     "metadata": {},
     "output_type": "execute_result"
    }
   ],
   "source": [
    "df['conservation_state'] = df['conservation_state'].replace({\n",
    "    0: 'New construction', \n",
    "    1: 'Nearly new', \n",
    "    2: 'Very good', \n",
    "    3: 'Good', \n",
    "    4: 'To renovate', \n",
    "    8: 'Renovated'\n",
    "  })\n",
    "df['conservation_state'].value_counts()"
   ]
  },
  {
   "cell_type": "markdown",
   "id": "fcb52d12-f1bb-4de8-a5d4-e88366901286",
   "metadata": {},
   "source": [
    "##### floor_elevator\n",
    "Most of the homes have an elevator."
   ]
  },
  {
   "cell_type": "code",
   "execution_count": 66,
   "id": "22bd91ac-48dc-4e4d-b176-7f81ac215779",
   "metadata": {},
   "outputs": [
    {
     "data": {
      "text/plain": [
       "True     15716\n",
       "False     6140\n",
       "Name: floor_elevator, dtype: int64"
      ]
     },
     "execution_count": 66,
     "metadata": {},
     "output_type": "execute_result"
    }
   ],
   "source": [
    "df['floor_elevator'].value_counts()"
   ]
  },
  {
   "cell_type": "markdown",
   "id": "fb2dfcf3-c1bc-4688-ada5-9c1246094395",
   "metadata": {},
   "source": [
    "##### is_new_construction\n",
    "Almost no house is newly constructed according to this variable. This contradicts what the variable 'conservation_state' indicates."
   ]
  },
  {
   "cell_type": "code",
   "execution_count": 67,
   "id": "072374a2-60c6-421c-bf4f-3f98a701c878",
   "metadata": {},
   "outputs": [
    {
     "data": {
      "text/plain": [
       "False    21672\n",
       "True       184\n",
       "Name: is_new_construction, dtype: int64"
      ]
     },
     "execution_count": 67,
     "metadata": {},
     "output_type": "execute_result"
    }
   ],
   "source": [
    "df['is_new_construction'].value_counts()"
   ]
  },
  {
   "cell_type": "markdown",
   "id": "962b2ead-7a9b-4454-a577-6c9a6d288f7a",
   "metadata": {},
   "source": [
    "##### neighbourhood\n",
    "The database contains homes in 67 out of the 73  neighboourhoods of Barcelona."
   ]
  },
  {
   "cell_type": "code",
   "execution_count": 38,
   "id": "240e9bfc-9615-4950-8d35-31a10e012c26",
   "metadata": {},
   "outputs": [
    {
     "data": {
      "text/plain": [
       "67"
      ]
     },
     "execution_count": 38,
     "metadata": {},
     "output_type": "execute_result"
    }
   ],
   "source": [
    "len(df['neighbourhood'].unique().tolist())"
   ]
  }
 ],
 "metadata": {
  "kernelspec": {
   "display_name": "Python 3 (ipykernel)",
   "language": "python",
   "name": "python3"
  },
  "language_info": {
   "codemirror_mode": {
    "name": "ipython",
    "version": 3
   },
   "file_extension": ".py",
   "mimetype": "text/x-python",
   "name": "python",
   "nbconvert_exporter": "python",
   "pygments_lexer": "ipython3",
   "version": "3.9.7"
  }
 },
 "nbformat": 4,
 "nbformat_minor": 5
}
