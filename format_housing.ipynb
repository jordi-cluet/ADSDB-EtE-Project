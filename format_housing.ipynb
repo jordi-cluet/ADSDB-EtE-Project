{
 "cells": [
  {
   "cell_type": "markdown",
   "id": "f0552595-1ed9-4d1d-bbc4-d2b1f3635366",
   "metadata": {},
   "source": [
    "#### Import libraries and packages"
   ]
  },
  {
   "cell_type": "code",
   "execution_count": 1,
   "id": "f3ee6f33",
   "metadata": {},
   "outputs": [],
   "source": [
    "import psycopg2\n",
    "import pandas as pd\n",
    "import numpy as np\n",
    "import seaborn as sns"
   ]
  },
  {
   "cell_type": "markdown",
   "id": "72162abc-ede6-4069-84e1-5de206b08652",
   "metadata": {},
   "source": [
    "#### Set connection with postgres database"
   ]
  },
  {
   "cell_type": "code",
   "execution_count": 20,
   "id": "471e44ce",
   "metadata": {},
   "outputs": [],
   "source": [
    "host = 'postgresfib.fib.upc.edu'\n",
    "dbname = 'ADSDBjordi.cluet'\n",
    "user = 'jordi.cluet'\n",
    "pwd = 'DB151199'\n",
    "port = 6433\n",
    "sslmode = 'require'\n",
    "\n",
    "conn = psycopg2.connect(\"host='{}' port={} dbname='{}' user={} password={}\".format(host, port, dbname, user, pwd))\n",
    "cursor = conn.cursor()"
   ]
  },
  {
   "cell_type": "markdown",
   "id": "b9dd0d31-5090-4014-a2ff-d4f638356e52",
   "metadata": {},
   "source": [
    "#### Select whole table as dataframe"
   ]
  },
  {
   "cell_type": "code",
   "execution_count": 80,
   "id": "94757116",
   "metadata": {},
   "outputs": [
    {
     "data": {
      "text/html": [
       "<div>\n",
       "<style scoped>\n",
       "    .dataframe tbody tr th:only-of-type {\n",
       "        vertical-align: middle;\n",
       "    }\n",
       "\n",
       "    .dataframe tbody tr th {\n",
       "        vertical-align: top;\n",
       "    }\n",
       "\n",
       "    .dataframe thead th {\n",
       "        text-align: right;\n",
       "    }\n",
       "</style>\n",
       "<table border=\"1\" class=\"dataframe\">\n",
       "  <thead>\n",
       "    <tr style=\"text-align: right;\">\n",
       "      <th></th>\n",
       "      <th>id</th>\n",
       "      <th>address</th>\n",
       "      <th>bathrooms</th>\n",
       "      <th>building_subtype</th>\n",
       "      <th>building_type</th>\n",
       "      <th>conservation_state</th>\n",
       "      <th>extraction_date</th>\n",
       "      <th>discount</th>\n",
       "      <th>floor_elevator</th>\n",
       "      <th>is_new_construction</th>\n",
       "      <th>link</th>\n",
       "      <th>price</th>\n",
       "      <th>real_estate</th>\n",
       "      <th>real_estate_id</th>\n",
       "      <th>rooms</th>\n",
       "      <th>sq_meters</th>\n",
       "      <th>neighbourhood</th>\n",
       "      <th>neighbourhood_mean_price</th>\n",
       "    </tr>\n",
       "  </thead>\n",
       "  <tbody>\n",
       "    <tr>\n",
       "      <th>0</th>\n",
       "      <td>0</td>\n",
       "      <td>Carrer Roger de Lluria, Dreta de l'Eixample</td>\n",
       "      <td>3</td>\n",
       "      <td>Flat</td>\n",
       "      <td>Flat</td>\n",
       "      <td>0</td>\n",
       "      <td>2020-10-28</td>\n",
       "      <td>0</td>\n",
       "      <td>1</td>\n",
       "      <td>False</td>\n",
       "      <td>/es/alquiler/vivienda/barcelona-capital/calefa...</td>\n",
       "      <td>5000.0</td>\n",
       "      <td>SOMOS REAL ESTATE SERVICES</td>\n",
       "      <td>9202765680731</td>\n",
       "      <td>3</td>\n",
       "      <td>208.0</td>\n",
       "      <td>la dreta de l'eixample</td>\n",
       "      <td>1307.616842</td>\n",
       "    </tr>\n",
       "    <tr>\n",
       "      <th>1</th>\n",
       "      <td>1</td>\n",
       "      <td>Sant Antoni</td>\n",
       "      <td>1</td>\n",
       "      <td>Flat</td>\n",
       "      <td>Flat</td>\n",
       "      <td>1</td>\n",
       "      <td>2020-10-28</td>\n",
       "      <td>0</td>\n",
       "      <td>1</td>\n",
       "      <td>False</td>\n",
       "      <td>/es/alquiler/vivienda/barcelona-capital/aire-a...</td>\n",
       "      <td>1250.0</td>\n",
       "      <td>TECNOCASA RIERA ALTA MAR</td>\n",
       "      <td>9202751363773</td>\n",
       "      <td>3</td>\n",
       "      <td>93.0</td>\n",
       "      <td>sant antoni</td>\n",
       "      <td>994.909158</td>\n",
       "    </tr>\n",
       "    <tr>\n",
       "      <th>2</th>\n",
       "      <td>2</td>\n",
       "      <td>Carrer Valencia, La Nova Esquerra de l'Eixample</td>\n",
       "      <td>2</td>\n",
       "      <td>Flat</td>\n",
       "      <td>Flat</td>\n",
       "      <td>0</td>\n",
       "      <td>2020-10-28</td>\n",
       "      <td>0</td>\n",
       "      <td>1</td>\n",
       "      <td>False</td>\n",
       "      <td>/es/alquiler/vivienda/barcelona-capital/calefa...</td>\n",
       "      <td>1600.0</td>\n",
       "      <td>SOMOS REAL ESTATE SERVICES</td>\n",
       "      <td>9202765680731</td>\n",
       "      <td>4</td>\n",
       "      <td>129.0</td>\n",
       "      <td>la nova esquerra de l'eixample</td>\n",
       "      <td>1053.832393</td>\n",
       "    </tr>\n",
       "    <tr>\n",
       "      <th>3</th>\n",
       "      <td>3</td>\n",
       "      <td>Carrer Muntaner, Sant Gervasi- Galvany</td>\n",
       "      <td>2</td>\n",
       "      <td>Flat</td>\n",
       "      <td>Flat</td>\n",
       "      <td>0</td>\n",
       "      <td>2020-10-28</td>\n",
       "      <td>0</td>\n",
       "      <td>1</td>\n",
       "      <td>False</td>\n",
       "      <td>/es/alquiler/vivienda/barcelona-capital/aire-a...</td>\n",
       "      <td>3200.0</td>\n",
       "      <td>SOMOS REAL ESTATE SERVICES</td>\n",
       "      <td>9202765680731</td>\n",
       "      <td>2</td>\n",
       "      <td>133.0</td>\n",
       "      <td>sant gervasi - galvany</td>\n",
       "      <td>1397.273005</td>\n",
       "    </tr>\n",
       "    <tr>\n",
       "      <th>4</th>\n",
       "      <td>4</td>\n",
       "      <td>Rambla del Raval, El Raval</td>\n",
       "      <td>1</td>\n",
       "      <td>Flat</td>\n",
       "      <td>Flat</td>\n",
       "      <td>2</td>\n",
       "      <td>2020-10-28</td>\n",
       "      <td>0</td>\n",
       "      <td>1</td>\n",
       "      <td>False</td>\n",
       "      <td>/es/alquiler/vivienda/barcelona-capital/ascens...</td>\n",
       "      <td>1000.0</td>\n",
       "      <td>ESTUDI JOAN MIRO.SL.</td>\n",
       "      <td>9202762439813</td>\n",
       "      <td>3</td>\n",
       "      <td>67.0</td>\n",
       "      <td>el raval</td>\n",
       "      <td>850.112343</td>\n",
       "    </tr>\n",
       "  </tbody>\n",
       "</table>\n",
       "</div>"
      ],
      "text/plain": [
       "   id                                          address  bathrooms  \\\n",
       "0   0      Carrer Roger de Lluria, Dreta de l'Eixample          3   \n",
       "1   1                                      Sant Antoni          1   \n",
       "2   2  Carrer Valencia, La Nova Esquerra de l'Eixample          2   \n",
       "3   3           Carrer Muntaner, Sant Gervasi- Galvany          2   \n",
       "4   4                       Rambla del Raval, El Raval          1   \n",
       "\n",
       "  building_subtype building_type  conservation_state extraction_date  \\\n",
       "0             Flat          Flat                   0      2020-10-28   \n",
       "1             Flat          Flat                   1      2020-10-28   \n",
       "2             Flat          Flat                   0      2020-10-28   \n",
       "3             Flat          Flat                   0      2020-10-28   \n",
       "4             Flat          Flat                   2      2020-10-28   \n",
       "\n",
       "   discount  floor_elevator  is_new_construction  \\\n",
       "0         0               1                False   \n",
       "1         0               1                False   \n",
       "2         0               1                False   \n",
       "3         0               1                False   \n",
       "4         0               1                False   \n",
       "\n",
       "                                                link   price  \\\n",
       "0  /es/alquiler/vivienda/barcelona-capital/calefa...  5000.0   \n",
       "1  /es/alquiler/vivienda/barcelona-capital/aire-a...  1250.0   \n",
       "2  /es/alquiler/vivienda/barcelona-capital/calefa...  1600.0   \n",
       "3  /es/alquiler/vivienda/barcelona-capital/aire-a...  3200.0   \n",
       "4  /es/alquiler/vivienda/barcelona-capital/ascens...  1000.0   \n",
       "\n",
       "                  real_estate real_estate_id  rooms  sq_meters  \\\n",
       "0  SOMOS REAL ESTATE SERVICES  9202765680731      3      208.0   \n",
       "1    TECNOCASA RIERA ALTA MAR  9202751363773      3       93.0   \n",
       "2  SOMOS REAL ESTATE SERVICES  9202765680731      4      129.0   \n",
       "3  SOMOS REAL ESTATE SERVICES  9202765680731      2      133.0   \n",
       "4        ESTUDI JOAN MIRO.SL.  9202762439813      3       67.0   \n",
       "\n",
       "                    neighbourhood  neighbourhood_mean_price  \n",
       "0          la dreta de l'eixample               1307.616842  \n",
       "1                     sant antoni                994.909158  \n",
       "2  la nova esquerra de l'eixample               1053.832393  \n",
       "3          sant gervasi - galvany               1397.273005  \n",
       "4                        el raval                850.112343  "
      ]
     },
     "execution_count": 80,
     "metadata": {},
     "output_type": "execute_result"
    }
   ],
   "source": [
    "sql = \"SELECT * from formatted_zone.zenodo_fotocasa_2020_21_12_06;\"\n",
    "df = pd.read_sql_query(sql, conn)\n",
    "df.head()"
   ]
  },
  {
   "cell_type": "markdown",
   "id": "5090cd81-38c5-4941-a4c4-233d0ea3b7da",
   "metadata": {},
   "source": [
    "#### Remove unuseful columns"
   ]
  },
  {
   "cell_type": "code",
   "execution_count": 81,
   "id": "1b4dd99a-621d-4520-be1a-304ac532f34b",
   "metadata": {},
   "outputs": [],
   "source": [
    "df = df.drop(['extraction_date', 'link'], axis = 1)  # non-useful columns"
   ]
  },
  {
   "cell_type": "markdown",
   "id": "f6a1d994-e651-41b5-85d7-9197a5a03e5a",
   "metadata": {},
   "source": [
    "#### Check data types"
   ]
  },
  {
   "cell_type": "code",
   "execution_count": 82,
   "id": "f19a968f-dac5-42aa-aec2-de70dd11f509",
   "metadata": {},
   "outputs": [
    {
     "data": {
      "text/plain": [
       "id                            int64\n",
       "address                      object\n",
       "bathrooms                     int64\n",
       "building_subtype             object\n",
       "building_type                object\n",
       "conservation_state            int64\n",
       "discount                      int64\n",
       "floor_elevator                int64\n",
       "is_new_construction            bool\n",
       "price                       float64\n",
       "real_estate                  object\n",
       "real_estate_id               object\n",
       "rooms                         int64\n",
       "sq_meters                   float64\n",
       "neighbourhood                object\n",
       "neighbourhood_mean_price    float64\n",
       "dtype: object"
      ]
     },
     "execution_count": 82,
     "metadata": {},
     "output_type": "execute_result"
    }
   ],
   "source": [
    "df.dtypes"
   ]
  },
  {
   "cell_type": "markdown",
   "id": "c2e42e10-99aa-472b-8592-a1e3cb300907",
   "metadata": {},
   "source": [
    "#### Correct some data types"
   ]
  },
  {
   "cell_type": "code",
   "execution_count": 83,
   "id": "cb6eb3fb-637f-4ebf-ad89-5168736be07d",
   "metadata": {},
   "outputs": [],
   "source": [
    "df['id'] = df['id'].astype(\"object\")\n",
    "df['address'] = df['address'].astype(\"string\")\n",
    "df['building_subtype'] = df['building_subtype'].astype(\"category\")\n",
    "df['building_type'] = df['building_type'].astype(\"category\")\n",
    "df['conservation_state'] = df['conservation_state'].astype(\"category\")\n",
    "df['floor_elevator'] = df['floor_elevator'].astype(\"bool\")\n",
    "df['real_estate'] = df['real_estate'].astype(\"category\")\n",
    "df['real_estate_id'] = df['real_estate_id'].astype(\"object\")\n",
    "df['neighbourhood'] = df['neighbourhood'].astype(\"category\")"
   ]
  },
  {
   "cell_type": "code",
   "execution_count": 84,
   "id": "37df2cce-9379-4f50-b241-41deaa444d4d",
   "metadata": {},
   "outputs": [
    {
     "data": {
      "text/plain": [
       "id                            object\n",
       "address                       string\n",
       "bathrooms                      int64\n",
       "building_subtype            category\n",
       "building_type               category\n",
       "conservation_state          category\n",
       "discount                       int64\n",
       "floor_elevator                  bool\n",
       "is_new_construction             bool\n",
       "price                        float64\n",
       "real_estate                 category\n",
       "real_estate_id                object\n",
       "rooms                          int64\n",
       "sq_meters                    float64\n",
       "neighbourhood               category\n",
       "neighbourhood_mean_price     float64\n",
       "dtype: object"
      ]
     },
     "execution_count": 84,
     "metadata": {},
     "output_type": "execute_result"
    }
   ],
   "source": [
    "df.dtypes"
   ]
  },
  {
   "cell_type": "markdown",
   "id": "e5f381ef-dc7b-4bfe-8761-ad407f20f58d",
   "metadata": {},
   "source": [
    "#### Summary of numerical variables"
   ]
  },
  {
   "cell_type": "code",
   "execution_count": 85,
   "id": "58287ffc-c295-4e63-9741-155332444ca5",
   "metadata": {},
   "outputs": [
    {
     "data": {
      "text/html": [
       "<div>\n",
       "<style scoped>\n",
       "    .dataframe tbody tr th:only-of-type {\n",
       "        vertical-align: middle;\n",
       "    }\n",
       "\n",
       "    .dataframe tbody tr th {\n",
       "        vertical-align: top;\n",
       "    }\n",
       "\n",
       "    .dataframe thead th {\n",
       "        text-align: right;\n",
       "    }\n",
       "</style>\n",
       "<table border=\"1\" class=\"dataframe\">\n",
       "  <thead>\n",
       "    <tr style=\"text-align: right;\">\n",
       "      <th></th>\n",
       "      <th>bathrooms</th>\n",
       "      <th>discount</th>\n",
       "      <th>price</th>\n",
       "      <th>rooms</th>\n",
       "      <th>sq_meters</th>\n",
       "      <th>neighbourhood_mean_price</th>\n",
       "    </tr>\n",
       "  </thead>\n",
       "  <tbody>\n",
       "    <tr>\n",
       "      <th>count</th>\n",
       "      <td>10928.000000</td>\n",
       "      <td>10928.000000</td>\n",
       "      <td>10924.000000</td>\n",
       "      <td>10928.000000</td>\n",
       "      <td>10928.000000</td>\n",
       "      <td>10926.000000</td>\n",
       "    </tr>\n",
       "    <tr>\n",
       "      <th>mean</th>\n",
       "      <td>1.521596</td>\n",
       "      <td>63.394674</td>\n",
       "      <td>1537.024075</td>\n",
       "      <td>2.417094</td>\n",
       "      <td>89.233895</td>\n",
       "      <td>1058.909173</td>\n",
       "    </tr>\n",
       "    <tr>\n",
       "      <th>std</th>\n",
       "      <td>0.806927</td>\n",
       "      <td>220.572511</td>\n",
       "      <td>1861.131693</td>\n",
       "      <td>1.192273</td>\n",
       "      <td>67.512399</td>\n",
       "      <td>207.089246</td>\n",
       "    </tr>\n",
       "    <tr>\n",
       "      <th>min</th>\n",
       "      <td>0.000000</td>\n",
       "      <td>0.000000</td>\n",
       "      <td>380.000000</td>\n",
       "      <td>0.000000</td>\n",
       "      <td>0.000000</td>\n",
       "      <td>419.427143</td>\n",
       "    </tr>\n",
       "    <tr>\n",
       "      <th>25%</th>\n",
       "      <td>1.000000</td>\n",
       "      <td>0.000000</td>\n",
       "      <td>920.000000</td>\n",
       "      <td>2.000000</td>\n",
       "      <td>59.000000</td>\n",
       "      <td>895.897039</td>\n",
       "    </tr>\n",
       "    <tr>\n",
       "      <th>50%</th>\n",
       "      <td>1.000000</td>\n",
       "      <td>0.000000</td>\n",
       "      <td>1150.000000</td>\n",
       "      <td>2.000000</td>\n",
       "      <td>75.000000</td>\n",
       "      <td>1004.723491</td>\n",
       "    </tr>\n",
       "    <tr>\n",
       "      <th>75%</th>\n",
       "      <td>2.000000</td>\n",
       "      <td>75.000000</td>\n",
       "      <td>1500.000000</td>\n",
       "      <td>3.000000</td>\n",
       "      <td>98.000000</td>\n",
       "      <td>1162.321630</td>\n",
       "    </tr>\n",
       "    <tr>\n",
       "      <th>max</th>\n",
       "      <td>11.000000</td>\n",
       "      <td>7627.000000</td>\n",
       "      <td>29000.000000</td>\n",
       "      <td>22.000000</td>\n",
       "      <td>1450.000000</td>\n",
       "      <td>1860.558980</td>\n",
       "    </tr>\n",
       "  </tbody>\n",
       "</table>\n",
       "</div>"
      ],
      "text/plain": [
       "          bathrooms      discount         price         rooms     sq_meters  \\\n",
       "count  10928.000000  10928.000000  10924.000000  10928.000000  10928.000000   \n",
       "mean       1.521596     63.394674   1537.024075      2.417094     89.233895   \n",
       "std        0.806927    220.572511   1861.131693      1.192273     67.512399   \n",
       "min        0.000000      0.000000    380.000000      0.000000      0.000000   \n",
       "25%        1.000000      0.000000    920.000000      2.000000     59.000000   \n",
       "50%        1.000000      0.000000   1150.000000      2.000000     75.000000   \n",
       "75%        2.000000     75.000000   1500.000000      3.000000     98.000000   \n",
       "max       11.000000   7627.000000  29000.000000     22.000000   1450.000000   \n",
       "\n",
       "       neighbourhood_mean_price  \n",
       "count              10926.000000  \n",
       "mean                1058.909173  \n",
       "std                  207.089246  \n",
       "min                  419.427143  \n",
       "25%                  895.897039  \n",
       "50%                 1004.723491  \n",
       "75%                 1162.321630  \n",
       "max                 1860.558980  "
      ]
     },
     "execution_count": 85,
     "metadata": {},
     "output_type": "execute_result"
    }
   ],
   "source": [
    "df.describe()"
   ]
  },
  {
   "cell_type": "markdown",
   "id": "2dc55369-1d01-4c65-ba05-521af9553b17",
   "metadata": {},
   "source": [
    "#### Summary of categorical variables"
   ]
  },
  {
   "cell_type": "code",
   "execution_count": 86,
   "id": "d8114e29-8092-4fa1-887e-ae7758e25b01",
   "metadata": {},
   "outputs": [
    {
     "data": {
      "text/html": [
       "<div>\n",
       "<style scoped>\n",
       "    .dataframe tbody tr th:only-of-type {\n",
       "        vertical-align: middle;\n",
       "    }\n",
       "\n",
       "    .dataframe tbody tr th {\n",
       "        vertical-align: top;\n",
       "    }\n",
       "\n",
       "    .dataframe thead th {\n",
       "        text-align: right;\n",
       "    }\n",
       "</style>\n",
       "<table border=\"1\" class=\"dataframe\">\n",
       "  <thead>\n",
       "    <tr style=\"text-align: right;\">\n",
       "      <th></th>\n",
       "      <th>building_subtype</th>\n",
       "      <th>building_type</th>\n",
       "      <th>conservation_state</th>\n",
       "      <th>floor_elevator</th>\n",
       "      <th>is_new_construction</th>\n",
       "      <th>real_estate</th>\n",
       "      <th>neighbourhood</th>\n",
       "    </tr>\n",
       "  </thead>\n",
       "  <tbody>\n",
       "    <tr>\n",
       "      <th>count</th>\n",
       "      <td>10928</td>\n",
       "      <td>10928</td>\n",
       "      <td>10928</td>\n",
       "      <td>10928</td>\n",
       "      <td>10928</td>\n",
       "      <td>10928</td>\n",
       "      <td>10928</td>\n",
       "    </tr>\n",
       "    <tr>\n",
       "      <th>unique</th>\n",
       "      <td>10</td>\n",
       "      <td>1</td>\n",
       "      <td>6</td>\n",
       "      <td>2</td>\n",
       "      <td>2</td>\n",
       "      <td>1116</td>\n",
       "      <td>67</td>\n",
       "    </tr>\n",
       "    <tr>\n",
       "      <th>top</th>\n",
       "      <td>Flat</td>\n",
       "      <td>Flat</td>\n",
       "      <td>0</td>\n",
       "      <td>True</td>\n",
       "      <td>False</td>\n",
       "      <td>ENGEL &amp; VOELKERS</td>\n",
       "      <td>la dreta de l'eixample</td>\n",
       "    </tr>\n",
       "    <tr>\n",
       "      <th>freq</th>\n",
       "      <td>8756</td>\n",
       "      <td>10928</td>\n",
       "      <td>5991</td>\n",
       "      <td>7858</td>\n",
       "      <td>10836</td>\n",
       "      <td>832</td>\n",
       "      <td>913</td>\n",
       "    </tr>\n",
       "  </tbody>\n",
       "</table>\n",
       "</div>"
      ],
      "text/plain": [
       "       building_subtype building_type  conservation_state floor_elevator  \\\n",
       "count             10928         10928               10928          10928   \n",
       "unique               10             1                   6              2   \n",
       "top                Flat          Flat                   0           True   \n",
       "freq               8756         10928                5991           7858   \n",
       "\n",
       "       is_new_construction       real_estate           neighbourhood  \n",
       "count                10928             10928                   10928  \n",
       "unique                   2              1116                      67  \n",
       "top                  False  ENGEL & VOELKERS  la dreta de l'eixample  \n",
       "freq                 10836               832                     913  "
      ]
     },
     "execution_count": 86,
     "metadata": {},
     "output_type": "execute_result"
    }
   ],
   "source": [
    "df.describe(include = ['category', 'bool'])"
   ]
  },
  {
   "cell_type": "markdown",
   "id": "8da790f4-b23b-4795-b700-345b57e77363",
   "metadata": {},
   "source": [
    "#### Check levels of categorical variables"
   ]
  },
  {
   "cell_type": "markdown",
   "id": "8ced1037-e719-4a73-b652-4c846677fb3b",
   "metadata": {
    "tags": []
   },
   "source": [
    "##### building_type\n",
    "We remove it since it only has 1 unique value."
   ]
  },
  {
   "cell_type": "code",
   "execution_count": 87,
   "id": "d4e04b59-3f10-428e-a9ac-7a169ea87077",
   "metadata": {},
   "outputs": [],
   "source": [
    "df = df.drop(['building_type'], axis = 1)"
   ]
  },
  {
   "cell_type": "markdown",
   "id": "196af1a3-f592-44b8-b38f-56d1bc730f15",
   "metadata": {},
   "source": [
    "##### building_subtype\n",
    "There are 10 different [sub]types of building. Most of them are flats."
   ]
  },
  {
   "cell_type": "code",
   "execution_count": 88,
   "id": "3f3f2cc8-7cbf-4b49-93e7-786f154e56f3",
   "metadata": {},
   "outputs": [
    {
     "data": {
      "text/plain": [
       "Flat                     8756\n",
       "Apartment                1129\n",
       "Attic                     461\n",
       "Duplex                    194\n",
       "Loft                      141\n",
       "Study                     102\n",
       "House_Chalet               80\n",
       "GroundFloorWithGarden      41\n",
       "SemidetachedHouse          14\n",
       "SemiDetached               10\n",
       "Name: building_subtype, dtype: int64"
      ]
     },
     "execution_count": 88,
     "metadata": {},
     "output_type": "execute_result"
    }
   ],
   "source": [
    "df['building_subtype'].value_counts()"
   ]
  },
  {
   "cell_type": "markdown",
   "id": "f151af24-eb1c-421a-86bc-62a99545c119",
   "metadata": {},
   "source": [
    "##### conservation_state\n",
    "There are 6 different conservation states in Fotocasa classification. We properly re-encode them as they are displayed on their website. Most of the homes are new constructions, surprisingly."
   ]
  },
  {
   "cell_type": "code",
   "execution_count": 89,
   "id": "29d21f19-1e37-48ad-8479-64bd3184ccc2",
   "metadata": {},
   "outputs": [
    {
     "data": {
      "text/plain": [
       "0    5991\n",
       "1    1859\n",
       "2    1554\n",
       "3    1449\n",
       "8      59\n",
       "4      16\n",
       "Name: conservation_state, dtype: int64"
      ]
     },
     "execution_count": 89,
     "metadata": {},
     "output_type": "execute_result"
    }
   ],
   "source": [
    "df['conservation_state'].value_counts()"
   ]
  },
  {
   "cell_type": "code",
   "execution_count": 90,
   "id": "f73ee5a4-32b2-49ea-b81e-409c5f13ec6c",
   "metadata": {},
   "outputs": [
    {
     "data": {
      "text/plain": [
       "New construction    5991\n",
       "Nearly new          1859\n",
       "Very good           1554\n",
       "Good                1449\n",
       "Renovated             59\n",
       "To renovate           16\n",
       "Name: conservation_state, dtype: int64"
      ]
     },
     "execution_count": 90,
     "metadata": {},
     "output_type": "execute_result"
    }
   ],
   "source": [
    "df['conservation_state'] = df['conservation_state'].replace({\n",
    "    0: 'New construction', \n",
    "    1: 'Nearly new', \n",
    "    2: 'Very good', \n",
    "    3: 'Good', \n",
    "    4: 'To renovate', \n",
    "    8: 'Renovated'\n",
    "  })\n",
    "df['conservation_state'].value_counts()"
   ]
  },
  {
   "cell_type": "markdown",
   "id": "fcb52d12-f1bb-4de8-a5d4-e88366901286",
   "metadata": {},
   "source": [
    "##### floor_elevator\n",
    "Most of the homes have an elevator."
   ]
  },
  {
   "cell_type": "code",
   "execution_count": 91,
   "id": "22bd91ac-48dc-4e4d-b176-7f81ac215779",
   "metadata": {},
   "outputs": [
    {
     "data": {
      "text/plain": [
       "True     7858\n",
       "False    3070\n",
       "Name: floor_elevator, dtype: int64"
      ]
     },
     "execution_count": 91,
     "metadata": {},
     "output_type": "execute_result"
    }
   ],
   "source": [
    "df['floor_elevator'].value_counts()"
   ]
  },
  {
   "cell_type": "markdown",
   "id": "fb2dfcf3-c1bc-4688-ada5-9c1246094395",
   "metadata": {},
   "source": [
    "##### is_new_construction\n",
    "Almost no house is newly constructed according to this variable. This contradicts what the variable 'conservation_state' indicates."
   ]
  },
  {
   "cell_type": "code",
   "execution_count": 92,
   "id": "072374a2-60c6-421c-bf4f-3f98a701c878",
   "metadata": {},
   "outputs": [
    {
     "data": {
      "text/plain": [
       "False    10836\n",
       "True        92\n",
       "Name: is_new_construction, dtype: int64"
      ]
     },
     "execution_count": 92,
     "metadata": {},
     "output_type": "execute_result"
    }
   ],
   "source": [
    "df['is_new_construction'].value_counts()"
   ]
  },
  {
   "cell_type": "markdown",
   "id": "51ed6679-02a6-4f46-b6fd-ae067eb3e22a",
   "metadata": {},
   "source": [
    "##### real_estate\n",
    "There are 1116 different real_estate agencies. Some of them concentrate most of the homes. There are some missing ones."
   ]
  },
  {
   "cell_type": "code",
   "execution_count": 93,
   "id": "6f612a5e-f798-4ed2-86e5-ce844ce565f7",
   "metadata": {},
   "outputs": [
    {
     "data": {
      "text/plain": [
       "1116"
      ]
     },
     "execution_count": 93,
     "metadata": {},
     "output_type": "execute_result"
    }
   ],
   "source": [
    "len(df['real_estate'].unique())"
   ]
  },
  {
   "cell_type": "code",
   "execution_count": 94,
   "id": "13f0c9e6-13fd-4ac3-9efb-7f401a59f81a",
   "metadata": {},
   "outputs": [
    {
     "data": {
      "text/plain": [
       "ENGEL & VOELKERS                         832\n",
       "APROPERTIES REAL ESTATE Nº Aicat 6388    509\n",
       "SH BARCELONA                             472\n",
       "AREA CASA                                337\n",
       "Homelike                                 325\n",
       "ALL4FLAT                                 206\n",
       "MONIKA RÜSCH                             179\n",
       "NaN                                      172\n",
       "PUNTO HABITAT                            163\n",
       "DOMINGUEZ                                148\n",
       "Name: real_estate, dtype: int64"
      ]
     },
     "execution_count": 94,
     "metadata": {},
     "output_type": "execute_result"
    }
   ],
   "source": [
    "df['real_estate'].value_counts()[:10]"
   ]
  },
  {
   "cell_type": "code",
   "execution_count": 95,
   "id": "7eaef7ac-bc1f-4366-8dfa-2af092c516d3",
   "metadata": {},
   "outputs": [
    {
     "data": {
      "text/plain": [
       "172"
      ]
     },
     "execution_count": 95,
     "metadata": {},
     "output_type": "execute_result"
    }
   ],
   "source": [
    "sum(df['real_estate'] == 'NaN')"
   ]
  },
  {
   "cell_type": "markdown",
   "id": "962b2ead-7a9b-4454-a577-6c9a6d288f7a",
   "metadata": {},
   "source": [
    "##### neighbourhood\n",
    "The database contains homes in 67 out of the 73  neighboourhoods of Barcelona. 2 rows do not have a neighbourhood set."
   ]
  },
  {
   "cell_type": "code",
   "execution_count": 96,
   "id": "240e9bfc-9615-4950-8d35-31a10e012c26",
   "metadata": {},
   "outputs": [
    {
     "data": {
      "text/plain": [
       "67"
      ]
     },
     "execution_count": 96,
     "metadata": {},
     "output_type": "execute_result"
    }
   ],
   "source": [
    "len(df['neighbourhood'].unique().tolist())"
   ]
  },
  {
   "cell_type": "code",
   "execution_count": 97,
   "id": "76d57a52-a62d-4303-9922-e18e431a9166",
   "metadata": {},
   "outputs": [
    {
     "data": {
      "text/plain": [
       "2"
      ]
     },
     "execution_count": 97,
     "metadata": {},
     "output_type": "execute_result"
    }
   ],
   "source": [
    "sum(df['neighbourhood'] == 'NaN')"
   ]
  },
  {
   "cell_type": "markdown",
   "id": "8cd69903-7897-4808-8614-a94deb8b5148",
   "metadata": {},
   "source": [
    "### Remove duplicates"
   ]
  },
  {
   "cell_type": "markdown",
   "id": "559a12a1-f72b-49ee-bca1-b831f2958360",
   "metadata": {},
   "source": [
    "There is an important amount of duplicates (more than a thousand). We remove them."
   ]
  },
  {
   "cell_type": "code",
   "execution_count": 98,
   "id": "d11fd6eb-0a77-4189-8b98-1c94efdb87d9",
   "metadata": {},
   "outputs": [
    {
     "data": {
      "text/plain": [
       "1183"
      ]
     },
     "execution_count": 98,
     "metadata": {},
     "output_type": "execute_result"
    }
   ],
   "source": [
    "sum(df.iloc[:, 1:].duplicated())"
   ]
  },
  {
   "cell_type": "code",
   "execution_count": 99,
   "id": "faae9d30-22df-4277-a0a5-3382c67b8cdb",
   "metadata": {},
   "outputs": [
    {
     "data": {
      "text/plain": [
       "9745"
      ]
     },
     "execution_count": 99,
     "metadata": {},
     "output_type": "execute_result"
    }
   ],
   "source": [
    "df = df[-df.iloc[:, 1:].duplicated()]\n",
    "len(df)"
   ]
  },
  {
   "cell_type": "markdown",
   "id": "04cb6345-b69c-4e66-9f9f-c50e7acf9197",
   "metadata": {},
   "source": [
    "### Check missing values"
   ]
  },
  {
   "cell_type": "markdown",
   "id": "2599aae5-12cc-405a-8154-6a531945f46c",
   "metadata": {},
   "source": [
    "##### Count missing values"
   ]
  },
  {
   "cell_type": "code",
   "execution_count": 100,
   "id": "9ead1a89-1bf6-4197-85d5-f26b929d61be",
   "metadata": {},
   "outputs": [
    {
     "data": {
      "text/plain": [
       "id                            0\n",
       "address                       0\n",
       "bathrooms                     0\n",
       "building_subtype              0\n",
       "conservation_state            0\n",
       "discount                      0\n",
       "floor_elevator                0\n",
       "is_new_construction           0\n",
       "price                         4\n",
       "real_estate                 172\n",
       "real_estate_id                0\n",
       "rooms                         0\n",
       "sq_meters                     0\n",
       "neighbourhood                 2\n",
       "neighbourhood_mean_price      2\n",
       "dtype: int64"
      ]
     },
     "execution_count": 100,
     "metadata": {},
     "output_type": "execute_result"
    }
   ],
   "source": [
    "df = df.replace('NaN', np.nan, regex=True)\n",
    "df.isna().sum()"
   ]
  },
  {
   "cell_type": "markdown",
   "id": "e8f400a6-c20d-4f4b-b57f-271eca763519",
   "metadata": {},
   "source": [
    "##### Manually correct 2 missings in neighbourhood and neighbourhood_mean_price"
   ]
  },
  {
   "cell_type": "code",
   "execution_count": 101,
   "id": "a4863771-0638-4179-a0fe-5d1b7f4eb22a",
   "metadata": {
    "tags": []
   },
   "outputs": [
    {
     "data": {
      "text/html": [
       "<div>\n",
       "<style scoped>\n",
       "    .dataframe tbody tr th:only-of-type {\n",
       "        vertical-align: middle;\n",
       "    }\n",
       "\n",
       "    .dataframe tbody tr th {\n",
       "        vertical-align: top;\n",
       "    }\n",
       "\n",
       "    .dataframe thead th {\n",
       "        text-align: right;\n",
       "    }\n",
       "</style>\n",
       "<table border=\"1\" class=\"dataframe\">\n",
       "  <thead>\n",
       "    <tr style=\"text-align: right;\">\n",
       "      <th></th>\n",
       "      <th>id</th>\n",
       "      <th>address</th>\n",
       "      <th>bathrooms</th>\n",
       "      <th>building_subtype</th>\n",
       "      <th>conservation_state</th>\n",
       "      <th>discount</th>\n",
       "      <th>floor_elevator</th>\n",
       "      <th>is_new_construction</th>\n",
       "      <th>price</th>\n",
       "      <th>real_estate</th>\n",
       "      <th>real_estate_id</th>\n",
       "      <th>rooms</th>\n",
       "      <th>sq_meters</th>\n",
       "      <th>neighbourhood</th>\n",
       "      <th>neighbourhood_mean_price</th>\n",
       "    </tr>\n",
       "  </thead>\n",
       "  <tbody>\n",
       "    <tr>\n",
       "      <th>970</th>\n",
       "      <td>968</td>\n",
       "      <td>Avenida Meridiana, 256, Sant Andreu</td>\n",
       "      <td>1</td>\n",
       "      <td>Flat</td>\n",
       "      <td>New construction</td>\n",
       "      <td>0</td>\n",
       "      <td>True</td>\n",
       "      <td>True</td>\n",
       "      <td>1443.0</td>\n",
       "      <td>NUÑEZ I NAVARRO</td>\n",
       "      <td>9202756861499</td>\n",
       "      <td>2</td>\n",
       "      <td>69.0</td>\n",
       "      <td>NaN</td>\n",
       "      <td>NaN</td>\n",
       "    </tr>\n",
       "    <tr>\n",
       "      <th>9381</th>\n",
       "      <td>9380</td>\n",
       "      <td>Zona Franca - Port</td>\n",
       "      <td>1</td>\n",
       "      <td>Study</td>\n",
       "      <td>Very good</td>\n",
       "      <td>0</td>\n",
       "      <td>True</td>\n",
       "      <td>False</td>\n",
       "      <td>550.0</td>\n",
       "      <td>LORDA ADMINSTRACION FINCAS</td>\n",
       "      <td>9202753020505</td>\n",
       "      <td>1</td>\n",
       "      <td>23.0</td>\n",
       "      <td>NaN</td>\n",
       "      <td>NaN</td>\n",
       "    </tr>\n",
       "  </tbody>\n",
       "</table>\n",
       "</div>"
      ],
      "text/plain": [
       "        id                              address  bathrooms building_subtype  \\\n",
       "970    968  Avenida Meridiana, 256, Sant Andreu          1             Flat   \n",
       "9381  9380                   Zona Franca - Port          1            Study   \n",
       "\n",
       "     conservation_state  discount  floor_elevator  is_new_construction  \\\n",
       "970    New construction         0            True                 True   \n",
       "9381          Very good         0            True                False   \n",
       "\n",
       "       price                 real_estate real_estate_id  rooms  sq_meters  \\\n",
       "970   1443.0             NUÑEZ I NAVARRO  9202756861499      2       69.0   \n",
       "9381   550.0  LORDA ADMINSTRACION FINCAS  9202753020505      1       23.0   \n",
       "\n",
       "     neighbourhood  neighbourhood_mean_price  \n",
       "970            NaN                       NaN  \n",
       "9381           NaN                       NaN  "
      ]
     },
     "execution_count": 101,
     "metadata": {},
     "output_type": "execute_result"
    }
   ],
   "source": [
    "df[df['neighbourhood'].isna()]"
   ]
  },
  {
   "cell_type": "code",
   "execution_count": 102,
   "id": "736cc199-2956-43b2-be61-ff1a529785d0",
   "metadata": {},
   "outputs": [],
   "source": [
    "df.loc[df['id'] == 968, 'neighbourhood'] = 'sant andreu'\n",
    "df.loc[df['id'] == 9380, 'neighbourhood'] = 'la marina de port'"
   ]
  },
  {
   "cell_type": "code",
   "execution_count": 103,
   "id": "8e8c6f16-c08a-4452-9479-3b47ce483d88",
   "metadata": {
    "tags": []
   },
   "outputs": [],
   "source": [
    "df.loc[df['id'] == 968, 'neighbourhood_mean_price'] = df[df['neighbourhood'] == 'sant andreu']['neighbourhood_mean_price'].mean()\n",
    "df.loc[df['id'] == 9380, 'neighbourhood_mean_price'] = df[df['neighbourhood'] == 'la marina de port']['neighbourhood_mean_price'].mean()"
   ]
  },
  {
   "cell_type": "markdown",
   "id": "f9968303-3711-4a43-9538-a92f134cc21a",
   "metadata": {},
   "source": [
    "##### Remove 4 rows with missing price (since it is the target)"
   ]
  },
  {
   "cell_type": "code",
   "execution_count": 104,
   "id": "8e6a3f5c-be7b-4cbb-bcaa-16fd8e66c6c6",
   "metadata": {},
   "outputs": [],
   "source": [
    "df = df[-df['price'].isna()]"
   ]
  },
  {
   "cell_type": "markdown",
   "id": "7553b20f-0d3e-4163-9181-3deb30fd04ce",
   "metadata": {},
   "source": [
    "##### Check missings in real_estate"
   ]
  },
  {
   "cell_type": "markdown",
   "id": "475dbf66-25d6-4af2-a69f-e6e9be92cdd3",
   "metadata": {},
   "source": [
    "We observe that there are no missing real_estate_ids but there are some missing real_estate names.\n",
    "Each real_estate_id corresponds to a single real_estate name (so it seems that there are no typos).\n",
    "\n",
    "Therefore, from now on, we will use real_estate names as a complementary information (may be useful in plots, for example) but in the modelling phase only real_estate_id will be indicated for use."
   ]
  },
  {
   "cell_type": "code",
   "execution_count": 105,
   "id": "9d15a52a-63e4-4d0d-8ff3-9b0366f69cb5",
   "metadata": {},
   "outputs": [
    {
     "name": "stdout",
     "output_type": "stream",
     "text": [
      "0 1\n"
     ]
    }
   ],
   "source": [
    "l = df.groupby('real_estate_id')['real_estate'].nunique()\n",
    "print(min(l), max(l))"
   ]
  },
  {
   "cell_type": "markdown",
   "id": "95a31e27-e9d0-44ef-b211-bf652e1b0555",
   "metadata": {},
   "source": [
    "We are now left with missing values only in real_estate, as explained above."
   ]
  },
  {
   "cell_type": "code",
   "execution_count": 106,
   "id": "51a98698-effe-4049-a886-38d80a6a36e0",
   "metadata": {},
   "outputs": [
    {
     "data": {
      "text/plain": [
       "id                            0\n",
       "address                       0\n",
       "bathrooms                     0\n",
       "building_subtype              0\n",
       "conservation_state            0\n",
       "discount                      0\n",
       "floor_elevator                0\n",
       "is_new_construction           0\n",
       "price                         0\n",
       "real_estate                 171\n",
       "real_estate_id                0\n",
       "rooms                         0\n",
       "sq_meters                     0\n",
       "neighbourhood                 0\n",
       "neighbourhood_mean_price      0\n",
       "dtype: int64"
      ]
     },
     "execution_count": 106,
     "metadata": {},
     "output_type": "execute_result"
    }
   ],
   "source": [
    "df.isna().sum()"
   ]
  }
 ],
 "metadata": {
  "kernelspec": {
   "display_name": "Python 3 (ipykernel)",
   "language": "python",
   "name": "python3"
  },
  "language_info": {
   "codemirror_mode": {
    "name": "ipython",
    "version": 3
   },
   "file_extension": ".py",
   "mimetype": "text/x-python",
   "name": "python",
   "nbconvert_exporter": "python",
   "pygments_lexer": "ipython3",
   "version": "3.9.7"
  }
 },
 "nbformat": 4,
 "nbformat_minor": 5
}
