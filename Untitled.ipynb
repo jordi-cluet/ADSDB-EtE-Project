{
 "cells": [
  {
   "cell_type": "code",
   "execution_count": 1,
   "id": "3eb48b7c-313e-4253-9764-4644cce79ea8",
   "metadata": {},
   "outputs": [],
   "source": [
    "a = 'data/zenodo_fotocasa_2020_21-12-06_formatted.csv'"
   ]
  },
  {
   "cell_type": "code",
   "execution_count": 2,
   "id": "117a7db3-c5d0-44f6-8f39-b5e0375397a0",
   "metadata": {},
   "outputs": [],
   "source": [
    "import os"
   ]
  },
  {
   "cell_type": "code",
   "execution_count": 11,
   "id": "9678419b-5667-43fb-9e28-412b53a90bc0",
   "metadata": {},
   "outputs": [
    {
     "data": {
      "text/plain": [
       "'zenodo_fotocasa_2020_21-12-06_formatted'"
      ]
     },
     "execution_count": 11,
     "metadata": {},
     "output_type": "execute_result"
    }
   ],
   "source": [
    "os.path.basename(a).rsplit('.')[0]"
   ]
  }
 ],
 "metadata": {
  "kernelspec": {
   "display_name": "Python 3 (ipykernel)",
   "language": "python",
   "name": "python3"
  },
  "language_info": {
   "codemirror_mode": {
    "name": "ipython",
    "version": 3
   },
   "file_extension": ".py",
   "mimetype": "text/x-python",
   "name": "python",
   "nbconvert_exporter": "python",
   "pygments_lexer": "ipython3",
   "version": "3.9.7"
  }
 },
 "nbformat": 4,
 "nbformat_minor": 5
}
