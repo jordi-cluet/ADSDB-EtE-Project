{
 "cells": [
  {
   "cell_type": "markdown",
   "id": "6074cdac-a729-4037-b534-8844dd74dc47",
   "metadata": {},
   "source": [
    "#### Import libraries and packages"
   ]
  },
  {
   "cell_type": "code",
   "execution_count": 1,
   "id": "ca2b6f62-85f8-4313-8571-417cac579420",
   "metadata": {},
   "outputs": [],
   "source": [
    "import psycopg2\n",
    "import psycopg2.extras as extras\n",
    "import pandas as pd\n",
    "import numpy as np"
   ]
  },
  {
   "cell_type": "markdown",
   "id": "9557d86b-c42c-42bf-ab9a-34892381c451",
   "metadata": {},
   "source": [
    "#### Set connection with postgres database"
   ]
  },
  {
   "cell_type": "code",
   "execution_count": 2,
   "id": "0148e8ee-601c-48e4-9124-22975d4c4362",
   "metadata": {},
   "outputs": [],
   "source": [
    "host = 'postgresfib.fib.upc.edu'\n",
    "dbname = 'ADSDBjordi.cluet'\n",
    "user = 'jordi.cluet'\n",
    "pwd = 'DB151199'\n",
    "port = 6433\n",
    "sslmode = 'require'\n",
    "\n",
    "conn = psycopg2.connect(\"host='{}' port={} dbname='{}' user={} password={}\".format(host, port, dbname, user, pwd))\n",
    "cursor = conn.cursor()"
   ]
  },
  {
   "cell_type": "markdown",
   "id": "12aad633-74cb-4835-b266-4307a7445b1f",
   "metadata": {},
   "source": [
    "---"
   ]
  },
  {
   "cell_type": "markdown",
   "id": "2dd32c9c-8168-48fe-ab7f-8727e711d74c",
   "metadata": {},
   "source": [
    "## Load housing table into formatted zone"
   ]
  },
  {
   "cell_type": "markdown",
   "id": "a66a4dd4-b04b-4913-aa06-2febe6c966e0",
   "metadata": {},
   "source": [
    "##### Read dataframe from CSV file"
   ]
  },
  {
   "cell_type": "code",
   "execution_count": 3,
   "id": "fccfcc8d-bf80-48cc-aaed-1e82ac42d0cb",
   "metadata": {},
   "outputs": [
    {
     "data": {
      "text/plain": [
       "Index(['ID', 'address', 'bathrooms', 'building_subtype', 'building_type',\n",
       "       'conservation_state', 'extraction_date', 'discount', 'floor_elevator',\n",
       "       'is_new_construction', 'link', 'price', 'real_estate', 'real_estate_id',\n",
       "       'rooms', 'sq_meters', 'neighbourhood', 'neighbourhood_mean_price'],\n",
       "      dtype='object')"
      ]
     },
     "execution_count": 3,
     "metadata": {},
     "output_type": "execute_result"
    }
   ],
   "source": [
    "df = pd.read_csv('data/zenodo_fotocasa_2020_21-12-06_formatted.csv')\n",
    "df.columns"
   ]
  },
  {
   "cell_type": "markdown",
   "id": "1134fb3e-c3fa-4932-9aa5-e1ca9edf38cf",
   "metadata": {},
   "source": [
    "##### Create formatted_zone schema if it does not exist"
   ]
  },
  {
   "cell_type": "code",
   "execution_count": 4,
   "id": "1a93b90e-c3ee-4880-927d-21cf499f7055",
   "metadata": {},
   "outputs": [],
   "source": [
    "create_formatted_zone = \"\"\"CREATE SCHEMA IF NOT EXISTS formatted_zone;\"\"\"\n",
    "cursor.execute(create_formatted_zone)\n",
    "conn.commit()"
   ]
  },
  {
   "cell_type": "markdown",
   "id": "02a1663e-36eb-45be-bb0f-7d4271d8c4ed",
   "metadata": {},
   "source": [
    "##### Create new table in PostgreSQL database"
   ]
  },
  {
   "cell_type": "code",
   "execution_count": 5,
   "id": "65b6901d-bad6-4896-a526-a40d7708c74a",
   "metadata": {},
   "outputs": [],
   "source": [
    "sqlCreateTable = \"\"\"CREATE TABLE IF NOT EXISTS formatted_zone.zenodo_fotocasa_2020_21_12_06 (\n",
    "    ID INTEGER PRIMARY KEY,\n",
    "    ADDRESS VARCHAR(80),\n",
    "    BATHROOMS INTEGER,\n",
    "    BUILDING_SUBTYPE VARCHAR(30),\n",
    "    BUILDING_TYPE VARCHAR(4),\n",
    "    CONSERVATION_STATE INTEGER,\n",
    "    EXTRACTION_DATE DATE,\n",
    "    DISCOUNT INTEGER,\n",
    "    FLOOR_ELEVATOR INTEGER,\n",
    "    IS_NEW_CONSTRUCTION BOOLEAN,\n",
    "    LINK VARCHAR(255),\n",
    "    PRICE FLOAT,\n",
    "    REAL_ESTATE VARCHAR(55),\n",
    "    REAL_ESTATE_ID VARCHAR(15),\n",
    "    ROOMS INTEGER,\n",
    "    SQ_METERS FLOAT,\n",
    "    NEIGHBOURHOOD VARCHAR(45),\n",
    "    NEIGHBOURHOOD_MEAN_PRICE FLOAT\n",
    ");\"\"\"\n",
    "cursor.execute(sqlCreateTable)\n",
    "conn.commit()"
   ]
  },
  {
   "cell_type": "markdown",
   "id": "6218d15d-f189-4fef-b317-937221715fcb",
   "metadata": {},
   "source": [
    "##### Insert rows into table"
   ]
  },
  {
   "cell_type": "code",
   "execution_count": 6,
   "id": "c9f4de1d-caac-4a96-940a-2b3e6dc35fc6",
   "metadata": {
    "tags": []
   },
   "outputs": [],
   "source": [
    "def execute_values(conn, df, table):\n",
    "  \n",
    "    tuples = [tuple(x) for x in df.to_numpy()]\n",
    "  \n",
    "    cols = ','.join(list(df.columns))\n",
    "    # SQL query to execute\n",
    "    query = \"INSERT INTO %s(%s) VALUES %%s\" % (table, cols)\n",
    "    cursor = conn.cursor()\n",
    "    try:\n",
    "        extras.execute_values(cursor, query, tuples)\n",
    "        conn.commit()\n",
    "    except (Exception, psycopg2.DatabaseError) as error:\n",
    "        print(\"Error: %s\" % error)\n",
    "        conn.rollback()\n",
    "        cursor.close()\n",
    "        return 1\n",
    "    print(\"The dataframe was correctly inserted\")\n",
    "    cursor.close()"
   ]
  },
  {
   "cell_type": "code",
   "execution_count": 7,
   "id": "6ee1d6c0-4c14-4ae7-8b49-8dcb3ea46993",
   "metadata": {},
   "outputs": [
    {
     "name": "stdout",
     "output_type": "stream",
     "text": [
      "The dataframe was correctly inserted\n"
     ]
    }
   ],
   "source": [
    "execute_values(conn, df, 'formatted_zone.zenodo_fotocasa_2020_21_12_06')"
   ]
  },
  {
   "cell_type": "markdown",
   "id": "85dc6453-a7fd-4c56-991c-70ed59fd28be",
   "metadata": {},
   "source": [
    "##### Check correct insertion"
   ]
  },
  {
   "cell_type": "code",
   "execution_count": 8,
   "id": "aae7f8cc-4547-4736-87f7-e8338f9d90a6",
   "metadata": {},
   "outputs": [
    {
     "data": {
      "text/html": [
       "<div>\n",
       "<style scoped>\n",
       "    .dataframe tbody tr th:only-of-type {\n",
       "        vertical-align: middle;\n",
       "    }\n",
       "\n",
       "    .dataframe tbody tr th {\n",
       "        vertical-align: top;\n",
       "    }\n",
       "\n",
       "    .dataframe thead th {\n",
       "        text-align: right;\n",
       "    }\n",
       "</style>\n",
       "<table border=\"1\" class=\"dataframe\">\n",
       "  <thead>\n",
       "    <tr style=\"text-align: right;\">\n",
       "      <th></th>\n",
       "      <th>id</th>\n",
       "      <th>address</th>\n",
       "      <th>bathrooms</th>\n",
       "      <th>building_subtype</th>\n",
       "      <th>building_type</th>\n",
       "      <th>conservation_state</th>\n",
       "      <th>extraction_date</th>\n",
       "      <th>discount</th>\n",
       "      <th>floor_elevator</th>\n",
       "      <th>is_new_construction</th>\n",
       "      <th>link</th>\n",
       "      <th>price</th>\n",
       "      <th>real_estate</th>\n",
       "      <th>real_estate_id</th>\n",
       "      <th>rooms</th>\n",
       "      <th>sq_meters</th>\n",
       "      <th>neighbourhood</th>\n",
       "      <th>neighbourhood_mean_price</th>\n",
       "    </tr>\n",
       "  </thead>\n",
       "  <tbody>\n",
       "    <tr>\n",
       "      <th>0</th>\n",
       "      <td>0</td>\n",
       "      <td>Carrer Roger de Lluria, Dreta de l'Eixample</td>\n",
       "      <td>3</td>\n",
       "      <td>Flat</td>\n",
       "      <td>Flat</td>\n",
       "      <td>0</td>\n",
       "      <td>2020-10-28</td>\n",
       "      <td>0</td>\n",
       "      <td>1</td>\n",
       "      <td>False</td>\n",
       "      <td>/es/alquiler/vivienda/barcelona-capital/calefa...</td>\n",
       "      <td>5000.0</td>\n",
       "      <td>SOMOS REAL ESTATE SERVICES</td>\n",
       "      <td>9202765680731</td>\n",
       "      <td>3</td>\n",
       "      <td>208.0</td>\n",
       "      <td>la dreta de l'eixample</td>\n",
       "      <td>1307.616842</td>\n",
       "    </tr>\n",
       "    <tr>\n",
       "      <th>1</th>\n",
       "      <td>1</td>\n",
       "      <td>Sant Antoni</td>\n",
       "      <td>1</td>\n",
       "      <td>Flat</td>\n",
       "      <td>Flat</td>\n",
       "      <td>1</td>\n",
       "      <td>2020-10-28</td>\n",
       "      <td>0</td>\n",
       "      <td>1</td>\n",
       "      <td>False</td>\n",
       "      <td>/es/alquiler/vivienda/barcelona-capital/aire-a...</td>\n",
       "      <td>1250.0</td>\n",
       "      <td>TECNOCASA RIERA ALTA MAR</td>\n",
       "      <td>9202751363773</td>\n",
       "      <td>3</td>\n",
       "      <td>93.0</td>\n",
       "      <td>sant antoni</td>\n",
       "      <td>994.909158</td>\n",
       "    </tr>\n",
       "    <tr>\n",
       "      <th>2</th>\n",
       "      <td>2</td>\n",
       "      <td>Carrer Valencia, La Nova Esquerra de l'Eixample</td>\n",
       "      <td>2</td>\n",
       "      <td>Flat</td>\n",
       "      <td>Flat</td>\n",
       "      <td>0</td>\n",
       "      <td>2020-10-28</td>\n",
       "      <td>0</td>\n",
       "      <td>1</td>\n",
       "      <td>False</td>\n",
       "      <td>/es/alquiler/vivienda/barcelona-capital/calefa...</td>\n",
       "      <td>1600.0</td>\n",
       "      <td>SOMOS REAL ESTATE SERVICES</td>\n",
       "      <td>9202765680731</td>\n",
       "      <td>4</td>\n",
       "      <td>129.0</td>\n",
       "      <td>la nova esquerra de l'eixample</td>\n",
       "      <td>1053.832393</td>\n",
       "    </tr>\n",
       "    <tr>\n",
       "      <th>3</th>\n",
       "      <td>3</td>\n",
       "      <td>Carrer Muntaner, Sant Gervasi- Galvany</td>\n",
       "      <td>2</td>\n",
       "      <td>Flat</td>\n",
       "      <td>Flat</td>\n",
       "      <td>0</td>\n",
       "      <td>2020-10-28</td>\n",
       "      <td>0</td>\n",
       "      <td>1</td>\n",
       "      <td>False</td>\n",
       "      <td>/es/alquiler/vivienda/barcelona-capital/aire-a...</td>\n",
       "      <td>3200.0</td>\n",
       "      <td>SOMOS REAL ESTATE SERVICES</td>\n",
       "      <td>9202765680731</td>\n",
       "      <td>2</td>\n",
       "      <td>133.0</td>\n",
       "      <td>sant gervasi - galvany</td>\n",
       "      <td>1397.273005</td>\n",
       "    </tr>\n",
       "    <tr>\n",
       "      <th>4</th>\n",
       "      <td>4</td>\n",
       "      <td>Rambla del Raval, El Raval</td>\n",
       "      <td>1</td>\n",
       "      <td>Flat</td>\n",
       "      <td>Flat</td>\n",
       "      <td>2</td>\n",
       "      <td>2020-10-28</td>\n",
       "      <td>0</td>\n",
       "      <td>1</td>\n",
       "      <td>False</td>\n",
       "      <td>/es/alquiler/vivienda/barcelona-capital/ascens...</td>\n",
       "      <td>1000.0</td>\n",
       "      <td>ESTUDI JOAN MIRO.SL.</td>\n",
       "      <td>9202762439813</td>\n",
       "      <td>3</td>\n",
       "      <td>67.0</td>\n",
       "      <td>el raval</td>\n",
       "      <td>850.112343</td>\n",
       "    </tr>\n",
       "  </tbody>\n",
       "</table>\n",
       "</div>"
      ],
      "text/plain": [
       "   id                                          address  bathrooms  \\\n",
       "0   0      Carrer Roger de Lluria, Dreta de l'Eixample          3   \n",
       "1   1                                      Sant Antoni          1   \n",
       "2   2  Carrer Valencia, La Nova Esquerra de l'Eixample          2   \n",
       "3   3           Carrer Muntaner, Sant Gervasi- Galvany          2   \n",
       "4   4                       Rambla del Raval, El Raval          1   \n",
       "\n",
       "  building_subtype building_type  conservation_state extraction_date  \\\n",
       "0             Flat          Flat                   0      2020-10-28   \n",
       "1             Flat          Flat                   1      2020-10-28   \n",
       "2             Flat          Flat                   0      2020-10-28   \n",
       "3             Flat          Flat                   0      2020-10-28   \n",
       "4             Flat          Flat                   2      2020-10-28   \n",
       "\n",
       "   discount  floor_elevator  is_new_construction  \\\n",
       "0         0               1                False   \n",
       "1         0               1                False   \n",
       "2         0               1                False   \n",
       "3         0               1                False   \n",
       "4         0               1                False   \n",
       "\n",
       "                                                link   price  \\\n",
       "0  /es/alquiler/vivienda/barcelona-capital/calefa...  5000.0   \n",
       "1  /es/alquiler/vivienda/barcelona-capital/aire-a...  1250.0   \n",
       "2  /es/alquiler/vivienda/barcelona-capital/calefa...  1600.0   \n",
       "3  /es/alquiler/vivienda/barcelona-capital/aire-a...  3200.0   \n",
       "4  /es/alquiler/vivienda/barcelona-capital/ascens...  1000.0   \n",
       "\n",
       "                  real_estate real_estate_id  rooms  sq_meters  \\\n",
       "0  SOMOS REAL ESTATE SERVICES  9202765680731      3      208.0   \n",
       "1    TECNOCASA RIERA ALTA MAR  9202751363773      3       93.0   \n",
       "2  SOMOS REAL ESTATE SERVICES  9202765680731      4      129.0   \n",
       "3  SOMOS REAL ESTATE SERVICES  9202765680731      2      133.0   \n",
       "4        ESTUDI JOAN MIRO.SL.  9202762439813      3       67.0   \n",
       "\n",
       "                    neighbourhood  neighbourhood_mean_price  \n",
       "0          la dreta de l'eixample               1307.616842  \n",
       "1                     sant antoni                994.909158  \n",
       "2  la nova esquerra de l'eixample               1053.832393  \n",
       "3          sant gervasi - galvany               1397.273005  \n",
       "4                        el raval                850.112343  "
      ]
     },
     "execution_count": 8,
     "metadata": {},
     "output_type": "execute_result"
    }
   ],
   "source": [
    "sql = \"SELECT * from formatted_zone.zenodo_fotocasa_2020_21_12_06;\"\n",
    "pd.read_sql_query(sql, conn).head()"
   ]
  },
  {
   "cell_type": "markdown",
   "id": "556c085b-951a-45a5-a043-c321754b48a1",
   "metadata": {},
   "source": [
    "---"
   ]
  },
  {
   "cell_type": "markdown",
   "id": "dcd12588-bc52-460d-a927-8e8ddee0b9e0",
   "metadata": {},
   "source": [
    "## Load barris-districtes table into formatted zone"
   ]
  },
  {
   "cell_type": "markdown",
   "id": "3ee643bc-9455-4ac5-8588-e31c48dadf9a",
   "metadata": {},
   "source": [
    "##### Read dataframe from CSV file"
   ]
  },
  {
   "cell_type": "code",
   "execution_count": 9,
   "id": "ec24ee92-9593-4c19-8232-8cd1cde2b48a",
   "metadata": {},
   "outputs": [
    {
     "data": {
      "text/plain": [
       "Index(['CODI_DISTRICTE', 'NOM_DISTRICTE', 'CODI_BARRI', 'NOM_BARRI'], dtype='object')"
      ]
     },
     "execution_count": 9,
     "metadata": {},
     "output_type": "execute_result"
    }
   ],
   "source": [
    "df = pd.read_csv('data/ajunt_barris_2017_21-12-06.csv')\n",
    "df.columns"
   ]
  },
  {
   "cell_type": "markdown",
   "id": "37099d2e-314f-4162-af6c-f5a4a1d7f21b",
   "metadata": {},
   "source": [
    "##### Create new table in PostgreSQL database"
   ]
  },
  {
   "cell_type": "code",
   "execution_count": 10,
   "id": "5c75010c-e03c-47b5-9439-72040ca0a654",
   "metadata": {},
   "outputs": [],
   "source": [
    "sqlCreateTable = \"\"\"CREATE TABLE IF NOT EXISTS formatted_zone.AJUNT_BARRIS_2017_21_12_06 (\n",
    "    CODI_DISTRICTE INTEGER,\n",
    "    NOM_DISTRICTE VARCHAR(50),\n",
    "    CODI_BARRI INTEGER,\n",
    "    NOM_BARRI VARCHAR(50));\"\"\"\n",
    "cursor.execute(sqlCreateTable)\n",
    "conn.commit()"
   ]
  },
  {
   "cell_type": "markdown",
   "id": "25a538f2-6435-48d9-b3c0-c18c3f0a4d81",
   "metadata": {},
   "source": [
    "##### Insert rows into table"
   ]
  },
  {
   "cell_type": "code",
   "execution_count": 11,
   "id": "cf5681b2-ae48-42e3-a6ef-58195c1da3f5",
   "metadata": {},
   "outputs": [
    {
     "name": "stdout",
     "output_type": "stream",
     "text": [
      "The dataframe was correctly inserted\n"
     ]
    }
   ],
   "source": [
    "execute_values(conn, df, 'formatted_zone.AJUNT_BARRIS_2017_21_12_06')"
   ]
  },
  {
   "cell_type": "markdown",
   "id": "d0d2d4ff-0acc-4904-866b-3541aa9be191",
   "metadata": {},
   "source": [
    "##### Check correct insertion"
   ]
  },
  {
   "cell_type": "code",
   "execution_count": 12,
   "id": "f23123db-8baa-47f2-adbc-de264ab575b2",
   "metadata": {},
   "outputs": [
    {
     "data": {
      "text/html": [
       "<div>\n",
       "<style scoped>\n",
       "    .dataframe tbody tr th:only-of-type {\n",
       "        vertical-align: middle;\n",
       "    }\n",
       "\n",
       "    .dataframe tbody tr th {\n",
       "        vertical-align: top;\n",
       "    }\n",
       "\n",
       "    .dataframe thead th {\n",
       "        text-align: right;\n",
       "    }\n",
       "</style>\n",
       "<table border=\"1\" class=\"dataframe\">\n",
       "  <thead>\n",
       "    <tr style=\"text-align: right;\">\n",
       "      <th></th>\n",
       "      <th>codi_districte</th>\n",
       "      <th>nom_districte</th>\n",
       "      <th>codi_barri</th>\n",
       "      <th>nom_barri</th>\n",
       "    </tr>\n",
       "  </thead>\n",
       "  <tbody>\n",
       "    <tr>\n",
       "      <th>0</th>\n",
       "      <td>1</td>\n",
       "      <td>Ciutat Vella</td>\n",
       "      <td>1</td>\n",
       "      <td>el Raval</td>\n",
       "    </tr>\n",
       "    <tr>\n",
       "      <th>1</th>\n",
       "      <td>1</td>\n",
       "      <td>Ciutat Vella</td>\n",
       "      <td>2</td>\n",
       "      <td>el Barri Gòtic</td>\n",
       "    </tr>\n",
       "    <tr>\n",
       "      <th>2</th>\n",
       "      <td>1</td>\n",
       "      <td>Ciutat Vella</td>\n",
       "      <td>3</td>\n",
       "      <td>la Barceloneta</td>\n",
       "    </tr>\n",
       "    <tr>\n",
       "      <th>3</th>\n",
       "      <td>1</td>\n",
       "      <td>Ciutat Vella</td>\n",
       "      <td>4</td>\n",
       "      <td>Sant Pere, Santa Caterina i la Ribera</td>\n",
       "    </tr>\n",
       "    <tr>\n",
       "      <th>4</th>\n",
       "      <td>2</td>\n",
       "      <td>Eixample</td>\n",
       "      <td>5</td>\n",
       "      <td>el Fort Pienc</td>\n",
       "    </tr>\n",
       "  </tbody>\n",
       "</table>\n",
       "</div>"
      ],
      "text/plain": [
       "   codi_districte nom_districte  codi_barri  \\\n",
       "0               1  Ciutat Vella           1   \n",
       "1               1  Ciutat Vella           2   \n",
       "2               1  Ciutat Vella           3   \n",
       "3               1  Ciutat Vella           4   \n",
       "4               2      Eixample           5   \n",
       "\n",
       "                               nom_barri  \n",
       "0                               el Raval  \n",
       "1                         el Barri Gòtic  \n",
       "2                         la Barceloneta  \n",
       "3  Sant Pere, Santa Caterina i la Ribera  \n",
       "4                          el Fort Pienc  "
      ]
     },
     "execution_count": 12,
     "metadata": {},
     "output_type": "execute_result"
    }
   ],
   "source": [
    "sql = \"SELECT * from formatted_zone.AJUNT_BARRIS_2017_21_12_06;\"\n",
    "pd.read_sql_query(sql, conn).head()"
   ]
  },
  {
   "cell_type": "markdown",
   "id": "2c3f0365-4d57-4f0e-be4c-7770124d6241",
   "metadata": {},
   "source": [
    "---"
   ]
  },
  {
   "cell_type": "markdown",
   "id": "0ac68fe6-9288-42ef-9783-bad96b276db9",
   "metadata": {
    "tags": []
   },
   "source": [
    "## Load barris-districtes table into trusted zone\n",
    "As no quality changes are needed."
   ]
  },
  {
   "cell_type": "markdown",
   "id": "b76a10ef-211b-4a69-842b-c5ef484664f1",
   "metadata": {},
   "source": [
    "##### Create trusted_zone schema if it does not exist"
   ]
  },
  {
   "cell_type": "code",
   "execution_count": 13,
   "id": "b5d843c0-54ca-4633-a3ea-645f9f990369",
   "metadata": {},
   "outputs": [],
   "source": [
    "create_trusted_zone = \"\"\"CREATE SCHEMA IF NOT EXISTS trusted_zone;\"\"\"\n",
    "cursor.execute(create_trusted_zone)\n",
    "conn.commit()"
   ]
  },
  {
   "cell_type": "markdown",
   "id": "92965cfd-a312-4387-aa06-ef3aee9b83bf",
   "metadata": {},
   "source": [
    "##### Create new table in PostgreSQL database"
   ]
  },
  {
   "cell_type": "code",
   "execution_count": 14,
   "id": "9cd12fff-e453-4ffb-89ea-c7b88ddce802",
   "metadata": {},
   "outputs": [],
   "source": [
    "sqlCreateTable = \"\"\"CREATE TABLE IF NOT EXISTS trusted_zone.AJUNT_BARRIS_2017_21_12_06 (\n",
    "    CODI_DISTRICTE INTEGER,\n",
    "    NOM_DISTRICTE VARCHAR(50),\n",
    "    CODI_BARRI INTEGER,\n",
    "    NOM_BARRI VARCHAR(50));\"\"\"\n",
    "cursor.execute(sqlCreateTable)\n",
    "conn.commit()"
   ]
  },
  {
   "cell_type": "markdown",
   "id": "3c269c21-ed9c-4275-a719-b61aa45570dd",
   "metadata": {},
   "source": [
    "##### Insert rows into table"
   ]
  },
  {
   "cell_type": "code",
   "execution_count": 15,
   "id": "aa990e12-6bb6-40f0-8d4c-0fc9f5f40446",
   "metadata": {},
   "outputs": [
    {
     "name": "stdout",
     "output_type": "stream",
     "text": [
      "The dataframe was correctly inserted\n"
     ]
    }
   ],
   "source": [
    "execute_values(conn, df, 'trusted_zone.AJUNT_BARRIS_2017_21_12_06')"
   ]
  },
  {
   "cell_type": "markdown",
   "id": "5208905f-afa0-423b-b739-18a367eb127f",
   "metadata": {},
   "source": [
    "##### Check correct insertion"
   ]
  },
  {
   "cell_type": "code",
   "execution_count": 16,
   "id": "3936f025-e054-458b-90f9-a1c2b4428fed",
   "metadata": {},
   "outputs": [
    {
     "data": {
      "text/html": [
       "<div>\n",
       "<style scoped>\n",
       "    .dataframe tbody tr th:only-of-type {\n",
       "        vertical-align: middle;\n",
       "    }\n",
       "\n",
       "    .dataframe tbody tr th {\n",
       "        vertical-align: top;\n",
       "    }\n",
       "\n",
       "    .dataframe thead th {\n",
       "        text-align: right;\n",
       "    }\n",
       "</style>\n",
       "<table border=\"1\" class=\"dataframe\">\n",
       "  <thead>\n",
       "    <tr style=\"text-align: right;\">\n",
       "      <th></th>\n",
       "      <th>codi_districte</th>\n",
       "      <th>nom_districte</th>\n",
       "      <th>codi_barri</th>\n",
       "      <th>nom_barri</th>\n",
       "    </tr>\n",
       "  </thead>\n",
       "  <tbody>\n",
       "    <tr>\n",
       "      <th>0</th>\n",
       "      <td>1</td>\n",
       "      <td>Ciutat Vella</td>\n",
       "      <td>1</td>\n",
       "      <td>el Raval</td>\n",
       "    </tr>\n",
       "    <tr>\n",
       "      <th>1</th>\n",
       "      <td>1</td>\n",
       "      <td>Ciutat Vella</td>\n",
       "      <td>2</td>\n",
       "      <td>el Barri Gòtic</td>\n",
       "    </tr>\n",
       "    <tr>\n",
       "      <th>2</th>\n",
       "      <td>1</td>\n",
       "      <td>Ciutat Vella</td>\n",
       "      <td>3</td>\n",
       "      <td>la Barceloneta</td>\n",
       "    </tr>\n",
       "    <tr>\n",
       "      <th>3</th>\n",
       "      <td>1</td>\n",
       "      <td>Ciutat Vella</td>\n",
       "      <td>4</td>\n",
       "      <td>Sant Pere, Santa Caterina i la Ribera</td>\n",
       "    </tr>\n",
       "    <tr>\n",
       "      <th>4</th>\n",
       "      <td>2</td>\n",
       "      <td>Eixample</td>\n",
       "      <td>5</td>\n",
       "      <td>el Fort Pienc</td>\n",
       "    </tr>\n",
       "  </tbody>\n",
       "</table>\n",
       "</div>"
      ],
      "text/plain": [
       "   codi_districte nom_districte  codi_barri  \\\n",
       "0               1  Ciutat Vella           1   \n",
       "1               1  Ciutat Vella           2   \n",
       "2               1  Ciutat Vella           3   \n",
       "3               1  Ciutat Vella           4   \n",
       "4               2      Eixample           5   \n",
       "\n",
       "                               nom_barri  \n",
       "0                               el Raval  \n",
       "1                         el Barri Gòtic  \n",
       "2                         la Barceloneta  \n",
       "3  Sant Pere, Santa Caterina i la Ribera  \n",
       "4                          el Fort Pienc  "
      ]
     },
     "execution_count": 16,
     "metadata": {},
     "output_type": "execute_result"
    }
   ],
   "source": [
    "sql = \"SELECT * from trusted_zone.AJUNT_BARRIS_2017_21_12_06;\"\n",
    "pd.read_sql_query(sql, conn).head()"
   ]
  },
  {
   "cell_type": "markdown",
   "id": "b1c64060-bc82-431e-8ca1-9bbbed723ab2",
   "metadata": {},
   "source": [
    "---"
   ]
  },
  {
   "cell_type": "markdown",
   "id": "31b752d9-eac3-408b-8800-dd3796d2208b",
   "metadata": {
    "tags": []
   },
   "source": [
    "## Load crime table into formatted zone"
   ]
  },
  {
   "cell_type": "markdown",
   "id": "2cac3498-ffb2-4536-bdc1-4fbe06ed2e69",
   "metadata": {},
   "source": [
    "##### Read dataframe from CSV file"
   ]
  },
  {
   "cell_type": "code",
   "execution_count": 17,
   "id": "653e6e77-379b-42f1-8fc2-57c3cf9250f9",
   "metadata": {},
   "outputs": [
    {
     "name": "stdout",
     "output_type": "stream",
     "text": [
      "25\n"
     ]
    },
    {
     "data": {
      "text/plain": [
       "Index(['Disctricte', 'Furt', 'Estafes', 'Danys',\n",
       "       'Robatori amb violència i/o intimidació',\n",
       "       'Robatori amb força interior vehicle', 'Robatori amb força', 'Lesions',\n",
       "       'Apropiació indeguda', 'Amenaces', 'Robatori i furt d'us de vehicle',\n",
       "       'Ocupació immobles', 'Contra la salut pública', 'Abusos sexuals',\n",
       "       'Entrada a domicili aliè', 'Agressions sexuals', 'Convivència veïnal',\n",
       "       'Vigilància policial', 'Activitats molestes en espais públics',\n",
       "       'Actes contra la propietat privada', 'Incendis',\n",
       "       'Estupefaents/psicotròpics', 'Agressions',\n",
       "       'Nombre de proves d'alcoholèmia', 'Nombre de drogo tests'],\n",
       "      dtype='object')"
      ]
     },
     "execution_count": 17,
     "metadata": {},
     "output_type": "execute_result"
    }
   ],
   "source": [
    "df = pd.read_excel('data/ajunt_crime_2020_21-12-06_final.xlsx')\n",
    "print(len(df.columns))\n",
    "df.columns"
   ]
  },
  {
   "cell_type": "markdown",
   "id": "caa09e5d-a3bd-4623-9dbf-a59b7adf33e7",
   "metadata": {},
   "source": [
    "##### Rename columns"
   ]
  },
  {
   "cell_type": "code",
   "execution_count": 18,
   "id": "57e92c04-6204-47bd-9471-570c6963ee46",
   "metadata": {},
   "outputs": [],
   "source": [
    "df.columns = ['Districte', 'Furt', 'Estafes', 'Danys', 'Rob_viol_intim', 'Rob_en_vehicle', 'Rob_força', 'Lesions', 'Aprop_indeg', 'Amenaces', 'Rob_de_vehicle', 'Ocupacions', 'Salut_pub', 'Abusos_sex', 'Entrada_domicili', 'Agressio_sex', 'Conviv_veinal', 'Vigilancia_poli', 'Molesties_espai_pub', 'Contra_prop_priv', 'Incendis', 'Estupefaents', 'Agressions', 'Proves_alcohol','Proves_droga']"
   ]
  },
  {
   "cell_type": "markdown",
   "id": "1a6c5855-16c5-45bf-9a5e-7ad92690d77b",
   "metadata": {},
   "source": [
    "##### Create formatted_zone schema if it does not exist"
   ]
  },
  {
   "cell_type": "code",
   "execution_count": 19,
   "id": "9c684015-a303-41b2-8f26-4e3035023107",
   "metadata": {},
   "outputs": [],
   "source": [
    "create_formatted_zone = \"\"\"CREATE SCHEMA IF NOT EXISTS formatted_zone;\"\"\"\n",
    "cursor.execute(create_formatted_zone)\n",
    "conn.commit()"
   ]
  },
  {
   "cell_type": "markdown",
   "id": "36aa78c6-daa9-4d72-bc1e-5d50885695d2",
   "metadata": {},
   "source": [
    "##### Create new table in PostgreSQL database"
   ]
  },
  {
   "cell_type": "code",
   "execution_count": 20,
   "id": "83158b87-dc67-4ff0-bb2e-dfc6ca3c066b",
   "metadata": {},
   "outputs": [],
   "source": [
    "sqlCreateTable = \"\"\"CREATE TABLE IF NOT EXISTS formatted_zone.ajunt_crime_2020_21_12_06 (\n",
    "    DISTRICTE VARCHAR(50),\n",
    "    FURT INTEGER,\n",
    "    ESTAFES INTEGER,\n",
    "    DANYS INTEGER,\n",
    "    ROB_VIOL_INTIM INTEGER,\n",
    "    ROB_EN_VEHICLE INTEGER,\n",
    "    ROB_FORÇA INTEGER,\n",
    "    LESIONS INTEGER,\n",
    "    APROP_INDEG INTEGER,\n",
    "    AMENACES INTEGER,\n",
    "    ROB_DE_VEHICLE INTEGER,\n",
    "    OCUPACIONS INTEGER,\n",
    "    SALUT_PUB INTEGER,\n",
    "    ABUSOS_SEX INTEGER,\n",
    "    ENTRADA_DOMICILI INTEGER,\n",
    "    AGRESSIO_SEX INTEGER,\n",
    "    CONVIV_VEINAL INTEGER,\n",
    "    VIGILANCIA_POLI INTEGER,\n",
    "    MOLESTIES_ESPAI_PUB INTEGER,\n",
    "    CONTRA_PROP_PRIV INTEGER,\n",
    "    INCENDIS INTEGER,\n",
    "    ESTUPEFAENTS INTEGER,\n",
    "    AGRESSIONS INTEGER,\n",
    "    PROVES_ALCOHOL INTEGER,\n",
    "    PROVES_DROGA INTEGER\n",
    ");\"\"\"\n",
    "cursor.execute(sqlCreateTable)\n",
    "conn.commit()"
   ]
  },
  {
   "cell_type": "markdown",
   "id": "7188515f-2628-4f3f-8021-3f1d1603efb2",
   "metadata": {},
   "source": [
    "##### Insert rows into table"
   ]
  },
  {
   "cell_type": "code",
   "execution_count": 21,
   "id": "e2fc4d2b-d9f4-4312-a255-a58cc3d7e633",
   "metadata": {},
   "outputs": [
    {
     "name": "stdout",
     "output_type": "stream",
     "text": [
      "The dataframe was correctly inserted\n"
     ]
    }
   ],
   "source": [
    "execute_values(conn, df, 'formatted_zone.ajunt_crime_2020_21_12_06')"
   ]
  },
  {
   "cell_type": "markdown",
   "id": "44d34781-ca27-4ff6-b244-09289e0f3407",
   "metadata": {},
   "source": [
    "##### Check correct insertion"
   ]
  },
  {
   "cell_type": "code",
   "execution_count": 22,
   "id": "37b8183e-6d44-4c48-ad7c-e51e3a5a7b01",
   "metadata": {},
   "outputs": [
    {
     "data": {
      "text/html": [
       "<div>\n",
       "<style scoped>\n",
       "    .dataframe tbody tr th:only-of-type {\n",
       "        vertical-align: middle;\n",
       "    }\n",
       "\n",
       "    .dataframe tbody tr th {\n",
       "        vertical-align: top;\n",
       "    }\n",
       "\n",
       "    .dataframe thead th {\n",
       "        text-align: right;\n",
       "    }\n",
       "</style>\n",
       "<table border=\"1\" class=\"dataframe\">\n",
       "  <thead>\n",
       "    <tr style=\"text-align: right;\">\n",
       "      <th></th>\n",
       "      <th>districte</th>\n",
       "      <th>furt</th>\n",
       "      <th>estafes</th>\n",
       "      <th>danys</th>\n",
       "      <th>rob_viol_intim</th>\n",
       "      <th>rob_en_vehicle</th>\n",
       "      <th>rob_força</th>\n",
       "      <th>lesions</th>\n",
       "      <th>aprop_indeg</th>\n",
       "      <th>amenaces</th>\n",
       "      <th>...</th>\n",
       "      <th>agressio_sex</th>\n",
       "      <th>conviv_veinal</th>\n",
       "      <th>vigilancia_poli</th>\n",
       "      <th>molesties_espai_pub</th>\n",
       "      <th>contra_prop_priv</th>\n",
       "      <th>incendis</th>\n",
       "      <th>estupefaents</th>\n",
       "      <th>agressions</th>\n",
       "      <th>proves_alcohol</th>\n",
       "      <th>proves_droga</th>\n",
       "    </tr>\n",
       "  </thead>\n",
       "  <tbody>\n",
       "    <tr>\n",
       "      <th>0</th>\n",
       "      <td>Ciutat Vella</td>\n",
       "      <td>11827</td>\n",
       "      <td>1209</td>\n",
       "      <td>1110</td>\n",
       "      <td>2174</td>\n",
       "      <td>915</td>\n",
       "      <td>866</td>\n",
       "      <td>754</td>\n",
       "      <td>1493</td>\n",
       "      <td>415</td>\n",
       "      <td>...</td>\n",
       "      <td>43</td>\n",
       "      <td>7645</td>\n",
       "      <td>10703</td>\n",
       "      <td>6353</td>\n",
       "      <td>4089</td>\n",
       "      <td>444</td>\n",
       "      <td>1117</td>\n",
       "      <td>601</td>\n",
       "      <td>3520</td>\n",
       "      <td>278</td>\n",
       "    </tr>\n",
       "    <tr>\n",
       "      <th>1</th>\n",
       "      <td>L'Eixample</td>\n",
       "      <td>14157</td>\n",
       "      <td>3390</td>\n",
       "      <td>1714</td>\n",
       "      <td>1761</td>\n",
       "      <td>1484</td>\n",
       "      <td>1543</td>\n",
       "      <td>722</td>\n",
       "      <td>833</td>\n",
       "      <td>401</td>\n",
       "      <td>...</td>\n",
       "      <td>32</td>\n",
       "      <td>11474</td>\n",
       "      <td>4721</td>\n",
       "      <td>4445</td>\n",
       "      <td>2178</td>\n",
       "      <td>793</td>\n",
       "      <td>451</td>\n",
       "      <td>477</td>\n",
       "      <td>3770</td>\n",
       "      <td>326</td>\n",
       "    </tr>\n",
       "    <tr>\n",
       "      <th>2</th>\n",
       "      <td>Sants-Montjuïc</td>\n",
       "      <td>5605</td>\n",
       "      <td>2024</td>\n",
       "      <td>1268</td>\n",
       "      <td>1050</td>\n",
       "      <td>1075</td>\n",
       "      <td>958</td>\n",
       "      <td>689</td>\n",
       "      <td>401</td>\n",
       "      <td>456</td>\n",
       "      <td>...</td>\n",
       "      <td>16</td>\n",
       "      <td>6783</td>\n",
       "      <td>2933</td>\n",
       "      <td>4477</td>\n",
       "      <td>1250</td>\n",
       "      <td>458</td>\n",
       "      <td>265</td>\n",
       "      <td>353</td>\n",
       "      <td>4286</td>\n",
       "      <td>738</td>\n",
       "    </tr>\n",
       "    <tr>\n",
       "      <th>3</th>\n",
       "      <td>Les Corts</td>\n",
       "      <td>2489</td>\n",
       "      <td>999</td>\n",
       "      <td>478</td>\n",
       "      <td>379</td>\n",
       "      <td>457</td>\n",
       "      <td>367</td>\n",
       "      <td>132</td>\n",
       "      <td>118</td>\n",
       "      <td>101</td>\n",
       "      <td>...</td>\n",
       "      <td>3</td>\n",
       "      <td>2030</td>\n",
       "      <td>1405</td>\n",
       "      <td>1394</td>\n",
       "      <td>369</td>\n",
       "      <td>150</td>\n",
       "      <td>55</td>\n",
       "      <td>93</td>\n",
       "      <td>1379</td>\n",
       "      <td>65</td>\n",
       "    </tr>\n",
       "    <tr>\n",
       "      <th>4</th>\n",
       "      <td>Sarrià-Sant Gervasi</td>\n",
       "      <td>2441</td>\n",
       "      <td>1822</td>\n",
       "      <td>792</td>\n",
       "      <td>590</td>\n",
       "      <td>589</td>\n",
       "      <td>757</td>\n",
       "      <td>191</td>\n",
       "      <td>137</td>\n",
       "      <td>120</td>\n",
       "      <td>...</td>\n",
       "      <td>11</td>\n",
       "      <td>4842</td>\n",
       "      <td>2641</td>\n",
       "      <td>2318</td>\n",
       "      <td>462</td>\n",
       "      <td>302</td>\n",
       "      <td>139</td>\n",
       "      <td>151</td>\n",
       "      <td>4195</td>\n",
       "      <td>291</td>\n",
       "    </tr>\n",
       "  </tbody>\n",
       "</table>\n",
       "<p>5 rows × 25 columns</p>\n",
       "</div>"
      ],
      "text/plain": [
       "             districte   furt  estafes  danys  rob_viol_intim  rob_en_vehicle  \\\n",
       "0         Ciutat Vella  11827     1209   1110            2174             915   \n",
       "1           L'Eixample  14157     3390   1714            1761            1484   \n",
       "2       Sants-Montjuïc   5605     2024   1268            1050            1075   \n",
       "3            Les Corts   2489      999    478             379             457   \n",
       "4  Sarrià-Sant Gervasi   2441     1822    792             590             589   \n",
       "\n",
       "   rob_força  lesions  aprop_indeg  amenaces  ...  agressio_sex  \\\n",
       "0        866      754         1493       415  ...            43   \n",
       "1       1543      722          833       401  ...            32   \n",
       "2        958      689          401       456  ...            16   \n",
       "3        367      132          118       101  ...             3   \n",
       "4        757      191          137       120  ...            11   \n",
       "\n",
       "   conviv_veinal  vigilancia_poli  molesties_espai_pub  contra_prop_priv  \\\n",
       "0           7645            10703                 6353              4089   \n",
       "1          11474             4721                 4445              2178   \n",
       "2           6783             2933                 4477              1250   \n",
       "3           2030             1405                 1394               369   \n",
       "4           4842             2641                 2318               462   \n",
       "\n",
       "   incendis  estupefaents  agressions  proves_alcohol  proves_droga  \n",
       "0       444          1117         601            3520           278  \n",
       "1       793           451         477            3770           326  \n",
       "2       458           265         353            4286           738  \n",
       "3       150            55          93            1379            65  \n",
       "4       302           139         151            4195           291  \n",
       "\n",
       "[5 rows x 25 columns]"
      ]
     },
     "execution_count": 22,
     "metadata": {},
     "output_type": "execute_result"
    }
   ],
   "source": [
    "sql = \"SELECT * from formatted_zone.ajunt_crime_2020_21_12_06;\"\n",
    "pd.read_sql_query(sql, conn).head()"
   ]
  },
  {
   "cell_type": "markdown",
   "id": "19c1db17-3796-45b8-9fe0-63c1bc64bdee",
   "metadata": {},
   "source": [
    "---"
   ]
  },
  {
   "cell_type": "markdown",
   "id": "1fcc0528-1b7c-4884-ab89-2181b0f9e57f",
   "metadata": {
    "tags": []
   },
   "source": [
    "## Load district population and surface table into formatted zone"
   ]
  },
  {
   "cell_type": "markdown",
   "id": "c43b2c16-e958-43e0-8b5a-b6987577976f",
   "metadata": {},
   "source": [
    "##### Read dataframe from CSV file"
   ]
  },
  {
   "cell_type": "code",
   "execution_count": 23,
   "id": "b3565ebc-86c8-4aeb-898c-af05a9ae7ce6",
   "metadata": {},
   "outputs": [
    {
     "name": "stdout",
     "output_type": "stream",
     "text": [
      "3\n"
     ]
    },
    {
     "data": {
      "text/plain": [
       "Index(['Districte', 'Superfície', 'Població'], dtype='object')"
      ]
     },
     "execution_count": 23,
     "metadata": {},
     "output_type": "execute_result"
    }
   ],
   "source": [
    "df = pd.read_excel('data/ajunt_districtes_2021_21-12-24.xlsx')\n",
    "print(len(df.columns))\n",
    "df.columns"
   ]
  },
  {
   "cell_type": "markdown",
   "id": "ae300b68-61f1-42f9-b008-b6e3c50d27e2",
   "metadata": {},
   "source": [
    "##### Rename columns"
   ]
  },
  {
   "cell_type": "code",
   "execution_count": 24,
   "id": "5ad98ad0-bc20-447b-95c5-341cb4edd3f5",
   "metadata": {},
   "outputs": [],
   "source": [
    "df.columns = ['Districte', 'Superficie', 'Poblacio']"
   ]
  },
  {
   "cell_type": "markdown",
   "id": "d01cf2d8-b5f4-4ea2-bec9-d3e4090a4d0f",
   "metadata": {},
   "source": [
    "##### Create new table in PostgreSQL database"
   ]
  },
  {
   "cell_type": "code",
   "execution_count": 25,
   "id": "68208b7c-2542-46d9-b335-5686033fb235",
   "metadata": {},
   "outputs": [],
   "source": [
    "sqlCreateTable = \"\"\"CREATE TABLE IF NOT EXISTS formatted_zone.ajunt_districtes_2021_21_12_24 (\n",
    "    DISTRICTE VARCHAR(50),\n",
    "    SUPERFICIE FLOAT,\n",
    "    POBLACIO INTEGER\n",
    ");\"\"\"\n",
    "cursor.execute(sqlCreateTable)\n",
    "conn.commit()"
   ]
  },
  {
   "cell_type": "markdown",
   "id": "c480ec2b-0207-4527-8800-37d7ec2c0cb7",
   "metadata": {},
   "source": [
    "##### Insert rows into table"
   ]
  },
  {
   "cell_type": "code",
   "execution_count": 26,
   "id": "a0773a49-7670-4579-95f1-1e3c2c8324d4",
   "metadata": {},
   "outputs": [
    {
     "name": "stdout",
     "output_type": "stream",
     "text": [
      "The dataframe was correctly inserted\n"
     ]
    }
   ],
   "source": [
    "execute_values(conn, df, 'formatted_zone.ajunt_districtes_2021_21_12_24')"
   ]
  },
  {
   "cell_type": "markdown",
   "id": "e9b66b45-357c-4da2-b22c-612b98a282ed",
   "metadata": {},
   "source": [
    "##### Check correct insertion"
   ]
  },
  {
   "cell_type": "code",
   "execution_count": 27,
   "id": "c78bd466-73bf-456a-99db-ab676b6375f2",
   "metadata": {},
   "outputs": [
    {
     "data": {
      "text/html": [
       "<div>\n",
       "<style scoped>\n",
       "    .dataframe tbody tr th:only-of-type {\n",
       "        vertical-align: middle;\n",
       "    }\n",
       "\n",
       "    .dataframe tbody tr th {\n",
       "        vertical-align: top;\n",
       "    }\n",
       "\n",
       "    .dataframe thead th {\n",
       "        text-align: right;\n",
       "    }\n",
       "</style>\n",
       "<table border=\"1\" class=\"dataframe\">\n",
       "  <thead>\n",
       "    <tr style=\"text-align: right;\">\n",
       "      <th></th>\n",
       "      <th>districte</th>\n",
       "      <th>superficie</th>\n",
       "      <th>poblacio</th>\n",
       "    </tr>\n",
       "  </thead>\n",
       "  <tbody>\n",
       "    <tr>\n",
       "      <th>0</th>\n",
       "      <td>Ciutat Vella</td>\n",
       "      <td>420.5</td>\n",
       "      <td>107858</td>\n",
       "    </tr>\n",
       "    <tr>\n",
       "      <th>1</th>\n",
       "      <td>Eixample</td>\n",
       "      <td>746.4</td>\n",
       "      <td>270331</td>\n",
       "    </tr>\n",
       "    <tr>\n",
       "      <th>2</th>\n",
       "      <td>Sants-Montjuïc</td>\n",
       "      <td>2288.0</td>\n",
       "      <td>187425</td>\n",
       "    </tr>\n",
       "    <tr>\n",
       "      <th>3</th>\n",
       "      <td>Les Corts</td>\n",
       "      <td>601.1</td>\n",
       "      <td>82532</td>\n",
       "    </tr>\n",
       "    <tr>\n",
       "      <th>4</th>\n",
       "      <td>Sarrià-Sant Gervasi</td>\n",
       "      <td>1991.6</td>\n",
       "      <td>150888</td>\n",
       "    </tr>\n",
       "    <tr>\n",
       "      <th>5</th>\n",
       "      <td>Gràcia</td>\n",
       "      <td>422.4</td>\n",
       "      <td>123614</td>\n",
       "    </tr>\n",
       "    <tr>\n",
       "      <th>6</th>\n",
       "      <td>Horta-Guinardó</td>\n",
       "      <td>1192.0</td>\n",
       "      <td>174447</td>\n",
       "    </tr>\n",
       "    <tr>\n",
       "      <th>7</th>\n",
       "      <td>Nou Barris</td>\n",
       "      <td>805.6</td>\n",
       "      <td>173864</td>\n",
       "    </tr>\n",
       "    <tr>\n",
       "      <th>8</th>\n",
       "      <td>Sant Andreu</td>\n",
       "      <td>659.2</td>\n",
       "      <td>151960</td>\n",
       "    </tr>\n",
       "    <tr>\n",
       "      <th>9</th>\n",
       "      <td>Sant Martí</td>\n",
       "      <td>1043.7</td>\n",
       "      <td>241263</td>\n",
       "    </tr>\n",
       "  </tbody>\n",
       "</table>\n",
       "</div>"
      ],
      "text/plain": [
       "             districte  superficie  poblacio\n",
       "0         Ciutat Vella       420.5    107858\n",
       "1             Eixample       746.4    270331\n",
       "2       Sants-Montjuïc      2288.0    187425\n",
       "3            Les Corts       601.1     82532\n",
       "4  Sarrià-Sant Gervasi      1991.6    150888\n",
       "5               Gràcia       422.4    123614\n",
       "6       Horta-Guinardó      1192.0    174447\n",
       "7           Nou Barris       805.6    173864\n",
       "8          Sant Andreu       659.2    151960\n",
       "9           Sant Martí      1043.7    241263"
      ]
     },
     "execution_count": 27,
     "metadata": {},
     "output_type": "execute_result"
    }
   ],
   "source": [
    "sql = \"SELECT * from formatted_zone.ajunt_districtes_2021_21_12_24;\"\n",
    "pd.read_sql_query(sql, conn)"
   ]
  }
 ],
 "metadata": {
  "kernelspec": {
   "display_name": "Python 3 (ipykernel)",
   "language": "python",
   "name": "python3"
  },
  "language_info": {
   "codemirror_mode": {
    "name": "ipython",
    "version": 3
   },
   "file_extension": ".py",
   "mimetype": "text/x-python",
   "name": "python",
   "nbconvert_exporter": "python",
   "pygments_lexer": "ipython3",
   "version": "3.9.7"
  }
 },
 "nbformat": 4,
 "nbformat_minor": 5
}
