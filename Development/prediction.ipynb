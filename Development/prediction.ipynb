{
 "cells": [
  {
   "cell_type": "markdown",
   "id": "8eac0a8a-8af2-4cac-85ad-11d9fd3b014f",
   "metadata": {},
   "source": [
    "#### Import libraries and packages"
   ]
  },
  {
   "cell_type": "code",
   "execution_count": 1,
   "id": "fa8a5e60-8b98-4ce1-911f-afb04272f967",
   "metadata": {},
   "outputs": [],
   "source": [
    "import pickle\n",
    "import psycopg2\n",
    "import psycopg2.extras as extras\n",
    "import pandas as pd\n",
    "import numpy as np\n",
    "from difflib import SequenceMatcher"
   ]
  },
  {
   "cell_type": "markdown",
   "id": "5b0edac8-aa8e-4531-88c1-34a097bbe4d9",
   "metadata": {},
   "source": [
    "#### Load final model from pickle file"
   ]
  },
  {
   "cell_type": "code",
   "execution_count": 2,
   "id": "01de558e-aaa5-4561-9d2a-ddf70a6d7b4a",
   "metadata": {},
   "outputs": [],
   "source": [
    "pkl_filename = 'final_model.pkl'\n",
    "with open(pkl_filename, 'rb') as file:\n",
    "    [pickle_model, feature_order] = pickle.load(file)"
   ]
  },
  {
   "cell_type": "markdown",
   "id": "72e851a5-02ee-455d-98b9-d1ad84708bb2",
   "metadata": {},
   "source": [
    "#### Ask user for input"
   ]
  },
  {
   "cell_type": "code",
   "execution_count": 3,
   "id": "e5d6f958-92ee-4f97-b949-667dd4dc5f63",
   "metadata": {},
   "outputs": [
    {
     "name": "stdout",
     "output_type": "stream",
     "text": [
      "Hi, please introduce the characteristics of the flat whose price you want to predict.\n"
     ]
    },
    {
     "name": "stdin",
     "output_type": "stream",
     "text": [
      "Number of bathrooms [0,20]:  5\n",
      "Building subtype (write 'list' for available options):  Flat\n",
      "Conservation state (write 'list' for available options):  Good\n",
      "Elevator (True/False):  True\n",
      "Number of rooms [0,20]:  5\n",
      "Squared meters [15,1000]:  100\n",
      "Neighbourhood (write 'list' for available options):  Navas\n"
     ]
    }
   ],
   "source": [
    "print(\"Hi, please introduce the characteristics of the flat whose price you want to predict.\")\n",
    "\n",
    "# bathrooms\n",
    "bathrooms = int(input(\"Number of bathrooms [0,20]: \"))\n",
    "assert bathrooms in range(0,21), \"Number of bathrooms is not valid.\"\n",
    "\n",
    "# building_subtype\n",
    "building_subtype = input(\"Building subtype (write 'list' for available options): \")\n",
    "building_subtypes = ['Flat', 'Apartment', 'Attic', 'Duplex', 'Loft', 'Study', 'House_Chalet', 'GroundFloorWithGarden', 'SemidetachedHouse', 'SemiDetached']\n",
    "if building_subtype == 'list':\n",
    "    print(building_subtypes)\n",
    "    building_subtype = input(\"Building subtype: \")\n",
    "assert building_subtype in building_subtypes, \"Building subtype is not valid.\"\n",
    "\n",
    "# conservation_state\n",
    "conservation_state = input(\"Conservation state (write 'list' for available options): \")\n",
    "conservation_states = ['New construction', 'Nearly new', 'Very good', 'Good', 'Renovated', 'To renovate']\n",
    "if conservation_state == 'list':\n",
    "    print(conservation_states)\n",
    "    conservation_state = input(\"Conservation state: \")\n",
    "assert conservation_state in conservation_states, \"Conservation state is not valid.\"\n",
    "    \n",
    "# floor_elevator\n",
    "floor_elevator = bool(input(\"Elevator (True/False): \"))\n",
    "assert floor_elevator in [True, False], \"Elevator is not valid.\"\n",
    "\n",
    "# rooms\n",
    "rooms = int(input(\"Number of rooms [0,20]: \"))\n",
    "assert rooms in range(0,21), \"Number of rooms is not valid.\"\n",
    "    \n",
    "# sq_meters\n",
    "sq_meters = int(input(\"Squared meters [15,1000]: \"))\n",
    "assert sq_meters in range(0,10001), \"Squared meters are not valid.\"\n",
    "    \n",
    "# neighbourhood\n",
    "neighbourhood = input(\"Neighbourhood (write 'list' for available options): \")\n",
    "neighbourhoods = ['el Raval', 'el Barri Gòtic', 'la Barceloneta', 'Sant Pere, Santa Caterina i la Ribera', 'el Fort Pienc', 'la Sagrada Família', \"la Dreta de l'Eixample\", \"l'Antiga Esquerra de l'Eixample\", \"la Nova Esquerra de l'Eixample\", 'Sant Antoni', 'el Poble Sec', 'la Marina del Prat Vermell', 'la Marina de Port', 'la Font de la Guatlla', 'Hostafrancs', 'la Bordeta', 'Sants - Badal', 'Sants', 'les Corts', 'la Maternitat i Sant Ramon', 'Pedralbes', 'Vallvidrera, el Tibidabo i les Planes', 'Sarrià', 'les Tres Torres', 'Sant Gervasi - la Bonanova', 'Sant Gervasi - Galvany', 'el Putxet i el Farró', 'Vallcarca i els Penitents', 'el Coll', 'la Salut', 'la Vila de Gràcia', \"el Camp d'en Grassot i Gràcia Nova\", 'el Baix Guinardó', 'Can Baró', 'el Guinardó', \"la Font d'en Fargues\", 'el Carmel', 'la Teixonera', 'Sant Genís dels Agudells', 'Montbau', \"la Vall d'Hebron\", 'la Clota', 'Horta', 'Vilapicina i la Torre Llobeta', 'Porta', 'el Turó de la Peira', 'Can Peguera', 'la Guineueta', 'Canyelles', 'les Roquetes', 'Verdun', 'la Prosperitat', 'la Trinitat Nova', 'Torre Baró', 'Ciutat Meridiana', 'Vallbona', 'la Trinitat Vella', 'Baró de Viver', 'el Bon Pastor', 'Sant Andreu', 'la Sagrera', 'el Congrés i els Indians', 'Navas', \"el Camp de l'Arpa del Clot\", 'el Clot', 'el Parc i la Llacuna del Poblenou', 'la Vila Olímpica del Poblenou', 'el Poblenou', 'Diagonal Mar i el Front Marítim del Poblenou', 'el Besòs i el Maresme', 'Provençals del Poblenou', 'Sant Martí de Provençals', 'la Verneda i la Pau']\n",
    "if neighbourhood == 'list':\n",
    "    print(neighbourhoods)\n",
    "    neighbourhood = input(\"Neighbourhood: \")\n",
    "assert neighbourhood in neighbourhoods, \"Neighbourhood is not valid.\""
   ]
  },
  {
   "cell_type": "markdown",
   "id": "b7593484-a6b0-4391-9e77-9ed7aaef80fd",
   "metadata": {},
   "source": [
    "##### Create new dataframe with single row to predict"
   ]
  },
  {
   "cell_type": "code",
   "execution_count": 4,
   "id": "2fbe5ce3-e60f-48e3-a24e-8e89e59b1926",
   "metadata": {},
   "outputs": [],
   "source": [
    "d = {'bathrooms': [bathrooms],\n",
    "    'building_subtype': [building_subtype],\n",
    "    'conservation_state': [conservation_state],\n",
    "    'floor_elevator': [floor_elevator],\n",
    "    'rooms': [rooms],\n",
    "    'sq_meters': [sq_meters],\n",
    "    'neighbourhood': [neighbourhood]}\n",
    "df = pd.DataFrame(data=d)"
   ]
  },
  {
   "cell_type": "markdown",
   "id": "8e24d3fd-e6cc-4d23-bb4a-750c1301ae2e",
   "metadata": {},
   "source": [
    "#### Load barris_view from exploitation zone"
   ]
  },
  {
   "cell_type": "code",
   "execution_count": 5,
   "id": "cc47f58d-dd80-436a-993f-df4e2df9dd83",
   "metadata": {},
   "outputs": [],
   "source": [
    "host = 'postgresfib.fib.upc.edu'\n",
    "dbname = 'ADSDBjordi.cluet'\n",
    "user = 'jordi.cluet'\n",
    "pwd = 'DB151199'\n",
    "port = 6433\n",
    "sslmode = 'require'\n",
    "\n",
    "conn = psycopg2.connect(\"host='{}' port={} dbname='{}' user={} password={}\".format(host, port, dbname, user, pwd))\n",
    "cursor = conn.cursor()"
   ]
  },
  {
   "cell_type": "code",
   "execution_count": 6,
   "id": "1bf6dd1a-76db-4f69-bb29-e430dcb6feb9",
   "metadata": {},
   "outputs": [],
   "source": [
    "sql = \"SELECT * from exploitation_zone.barris_view;\"\n",
    "barris_view = pd.read_sql_query(sql, conn)"
   ]
  },
  {
   "cell_type": "markdown",
   "id": "e3057dd3-9a10-476f-8f27-692bebbc4c51",
   "metadata": {},
   "source": [
    "#### Prediction"
   ]
  },
  {
   "cell_type": "markdown",
   "id": "94aa681a-9275-4a83-bd84-568f4ee70fd9",
   "metadata": {},
   "source": [
    "##### Augmentate data"
   ]
  },
  {
   "cell_type": "code",
   "execution_count": 7,
   "id": "86824c41-bcb9-4cd2-8ff0-ca754cb5bb1a",
   "metadata": {},
   "outputs": [
    {
     "data": {
      "text/html": [
       "<div>\n",
       "<style scoped>\n",
       "    .dataframe tbody tr th:only-of-type {\n",
       "        vertical-align: middle;\n",
       "    }\n",
       "\n",
       "    .dataframe tbody tr th {\n",
       "        vertical-align: top;\n",
       "    }\n",
       "\n",
       "    .dataframe thead th {\n",
       "        text-align: right;\n",
       "    }\n",
       "</style>\n",
       "<table border=\"1\" class=\"dataframe\">\n",
       "  <thead>\n",
       "    <tr style=\"text-align: right;\">\n",
       "      <th></th>\n",
       "      <th>bathrooms</th>\n",
       "      <th>building_subtype</th>\n",
       "      <th>conservation_state</th>\n",
       "      <th>floor_elevator</th>\n",
       "      <th>rooms</th>\n",
       "      <th>sq_meters</th>\n",
       "      <th>neighbourhood</th>\n",
       "      <th>districte</th>\n",
       "      <th>superficie</th>\n",
       "      <th>poblacio</th>\n",
       "      <th>...</th>\n",
       "      <th>agressio_sex</th>\n",
       "      <th>conviv_veinal</th>\n",
       "      <th>vigilancia_poli</th>\n",
       "      <th>molesties_espai_pub</th>\n",
       "      <th>contra_prop_priv</th>\n",
       "      <th>incendis</th>\n",
       "      <th>estupefaents</th>\n",
       "      <th>agressions</th>\n",
       "      <th>proves_alcohol</th>\n",
       "      <th>proves_droga</th>\n",
       "    </tr>\n",
       "  </thead>\n",
       "  <tbody>\n",
       "    <tr>\n",
       "      <th>0</th>\n",
       "      <td>5</td>\n",
       "      <td>Flat</td>\n",
       "      <td>Good</td>\n",
       "      <td>True</td>\n",
       "      <td>5</td>\n",
       "      <td>100</td>\n",
       "      <td>Navas</td>\n",
       "      <td>Sant Andreu</td>\n",
       "      <td>659.2</td>\n",
       "      <td>151960</td>\n",
       "      <td>...</td>\n",
       "      <td>16</td>\n",
       "      <td>4020</td>\n",
       "      <td>3284</td>\n",
       "      <td>2456</td>\n",
       "      <td>781</td>\n",
       "      <td>366</td>\n",
       "      <td>199</td>\n",
       "      <td>264</td>\n",
       "      <td>1630</td>\n",
       "      <td>125</td>\n",
       "    </tr>\n",
       "  </tbody>\n",
       "</table>\n",
       "<p>1 rows × 34 columns</p>\n",
       "</div>"
      ],
      "text/plain": [
       "   bathrooms building_subtype conservation_state  floor_elevator  rooms  \\\n",
       "0          5             Flat               Good            True      5   \n",
       "\n",
       "   sq_meters neighbourhood    districte  superficie  poblacio  ...  \\\n",
       "0        100         Navas  Sant Andreu       659.2    151960  ...   \n",
       "\n",
       "   agressio_sex  conviv_veinal  vigilancia_poli  molesties_espai_pub  \\\n",
       "0            16           4020             3284                 2456   \n",
       "\n",
       "   contra_prop_priv  incendis  estupefaents  agressions  proves_alcohol  \\\n",
       "0               781       366           199         264            1630   \n",
       "\n",
       "   proves_droga  \n",
       "0           125  \n",
       "\n",
       "[1 rows x 34 columns]"
      ]
     },
     "execution_count": 7,
     "metadata": {},
     "output_type": "execute_result"
    }
   ],
   "source": [
    "dfm = pd.merge(df, barris_view, on='neighbourhood')\n",
    "dfm"
   ]
  },
  {
   "cell_type": "markdown",
   "id": "a8dce1a1-fb44-44a2-a1bf-b8da66fcbf4e",
   "metadata": {},
   "source": [
    "##### Add categories that are not in the row to be predicted"
   ]
  },
  {
   "cell_type": "code",
   "execution_count": 8,
   "id": "3d5dde35-6688-4e3d-808a-78697e1b6836",
   "metadata": {},
   "outputs": [],
   "source": [
    "dfm.building_subtype = dfm.building_subtype.astype('category')\n",
    "dfm.building_subtype = dfm.building_subtype.cat.add_categories(list(set(building_subtypes) - set([dfm.building_subtype[0]])))"
   ]
  },
  {
   "cell_type": "code",
   "execution_count": 9,
   "id": "40942e36-54d1-49d0-8967-ce11c9bccf82",
   "metadata": {},
   "outputs": [],
   "source": [
    "dfm.neighbourhood = dfm.neighbourhood.astype('category')\n",
    "dfm.neighbourhood = dfm.neighbourhood.cat.add_categories(list(set(neighbourhoods) - set([dfm.neighbourhood[0]])))"
   ]
  },
  {
   "cell_type": "code",
   "execution_count": 10,
   "id": "1a1ba73b-f43e-43ca-ac3e-468ea40eb922",
   "metadata": {},
   "outputs": [],
   "source": [
    "dfm.conservation_state = dfm.conservation_state.astype('category')\n",
    "dfm.conservation_state = dfm.conservation_state.cat.add_categories(list(set(conservation_states) - set([dfm.conservation_state[0]])))"
   ]
  },
  {
   "cell_type": "code",
   "execution_count": 11,
   "id": "a247a789-1b80-4190-8005-3e3064469afd",
   "metadata": {},
   "outputs": [],
   "source": [
    "districtes = ['Ciutat Vella', 'Eixample', 'Sants-Montjuïc', 'Les Corts', 'Sarrià-Sant Gervasi', 'Gràcia', 'Horta-Guinardó', 'Nou Barris', 'Sant Andreu', 'Sant Martí']\n",
    "dfm.districte = dfm.districte.astype('category')\n",
    "dfm.districte = dfm.districte.cat.add_categories(list(set(districtes) - set([dfm.districte[0]])))"
   ]
  },
  {
   "cell_type": "markdown",
   "id": "225ff396-d312-4a19-9005-6106b7c54aff",
   "metadata": {},
   "source": [
    "##### One-hot encoding"
   ]
  },
  {
   "cell_type": "code",
   "execution_count": 12,
   "id": "ae98b3c8-6e16-4025-a758-646dbe4a6545",
   "metadata": {},
   "outputs": [
    {
     "data": {
      "text/plain": [
       "Index(['bathrooms', 'floor_elevator', 'rooms', 'sq_meters', 'superficie',\n",
       "       'poblacio', 'furt', 'estafes', 'danys', 'rob_viol_intim',\n",
       "       ...\n",
       "       'n_Hostafrancs', 'n_Vallcarca i els Penitents', 'n_el Coll',\n",
       "       'n_la Sagrera', 'n_Can Baró', 'n_el Clot',\n",
       "       'n_l'Antiga Esquerra de l'Eixample', 'n_Ciutat Meridiana',\n",
       "       'n_la Trinitat Vella', 'n_Sant Genís dels Agudells'],\n",
       "      dtype='object', length=129)"
      ]
     },
     "execution_count": 12,
     "metadata": {},
     "output_type": "execute_result"
    }
   ],
   "source": [
    "ohe_bs = pd.get_dummies(dfm.building_subtype, prefix='bs')\n",
    "ohe_cs = pd.get_dummies(dfm.conservation_state, prefix='cs')\n",
    "ohe_d = pd.get_dummies(dfm.districte, prefix='d')\n",
    "ohe_n = pd.get_dummies(dfm.neighbourhood, prefix='n')\n",
    "dfmoh = pd.concat([dfm, ohe_bs, ohe_cs, ohe_d, ohe_n], axis=1)\n",
    "dfmoh.drop(['building_subtype', 'conservation_state', 'districte', 'neighbourhood'], axis=1, inplace=True)\n",
    "dfmoh.columns"
   ]
  },
  {
   "cell_type": "markdown",
   "id": "2052f167-3093-42c2-b2e6-de527d5a137c",
   "metadata": {},
   "source": [
    "##### Execute prediction"
   ]
  },
  {
   "cell_type": "code",
   "execution_count": 13,
   "id": "29d601fc-2f52-41dc-9de6-1e5ce7dcdab0",
   "metadata": {},
   "outputs": [],
   "source": [
    "assert set(feature_order) == set(list(dfmoh.columns)), \"The number of features does not coincide\""
   ]
  },
  {
   "cell_type": "code",
   "execution_count": 14,
   "id": "6be924a6-523f-493d-87b5-b10ee3662724",
   "metadata": {},
   "outputs": [],
   "source": [
    "dfmoh = dfmoh[feature_order]"
   ]
  },
  {
   "cell_type": "code",
   "execution_count": 15,
   "id": "17169459-36b9-4a03-aa08-00582d707181",
   "metadata": {},
   "outputs": [
    {
     "name": "stdout",
     "output_type": "stream",
     "text": [
      "Predicted price is 1425.25€.\n"
     ]
    }
   ],
   "source": [
    "print(f\"Predicted price is {round(pickle_model.predict(dfmoh)[0], 2)}€.\")"
   ]
  }
 ],
 "metadata": {
  "kernelspec": {
   "display_name": "Python 3 (ipykernel)",
   "language": "python",
   "name": "python3"
  },
  "language_info": {
   "codemirror_mode": {
    "name": "ipython",
    "version": 3
   },
   "file_extension": ".py",
   "mimetype": "text/x-python",
   "name": "python",
   "nbconvert_exporter": "python",
   "pygments_lexer": "ipython3",
   "version": "3.9.7"
  }
 },
 "nbformat": 4,
 "nbformat_minor": 5
}
