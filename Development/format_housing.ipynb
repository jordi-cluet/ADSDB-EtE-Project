{
 "cells": [
  {
   "cell_type": "markdown",
   "id": "f0552595-1ed9-4d1d-bbc4-d2b1f3635366",
   "metadata": {},
   "source": [
    "#### Import libraries and packages"
   ]
  },
  {
   "cell_type": "code",
   "execution_count": 1,
   "id": "f3ee6f33",
   "metadata": {},
   "outputs": [],
   "source": [
    "import psycopg2\n",
    "import psycopg2.extras as extras\n",
    "import pandas as pd\n",
    "import numpy as np\n",
    "import seaborn as sns"
   ]
  },
  {
   "cell_type": "markdown",
   "id": "72162abc-ede6-4069-84e1-5de206b08652",
   "metadata": {},
   "source": [
    "#### Set connection with postgres database"
   ]
  },
  {
   "cell_type": "code",
   "execution_count": 2,
   "id": "471e44ce",
   "metadata": {},
   "outputs": [],
   "source": [
    "host = 'postgresfib.fib.upc.edu'\n",
    "dbname = 'ADSDBjordi.cluet'\n",
    "user = 'jordi.cluet'\n",
    "pwd = 'DB151199'\n",
    "port = 6433\n",
    "sslmode = 'require'\n",
    "\n",
    "conn = psycopg2.connect(\"host='{}' port={} dbname='{}' user={} password={}\".format(host, port, dbname, user, pwd))\n",
    "cursor = conn.cursor()"
   ]
  },
  {
   "cell_type": "markdown",
   "id": "b9dd0d31-5090-4014-a2ff-d4f638356e52",
   "metadata": {},
   "source": [
    "#### Select whole table as dataframe"
   ]
  },
  {
   "cell_type": "code",
   "execution_count": 3,
   "id": "94757116",
   "metadata": {},
   "outputs": [
    {
     "data": {
      "text/html": [
       "<div>\n",
       "<style scoped>\n",
       "    .dataframe tbody tr th:only-of-type {\n",
       "        vertical-align: middle;\n",
       "    }\n",
       "\n",
       "    .dataframe tbody tr th {\n",
       "        vertical-align: top;\n",
       "    }\n",
       "\n",
       "    .dataframe thead th {\n",
       "        text-align: right;\n",
       "    }\n",
       "</style>\n",
       "<table border=\"1\" class=\"dataframe\">\n",
       "  <thead>\n",
       "    <tr style=\"text-align: right;\">\n",
       "      <th></th>\n",
       "      <th>id</th>\n",
       "      <th>address</th>\n",
       "      <th>bathrooms</th>\n",
       "      <th>building_subtype</th>\n",
       "      <th>building_type</th>\n",
       "      <th>conservation_state</th>\n",
       "      <th>extraction_date</th>\n",
       "      <th>discount</th>\n",
       "      <th>floor_elevator</th>\n",
       "      <th>is_new_construction</th>\n",
       "      <th>link</th>\n",
       "      <th>price</th>\n",
       "      <th>real_estate</th>\n",
       "      <th>real_estate_id</th>\n",
       "      <th>rooms</th>\n",
       "      <th>sq_meters</th>\n",
       "      <th>neighbourhood</th>\n",
       "      <th>neighbourhood_mean_price</th>\n",
       "    </tr>\n",
       "  </thead>\n",
       "  <tbody>\n",
       "    <tr>\n",
       "      <th>0</th>\n",
       "      <td>0</td>\n",
       "      <td>Carrer Roger de Lluria, Dreta de l'Eixample</td>\n",
       "      <td>3</td>\n",
       "      <td>Flat</td>\n",
       "      <td>Flat</td>\n",
       "      <td>0</td>\n",
       "      <td>2020-10-28</td>\n",
       "      <td>0</td>\n",
       "      <td>1</td>\n",
       "      <td>False</td>\n",
       "      <td>/es/alquiler/vivienda/barcelona-capital/calefa...</td>\n",
       "      <td>5000.0</td>\n",
       "      <td>SOMOS REAL ESTATE SERVICES</td>\n",
       "      <td>9202765680731</td>\n",
       "      <td>3</td>\n",
       "      <td>208.0</td>\n",
       "      <td>la dreta de l'eixample</td>\n",
       "      <td>1307.616842</td>\n",
       "    </tr>\n",
       "    <tr>\n",
       "      <th>1</th>\n",
       "      <td>1</td>\n",
       "      <td>Sant Antoni</td>\n",
       "      <td>1</td>\n",
       "      <td>Flat</td>\n",
       "      <td>Flat</td>\n",
       "      <td>1</td>\n",
       "      <td>2020-10-28</td>\n",
       "      <td>0</td>\n",
       "      <td>1</td>\n",
       "      <td>False</td>\n",
       "      <td>/es/alquiler/vivienda/barcelona-capital/aire-a...</td>\n",
       "      <td>1250.0</td>\n",
       "      <td>TECNOCASA RIERA ALTA MAR</td>\n",
       "      <td>9202751363773</td>\n",
       "      <td>3</td>\n",
       "      <td>93.0</td>\n",
       "      <td>sant antoni</td>\n",
       "      <td>994.909158</td>\n",
       "    </tr>\n",
       "    <tr>\n",
       "      <th>2</th>\n",
       "      <td>2</td>\n",
       "      <td>Carrer Valencia, La Nova Esquerra de l'Eixample</td>\n",
       "      <td>2</td>\n",
       "      <td>Flat</td>\n",
       "      <td>Flat</td>\n",
       "      <td>0</td>\n",
       "      <td>2020-10-28</td>\n",
       "      <td>0</td>\n",
       "      <td>1</td>\n",
       "      <td>False</td>\n",
       "      <td>/es/alquiler/vivienda/barcelona-capital/calefa...</td>\n",
       "      <td>1600.0</td>\n",
       "      <td>SOMOS REAL ESTATE SERVICES</td>\n",
       "      <td>9202765680731</td>\n",
       "      <td>4</td>\n",
       "      <td>129.0</td>\n",
       "      <td>la nova esquerra de l'eixample</td>\n",
       "      <td>1053.832393</td>\n",
       "    </tr>\n",
       "    <tr>\n",
       "      <th>3</th>\n",
       "      <td>3</td>\n",
       "      <td>Carrer Muntaner, Sant Gervasi- Galvany</td>\n",
       "      <td>2</td>\n",
       "      <td>Flat</td>\n",
       "      <td>Flat</td>\n",
       "      <td>0</td>\n",
       "      <td>2020-10-28</td>\n",
       "      <td>0</td>\n",
       "      <td>1</td>\n",
       "      <td>False</td>\n",
       "      <td>/es/alquiler/vivienda/barcelona-capital/aire-a...</td>\n",
       "      <td>3200.0</td>\n",
       "      <td>SOMOS REAL ESTATE SERVICES</td>\n",
       "      <td>9202765680731</td>\n",
       "      <td>2</td>\n",
       "      <td>133.0</td>\n",
       "      <td>sant gervasi - galvany</td>\n",
       "      <td>1397.273005</td>\n",
       "    </tr>\n",
       "    <tr>\n",
       "      <th>4</th>\n",
       "      <td>4</td>\n",
       "      <td>Rambla del Raval, El Raval</td>\n",
       "      <td>1</td>\n",
       "      <td>Flat</td>\n",
       "      <td>Flat</td>\n",
       "      <td>2</td>\n",
       "      <td>2020-10-28</td>\n",
       "      <td>0</td>\n",
       "      <td>1</td>\n",
       "      <td>False</td>\n",
       "      <td>/es/alquiler/vivienda/barcelona-capital/ascens...</td>\n",
       "      <td>1000.0</td>\n",
       "      <td>ESTUDI JOAN MIRO.SL.</td>\n",
       "      <td>9202762439813</td>\n",
       "      <td>3</td>\n",
       "      <td>67.0</td>\n",
       "      <td>el raval</td>\n",
       "      <td>850.112343</td>\n",
       "    </tr>\n",
       "  </tbody>\n",
       "</table>\n",
       "</div>"
      ],
      "text/plain": [
       "   id                                          address  bathrooms  \\\n",
       "0   0      Carrer Roger de Lluria, Dreta de l'Eixample          3   \n",
       "1   1                                      Sant Antoni          1   \n",
       "2   2  Carrer Valencia, La Nova Esquerra de l'Eixample          2   \n",
       "3   3           Carrer Muntaner, Sant Gervasi- Galvany          2   \n",
       "4   4                       Rambla del Raval, El Raval          1   \n",
       "\n",
       "  building_subtype building_type  conservation_state extraction_date  \\\n",
       "0             Flat          Flat                   0      2020-10-28   \n",
       "1             Flat          Flat                   1      2020-10-28   \n",
       "2             Flat          Flat                   0      2020-10-28   \n",
       "3             Flat          Flat                   0      2020-10-28   \n",
       "4             Flat          Flat                   2      2020-10-28   \n",
       "\n",
       "   discount  floor_elevator  is_new_construction  \\\n",
       "0         0               1                False   \n",
       "1         0               1                False   \n",
       "2         0               1                False   \n",
       "3         0               1                False   \n",
       "4         0               1                False   \n",
       "\n",
       "                                                link   price  \\\n",
       "0  /es/alquiler/vivienda/barcelona-capital/calefa...  5000.0   \n",
       "1  /es/alquiler/vivienda/barcelona-capital/aire-a...  1250.0   \n",
       "2  /es/alquiler/vivienda/barcelona-capital/calefa...  1600.0   \n",
       "3  /es/alquiler/vivienda/barcelona-capital/aire-a...  3200.0   \n",
       "4  /es/alquiler/vivienda/barcelona-capital/ascens...  1000.0   \n",
       "\n",
       "                  real_estate real_estate_id  rooms  sq_meters  \\\n",
       "0  SOMOS REAL ESTATE SERVICES  9202765680731      3      208.0   \n",
       "1    TECNOCASA RIERA ALTA MAR  9202751363773      3       93.0   \n",
       "2  SOMOS REAL ESTATE SERVICES  9202765680731      4      129.0   \n",
       "3  SOMOS REAL ESTATE SERVICES  9202765680731      2      133.0   \n",
       "4        ESTUDI JOAN MIRO.SL.  9202762439813      3       67.0   \n",
       "\n",
       "                    neighbourhood  neighbourhood_mean_price  \n",
       "0          la dreta de l'eixample               1307.616842  \n",
       "1                     sant antoni                994.909158  \n",
       "2  la nova esquerra de l'eixample               1053.832393  \n",
       "3          sant gervasi - galvany               1397.273005  \n",
       "4                        el raval                850.112343  "
      ]
     },
     "execution_count": 3,
     "metadata": {},
     "output_type": "execute_result"
    }
   ],
   "source": [
    "sql = \"SELECT * from formatted_zone.zenodo_fotocasa_2020_21_12_06;\"\n",
    "df = pd.read_sql_query(sql, conn)\n",
    "df.head()"
   ]
  },
  {
   "cell_type": "markdown",
   "id": "5090cd81-38c5-4941-a4c4-233d0ea3b7da",
   "metadata": {},
   "source": [
    "#### Remove unuseful columns"
   ]
  },
  {
   "cell_type": "code",
   "execution_count": 4,
   "id": "1b4dd99a-621d-4520-be1a-304ac532f34b",
   "metadata": {},
   "outputs": [],
   "source": [
    "df = df.drop(['extraction_date', 'link'], axis = 1)  # non-useful columns"
   ]
  },
  {
   "cell_type": "markdown",
   "id": "f6a1d994-e651-41b5-85d7-9197a5a03e5a",
   "metadata": {},
   "source": [
    "#### Check data types"
   ]
  },
  {
   "cell_type": "code",
   "execution_count": 5,
   "id": "f19a968f-dac5-42aa-aec2-de70dd11f509",
   "metadata": {},
   "outputs": [
    {
     "data": {
      "text/plain": [
       "id                            int64\n",
       "address                      object\n",
       "bathrooms                     int64\n",
       "building_subtype             object\n",
       "building_type                object\n",
       "conservation_state            int64\n",
       "discount                      int64\n",
       "floor_elevator                int64\n",
       "is_new_construction            bool\n",
       "price                       float64\n",
       "real_estate                  object\n",
       "real_estate_id               object\n",
       "rooms                         int64\n",
       "sq_meters                   float64\n",
       "neighbourhood                object\n",
       "neighbourhood_mean_price    float64\n",
       "dtype: object"
      ]
     },
     "execution_count": 5,
     "metadata": {},
     "output_type": "execute_result"
    }
   ],
   "source": [
    "df.dtypes"
   ]
  },
  {
   "cell_type": "markdown",
   "id": "c2e42e10-99aa-472b-8592-a1e3cb300907",
   "metadata": {},
   "source": [
    "#### Correct some data types"
   ]
  },
  {
   "cell_type": "code",
   "execution_count": 6,
   "id": "cb6eb3fb-637f-4ebf-ad89-5168736be07d",
   "metadata": {},
   "outputs": [],
   "source": [
    "df['id'] = df['id'].astype(\"object\")\n",
    "df['address'] = df['address'].astype(\"string\")\n",
    "df['building_subtype'] = df['building_subtype'].astype(\"category\")\n",
    "df['building_type'] = df['building_type'].astype(\"category\")\n",
    "df['conservation_state'] = df['conservation_state'].astype(\"category\")\n",
    "df['floor_elevator'] = df['floor_elevator'].astype(\"bool\")\n",
    "df['real_estate'] = df['real_estate'].astype(\"category\")\n",
    "df['real_estate_id'] = df['real_estate_id'].astype(\"object\")\n",
    "df['neighbourhood'] = df['neighbourhood'].astype(\"category\")"
   ]
  },
  {
   "cell_type": "code",
   "execution_count": 7,
   "id": "37df2cce-9379-4f50-b241-41deaa444d4d",
   "metadata": {},
   "outputs": [
    {
     "data": {
      "text/plain": [
       "id                            object\n",
       "address                       string\n",
       "bathrooms                      int64\n",
       "building_subtype            category\n",
       "building_type               category\n",
       "conservation_state          category\n",
       "discount                       int64\n",
       "floor_elevator                  bool\n",
       "is_new_construction             bool\n",
       "price                        float64\n",
       "real_estate                 category\n",
       "real_estate_id                object\n",
       "rooms                          int64\n",
       "sq_meters                    float64\n",
       "neighbourhood               category\n",
       "neighbourhood_mean_price     float64\n",
       "dtype: object"
      ]
     },
     "execution_count": 7,
     "metadata": {},
     "output_type": "execute_result"
    }
   ],
   "source": [
    "df.dtypes"
   ]
  },
  {
   "cell_type": "markdown",
   "id": "8cd69903-7897-4808-8614-a94deb8b5148",
   "metadata": {},
   "source": [
    "### Remove duplicates"
   ]
  },
  {
   "cell_type": "markdown",
   "id": "559a12a1-f72b-49ee-bca1-b831f2958360",
   "metadata": {},
   "source": [
    "There is an important amount of duplicates (more than a thousand). We remove them."
   ]
  },
  {
   "cell_type": "code",
   "execution_count": 8,
   "id": "faae9d30-22df-4277-a0a5-3382c67b8cdb",
   "metadata": {},
   "outputs": [
    {
     "name": "stdout",
     "output_type": "stream",
     "text": [
      "Initial rows:\t 10928\n",
      "Duplicated rows:  1183\n",
      "Final rows:\t  9745\n"
     ]
    }
   ],
   "source": [
    "print(\"Initial rows:\\t\", len(df))\n",
    "print(\"Duplicated rows: \", sum(df.iloc[:, 1:].duplicated()))\n",
    "df = df[-df.iloc[:, 1:].duplicated()]\n",
    "df = df.reset_index(drop=True)\n",
    "print(\"Final rows:\\t \", len(df))"
   ]
  },
  {
   "cell_type": "markdown",
   "id": "33b7a386-f519-4a73-80ad-c96bdeaf41d8",
   "metadata": {},
   "source": [
    "---"
   ]
  },
  {
   "cell_type": "markdown",
   "id": "2dc55369-1d01-4c65-ba05-521af9553b17",
   "metadata": {},
   "source": [
    "### Categorical variables"
   ]
  },
  {
   "cell_type": "markdown",
   "id": "2f593a8d-8d11-4a43-bbab-0cebec6a9947",
   "metadata": {},
   "source": [
    "#### Summary of categorical variables"
   ]
  },
  {
   "cell_type": "code",
   "execution_count": 9,
   "id": "d8114e29-8092-4fa1-887e-ae7758e25b01",
   "metadata": {},
   "outputs": [
    {
     "data": {
      "text/html": [
       "<div>\n",
       "<style scoped>\n",
       "    .dataframe tbody tr th:only-of-type {\n",
       "        vertical-align: middle;\n",
       "    }\n",
       "\n",
       "    .dataframe tbody tr th {\n",
       "        vertical-align: top;\n",
       "    }\n",
       "\n",
       "    .dataframe thead th {\n",
       "        text-align: right;\n",
       "    }\n",
       "</style>\n",
       "<table border=\"1\" class=\"dataframe\">\n",
       "  <thead>\n",
       "    <tr style=\"text-align: right;\">\n",
       "      <th></th>\n",
       "      <th>building_subtype</th>\n",
       "      <th>building_type</th>\n",
       "      <th>conservation_state</th>\n",
       "      <th>floor_elevator</th>\n",
       "      <th>is_new_construction</th>\n",
       "      <th>real_estate</th>\n",
       "      <th>neighbourhood</th>\n",
       "    </tr>\n",
       "  </thead>\n",
       "  <tbody>\n",
       "    <tr>\n",
       "      <th>count</th>\n",
       "      <td>9745</td>\n",
       "      <td>9745</td>\n",
       "      <td>9745</td>\n",
       "      <td>9745</td>\n",
       "      <td>9745</td>\n",
       "      <td>9745</td>\n",
       "      <td>9745</td>\n",
       "    </tr>\n",
       "    <tr>\n",
       "      <th>unique</th>\n",
       "      <td>10</td>\n",
       "      <td>1</td>\n",
       "      <td>6</td>\n",
       "      <td>2</td>\n",
       "      <td>2</td>\n",
       "      <td>1116</td>\n",
       "      <td>67</td>\n",
       "    </tr>\n",
       "    <tr>\n",
       "      <th>top</th>\n",
       "      <td>Flat</td>\n",
       "      <td>Flat</td>\n",
       "      <td>0</td>\n",
       "      <td>True</td>\n",
       "      <td>False</td>\n",
       "      <td>ENGEL &amp; VOELKERS</td>\n",
       "      <td>la dreta de l'eixample</td>\n",
       "    </tr>\n",
       "    <tr>\n",
       "      <th>freq</th>\n",
       "      <td>7770</td>\n",
       "      <td>9745</td>\n",
       "      <td>5457</td>\n",
       "      <td>6930</td>\n",
       "      <td>9655</td>\n",
       "      <td>800</td>\n",
       "      <td>829</td>\n",
       "    </tr>\n",
       "  </tbody>\n",
       "</table>\n",
       "</div>"
      ],
      "text/plain": [
       "       building_subtype building_type  conservation_state floor_elevator  \\\n",
       "count              9745          9745                9745           9745   \n",
       "unique               10             1                   6              2   \n",
       "top                Flat          Flat                   0           True   \n",
       "freq               7770          9745                5457           6930   \n",
       "\n",
       "       is_new_construction       real_estate           neighbourhood  \n",
       "count                 9745              9745                    9745  \n",
       "unique                   2              1116                      67  \n",
       "top                  False  ENGEL & VOELKERS  la dreta de l'eixample  \n",
       "freq                  9655               800                     829  "
      ]
     },
     "execution_count": 9,
     "metadata": {},
     "output_type": "execute_result"
    }
   ],
   "source": [
    "df.describe(include = ['category', 'bool'])"
   ]
  },
  {
   "cell_type": "markdown",
   "id": "8da790f4-b23b-4795-b700-345b57e77363",
   "metadata": {},
   "source": [
    "#### Check levels of categorical variables"
   ]
  },
  {
   "cell_type": "markdown",
   "id": "8ced1037-e719-4a73-b652-4c846677fb3b",
   "metadata": {
    "tags": []
   },
   "source": [
    "##### building_type\n",
    "We remove it since it only has 1 unique value."
   ]
  },
  {
   "cell_type": "code",
   "execution_count": 10,
   "id": "d4e04b59-3f10-428e-a9ac-7a169ea87077",
   "metadata": {},
   "outputs": [],
   "source": [
    "df = df.drop(['building_type'], axis = 1)"
   ]
  },
  {
   "cell_type": "markdown",
   "id": "196af1a3-f592-44b8-b38f-56d1bc730f15",
   "metadata": {},
   "source": [
    "##### building_subtype\n",
    "There are 10 different [sub]types of building. Most of them are flats."
   ]
  },
  {
   "cell_type": "code",
   "execution_count": 11,
   "id": "3f3f2cc8-7cbf-4b49-93e7-786f154e56f3",
   "metadata": {},
   "outputs": [
    {
     "data": {
      "text/plain": [
       "Flat                     7770\n",
       "Apartment                1095\n",
       "Attic                     389\n",
       "Duplex                    142\n",
       "Loft                      134\n",
       "Study                     101\n",
       "House_Chalet               49\n",
       "GroundFloorWithGarden      41\n",
       "SemidetachedHouse          14\n",
       "SemiDetached               10\n",
       "Name: building_subtype, dtype: int64"
      ]
     },
     "execution_count": 11,
     "metadata": {},
     "output_type": "execute_result"
    }
   ],
   "source": [
    "df['building_subtype'].value_counts()"
   ]
  },
  {
   "cell_type": "code",
   "execution_count": 12,
   "id": "b9433b6d-1aa0-4f1a-80c3-9494a9a6604c",
   "metadata": {},
   "outputs": [
    {
     "data": {
      "text/plain": [
       "<AxesSubplot:>"
      ]
     },
     "execution_count": 12,
     "metadata": {},
     "output_type": "execute_result"
    },
    {
     "data": {
      "image/png": "[encoded data removed]",
      "text/plain": [
       "<Figure size 432x288 with 1 Axes>"
      ]
     },
     "metadata": {
      "needs_background": "light"
     },
     "output_type": "display_data"
    }
   ],
   "source": [
    "df['building_subtype'].value_counts().plot(kind='bar')"
   ]
  },
  {
   "cell_type": "markdown",
   "id": "f151af24-eb1c-421a-86bc-62a99545c119",
   "metadata": {},
   "source": [
    "##### conservation_state\n",
    "There are 6 different conservation states in Fotocasa classification. We properly re-encode them as they are displayed on their website. Most of the homes are new constructions, surprisingly."
   ]
  },
  {
   "cell_type": "code",
   "execution_count": 13,
   "id": "29d21f19-1e37-48ad-8479-64bd3184ccc2",
   "metadata": {},
   "outputs": [
    {
     "data": {
      "text/plain": [
       "0    5457\n",
       "1    1642\n",
       "2    1393\n",
       "3    1209\n",
       "8      28\n",
       "4      16\n",
       "Name: conservation_state, dtype: int64"
      ]
     },
     "execution_count": 13,
     "metadata": {},
     "output_type": "execute_result"
    }
   ],
   "source": [
    "df['conservation_state'].value_counts()"
   ]
  },
  {
   "cell_type": "code",
   "execution_count": 14,
   "id": "f73ee5a4-32b2-49ea-b81e-409c5f13ec6c",
   "metadata": {},
   "outputs": [
    {
     "data": {
      "text/plain": [
       "New construction    5457\n",
       "Nearly new          1642\n",
       "Very good           1393\n",
       "Good                1209\n",
       "Renovated             28\n",
       "To renovate           16\n",
       "Name: conservation_state, dtype: int64"
      ]
     },
     "execution_count": 14,
     "metadata": {},
     "output_type": "execute_result"
    }
   ],
   "source": [
    "df['conservation_state'] = df['conservation_state'].replace({\n",
    "    0: 'New construction', \n",
    "    1: 'Nearly new', \n",
    "    2: 'Very good', \n",
    "    3: 'Good', \n",
    "    4: 'To renovate', \n",
    "    8: 'Renovated'\n",
    "  })\n",
    "df['conservation_state'] = df['conservation_state'].astype(\"category\")\n",
    "df['conservation_state'].value_counts()"
   ]
  },
  {
   "cell_type": "code",
   "execution_count": 15,
   "id": "60855130-f246-4154-8fad-200aba184bf0",
   "metadata": {},
   "outputs": [
    {
     "data": {
      "text/plain": [
       "<AxesSubplot:>"
      ]
     },
     "execution_count": 15,
     "metadata": {},
     "output_type": "execute_result"
    },
    {
     "data": {
      "image/png": "[encoded data removed]",
      "text/plain": [
       "<Figure size 432x288 with 1 Axes>"
      ]
     },
     "metadata": {
      "needs_background": "light"
     },
     "output_type": "display_data"
    }
   ],
   "source": [
    "df['conservation_state'].value_counts().plot(kind='bar')"
   ]
  },
  {
   "cell_type": "markdown",
   "id": "fcb52d12-f1bb-4de8-a5d4-e88366901286",
   "metadata": {},
   "source": [
    "##### floor_elevator\n",
    "Most of the homes have an elevator."
   ]
  },
  {
   "cell_type": "code",
   "execution_count": 16,
   "id": "22bd91ac-48dc-4e4d-b176-7f81ac215779",
   "metadata": {},
   "outputs": [
    {
     "data": {
      "text/plain": [
       "True     6930\n",
       "False    2815\n",
       "Name: floor_elevator, dtype: int64"
      ]
     },
     "execution_count": 16,
     "metadata": {},
     "output_type": "execute_result"
    }
   ],
   "source": [
    "df['floor_elevator'].value_counts()"
   ]
  },
  {
   "cell_type": "code",
   "execution_count": 17,
   "id": "ba050fac-f204-4fe7-ac56-964d36a3817b",
   "metadata": {},
   "outputs": [
    {
     "data": {
      "text/plain": [
       "<AxesSubplot:>"
      ]
     },
     "execution_count": 17,
     "metadata": {},
     "output_type": "execute_result"
    },
    {
     "data": {
      "image/png": "[encoded data removed]",
      "text/plain": [
       "<Figure size 432x288 with 1 Axes>"
      ]
     },
     "metadata": {
      "needs_background": "light"
     },
     "output_type": "display_data"
    }
   ],
   "source": [
    "df['floor_elevator'].value_counts()[:10].plot(kind='bar')"
   ]
  },
  {
   "cell_type": "markdown",
   "id": "fb2dfcf3-c1bc-4688-ada5-9c1246094395",
   "metadata": {},
   "source": [
    "##### is_new_construction\n",
    "Almost no house is newly constructed according to this variable. This contradicts what the variable 'conservation_state' indicates."
   ]
  },
  {
   "cell_type": "code",
   "execution_count": 18,
   "id": "072374a2-60c6-421c-bf4f-3f98a701c878",
   "metadata": {},
   "outputs": [
    {
     "data": {
      "text/plain": [
       "False    9655\n",
       "True       90\n",
       "Name: is_new_construction, dtype: int64"
      ]
     },
     "execution_count": 18,
     "metadata": {},
     "output_type": "execute_result"
    }
   ],
   "source": [
    "df['is_new_construction'].value_counts()"
   ]
  },
  {
   "cell_type": "code",
   "execution_count": 19,
   "id": "5c93ae91-4d78-491d-993d-2d85743c897f",
   "metadata": {},
   "outputs": [
    {
     "data": {
      "text/plain": [
       "<AxesSubplot:>"
      ]
     },
     "execution_count": 19,
     "metadata": {},
     "output_type": "execute_result"
    },
    {
     "data": {
      "image/png": "[encoded data removed]",
      "text/plain": [
       "<Figure size 432x288 with 1 Axes>"
      ]
     },
     "metadata": {
      "needs_background": "light"
     },
     "output_type": "display_data"
    }
   ],
   "source": [
    "df['is_new_construction'].value_counts()[:10].plot(kind='bar')"
   ]
  },
  {
   "cell_type": "code",
   "execution_count": 20,
   "id": "09325c08-d509-4341-801c-af6a9dfd856a",
   "metadata": {},
   "outputs": [
    {
     "data": {
      "text/plain": [
       "New construction    90\n",
       "Good                 0\n",
       "Nearly new           0\n",
       "Renovated            0\n",
       "To renovate          0\n",
       "Very good            0\n",
       "Name: conservation_state, dtype: int64"
      ]
     },
     "execution_count": 20,
     "metadata": {},
     "output_type": "execute_result"
    }
   ],
   "source": [
    "df[df['is_new_construction'] == True]['conservation_state'].value_counts()"
   ]
  },
  {
   "cell_type": "code",
   "execution_count": 21,
   "id": "a41c3b16-6cc6-4e7b-b807-0a3062713c17",
   "metadata": {},
   "outputs": [
    {
     "data": {
      "text/plain": [
       "False    5367\n",
       "True       90\n",
       "Name: is_new_construction, dtype: int64"
      ]
     },
     "execution_count": 21,
     "metadata": {},
     "output_type": "execute_result"
    }
   ],
   "source": [
    "df[df['conservation_state'] == 'New construction']['is_new_construction'].value_counts()"
   ]
  },
  {
   "cell_type": "markdown",
   "id": "66da7f3a-20d1-4dca-9ec5-2763965b0719",
   "metadata": {},
   "source": [
    "We remove the variable since it seems wrongly assigned and the same information is given in conservation_state variable."
   ]
  },
  {
   "cell_type": "code",
   "execution_count": 22,
   "id": "6c08cd29-1f7f-416d-9942-bb22faa2c2fe",
   "metadata": {},
   "outputs": [],
   "source": [
    "df = df.drop(['is_new_construction'], axis = 1)"
   ]
  },
  {
   "cell_type": "markdown",
   "id": "51ed6679-02a6-4f46-b6fd-ae067eb3e22a",
   "metadata": {},
   "source": [
    "##### real_estate\n",
    "There are 1116 different real_estate agencies. Some of them concentrate most of the homes. There are some missing ones with respect to real_estate_id (we deal with this issue later)."
   ]
  },
  {
   "cell_type": "code",
   "execution_count": 23,
   "id": "6f612a5e-f798-4ed2-86e5-ce844ce565f7",
   "metadata": {},
   "outputs": [
    {
     "data": {
      "text/plain": [
       "1116"
      ]
     },
     "execution_count": 23,
     "metadata": {},
     "output_type": "execute_result"
    }
   ],
   "source": [
    "len(df['real_estate'].unique())"
   ]
  },
  {
   "cell_type": "code",
   "execution_count": 24,
   "id": "a4ea2bec-09d9-4c29-84b4-65a083091f6f",
   "metadata": {},
   "outputs": [
    {
     "data": {
      "text/plain": [
       "1317"
      ]
     },
     "execution_count": 24,
     "metadata": {},
     "output_type": "execute_result"
    }
   ],
   "source": [
    "len(df['real_estate_id'].unique())"
   ]
  },
  {
   "cell_type": "code",
   "execution_count": 25,
   "id": "13f0c9e6-13fd-4ac3-9efb-7f401a59f81a",
   "metadata": {},
   "outputs": [
    {
     "data": {
      "text/plain": [
       "ENGEL & VOELKERS                         800\n",
       "APROPERTIES REAL ESTATE Nº Aicat 6388    498\n",
       "SH BARCELONA                             457\n",
       "Homelike                                 305\n",
       "AREA CASA                                297\n",
       "NaN                                      172\n",
       "ALL4FLAT                                 168\n",
       "PUNTO HABITAT                            160\n",
       "DOMINGUEZ                                145\n",
       "CASAMONA                                 123\n",
       "Name: real_estate, dtype: int64"
      ]
     },
     "execution_count": 25,
     "metadata": {},
     "output_type": "execute_result"
    }
   ],
   "source": [
    "df['real_estate'].value_counts()[:10]"
   ]
  },
  {
   "cell_type": "code",
   "execution_count": 26,
   "id": "7eaef7ac-bc1f-4366-8dfa-2af092c516d3",
   "metadata": {},
   "outputs": [
    {
     "data": {
      "text/plain": [
       "172"
      ]
     },
     "execution_count": 26,
     "metadata": {},
     "output_type": "execute_result"
    }
   ],
   "source": [
    "sum(df['real_estate'] == 'NaN')"
   ]
  },
  {
   "cell_type": "code",
   "execution_count": 27,
   "id": "66de3407-97d9-41e0-af4a-f9eb1df6ba2a",
   "metadata": {},
   "outputs": [
    {
     "data": {
      "text/plain": [
       "<AxesSubplot:>"
      ]
     },
     "execution_count": 27,
     "metadata": {},
     "output_type": "execute_result"
    },
    {
     "data": {
      "image/png": "[encoded data removed]",
      "text/plain": [
       "<Figure size 432x288 with 1 Axes>"
      ]
     },
     "metadata": {
      "needs_background": "light"
     },
     "output_type": "display_data"
    }
   ],
   "source": [
    "df['real_estate'].value_counts()[:10].plot(kind='bar')"
   ]
  },
  {
   "cell_type": "markdown",
   "id": "962b2ead-7a9b-4454-a577-6c9a6d288f7a",
   "metadata": {},
   "source": [
    "##### neighbourhood\n",
    "The database contains homes in 66 out of the 73  neighboourhoods of Barcelona (2 rows do not have a neighbourhood set). This will be treated later."
   ]
  },
  {
   "cell_type": "code",
   "execution_count": 28,
   "id": "240e9bfc-9615-4950-8d35-31a10e012c26",
   "metadata": {},
   "outputs": [
    {
     "data": {
      "text/plain": [
       "67"
      ]
     },
     "execution_count": 28,
     "metadata": {},
     "output_type": "execute_result"
    }
   ],
   "source": [
    "len(df['neighbourhood'].unique().tolist())"
   ]
  },
  {
   "cell_type": "code",
   "execution_count": 29,
   "id": "76d57a52-a62d-4303-9922-e18e431a9166",
   "metadata": {},
   "outputs": [
    {
     "data": {
      "text/plain": [
       "2"
      ]
     },
     "execution_count": 29,
     "metadata": {},
     "output_type": "execute_result"
    }
   ],
   "source": [
    "sum(df['neighbourhood'] == 'NaN')"
   ]
  },
  {
   "cell_type": "code",
   "execution_count": 30,
   "id": "f2e54ac9-2d85-4642-a431-e5d94336aa90",
   "metadata": {},
   "outputs": [
    {
     "data": {
      "text/plain": [
       "<AxesSubplot:>"
      ]
     },
     "execution_count": 30,
     "metadata": {},
     "output_type": "execute_result"
    },
    {
     "data": {
      "image/png": "[encoded data removed]",
      "text/plain": [
       "<Figure size 432x288 with 1 Axes>"
      ]
     },
     "metadata": {
      "needs_background": "light"
     },
     "output_type": "display_data"
    }
   ],
   "source": [
    "df['neighbourhood'].value_counts()[:10].plot(kind='bar')"
   ]
  },
  {
   "cell_type": "markdown",
   "id": "ef0b4974-36b2-4f7a-aa2d-48fa54882095",
   "metadata": {},
   "source": [
    "---"
   ]
  },
  {
   "cell_type": "markdown",
   "id": "e5f381ef-dc7b-4bfe-8761-ad407f20f58d",
   "metadata": {},
   "source": [
    "### Numerical variables"
   ]
  },
  {
   "cell_type": "markdown",
   "id": "a6f4242b-ad26-40f1-9234-cd94f018cc13",
   "metadata": {},
   "source": [
    "#### Summary of numerical variables"
   ]
  },
  {
   "cell_type": "code",
   "execution_count": 31,
   "id": "58287ffc-c295-4e63-9741-155332444ca5",
   "metadata": {},
   "outputs": [
    {
     "data": {
      "text/html": [
       "<div>\n",
       "<style scoped>\n",
       "    .dataframe tbody tr th:only-of-type {\n",
       "        vertical-align: middle;\n",
       "    }\n",
       "\n",
       "    .dataframe tbody tr th {\n",
       "        vertical-align: top;\n",
       "    }\n",
       "\n",
       "    .dataframe thead th {\n",
       "        text-align: right;\n",
       "    }\n",
       "</style>\n",
       "<table border=\"1\" class=\"dataframe\">\n",
       "  <thead>\n",
       "    <tr style=\"text-align: right;\">\n",
       "      <th></th>\n",
       "      <th>bathrooms</th>\n",
       "      <th>discount</th>\n",
       "      <th>price</th>\n",
       "      <th>rooms</th>\n",
       "      <th>sq_meters</th>\n",
       "      <th>neighbourhood_mean_price</th>\n",
       "    </tr>\n",
       "  </thead>\n",
       "  <tbody>\n",
       "    <tr>\n",
       "      <th>count</th>\n",
       "      <td>9745.000000</td>\n",
       "      <td>9745.000000</td>\n",
       "      <td>9741.000000</td>\n",
       "      <td>9745.000000</td>\n",
       "      <td>9745.000000</td>\n",
       "      <td>9743.000000</td>\n",
       "    </tr>\n",
       "    <tr>\n",
       "      <th>mean</th>\n",
       "      <td>1.503027</td>\n",
       "      <td>67.798358</td>\n",
       "      <td>1433.827738</td>\n",
       "      <td>2.402668</td>\n",
       "      <td>86.960082</td>\n",
       "      <td>1058.224572</td>\n",
       "    </tr>\n",
       "    <tr>\n",
       "      <th>std</th>\n",
       "      <td>0.786545</td>\n",
       "      <td>232.352200</td>\n",
       "      <td>1155.961207</td>\n",
       "      <td>1.188768</td>\n",
       "      <td>62.566014</td>\n",
       "      <td>211.728578</td>\n",
       "    </tr>\n",
       "    <tr>\n",
       "      <th>min</th>\n",
       "      <td>0.000000</td>\n",
       "      <td>0.000000</td>\n",
       "      <td>380.000000</td>\n",
       "      <td>0.000000</td>\n",
       "      <td>0.000000</td>\n",
       "      <td>419.427143</td>\n",
       "    </tr>\n",
       "    <tr>\n",
       "      <th>25%</th>\n",
       "      <td>1.000000</td>\n",
       "      <td>0.000000</td>\n",
       "      <td>900.000000</td>\n",
       "      <td>2.000000</td>\n",
       "      <td>58.000000</td>\n",
       "      <td>882.010785</td>\n",
       "    </tr>\n",
       "    <tr>\n",
       "      <th>50%</th>\n",
       "      <td>1.000000</td>\n",
       "      <td>0.000000</td>\n",
       "      <td>1130.000000</td>\n",
       "      <td>2.000000</td>\n",
       "      <td>75.000000</td>\n",
       "      <td>1004.723491</td>\n",
       "    </tr>\n",
       "    <tr>\n",
       "      <th>75%</th>\n",
       "      <td>2.000000</td>\n",
       "      <td>87.000000</td>\n",
       "      <td>1500.000000</td>\n",
       "      <td>3.000000</td>\n",
       "      <td>98.000000</td>\n",
       "      <td>1162.321630</td>\n",
       "    </tr>\n",
       "    <tr>\n",
       "      <th>max</th>\n",
       "      <td>11.000000</td>\n",
       "      <td>7627.000000</td>\n",
       "      <td>29000.000000</td>\n",
       "      <td>22.000000</td>\n",
       "      <td>1450.000000</td>\n",
       "      <td>1860.558980</td>\n",
       "    </tr>\n",
       "  </tbody>\n",
       "</table>\n",
       "</div>"
      ],
      "text/plain": [
       "         bathrooms     discount         price        rooms    sq_meters  \\\n",
       "count  9745.000000  9745.000000   9741.000000  9745.000000  9745.000000   \n",
       "mean      1.503027    67.798358   1433.827738     2.402668    86.960082   \n",
       "std       0.786545   232.352200   1155.961207     1.188768    62.566014   \n",
       "min       0.000000     0.000000    380.000000     0.000000     0.000000   \n",
       "25%       1.000000     0.000000    900.000000     2.000000    58.000000   \n",
       "50%       1.000000     0.000000   1130.000000     2.000000    75.000000   \n",
       "75%       2.000000    87.000000   1500.000000     3.000000    98.000000   \n",
       "max      11.000000  7627.000000  29000.000000    22.000000  1450.000000   \n",
       "\n",
       "       neighbourhood_mean_price  \n",
       "count               9743.000000  \n",
       "mean                1058.224572  \n",
       "std                  211.728578  \n",
       "min                  419.427143  \n",
       "25%                  882.010785  \n",
       "50%                 1004.723491  \n",
       "75%                 1162.321630  \n",
       "max                 1860.558980  "
      ]
     },
     "execution_count": 31,
     "metadata": {},
     "output_type": "execute_result"
    }
   ],
   "source": [
    "df.describe()"
   ]
  },
  {
   "cell_type": "markdown",
   "id": "dd579f00-cf79-472d-9616-ea49a0c07d3c",
   "metadata": {},
   "source": [
    "#### Define function to get outliers"
   ]
  },
  {
   "cell_type": "code",
   "execution_count": 32,
   "id": "5609400a-a7aa-42ef-bd85-78ef731b7336",
   "metadata": {},
   "outputs": [],
   "source": [
    "def get_outliers(var, factor):\n",
    "    Q1 = df[var].quantile(0.25)\n",
    "    Q3 = df[var].quantile(0.75)\n",
    "    IQR = Q3 - Q1\n",
    "    outliers = (df[var] < Q1-factor*IQR) | (df[var] > Q3+factor*IQR)\n",
    "    return outliers"
   ]
  },
  {
   "cell_type": "markdown",
   "id": "143efc67-1d8e-494f-a2b6-3ee7a18e086e",
   "metadata": {},
   "source": [
    "#### Analysis, missing values and outliers of numerical variables"
   ]
  },
  {
   "cell_type": "markdown",
   "id": "16224551-2fc3-4d03-9523-c823ba066dc5",
   "metadata": {},
   "source": [
    "#### bathrooms\n",
    "Homes have from 0 to 11 bathrooms. Most of them have 1 to 3 bathrooms, as would be expected."
   ]
  },
  {
   "cell_type": "code",
   "execution_count": 33,
   "id": "a063f74f-3060-4117-b712-7c24474d26d4",
   "metadata": {},
   "outputs": [
    {
     "data": {
      "text/plain": [
       "1     5579\n",
       "2     3314\n",
       "3      478\n",
       "0      155\n",
       "4      146\n",
       "5       45\n",
       "6       15\n",
       "7        5\n",
       "8        4\n",
       "9        2\n",
       "11       2\n",
       "Name: bathrooms, dtype: int64"
      ]
     },
     "execution_count": 33,
     "metadata": {},
     "output_type": "execute_result"
    }
   ],
   "source": [
    "df['bathrooms'].value_counts()"
   ]
  },
  {
   "cell_type": "code",
   "execution_count": 34,
   "id": "34640732-678a-4821-944e-b92957ce460a",
   "metadata": {},
   "outputs": [
    {
     "data": {
      "text/plain": [
       "array([[<AxesSubplot:title={'center':'bathrooms'}>]], dtype=object)"
      ]
     },
     "execution_count": 34,
     "metadata": {},
     "output_type": "execute_result"
    },
    {
     "data": {
      "image/png": "[encoded data removed]",
      "text/plain": [
       "<Figure size 432x288 with 1 Axes>"
      ]
     },
     "metadata": {
      "needs_background": "light"
     },
     "output_type": "display_data"
    },
    {
     "data": {
      "image/png": "[encoded data removed]",
      "text/plain": [
       "<Figure size 432x288 with 1 Axes>"
      ]
     },
     "metadata": {
      "needs_background": "light"
     },
     "output_type": "display_data"
    }
   ],
   "source": [
    "df.boxplot('bathrooms')\n",
    "df.hist('bathrooms')"
   ]
  },
  {
   "cell_type": "code",
   "execution_count": 35,
   "id": "28b4aa54-c4b3-4b7a-ae9c-df823bc249ec",
   "metadata": {},
   "outputs": [
    {
     "data": {
      "text/plain": [
       "28"
      ]
     },
     "execution_count": 35,
     "metadata": {},
     "output_type": "execute_result"
    }
   ],
   "source": [
    "outliers = get_outliers('bathrooms', 3)\n",
    "sum(outliers)"
   ]
  },
  {
   "cell_type": "markdown",
   "id": "c81a1694-6f1f-4dc6-8258-8e7025226d89",
   "metadata": {},
   "source": [
    "It seems that these outliers are real huge houses in rich neighbourhoods such as Pedralbes. We remove them since they may produce errors in the modelling part."
   ]
  },
  {
   "cell_type": "code",
   "execution_count": 36,
   "id": "97e3f967-f561-4ac7-8d24-424b6053eb43",
   "metadata": {},
   "outputs": [
    {
     "data": {
      "text/html": [
       "<div>\n",
       "<style scoped>\n",
       "    .dataframe tbody tr th:only-of-type {\n",
       "        vertical-align: middle;\n",
       "    }\n",
       "\n",
       "    .dataframe tbody tr th {\n",
       "        vertical-align: top;\n",
       "    }\n",
       "\n",
       "    .dataframe thead th {\n",
       "        text-align: right;\n",
       "    }\n",
       "</style>\n",
       "<table border=\"1\" class=\"dataframe\">\n",
       "  <thead>\n",
       "    <tr style=\"text-align: right;\">\n",
       "      <th></th>\n",
       "      <th>id</th>\n",
       "      <th>address</th>\n",
       "      <th>bathrooms</th>\n",
       "      <th>building_subtype</th>\n",
       "      <th>conservation_state</th>\n",
       "      <th>discount</th>\n",
       "      <th>floor_elevator</th>\n",
       "      <th>price</th>\n",
       "      <th>real_estate</th>\n",
       "      <th>real_estate_id</th>\n",
       "      <th>rooms</th>\n",
       "      <th>sq_meters</th>\n",
       "      <th>neighbourhood</th>\n",
       "      <th>neighbourhood_mean_price</th>\n",
       "    </tr>\n",
       "  </thead>\n",
       "  <tbody>\n",
       "    <tr>\n",
       "      <th>367</th>\n",
       "      <td>368</td>\n",
       "      <td>Pedralbes</td>\n",
       "      <td>9</td>\n",
       "      <td>House_Chalet</td>\n",
       "      <td>Good</td>\n",
       "      <td>0</td>\n",
       "      <td>False</td>\n",
       "      <td>14000.0</td>\n",
       "      <td>APROPERTIES REAL ESTATE Nº Aicat 6388</td>\n",
       "      <td>9202753825457</td>\n",
       "      <td>8</td>\n",
       "      <td>1000.0</td>\n",
       "      <td>pedralbes</td>\n",
       "      <td>1860.558980</td>\n",
       "    </tr>\n",
       "    <tr>\n",
       "      <th>651</th>\n",
       "      <td>657</td>\n",
       "      <td>Avinguda Tibidabo, Sant Gervasi i la Bonanova</td>\n",
       "      <td>8</td>\n",
       "      <td>House_Chalet</td>\n",
       "      <td>New construction</td>\n",
       "      <td>0</td>\n",
       "      <td>False</td>\n",
       "      <td>15000.0</td>\n",
       "      <td>WITHFOR</td>\n",
       "      <td>9202761636569</td>\n",
       "      <td>11</td>\n",
       "      <td>773.0</td>\n",
       "      <td>sant gervasi - la bonanova</td>\n",
       "      <td>1304.341823</td>\n",
       "    </tr>\n",
       "    <tr>\n",
       "      <th>978</th>\n",
       "      <td>987</td>\n",
       "      <td>Vallvidrera - Tibidabo - Les Planes</td>\n",
       "      <td>7</td>\n",
       "      <td>SemiDetached</td>\n",
       "      <td>Nearly new</td>\n",
       "      <td>0</td>\n",
       "      <td>False</td>\n",
       "      <td>8400.0</td>\n",
       "      <td>ENGEL &amp; VOELKERS</td>\n",
       "      <td>9202758116439</td>\n",
       "      <td>5</td>\n",
       "      <td>724.0</td>\n",
       "      <td>vallvidrera, el tibidabo i les planes</td>\n",
       "      <td>1205.654935</td>\n",
       "    </tr>\n",
       "    <tr>\n",
       "      <th>1306</th>\n",
       "      <td>1321</td>\n",
       "      <td>Sant Gervasi- Galvany</td>\n",
       "      <td>6</td>\n",
       "      <td>Duplex</td>\n",
       "      <td>Nearly new</td>\n",
       "      <td>400</td>\n",
       "      <td>True</td>\n",
       "      <td>9500.0</td>\n",
       "      <td>ENGEL &amp; VOELKERS</td>\n",
       "      <td>9202758116439</td>\n",
       "      <td>5</td>\n",
       "      <td>375.0</td>\n",
       "      <td>sant gervasi - galvany</td>\n",
       "      <td>1397.273005</td>\n",
       "    </tr>\n",
       "    <tr>\n",
       "      <th>1531</th>\n",
       "      <td>1547</td>\n",
       "      <td>Pedralbes</td>\n",
       "      <td>6</td>\n",
       "      <td>SemiDetached</td>\n",
       "      <td>Nearly new</td>\n",
       "      <td>0</td>\n",
       "      <td>False</td>\n",
       "      <td>18000.0</td>\n",
       "      <td>ENGEL &amp; VOELKERS</td>\n",
       "      <td>9202758116439</td>\n",
       "      <td>6</td>\n",
       "      <td>1075.0</td>\n",
       "      <td>pedralbes</td>\n",
       "      <td>1860.558980</td>\n",
       "    </tr>\n",
       "  </tbody>\n",
       "</table>\n",
       "</div>"
      ],
      "text/plain": [
       "        id                                        address  bathrooms  \\\n",
       "367    368                                      Pedralbes          9   \n",
       "651    657  Avinguda Tibidabo, Sant Gervasi i la Bonanova          8   \n",
       "978    987            Vallvidrera - Tibidabo - Les Planes          7   \n",
       "1306  1321                          Sant Gervasi- Galvany          6   \n",
       "1531  1547                                      Pedralbes          6   \n",
       "\n",
       "     building_subtype conservation_state  discount  floor_elevator    price  \\\n",
       "367      House_Chalet               Good         0           False  14000.0   \n",
       "651      House_Chalet   New construction         0           False  15000.0   \n",
       "978      SemiDetached         Nearly new         0           False   8400.0   \n",
       "1306           Duplex         Nearly new       400            True   9500.0   \n",
       "1531     SemiDetached         Nearly new         0           False  18000.0   \n",
       "\n",
       "                                real_estate real_estate_id  rooms  sq_meters  \\\n",
       "367   APROPERTIES REAL ESTATE Nº Aicat 6388  9202753825457      8     1000.0   \n",
       "651                                 WITHFOR  9202761636569     11      773.0   \n",
       "978                        ENGEL & VOELKERS  9202758116439      5      724.0   \n",
       "1306                       ENGEL & VOELKERS  9202758116439      5      375.0   \n",
       "1531                       ENGEL & VOELKERS  9202758116439      6     1075.0   \n",
       "\n",
       "                              neighbourhood  neighbourhood_mean_price  \n",
       "367                               pedralbes               1860.558980  \n",
       "651              sant gervasi - la bonanova               1304.341823  \n",
       "978   vallvidrera, el tibidabo i les planes               1205.654935  \n",
       "1306                 sant gervasi - galvany               1397.273005  \n",
       "1531                              pedralbes               1860.558980  "
      ]
     },
     "execution_count": 36,
     "metadata": {},
     "output_type": "execute_result"
    }
   ],
   "source": [
    "df[outliers].head()"
   ]
  },
  {
   "cell_type": "code",
   "execution_count": 37,
   "id": "cec87568-a41b-4c55-be2d-dda9cc1a954f",
   "metadata": {},
   "outputs": [],
   "source": [
    "df = df[-outliers]"
   ]
  },
  {
   "cell_type": "code",
   "execution_count": 38,
   "id": "67a57ffa-7252-47c7-9bb4-98238c6dc261",
   "metadata": {},
   "outputs": [
    {
     "data": {
      "text/plain": [
       "array([[<AxesSubplot:title={'center':'bathrooms'}>]], dtype=object)"
      ]
     },
     "execution_count": 38,
     "metadata": {},
     "output_type": "execute_result"
    },
    {
     "data": {
      "image/png": "[encoded data removed]",
      "text/plain": [
       "<Figure size 432x288 with 1 Axes>"
      ]
     },
     "metadata": {
      "needs_background": "light"
     },
     "output_type": "display_data"
    },
    {
     "data": {
      "image/png": "[encoded data removed]",
      "text/plain": [
       "<Figure size 432x288 with 1 Axes>"
      ]
     },
     "metadata": {
      "needs_background": "light"
     },
     "output_type": "display_data"
    }
   ],
   "source": [
    "df.boxplot('bathrooms')\n",
    "df.hist('bathrooms')"
   ]
  },
  {
   "cell_type": "markdown",
   "id": "4bb715cf-b725-4079-aadf-0cc0bf9bedbc",
   "metadata": {
    "tags": []
   },
   "source": [
    "#### discount\n",
    "There are huge discounts which do not seem realistic."
   ]
  },
  {
   "cell_type": "code",
   "execution_count": 39,
   "id": "7b6ce769-3b05-4f82-9786-57a59eb251d2",
   "metadata": {},
   "outputs": [
    {
     "data": {
      "text/plain": [
       "array([[<AxesSubplot:title={'center':'discount'}>]], dtype=object)"
      ]
     },
     "execution_count": 39,
     "metadata": {},
     "output_type": "execute_result"
    },
    {
     "data": {
      "image/png": "[encoded data removed]",
      "text/plain": [
       "<Figure size 432x288 with 1 Axes>"
      ]
     },
     "metadata": {
      "needs_background": "light"
     },
     "output_type": "display_data"
    },
    {
     "data": {
      "image/png": "[encoded data removed]",
      "text/plain": [
       "<Figure size 432x288 with 1 Axes>"
      ]
     },
     "metadata": {
      "needs_background": "light"
     },
     "output_type": "display_data"
    }
   ],
   "source": [
    "df.boxplot('discount')\n",
    "df.hist('discount')"
   ]
  },
  {
   "cell_type": "code",
   "execution_count": 40,
   "id": "b41ff08e-fd0c-45af-9dc0-6f200a980d5d",
   "metadata": {},
   "outputs": [
    {
     "data": {
      "text/plain": [
       "133"
      ]
     },
     "execution_count": 40,
     "metadata": {},
     "output_type": "execute_result"
    }
   ],
   "source": [
    "outliers = get_outliers('discount', 5)\n",
    "sum(outliers)"
   ]
  },
  {
   "cell_type": "code",
   "execution_count": 41,
   "id": "65e9c738-2b21-49ec-8323-fb9df2822d0e",
   "metadata": {},
   "outputs": [],
   "source": [
    "df = df[-outliers]"
   ]
  },
  {
   "cell_type": "code",
   "execution_count": 42,
   "id": "9ad3eb83-0ebe-4723-be94-b59190979d9b",
   "metadata": {},
   "outputs": [
    {
     "data": {
      "text/plain": [
       "array([[<AxesSubplot:title={'center':'discount'}>]], dtype=object)"
      ]
     },
     "execution_count": 42,
     "metadata": {},
     "output_type": "execute_result"
    },
    {
     "data": {
      "image/png": "[encoded data removed]",
      "text/plain": [
       "<Figure size 432x288 with 1 Axes>"
      ]
     },
     "metadata": {
      "needs_background": "light"
     },
     "output_type": "display_data"
    },
    {
     "data": {
      "image/png": "[encoded data removed]",
      "text/plain": [
       "<Figure size 432x288 with 1 Axes>"
      ]
     },
     "metadata": {
      "needs_background": "light"
     },
     "output_type": "display_data"
    }
   ],
   "source": [
    "df.boxplot('discount')\n",
    "df.hist('discount')"
   ]
  },
  {
   "cell_type": "markdown",
   "id": "708d1070-4adc-4c78-a932-a0e8f388544a",
   "metadata": {},
   "source": [
    "#### price\n",
    "This is our target variable. There are some clear outliers that should be removed."
   ]
  },
  {
   "cell_type": "code",
   "execution_count": 43,
   "id": "557d62f6-6f32-4b46-8fce-057af627e4e6",
   "metadata": {},
   "outputs": [
    {
     "data": {
      "text/plain": [
       "array([[<AxesSubplot:title={'center':'price'}>]], dtype=object)"
      ]
     },
     "execution_count": 43,
     "metadata": {},
     "output_type": "execute_result"
    },
    {
     "data": {
      "image/png": "[encoded data removed]",
      "text/plain": [
       "<Figure size 432x288 with 1 Axes>"
      ]
     },
     "metadata": {
      "needs_background": "light"
     },
     "output_type": "display_data"
    },
    {
     "data": {
      "image/png": "[encoded data removed]",
      "text/plain": [
       "<Figure size 432x288 with 1 Axes>"
      ]
     },
     "metadata": {
      "needs_background": "light"
     },
     "output_type": "display_data"
    }
   ],
   "source": [
    "df.boxplot('price')\n",
    "df.hist('price')"
   ]
  },
  {
   "cell_type": "code",
   "execution_count": 44,
   "id": "1d829c29-5e61-4544-bd3f-4fd6fd854de5",
   "metadata": {},
   "outputs": [
    {
     "data": {
      "text/plain": [
       "5"
      ]
     },
     "execution_count": 44,
     "metadata": {},
     "output_type": "execute_result"
    }
   ],
   "source": [
    "extreme_outliers = df['price'] > 15000\n",
    "sum(extreme_outliers)"
   ]
  },
  {
   "cell_type": "code",
   "execution_count": 45,
   "id": "f477ae3e-b2c9-4516-871b-fa0790b2c3f1",
   "metadata": {},
   "outputs": [],
   "source": [
    "df = df[-extreme_outliers]"
   ]
  },
  {
   "cell_type": "code",
   "execution_count": 46,
   "id": "3ab583ff-4efd-4c01-be46-e6e3a3550d40",
   "metadata": {},
   "outputs": [
    {
     "data": {
      "text/plain": [
       "138"
      ]
     },
     "execution_count": 46,
     "metadata": {},
     "output_type": "execute_result"
    }
   ],
   "source": [
    "outliers = get_outliers('price', 5)\n",
    "sum(outliers)"
   ]
  },
  {
   "cell_type": "code",
   "execution_count": 47,
   "id": "f2e3793e-4dfa-4776-abc5-fa65cfab5907",
   "metadata": {},
   "outputs": [],
   "source": [
    "df = df[-outliers]"
   ]
  },
  {
   "cell_type": "code",
   "execution_count": 48,
   "id": "dc33d963-7c71-4a73-9050-2380c5698ea9",
   "metadata": {},
   "outputs": [
    {
     "data": {
      "text/plain": [
       "array([[<AxesSubplot:title={'center':'price'}>]], dtype=object)"
      ]
     },
     "execution_count": 48,
     "metadata": {},
     "output_type": "execute_result"
    },
    {
     "data": {
      "image/png": "[encoded data removed]",
      "text/plain": [
       "<Figure size 432x288 with 1 Axes>"
      ]
     },
     "metadata": {
      "needs_background": "light"
     },
     "output_type": "display_data"
    },
    {
     "data": {
      "image/png": "[encoded data removed]",
      "text/plain": [
       "<Figure size 432x288 with 1 Axes>"
      ]
     },
     "metadata": {
      "needs_background": "light"
     },
     "output_type": "display_data"
    }
   ],
   "source": [
    "df.boxplot('price')\n",
    "df.hist('price')"
   ]
  },
  {
   "cell_type": "markdown",
   "id": "be03a194-7780-4fd4-a8a2-871533c6859f",
   "metadata": {},
   "source": [
    "#### rooms"
   ]
  },
  {
   "cell_type": "code",
   "execution_count": 49,
   "id": "05b8148d-966b-4f36-a778-1725192a997d",
   "metadata": {},
   "outputs": [
    {
     "data": {
      "text/plain": [
       "array([[<AxesSubplot:title={'center':'rooms'}>]], dtype=object)"
      ]
     },
     "execution_count": 49,
     "metadata": {},
     "output_type": "execute_result"
    },
    {
     "data": {
      "image/png": "[encoded data removed]",
      "text/plain": [
       "<Figure size 432x288 with 1 Axes>"
      ]
     },
     "metadata": {
      "needs_background": "light"
     },
     "output_type": "display_data"
    },
    {
     "data": {
      "image/png": "[encoded data removed]",
      "text/plain": [
       "<Figure size 432x288 with 1 Axes>"
      ]
     },
     "metadata": {
      "needs_background": "light"
     },
     "output_type": "display_data"
    }
   ],
   "source": [
    "df.boxplot('rooms')\n",
    "df.hist('rooms')"
   ]
  },
  {
   "cell_type": "code",
   "execution_count": 50,
   "id": "99d65579-b8d5-4891-b4c7-68fcc6cfa083",
   "metadata": {},
   "outputs": [
    {
     "data": {
      "text/plain": [
       "9"
      ]
     },
     "execution_count": 50,
     "metadata": {},
     "output_type": "execute_result"
    }
   ],
   "source": [
    "outliers = get_outliers('rooms', 3)\n",
    "sum(outliers)"
   ]
  },
  {
   "cell_type": "code",
   "execution_count": 51,
   "id": "9854f28e-277c-4343-b361-473cda834df9",
   "metadata": {},
   "outputs": [],
   "source": [
    "df = df[-outliers]"
   ]
  },
  {
   "cell_type": "code",
   "execution_count": 52,
   "id": "8dbb5119-6cf9-4a58-87a6-d505431b559a",
   "metadata": {},
   "outputs": [
    {
     "data": {
      "text/plain": [
       "array([[<AxesSubplot:title={'center':'rooms'}>]], dtype=object)"
      ]
     },
     "execution_count": 52,
     "metadata": {},
     "output_type": "execute_result"
    },
    {
     "data": {
      "image/png": "[encoded data removed]",
      "text/plain": [
       "<Figure size 432x288 with 1 Axes>"
      ]
     },
     "metadata": {
      "needs_background": "light"
     },
     "output_type": "display_data"
    },
    {
     "data": {
      "image/png": "[encoded data removed]",
      "text/plain": [
       "<Figure size 432x288 with 1 Axes>"
      ]
     },
     "metadata": {
      "needs_background": "light"
     },
     "output_type": "display_data"
    }
   ],
   "source": [
    "df.boxplot('rooms')\n",
    "df.hist('rooms')"
   ]
  },
  {
   "cell_type": "markdown",
   "id": "a91d1299-f3a2-4f72-b64b-7f897d709936",
   "metadata": {
    "tags": []
   },
   "source": [
    "#### sq_meters\n",
    "There are huge houses that should be considered outliers."
   ]
  },
  {
   "cell_type": "code",
   "execution_count": 53,
   "id": "f62a76d8-64ea-422d-9a15-9b4d7adf627c",
   "metadata": {},
   "outputs": [
    {
     "data": {
      "text/plain": [
       "array([[<AxesSubplot:title={'center':'sq_meters'}>]], dtype=object)"
      ]
     },
     "execution_count": 53,
     "metadata": {},
     "output_type": "execute_result"
    },
    {
     "data": {
      "image/png": "[encoded data removed]",
      "text/plain": [
       "<Figure size 432x288 with 1 Axes>"
      ]
     },
     "metadata": {
      "needs_background": "light"
     },
     "output_type": "display_data"
    },
    {
     "data": {
      "image/png": "[encoded data removed]",
      "text/plain": [
       "<Figure size 432x288 with 1 Axes>"
      ]
     },
     "metadata": {
      "needs_background": "light"
     },
     "output_type": "display_data"
    }
   ],
   "source": [
    "df.boxplot('sq_meters')\n",
    "df.hist('sq_meters')"
   ]
  },
  {
   "cell_type": "code",
   "execution_count": 54,
   "id": "11dd68d2-55e8-4f8d-85b2-474e3303338e",
   "metadata": {},
   "outputs": [
    {
     "data": {
      "text/plain": [
       "23"
      ]
     },
     "execution_count": 54,
     "metadata": {},
     "output_type": "execute_result"
    }
   ],
   "source": [
    "outliers = get_outliers('sq_meters', 5)\n",
    "sum(outliers)"
   ]
  },
  {
   "cell_type": "code",
   "execution_count": 55,
   "id": "211d3192-e350-4692-8eb0-ca05525785f1",
   "metadata": {},
   "outputs": [],
   "source": [
    "df = df[-outliers]"
   ]
  },
  {
   "cell_type": "markdown",
   "id": "89e543a2-4f4c-445a-bbfd-441c92b9bd7a",
   "metadata": {},
   "source": [
    "There are also homes that are too little acoording to the variable"
   ]
  },
  {
   "cell_type": "code",
   "execution_count": 56,
   "id": "f6d8192a-9617-40b0-951a-8660866ba88a",
   "metadata": {},
   "outputs": [
    {
     "name": "stdout",
     "output_type": "stream",
     "text": [
      "27\n"
     ]
    },
    {
     "data": {
      "text/html": [
       "<div>\n",
       "<style scoped>\n",
       "    .dataframe tbody tr th:only-of-type {\n",
       "        vertical-align: middle;\n",
       "    }\n",
       "\n",
       "    .dataframe tbody tr th {\n",
       "        vertical-align: top;\n",
       "    }\n",
       "\n",
       "    .dataframe thead th {\n",
       "        text-align: right;\n",
       "    }\n",
       "</style>\n",
       "<table border=\"1\" class=\"dataframe\">\n",
       "  <thead>\n",
       "    <tr style=\"text-align: right;\">\n",
       "      <th></th>\n",
       "      <th>id</th>\n",
       "      <th>address</th>\n",
       "      <th>bathrooms</th>\n",
       "      <th>building_subtype</th>\n",
       "      <th>conservation_state</th>\n",
       "      <th>discount</th>\n",
       "      <th>floor_elevator</th>\n",
       "      <th>price</th>\n",
       "      <th>real_estate</th>\n",
       "      <th>real_estate_id</th>\n",
       "      <th>rooms</th>\n",
       "      <th>sq_meters</th>\n",
       "      <th>neighbourhood</th>\n",
       "      <th>neighbourhood_mean_price</th>\n",
       "    </tr>\n",
       "  </thead>\n",
       "  <tbody>\n",
       "    <tr>\n",
       "      <th>37</th>\n",
       "      <td>38</td>\n",
       "      <td>Castillejos, Sagrada Família</td>\n",
       "      <td>2</td>\n",
       "      <td>Flat</td>\n",
       "      <td>New construction</td>\n",
       "      <td>0</td>\n",
       "      <td>True</td>\n",
       "      <td>1015.0</td>\n",
       "      <td>ARNAL  Servicios Inmobiliarios</td>\n",
       "      <td>9202750542526</td>\n",
       "      <td>3</td>\n",
       "      <td>0.0</td>\n",
       "      <td>la sagrada família</td>\n",
       "      <td>960.212676</td>\n",
       "    </tr>\n",
       "    <tr>\n",
       "      <th>530</th>\n",
       "      <td>559</td>\n",
       "      <td>Carrer de Sant Germà, 20, La Font de la Guatlla</td>\n",
       "      <td>1</td>\n",
       "      <td>Study</td>\n",
       "      <td>New construction</td>\n",
       "      <td>0</td>\n",
       "      <td>False</td>\n",
       "      <td>625.0</td>\n",
       "      <td>JOAQUIN</td>\n",
       "      <td>9202761160881</td>\n",
       "      <td>1</td>\n",
       "      <td>15.0</td>\n",
       "      <td>la font de la guatlla</td>\n",
       "      <td>865.921000</td>\n",
       "    </tr>\n",
       "    <tr>\n",
       "      <th>714</th>\n",
       "      <td>750</td>\n",
       "      <td>Sagrada Família</td>\n",
       "      <td>1</td>\n",
       "      <td>Flat</td>\n",
       "      <td>Very good</td>\n",
       "      <td>0</td>\n",
       "      <td>True</td>\n",
       "      <td>975.0</td>\n",
       "      <td>Assumpta Sant</td>\n",
       "      <td>9202765643201</td>\n",
       "      <td>4</td>\n",
       "      <td>0.0</td>\n",
       "      <td>la sagrada família</td>\n",
       "      <td>960.212676</td>\n",
       "    </tr>\n",
       "    <tr>\n",
       "      <th>1092</th>\n",
       "      <td>1149</td>\n",
       "      <td>Carrer del Taulat, El Poblenou</td>\n",
       "      <td>1</td>\n",
       "      <td>Flat</td>\n",
       "      <td>Good</td>\n",
       "      <td>0</td>\n",
       "      <td>True</td>\n",
       "      <td>990.0</td>\n",
       "      <td>GAND HOUSE</td>\n",
       "      <td>9202751271441</td>\n",
       "      <td>3</td>\n",
       "      <td>0.0</td>\n",
       "      <td>el poblenou</td>\n",
       "      <td>1004.723491</td>\n",
       "    </tr>\n",
       "    <tr>\n",
       "      <th>1162</th>\n",
       "      <td>1220</td>\n",
       "      <td>Raval, El Raval</td>\n",
       "      <td>1</td>\n",
       "      <td>Apartment</td>\n",
       "      <td>Very good</td>\n",
       "      <td>0</td>\n",
       "      <td>True</td>\n",
       "      <td>625.0</td>\n",
       "      <td>MARCEL PELLICER</td>\n",
       "      <td>9202751359888</td>\n",
       "      <td>0</td>\n",
       "      <td>0.0</td>\n",
       "      <td>el raval</td>\n",
       "      <td>850.112343</td>\n",
       "    </tr>\n",
       "  </tbody>\n",
       "</table>\n",
       "</div>"
      ],
      "text/plain": [
       "        id                                          address  bathrooms  \\\n",
       "37      38                     Castillejos, Sagrada Família          2   \n",
       "530    559  Carrer de Sant Germà, 20, La Font de la Guatlla          1   \n",
       "714    750                                  Sagrada Família          1   \n",
       "1092  1149                   Carrer del Taulat, El Poblenou          1   \n",
       "1162  1220                                  Raval, El Raval          1   \n",
       "\n",
       "     building_subtype conservation_state  discount  floor_elevator   price  \\\n",
       "37               Flat   New construction         0            True  1015.0   \n",
       "530             Study   New construction         0           False   625.0   \n",
       "714              Flat          Very good         0            True   975.0   \n",
       "1092             Flat               Good         0            True   990.0   \n",
       "1162        Apartment          Very good         0            True   625.0   \n",
       "\n",
       "                         real_estate real_estate_id  rooms  sq_meters  \\\n",
       "37    ARNAL  Servicios Inmobiliarios  9202750542526      3        0.0   \n",
       "530                          JOAQUIN  9202761160881      1       15.0   \n",
       "714                    Assumpta Sant  9202765643201      4        0.0   \n",
       "1092                      GAND HOUSE  9202751271441      3        0.0   \n",
       "1162                 MARCEL PELLICER  9202751359888      0        0.0   \n",
       "\n",
       "              neighbourhood  neighbourhood_mean_price  \n",
       "37       la sagrada família                960.212676  \n",
       "530   la font de la guatlla                865.921000  \n",
       "714      la sagrada família                960.212676  \n",
       "1092            el poblenou               1004.723491  \n",
       "1162               el raval                850.112343  "
      ]
     },
     "execution_count": 56,
     "metadata": {},
     "output_type": "execute_result"
    }
   ],
   "source": [
    "df = df.reset_index(drop=True)\n",
    "little = df['sq_meters'] <= 15\n",
    "print(sum(little))\n",
    "df[little].head()"
   ]
  },
  {
   "cell_type": "markdown",
   "id": "6eedfd95-3bdc-459b-b6da-3ce3c99e47e1",
   "metadata": {},
   "source": [
    "They seem errors, so we set them to NA to impute them later."
   ]
  },
  {
   "cell_type": "code",
   "execution_count": 57,
   "id": "a6ab05f1-af96-425c-9d04-3afcd66446b6",
   "metadata": {},
   "outputs": [],
   "source": [
    "df.loc[little, 'sq_meters'] = np.nan"
   ]
  },
  {
   "cell_type": "code",
   "execution_count": 58,
   "id": "7e935316-8c80-4ef4-96b3-669317efa958",
   "metadata": {},
   "outputs": [
    {
     "data": {
      "text/plain": [
       "array([[<AxesSubplot:title={'center':'sq_meters'}>]], dtype=object)"
      ]
     },
     "execution_count": 58,
     "metadata": {},
     "output_type": "execute_result"
    },
    {
     "data": {
      "image/png": "[encoded data removed]",
      "text/plain": [
       "<Figure size 432x288 with 1 Axes>"
      ]
     },
     "metadata": {
      "needs_background": "light"
     },
     "output_type": "display_data"
    },
    {
     "data": {
      "image/png": "[encoded data removed]",
      "text/plain": [
       "<Figure size 432x288 with 1 Axes>"
      ]
     },
     "metadata": {
      "needs_background": "light"
     },
     "output_type": "display_data"
    }
   ],
   "source": [
    "df.boxplot('sq_meters')\n",
    "df.hist('sq_meters')"
   ]
  },
  {
   "cell_type": "markdown",
   "id": "9ee6bd8f-ef7e-42eb-bf36-a66ef99590e8",
   "metadata": {
    "tags": []
   },
   "source": [
    "#### neighbourhood_mean_price\n",
    "There are 66 unique values (one for each neighbourhood), so it seems correct. Outliers belong to rich neighbourhoods (such as Pedralbes) or poorer ones (such as Ciutat Meridiana). We observe a couple of missing values which will be treated later."
   ]
  },
  {
   "cell_type": "code",
   "execution_count": 59,
   "id": "c5ebc791-41a9-4a6c-b3fc-37dd681db57b",
   "metadata": {},
   "outputs": [
    {
     "data": {
      "text/html": [
       "<div>\n",
       "<style scoped>\n",
       "    .dataframe tbody tr th:only-of-type {\n",
       "        vertical-align: middle;\n",
       "    }\n",
       "\n",
       "    .dataframe tbody tr th {\n",
       "        vertical-align: top;\n",
       "    }\n",
       "\n",
       "    .dataframe thead th {\n",
       "        text-align: right;\n",
       "    }\n",
       "</style>\n",
       "<table border=\"1\" class=\"dataframe\">\n",
       "  <thead>\n",
       "    <tr style=\"text-align: right;\">\n",
       "      <th></th>\n",
       "      <th>neighbourhood</th>\n",
       "      <th>neighbourhood_mean_price</th>\n",
       "    </tr>\n",
       "  </thead>\n",
       "  <tbody>\n",
       "    <tr>\n",
       "      <th>0</th>\n",
       "      <td>pedralbes</td>\n",
       "      <td>1860.558980</td>\n",
       "    </tr>\n",
       "    <tr>\n",
       "      <th>1</th>\n",
       "      <td>les tres torres</td>\n",
       "      <td>1657.026446</td>\n",
       "    </tr>\n",
       "    <tr>\n",
       "      <th>2</th>\n",
       "      <td>sant gervasi - galvany</td>\n",
       "      <td>1397.273005</td>\n",
       "    </tr>\n",
       "    <tr>\n",
       "      <th>3</th>\n",
       "      <td>sarrià</td>\n",
       "      <td>1375.103236</td>\n",
       "    </tr>\n",
       "    <tr>\n",
       "      <th>4</th>\n",
       "      <td>diagonal mar i el front marítim del poblenou</td>\n",
       "      <td>1372.381900</td>\n",
       "    </tr>\n",
       "    <tr>\n",
       "      <th>...</th>\n",
       "      <td>...</td>\n",
       "      <td>...</td>\n",
       "    </tr>\n",
       "    <tr>\n",
       "      <th>61</th>\n",
       "      <td>la trinitat nova</td>\n",
       "      <td>606.733103</td>\n",
       "    </tr>\n",
       "    <tr>\n",
       "      <th>62</th>\n",
       "      <td>la trinitat vella</td>\n",
       "      <td>602.875506</td>\n",
       "    </tr>\n",
       "    <tr>\n",
       "      <th>63</th>\n",
       "      <td>vallbona</td>\n",
       "      <td>581.969091</td>\n",
       "    </tr>\n",
       "    <tr>\n",
       "      <th>64</th>\n",
       "      <td>ciutat meridiana</td>\n",
       "      <td>562.082302</td>\n",
       "    </tr>\n",
       "    <tr>\n",
       "      <th>65</th>\n",
       "      <td>can peguera</td>\n",
       "      <td>419.427143</td>\n",
       "    </tr>\n",
       "  </tbody>\n",
       "</table>\n",
       "<p>66 rows × 2 columns</p>\n",
       "</div>"
      ],
      "text/plain": [
       "                                   neighbourhood  neighbourhood_mean_price\n",
       "0                                      pedralbes               1860.558980\n",
       "1                                les tres torres               1657.026446\n",
       "2                         sant gervasi - galvany               1397.273005\n",
       "3                                         sarrià               1375.103236\n",
       "4   diagonal mar i el front marítim del poblenou               1372.381900\n",
       "..                                           ...                       ...\n",
       "61                              la trinitat nova                606.733103\n",
       "62                             la trinitat vella                602.875506\n",
       "63                                      vallbona                581.969091\n",
       "64                              ciutat meridiana                562.082302\n",
       "65                                   can peguera                419.427143\n",
       "\n",
       "[66 rows x 2 columns]"
      ]
     },
     "execution_count": 59,
     "metadata": {},
     "output_type": "execute_result"
    }
   ],
   "source": [
    "aux = df.iloc[:,-2:].drop_duplicates().dropna()\n",
    "aux = aux.sort_values(by=['neighbourhood_mean_price'], ascending=False)\n",
    "aux = aux.reset_index(drop=True)\n",
    "aux"
   ]
  },
  {
   "cell_type": "markdown",
   "id": "16df490c-70a5-47ba-bdc3-726972b95f95",
   "metadata": {},
   "source": [
    "---"
   ]
  },
  {
   "cell_type": "markdown",
   "id": "04cb6345-b69c-4e66-9f9f-c50e7acf9197",
   "metadata": {},
   "source": [
    "### Missing values"
   ]
  },
  {
   "cell_type": "code",
   "execution_count": 60,
   "id": "d21e224f-7324-493e-b3a1-78addfe0f668",
   "metadata": {},
   "outputs": [],
   "source": [
    "df = df.reset_index(drop=True)"
   ]
  },
  {
   "cell_type": "markdown",
   "id": "2599aae5-12cc-405a-8154-6a531945f46c",
   "metadata": {},
   "source": [
    "##### Count missing values"
   ]
  },
  {
   "cell_type": "code",
   "execution_count": 61,
   "id": "9ead1a89-1bf6-4197-85d5-f26b929d61be",
   "metadata": {},
   "outputs": [
    {
     "data": {
      "text/plain": [
       "id                            0\n",
       "address                       0\n",
       "bathrooms                     0\n",
       "building_subtype              0\n",
       "conservation_state            0\n",
       "discount                      0\n",
       "floor_elevator                0\n",
       "price                         4\n",
       "real_estate                 171\n",
       "real_estate_id                0\n",
       "rooms                         0\n",
       "sq_meters                    27\n",
       "neighbourhood                 2\n",
       "neighbourhood_mean_price      2\n",
       "dtype: int64"
      ]
     },
     "execution_count": 61,
     "metadata": {},
     "output_type": "execute_result"
    }
   ],
   "source": [
    "df = df.replace('NaN', np.nan, regex=True)\n",
    "df.isna().sum()"
   ]
  },
  {
   "cell_type": "markdown",
   "id": "5b852d2f-7959-42d1-ae0f-d511aebecf98",
   "metadata": {},
   "source": [
    "##### Correct missings in neighbourhood\n",
    "We replace the neighbourhood with the address (since the neighbourhood is usually included in it), so that in subsequent scripts the actual neighbourhood is obtained through entity resolution."
   ]
  },
  {
   "cell_type": "code",
   "execution_count": 62,
   "id": "67783ad6-d65d-43db-a217-7ee901cf6f1e",
   "metadata": {
    "tags": []
   },
   "outputs": [
    {
     "data": {
      "text/html": [
       "<div>\n",
       "<style scoped>\n",
       "    .dataframe tbody tr th:only-of-type {\n",
       "        vertical-align: middle;\n",
       "    }\n",
       "\n",
       "    .dataframe tbody tr th {\n",
       "        vertical-align: top;\n",
       "    }\n",
       "\n",
       "    .dataframe thead th {\n",
       "        text-align: right;\n",
       "    }\n",
       "</style>\n",
       "<table border=\"1\" class=\"dataframe\">\n",
       "  <thead>\n",
       "    <tr style=\"text-align: right;\">\n",
       "      <th></th>\n",
       "      <th>id</th>\n",
       "      <th>address</th>\n",
       "      <th>bathrooms</th>\n",
       "      <th>building_subtype</th>\n",
       "      <th>conservation_state</th>\n",
       "      <th>discount</th>\n",
       "      <th>floor_elevator</th>\n",
       "      <th>price</th>\n",
       "      <th>real_estate</th>\n",
       "      <th>real_estate_id</th>\n",
       "      <th>rooms</th>\n",
       "      <th>sq_meters</th>\n",
       "      <th>neighbourhood</th>\n",
       "      <th>neighbourhood_mean_price</th>\n",
       "    </tr>\n",
       "  </thead>\n",
       "  <tbody>\n",
       "    <tr>\n",
       "      <th>927</th>\n",
       "      <td>968</td>\n",
       "      <td>Avenida Meridiana, 256, Sant Andreu</td>\n",
       "      <td>1</td>\n",
       "      <td>Flat</td>\n",
       "      <td>New construction</td>\n",
       "      <td>0</td>\n",
       "      <td>True</td>\n",
       "      <td>1443.0</td>\n",
       "      <td>NUÑEZ I NAVARRO</td>\n",
       "      <td>9202756861499</td>\n",
       "      <td>2</td>\n",
       "      <td>69.0</td>\n",
       "      <td>NaN</td>\n",
       "      <td>NaN</td>\n",
       "    </tr>\n",
       "    <tr>\n",
       "      <th>8819</th>\n",
       "      <td>9380</td>\n",
       "      <td>Zona Franca - Port</td>\n",
       "      <td>1</td>\n",
       "      <td>Study</td>\n",
       "      <td>Very good</td>\n",
       "      <td>0</td>\n",
       "      <td>True</td>\n",
       "      <td>550.0</td>\n",
       "      <td>LORDA ADMINSTRACION FINCAS</td>\n",
       "      <td>9202753020505</td>\n",
       "      <td>1</td>\n",
       "      <td>23.0</td>\n",
       "      <td>NaN</td>\n",
       "      <td>NaN</td>\n",
       "    </tr>\n",
       "  </tbody>\n",
       "</table>\n",
       "</div>"
      ],
      "text/plain": [
       "        id                              address  bathrooms building_subtype  \\\n",
       "927    968  Avenida Meridiana, 256, Sant Andreu          1             Flat   \n",
       "8819  9380                   Zona Franca - Port          1            Study   \n",
       "\n",
       "     conservation_state  discount  floor_elevator   price  \\\n",
       "927    New construction         0            True  1443.0   \n",
       "8819          Very good         0            True   550.0   \n",
       "\n",
       "                     real_estate real_estate_id  rooms  sq_meters  \\\n",
       "927              NUÑEZ I NAVARRO  9202756861499      2       69.0   \n",
       "8819  LORDA ADMINSTRACION FINCAS  9202753020505      1       23.0   \n",
       "\n",
       "     neighbourhood  neighbourhood_mean_price  \n",
       "927            NaN                       NaN  \n",
       "8819           NaN                       NaN  "
      ]
     },
     "execution_count": 62,
     "metadata": {},
     "output_type": "execute_result"
    }
   ],
   "source": [
    "df[df['neighbourhood'].isna()]"
   ]
  },
  {
   "cell_type": "code",
   "execution_count": 63,
   "id": "58ab9a75-0644-43ee-b6e2-18f9956272da",
   "metadata": {},
   "outputs": [
    {
     "data": {
      "text/html": [
       "<div>\n",
       "<style scoped>\n",
       "    .dataframe tbody tr th:only-of-type {\n",
       "        vertical-align: middle;\n",
       "    }\n",
       "\n",
       "    .dataframe tbody tr th {\n",
       "        vertical-align: top;\n",
       "    }\n",
       "\n",
       "    .dataframe thead th {\n",
       "        text-align: right;\n",
       "    }\n",
       "</style>\n",
       "<table border=\"1\" class=\"dataframe\">\n",
       "  <thead>\n",
       "    <tr style=\"text-align: right;\">\n",
       "      <th></th>\n",
       "      <th>id</th>\n",
       "      <th>address</th>\n",
       "      <th>bathrooms</th>\n",
       "      <th>building_subtype</th>\n",
       "      <th>conservation_state</th>\n",
       "      <th>discount</th>\n",
       "      <th>floor_elevator</th>\n",
       "      <th>price</th>\n",
       "      <th>real_estate</th>\n",
       "      <th>real_estate_id</th>\n",
       "      <th>rooms</th>\n",
       "      <th>sq_meters</th>\n",
       "      <th>neighbourhood</th>\n",
       "      <th>neighbourhood_mean_price</th>\n",
       "    </tr>\n",
       "  </thead>\n",
       "  <tbody>\n",
       "    <tr>\n",
       "      <th>927</th>\n",
       "      <td>968</td>\n",
       "      <td>Avenida Meridiana, 256, Sant Andreu</td>\n",
       "      <td>1</td>\n",
       "      <td>Flat</td>\n",
       "      <td>New construction</td>\n",
       "      <td>0</td>\n",
       "      <td>True</td>\n",
       "      <td>1443.0</td>\n",
       "      <td>NUÑEZ I NAVARRO</td>\n",
       "      <td>9202756861499</td>\n",
       "      <td>2</td>\n",
       "      <td>69.0</td>\n",
       "      <td>Avenida Meridiana, 256, Sant Andreu</td>\n",
       "      <td>NaN</td>\n",
       "    </tr>\n",
       "    <tr>\n",
       "      <th>8819</th>\n",
       "      <td>9380</td>\n",
       "      <td>Zona Franca - Port</td>\n",
       "      <td>1</td>\n",
       "      <td>Study</td>\n",
       "      <td>Very good</td>\n",
       "      <td>0</td>\n",
       "      <td>True</td>\n",
       "      <td>550.0</td>\n",
       "      <td>LORDA ADMINSTRACION FINCAS</td>\n",
       "      <td>9202753020505</td>\n",
       "      <td>1</td>\n",
       "      <td>23.0</td>\n",
       "      <td>Zona Franca - Port</td>\n",
       "      <td>NaN</td>\n",
       "    </tr>\n",
       "  </tbody>\n",
       "</table>\n",
       "</div>"
      ],
      "text/plain": [
       "        id                              address  bathrooms building_subtype  \\\n",
       "927    968  Avenida Meridiana, 256, Sant Andreu          1             Flat   \n",
       "8819  9380                   Zona Franca - Port          1            Study   \n",
       "\n",
       "     conservation_state  discount  floor_elevator   price  \\\n",
       "927    New construction         0            True  1443.0   \n",
       "8819          Very good         0            True   550.0   \n",
       "\n",
       "                     real_estate real_estate_id  rooms  sq_meters  \\\n",
       "927              NUÑEZ I NAVARRO  9202756861499      2       69.0   \n",
       "8819  LORDA ADMINSTRACION FINCAS  9202753020505      1       23.0   \n",
       "\n",
       "                            neighbourhood  neighbourhood_mean_price  \n",
       "927   Avenida Meridiana, 256, Sant Andreu                       NaN  \n",
       "8819                   Zona Franca - Port                       NaN  "
      ]
     },
     "execution_count": 63,
     "metadata": {},
     "output_type": "execute_result"
    }
   ],
   "source": [
    "indexes = df['neighbourhood'].isna()\n",
    "df['neighbourhood'] = df['neighbourhood'].astype(\"string\")\n",
    "df.loc[indexes, \"neighbourhood\"] = df.loc[indexes, \"address\"]\n",
    "df['neighbourhood'] = df['neighbourhood'].astype(\"category\")\n",
    "df[indexes]"
   ]
  },
  {
   "cell_type": "markdown",
   "id": "f9968303-3711-4a43-9538-a92f134cc21a",
   "metadata": {},
   "source": [
    "##### Remove 4 rows with missing price (since it is the target)"
   ]
  },
  {
   "cell_type": "code",
   "execution_count": 65,
   "id": "8e6a3f5c-be7b-4cbb-bcaa-16fd8e66c6c6",
   "metadata": {},
   "outputs": [],
   "source": [
    "df = df[-df['price'].isna()]"
   ]
  },
  {
   "cell_type": "markdown",
   "id": "d5c92c2a-0c2f-4012-baea-b8a61a0e3403",
   "metadata": {},
   "source": [
    "##### Impute missings in sq_meters using KNN method"
   ]
  },
  {
   "cell_type": "code",
   "execution_count": 66,
   "id": "293c85bb-1644-4640-806d-09330469efc5",
   "metadata": {},
   "outputs": [],
   "source": [
    "df = df.reset_index(drop=True)"
   ]
  },
  {
   "cell_type": "code",
   "execution_count": 67,
   "id": "290ee8a2-a01b-4e82-bea8-5bf48854355d",
   "metadata": {},
   "outputs": [],
   "source": [
    "from sklearn.impute import KNNImputer\n",
    "imputer = KNNImputer(n_neighbors=5, weights=\"uniform\")"
   ]
  },
  {
   "cell_type": "code",
   "execution_count": 68,
   "id": "c2bd6c09-10ca-4dd7-9804-bd2839ceff1f",
   "metadata": {},
   "outputs": [],
   "source": [
    "newData = df.select_dtypes('number').iloc[:,1:]\n",
    "newData = pd.DataFrame(imputer.fit_transform(newData), columns=newData.columns)"
   ]
  },
  {
   "cell_type": "code",
   "execution_count": 69,
   "id": "bcc3541e-7e30-449c-b247-567b040ac9d4",
   "metadata": {},
   "outputs": [
    {
     "data": {
      "text/plain": [
       "False"
      ]
     },
     "execution_count": 69,
     "metadata": {},
     "output_type": "execute_result"
    }
   ],
   "source": [
    "df['sq_meters'] = newData['sq_meters'].copy()\n",
    "df['sq_meters'].isna().any()"
   ]
  },
  {
   "cell_type": "markdown",
   "id": "7553b20f-0d3e-4163-9181-3deb30fd04ce",
   "metadata": {},
   "source": [
    "##### Check missings in real_estate"
   ]
  },
  {
   "cell_type": "markdown",
   "id": "475dbf66-25d6-4af2-a69f-e6e9be92cdd3",
   "metadata": {},
   "source": [
    "We observe that there are no missing real_estate_ids but there are some missing real_estate names.\n",
    "Each real_estate_id corresponds to a single real_estate name (so it seems that there are no typos).\n",
    "\n",
    "Therefore, from now on, we will use real_estate names as a complementary information (may be useful in plots, for example) but in the modelling phase only real_estate_id will be indicated for use."
   ]
  },
  {
   "cell_type": "code",
   "execution_count": 70,
   "id": "9d15a52a-63e4-4d0d-8ff3-9b0366f69cb5",
   "metadata": {},
   "outputs": [
    {
     "name": "stdout",
     "output_type": "stream",
     "text": [
      "0 1\n"
     ]
    }
   ],
   "source": [
    "l = df.groupby('real_estate_id')['real_estate'].nunique()\n",
    "print(min(l), max(l))"
   ]
  },
  {
   "cell_type": "markdown",
   "id": "e43405b3-c6ef-40d3-8868-7658d50c43f0",
   "metadata": {},
   "source": [
    "So we are finally left with missing values only in real_estate, as explained above."
   ]
  },
  {
   "cell_type": "code",
   "execution_count": 71,
   "id": "51a98698-effe-4049-a886-38d80a6a36e0",
   "metadata": {},
   "outputs": [
    {
     "data": {
      "text/plain": [
       "id                          False\n",
       "address                     False\n",
       "bathrooms                   False\n",
       "building_subtype            False\n",
       "conservation_state          False\n",
       "discount                    False\n",
       "floor_elevator              False\n",
       "price                       False\n",
       "real_estate                  True\n",
       "real_estate_id              False\n",
       "rooms                       False\n",
       "sq_meters                   False\n",
       "neighbourhood               False\n",
       "neighbourhood_mean_price    False\n",
       "dtype: bool"
      ]
     },
     "execution_count": 71,
     "metadata": {},
     "output_type": "execute_result"
    }
   ],
   "source": [
    "df.isna().any()"
   ]
  },
  {
   "cell_type": "markdown",
   "id": "32e7bce0-b647-4bef-b4ad-a5bbdc8b8e22",
   "metadata": {},
   "source": [
    "---"
   ]
  },
  {
   "cell_type": "markdown",
   "id": "f2d8136e-1ea5-4cac-97b7-4764e96fbb59",
   "metadata": {},
   "source": [
    "### Multivariate data analysis"
   ]
  },
  {
   "cell_type": "markdown",
   "id": "269de2bf-a2c1-4be1-959a-d2976ceb9322",
   "metadata": {},
   "source": [
    "We finally create som plots to check relation between some pairs of variables."
   ]
  },
  {
   "cell_type": "markdown",
   "id": "28633f30-7a8a-4ae4-ae73-176a4042afd2",
   "metadata": {},
   "source": [
    "First, we can see that price is directly related to home size, which makes sense."
   ]
  },
  {
   "cell_type": "code",
   "execution_count": 72,
   "id": "f2616e2f-6365-4943-abb1-cac8c47fe76c",
   "metadata": {},
   "outputs": [
    {
     "data": {
      "text/plain": [
       "<AxesSubplot:xlabel='sq_meters', ylabel='price'>"
      ]
     },
     "execution_count": 72,
     "metadata": {},
     "output_type": "execute_result"
    },
    {
     "data": {
      "image/png": "[encoded data removed]",
      "text/plain": [
       "<Figure size 432x288 with 1 Axes>"
      ]
     },
     "metadata": {
      "needs_background": "light"
     },
     "output_type": "display_data"
    }
   ],
   "source": [
    "sns.lineplot(x=\"sq_meters\", y=\"price\", data=df)"
   ]
  },
  {
   "cell_type": "markdown",
   "id": "fbf72f00-1ede-497f-8ea2-c872dbb4b6f5",
   "metadata": {},
   "source": [
    "We can also see the relation between the house price and the number of bathrooms. As expected, they are directly related."
   ]
  },
  {
   "cell_type": "code",
   "execution_count": 73,
   "id": "dd3dcfa9-0e47-495c-a427-a4300bc11d69",
   "metadata": {},
   "outputs": [
    {
     "data": {
      "text/plain": [
       "<AxesSubplot:xlabel='sq_meters', ylabel='bathrooms'>"
      ]
     },
     "execution_count": 73,
     "metadata": {},
     "output_type": "execute_result"
    },
    {
     "data": {
      "image/png": "[encoded data removed]",
      "text/plain": [
       "<Figure size 432x288 with 1 Axes>"
      ]
     },
     "metadata": {
      "needs_background": "light"
     },
     "output_type": "display_data"
    }
   ],
   "source": [
    "sns.lineplot(x=\"sq_meters\", y=\"bathrooms\", data=df)"
   ]
  },
  {
   "cell_type": "markdown",
   "id": "7216a5e2-d4ad-45a9-8b1f-2c19b3f5ac83",
   "metadata": {},
   "source": [
    "In addition, we can see that price is related to the building subtype. This seems to be connected to the previous plot, since houses are the biggest homes while studies are the smallest ones (see second plot)."
   ]
  },
  {
   "cell_type": "code",
   "execution_count": 74,
   "id": "3d02df8c-5217-4c69-8bff-921e8b205f4d",
   "metadata": {},
   "outputs": [
    {
     "data": {
      "text/plain": [
       "<AxesSubplot:xlabel='price', ylabel='building_subtype'>"
      ]
     },
     "execution_count": 74,
     "metadata": {},
     "output_type": "execute_result"
    },
    {
     "data": {
      "image/png": "[encoded data removed]",
      "text/plain": [
       "<Figure size 432x288 with 1 Axes>"
      ]
     },
     "metadata": {
      "needs_background": "light"
     },
     "output_type": "display_data"
    }
   ],
   "source": [
    "sns.boxplot(y='building_subtype', x='price', orient = 'h', data=df, order=df.groupby([\"building_subtype\"])[\"price\"].mean().sort_values().index)"
   ]
  },
  {
   "cell_type": "code",
   "execution_count": 75,
   "id": "609593e4-542a-4d8b-8dc8-82016b866d24",
   "metadata": {},
   "outputs": [
    {
     "data": {
      "text/plain": [
       "<AxesSubplot:xlabel='sq_meters', ylabel='building_subtype'>"
      ]
     },
     "execution_count": 75,
     "metadata": {},
     "output_type": "execute_result"
    },
    {
     "data": {
      "image/png": "[encoded data removed]",
      "text/plain": [
       "<Figure size 432x288 with 1 Axes>"
      ]
     },
     "metadata": {
      "needs_background": "light"
     },
     "output_type": "display_data"
    }
   ],
   "source": [
    "sns.boxplot(y='building_subtype', x='sq_meters', orient = 'h', data=df, order=df.groupby([\"building_subtype\"])[\"sq_meters\"].mean().sort_values().index)"
   ]
  },
  {
   "cell_type": "markdown",
   "id": "64df0803-3ed9-4573-8bbe-1bdc2a8143cc",
   "metadata": {},
   "source": [
    "Surprisingly, price does not seem to follow a direct relation with the number of bathrooms, especially for when the house has 0 bathrooms. This might be explained as homes with 0 bathrooms may be sold as work places and their price may go up."
   ]
  },
  {
   "cell_type": "code",
   "execution_count": 76,
   "id": "163d5d0a-91ec-46a5-9478-3a11c1c47385",
   "metadata": {},
   "outputs": [
    {
     "data": {
      "text/plain": [
       "<AxesSubplot:xlabel='bathrooms', ylabel='price'>"
      ]
     },
     "execution_count": 76,
     "metadata": {},
     "output_type": "execute_result"
    },
    {
     "data": {
      "image/png": "[encoded data removed]",
      "text/plain": [
       "<Figure size 432x288 with 1 Axes>"
      ]
     },
     "metadata": {
      "needs_background": "light"
     },
     "output_type": "display_data"
    }
   ],
   "source": [
    "sns.boxplot(x=\"bathrooms\", y=\"price\", data=df)"
   ]
  },
  {
   "cell_type": "markdown",
   "id": "3af9aef5-df1f-4f37-be6c-f6d3c1b44890",
   "metadata": {},
   "source": [
    "It can also be interesting for he analysis to see the price per square meter, so we create a new variable."
   ]
  },
  {
   "cell_type": "code",
   "execution_count": 77,
   "id": "e4937e0f-3cea-4b55-997a-733014445a01",
   "metadata": {},
   "outputs": [],
   "source": [
    "df['price_per_sqm'] = df['price'] / df['sq_meters']"
   ]
  },
  {
   "cell_type": "code",
   "execution_count": 78,
   "id": "161c6997-593a-4bc6-83f7-f82350d4db92",
   "metadata": {},
   "outputs": [
    {
     "data": {
      "text/plain": [
       "<AxesSubplot:>"
      ]
     },
     "execution_count": 78,
     "metadata": {},
     "output_type": "execute_result"
    },
    {
     "data": {
      "image/png": "[encoded data removed]",
      "text/plain": [
       "<Figure size 432x288 with 1 Axes>"
      ]
     },
     "metadata": {
      "needs_background": "light"
     },
     "output_type": "display_data"
    }
   ],
   "source": [
    "df.boxplot('price_per_sqm')"
   ]
  },
  {
   "cell_type": "markdown",
   "id": "91797177-f307-4f66-baa2-f735f93b559a",
   "metadata": {},
   "source": [
    "There are some clear outliers that should perhaps be removed."
   ]
  },
  {
   "cell_type": "code",
   "execution_count": 79,
   "id": "4fd13c41-f6a7-4ec3-b031-b3dbac6e6979",
   "metadata": {},
   "outputs": [
    {
     "data": {
      "text/plain": [
       "7"
      ]
     },
     "execution_count": 79,
     "metadata": {},
     "output_type": "execute_result"
    }
   ],
   "source": [
    "extreme_outliers = df['price_per_sqm'] > 60\n",
    "sum(extreme_outliers)"
   ]
  },
  {
   "cell_type": "code",
   "execution_count": 80,
   "id": "b64a3b3e-4e6d-4757-b2fa-cfe471fa2460",
   "metadata": {},
   "outputs": [],
   "source": [
    "df = df[-extreme_outliers]\n",
    "df = df.reset_index(drop=True)"
   ]
  },
  {
   "cell_type": "markdown",
   "id": "ef5165e0-69d0-4610-adb3-61b40d9a4564",
   "metadata": {},
   "source": [
    "We can now observe the relation between the building subtype and the price per squared meter. We can see that the most expensive homes per meter are apartments, attics, and flats, while bigger houses are cheaper in relation to its size, probably because they are bigger in average."
   ]
  },
  {
   "cell_type": "code",
   "execution_count": 81,
   "id": "bf92f3e1-a13d-4a3a-8a92-0949bc3b7548",
   "metadata": {},
   "outputs": [
    {
     "data": {
      "text/plain": [
       "<AxesSubplot:xlabel='price_per_sqm', ylabel='building_subtype'>"
      ]
     },
     "execution_count": 81,
     "metadata": {},
     "output_type": "execute_result"
    },
    {
     "data": {
      "image/png": "[encoded data removed]",
      "text/plain": [
       "<Figure size 432x288 with 1 Axes>"
      ]
     },
     "metadata": {
      "needs_background": "light"
     },
     "output_type": "display_data"
    }
   ],
   "source": [
    "sns.boxplot(y='building_subtype', x='price_per_sqm', orient = 'h', data=df, order=df.groupby([\"building_subtype\"])[\"price_per_sqm\"].mean().sort_values().index)"
   ]
  },
  {
   "cell_type": "markdown",
   "id": "d31c3a2f-99d5-445e-b62c-3d4476c9a593",
   "metadata": {},
   "source": [
    "---"
   ]
  },
  {
   "cell_type": "markdown",
   "id": "6735cecc-edbc-452c-9a65-77b1ee3e147e",
   "metadata": {},
   "source": [
    "### Final dataframe"
   ]
  },
  {
   "cell_type": "markdown",
   "id": "fe4fe85b-1e1a-4103-ae84-b45d3ed3ca11",
   "metadata": {},
   "source": [
    "We finally obtain a dataframe with 7 numeric, 4 categorical, 1 boolean, 2 ID and 1 string variables, and with around 9400 observations."
   ]
  },
  {
   "cell_type": "code",
   "execution_count": 82,
   "id": "5e3b199a-46b8-445e-a2bf-99e0658b0466",
   "metadata": {},
   "outputs": [
    {
     "name": "stdout",
     "output_type": "stream",
     "text": [
      "<class 'pandas.core.frame.DataFrame'>\n",
      "RangeIndex: 9398 entries, 0 to 9397\n",
      "Data columns (total 15 columns):\n",
      " #   Column                    Non-Null Count  Dtype   \n",
      "---  ------                    --------------  -----   \n",
      " 0   id                        9398 non-null   object  \n",
      " 1   address                   9398 non-null   string  \n",
      " 2   bathrooms                 9398 non-null   int64   \n",
      " 3   building_subtype          9398 non-null   category\n",
      " 4   conservation_state        9398 non-null   category\n",
      " 5   discount                  9398 non-null   int64   \n",
      " 6   floor_elevator            9398 non-null   bool    \n",
      " 7   price                     9398 non-null   float64 \n",
      " 8   real_estate               9228 non-null   category\n",
      " 9   real_estate_id            9398 non-null   object  \n",
      " 10  rooms                     9398 non-null   int64   \n",
      " 11  sq_meters                 9398 non-null   float64 \n",
      " 12  neighbourhood             9398 non-null   category\n",
      " 13  neighbourhood_mean_price  9398 non-null   float64 \n",
      " 14  price_per_sqm             9398 non-null   float64 \n",
      "dtypes: bool(1), category(4), float64(4), int64(3), object(2), string(1)\n",
      "memory usage: 833.6+ KB\n"
     ]
    }
   ],
   "source": [
    "df.info()"
   ]
  },
  {
   "cell_type": "markdown",
   "id": "c88ae20a-c40a-415d-aae3-3f7ced6d9206",
   "metadata": {},
   "source": [
    "---"
   ]
  },
  {
   "cell_type": "markdown",
   "id": "5a5c75d9-15f5-4733-ac72-b646b9c8ef88",
   "metadata": {},
   "source": [
    "### Load new table into trusted zone"
   ]
  },
  {
   "cell_type": "markdown",
   "id": "a8a6028a-3428-436d-9c4c-ff53afa3af92",
   "metadata": {},
   "source": [
    "##### Create trusted_zone schema if it does not exist"
   ]
  },
  {
   "cell_type": "code",
   "execution_count": 83,
   "id": "2d1f986f-5ea7-4e92-82c8-bd1a9e0e445c",
   "metadata": {},
   "outputs": [],
   "source": [
    "create_trusted_zone = \"\"\"CREATE SCHEMA IF NOT EXISTS trusted_zone;\"\"\"\n",
    "cursor.execute(create_trusted_zone)\n",
    "conn.commit()"
   ]
  },
  {
   "cell_type": "markdown",
   "id": "fe08605e-319d-4210-abf6-2f384822dceb",
   "metadata": {},
   "source": [
    "##### Create new table in PostgreSQL database"
   ]
  },
  {
   "cell_type": "code",
   "execution_count": 84,
   "id": "4a23dbfe-1e5f-47b5-8437-a5a26b9eb5b2",
   "metadata": {},
   "outputs": [],
   "source": [
    "sqlCreateTable = \"\"\"CREATE TABLE IF NOT EXISTS trusted_zone.zenodo_fotocasa_2020_21_12_06 (\n",
    "    ID INTEGER PRIMARY KEY,\n",
    "    ADDRESS VARCHAR(80),\n",
    "    BATHROOMS INTEGER,\n",
    "    BUILDING_SUBTYPE VARCHAR(30),\n",
    "    CONSERVATION_STATE VARCHAR(20),\n",
    "    DISCOUNT INTEGER,\n",
    "    FLOOR_ELEVATOR BOOLEAN,\n",
    "    PRICE FLOAT,\n",
    "    REAL_ESTATE VARCHAR(55),\n",
    "    REAL_ESTATE_ID VARCHAR(20),\n",
    "    ROOMS INTEGER,\n",
    "    SQ_METERS FLOAT,\n",
    "    NEIGHBOURHOOD VARCHAR(45),\n",
    "    NEIGHBOURHOOD_MEAN_PRICE FLOAT,\n",
    "    PRICE_PER_SQM FLOAT\n",
    ");\"\"\"\n",
    "cursor.execute(sqlCreateTable)\n",
    "conn.commit()"
   ]
  },
  {
   "cell_type": "markdown",
   "id": "1f8d2e86-4951-497a-aa4a-ef1486bdc6fb",
   "metadata": {},
   "source": [
    "##### Insert rows into table"
   ]
  },
  {
   "cell_type": "code",
   "execution_count": 85,
   "id": "7639efee-045c-4c08-a953-ebee4bca65fd",
   "metadata": {
    "tags": []
   },
   "outputs": [],
   "source": [
    "def execute_values(conn, df, table):\n",
    "  \n",
    "    tuples = [tuple(x) for x in df.to_numpy()]\n",
    "  \n",
    "    cols = ','.join(list(df.columns))\n",
    "    # SQL query to execute\n",
    "    query = \"INSERT INTO %s(%s) VALUES %%s\" % (table, cols)\n",
    "    cursor = conn.cursor()\n",
    "    try:\n",
    "        extras.execute_values(cursor, query, tuples)\n",
    "        conn.commit()\n",
    "    except (Exception, psycopg2.DatabaseError) as error:\n",
    "        print(\"Error: %s\" % error)\n",
    "        conn.rollback()\n",
    "        cursor.close()\n",
    "        return 1\n",
    "    print(\"The dataframe was correctly inserted\")\n",
    "    cursor.close()"
   ]
  },
  {
   "cell_type": "code",
   "execution_count": 86,
   "id": "e85e2937-cd98-4f1e-bfb6-c42c35f3de12",
   "metadata": {},
   "outputs": [
    {
     "name": "stdout",
     "output_type": "stream",
     "text": [
      "The dataframe was correctly inserted\n"
     ]
    }
   ],
   "source": [
    "execute_values(conn, df, 'trusted_zone.zenodo_fotocasa_2020_21_12_06')"
   ]
  },
  {
   "cell_type": "markdown",
   "id": "d0ac62ad-e2ab-4c43-a4df-07efcc6df077",
   "metadata": {},
   "source": [
    "##### Check correct insertion"
   ]
  },
  {
   "cell_type": "code",
   "execution_count": 87,
   "id": "00d6da19-8475-48f5-8497-6709f0edfdae",
   "metadata": {},
   "outputs": [
    {
     "data": {
      "text/html": [
       "<div>\n",
       "<style scoped>\n",
       "    .dataframe tbody tr th:only-of-type {\n",
       "        vertical-align: middle;\n",
       "    }\n",
       "\n",
       "    .dataframe tbody tr th {\n",
       "        vertical-align: top;\n",
       "    }\n",
       "\n",
       "    .dataframe thead th {\n",
       "        text-align: right;\n",
       "    }\n",
       "</style>\n",
       "<table border=\"1\" class=\"dataframe\">\n",
       "  <thead>\n",
       "    <tr style=\"text-align: right;\">\n",
       "      <th></th>\n",
       "      <th>id</th>\n",
       "      <th>address</th>\n",
       "      <th>bathrooms</th>\n",
       "      <th>building_subtype</th>\n",
       "      <th>conservation_state</th>\n",
       "      <th>discount</th>\n",
       "      <th>floor_elevator</th>\n",
       "      <th>price</th>\n",
       "      <th>real_estate</th>\n",
       "      <th>real_estate_id</th>\n",
       "      <th>rooms</th>\n",
       "      <th>sq_meters</th>\n",
       "      <th>neighbourhood</th>\n",
       "      <th>neighbourhood_mean_price</th>\n",
       "      <th>price_per_sqm</th>\n",
       "    </tr>\n",
       "  </thead>\n",
       "  <tbody>\n",
       "    <tr>\n",
       "      <th>0</th>\n",
       "      <td>1</td>\n",
       "      <td>Sant Antoni</td>\n",
       "      <td>1</td>\n",
       "      <td>Flat</td>\n",
       "      <td>Nearly new</td>\n",
       "      <td>0</td>\n",
       "      <td>True</td>\n",
       "      <td>1250.0</td>\n",
       "      <td>TECNOCASA RIERA ALTA MAR</td>\n",
       "      <td>9202751363773</td>\n",
       "      <td>3</td>\n",
       "      <td>93.0</td>\n",
       "      <td>sant antoni</td>\n",
       "      <td>994.909158</td>\n",
       "      <td>13.440860</td>\n",
       "    </tr>\n",
       "    <tr>\n",
       "      <th>1</th>\n",
       "      <td>2</td>\n",
       "      <td>Carrer Valencia, La Nova Esquerra de l'Eixample</td>\n",
       "      <td>2</td>\n",
       "      <td>Flat</td>\n",
       "      <td>New construction</td>\n",
       "      <td>0</td>\n",
       "      <td>True</td>\n",
       "      <td>1600.0</td>\n",
       "      <td>SOMOS REAL ESTATE SERVICES</td>\n",
       "      <td>9202765680731</td>\n",
       "      <td>4</td>\n",
       "      <td>129.0</td>\n",
       "      <td>la nova esquerra de l'eixample</td>\n",
       "      <td>1053.832393</td>\n",
       "      <td>12.403101</td>\n",
       "    </tr>\n",
       "    <tr>\n",
       "      <th>2</th>\n",
       "      <td>3</td>\n",
       "      <td>Carrer Muntaner, Sant Gervasi- Galvany</td>\n",
       "      <td>2</td>\n",
       "      <td>Flat</td>\n",
       "      <td>New construction</td>\n",
       "      <td>0</td>\n",
       "      <td>True</td>\n",
       "      <td>3200.0</td>\n",
       "      <td>SOMOS REAL ESTATE SERVICES</td>\n",
       "      <td>9202765680731</td>\n",
       "      <td>2</td>\n",
       "      <td>133.0</td>\n",
       "      <td>sant gervasi - galvany</td>\n",
       "      <td>1397.273005</td>\n",
       "      <td>24.060150</td>\n",
       "    </tr>\n",
       "    <tr>\n",
       "      <th>3</th>\n",
       "      <td>4</td>\n",
       "      <td>Rambla del Raval, El Raval</td>\n",
       "      <td>1</td>\n",
       "      <td>Flat</td>\n",
       "      <td>Very good</td>\n",
       "      <td>0</td>\n",
       "      <td>True</td>\n",
       "      <td>1000.0</td>\n",
       "      <td>ESTUDI JOAN MIRO.SL.</td>\n",
       "      <td>9202762439813</td>\n",
       "      <td>3</td>\n",
       "      <td>67.0</td>\n",
       "      <td>el raval</td>\n",
       "      <td>850.112343</td>\n",
       "      <td>14.925373</td>\n",
       "    </tr>\n",
       "    <tr>\n",
       "      <th>4</th>\n",
       "      <td>5</td>\n",
       "      <td>Maestro Perez Cabrero, Sant Gervasi- Galvany</td>\n",
       "      <td>3</td>\n",
       "      <td>Flat</td>\n",
       "      <td>New construction</td>\n",
       "      <td>0</td>\n",
       "      <td>True</td>\n",
       "      <td>2600.0</td>\n",
       "      <td>SOMOS REAL ESTATE SERVICES</td>\n",
       "      <td>9202765680731</td>\n",
       "      <td>4</td>\n",
       "      <td>176.0</td>\n",
       "      <td>sant gervasi - galvany</td>\n",
       "      <td>1397.273005</td>\n",
       "      <td>14.772727</td>\n",
       "    </tr>\n",
       "  </tbody>\n",
       "</table>\n",
       "</div>"
      ],
      "text/plain": [
       "   id                                          address  bathrooms  \\\n",
       "0   1                                      Sant Antoni          1   \n",
       "1   2  Carrer Valencia, La Nova Esquerra de l'Eixample          2   \n",
       "2   3           Carrer Muntaner, Sant Gervasi- Galvany          2   \n",
       "3   4                       Rambla del Raval, El Raval          1   \n",
       "4   5     Maestro Perez Cabrero, Sant Gervasi- Galvany          3   \n",
       "\n",
       "  building_subtype conservation_state  discount  floor_elevator   price  \\\n",
       "0             Flat         Nearly new         0            True  1250.0   \n",
       "1             Flat   New construction         0            True  1600.0   \n",
       "2             Flat   New construction         0            True  3200.0   \n",
       "3             Flat          Very good         0            True  1000.0   \n",
       "4             Flat   New construction         0            True  2600.0   \n",
       "\n",
       "                  real_estate real_estate_id  rooms  sq_meters  \\\n",
       "0    TECNOCASA RIERA ALTA MAR  9202751363773      3       93.0   \n",
       "1  SOMOS REAL ESTATE SERVICES  9202765680731      4      129.0   \n",
       "2  SOMOS REAL ESTATE SERVICES  9202765680731      2      133.0   \n",
       "3        ESTUDI JOAN MIRO.SL.  9202762439813      3       67.0   \n",
       "4  SOMOS REAL ESTATE SERVICES  9202765680731      4      176.0   \n",
       "\n",
       "                    neighbourhood  neighbourhood_mean_price  price_per_sqm  \n",
       "0                     sant antoni                994.909158      13.440860  \n",
       "1  la nova esquerra de l'eixample               1053.832393      12.403101  \n",
       "2          sant gervasi - galvany               1397.273005      24.060150  \n",
       "3                        el raval                850.112343      14.925373  \n",
       "4          sant gervasi - galvany               1397.273005      14.772727  "
      ]
     },
     "execution_count": 87,
     "metadata": {},
     "output_type": "execute_result"
    }
   ],
   "source": [
    "sql = \"SELECT * from trusted_zone.zenodo_fotocasa_2020_21_12_06;\"\n",
    "pd.read_sql_query(sql, conn).head()"
   ]
  }
 ],
 "metadata": {
  "kernelspec": {
   "display_name": "Python 3 (ipykernel)",
   "language": "python",
   "name": "python3"
  },
  "language_info": {
   "codemirror_mode": {
    "name": "ipython",
    "version": 3
   },
   "file_extension": ".py",
   "mimetype": "text/x-python",
   "name": "python",
   "nbconvert_exporter": "python",
   "pygments_lexer": "ipython3",
   "version": "3.9.7"
  }
 },
 "nbformat": 4,
 "nbformat_minor": 5
}
